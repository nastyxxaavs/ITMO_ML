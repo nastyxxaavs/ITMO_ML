{
  "nbformat": 4,
  "nbformat_minor": 0,
  "metadata": {
    "colab": {
      "provenance": []
    },
    "kernelspec": {
      "name": "python3",
      "display_name": "Python 3"
    },
    "language_info": {
      "name": "python"
    }
  },
  "cells": [
    {
      "cell_type": "code",
      "execution_count": 1,
      "metadata": {
        "colab": {
          "base_uri": "https://localhost:8080/"
        },
        "id": "vPRBf53AWX5m",
        "outputId": "837bd885-38cc-4ebd-96b9-07e85620dc91"
      },
      "outputs": [
        {
          "output_type": "stream",
          "name": "stdout",
          "text": [
            "Requirement already satisfied: pandas in /usr/local/lib/python3.10/dist-packages (2.2.2)\n",
            "Collecting pandas\n",
            "  Downloading pandas-2.2.3-cp310-cp310-manylinux_2_17_x86_64.manylinux2014_x86_64.whl.metadata (89 kB)\n",
            "\u001b[2K     \u001b[90m━━━━━━━━━━━━━━━━━━━━━━━━━━━━━━━━━━━━━━━━\u001b[0m \u001b[32m89.9/89.9 kB\u001b[0m \u001b[31m2.7 MB/s\u001b[0m eta \u001b[36m0:00:00\u001b[0m\n",
            "\u001b[?25hRequirement already satisfied: numpy>=1.22.4 in /usr/local/lib/python3.10/dist-packages (from pandas) (1.26.4)\n",
            "Requirement already satisfied: python-dateutil>=2.8.2 in /usr/local/lib/python3.10/dist-packages (from pandas) (2.8.2)\n",
            "Requirement already satisfied: pytz>=2020.1 in /usr/local/lib/python3.10/dist-packages (from pandas) (2024.2)\n",
            "Requirement already satisfied: tzdata>=2022.7 in /usr/local/lib/python3.10/dist-packages (from pandas) (2024.2)\n",
            "Requirement already satisfied: six>=1.5 in /usr/local/lib/python3.10/dist-packages (from python-dateutil>=2.8.2->pandas) (1.17.0)\n",
            "Downloading pandas-2.2.3-cp310-cp310-manylinux_2_17_x86_64.manylinux2014_x86_64.whl (13.1 MB)\n",
            "\u001b[2K   \u001b[90m━━━━━━━━━━━━━━━━━━━━━━━━━━━━━━━━━━━━━━━━\u001b[0m \u001b[32m13.1/13.1 MB\u001b[0m \u001b[31m81.4 MB/s\u001b[0m eta \u001b[36m0:00:00\u001b[0m\n",
            "\u001b[?25hInstalling collected packages: pandas\n",
            "  Attempting uninstall: pandas\n",
            "    Found existing installation: pandas 2.2.2\n",
            "    Uninstalling pandas-2.2.2:\n",
            "      Successfully uninstalled pandas-2.2.2\n",
            "\u001b[31mERROR: pip's dependency resolver does not currently take into account all the packages that are installed. This behaviour is the source of the following dependency conflicts.\n",
            "cudf-cu12 24.10.1 requires pandas<2.2.3dev0,>=2.0, but you have pandas 2.2.3 which is incompatible.\n",
            "google-colab 1.0.0 requires pandas==2.2.2, but you have pandas 2.2.3 which is incompatible.\u001b[0m\u001b[31m\n",
            "\u001b[0mSuccessfully installed pandas-2.2.3\n",
            "Collecting xlsxwriter\n",
            "  Downloading XlsxWriter-3.2.0-py3-none-any.whl.metadata (2.6 kB)\n",
            "Downloading XlsxWriter-3.2.0-py3-none-any.whl (159 kB)\n",
            "\u001b[2K   \u001b[90m━━━━━━━━━━━━━━━━━━━━━━━━━━━━━━━━━━━━━━━━\u001b[0m \u001b[32m159.9/159.9 kB\u001b[0m \u001b[31m3.1 MB/s\u001b[0m eta \u001b[36m0:00:00\u001b[0m\n",
            "\u001b[?25hInstalling collected packages: xlsxwriter\n",
            "Successfully installed xlsxwriter-3.2.0\n"
          ]
        }
      ],
      "source": [
        "!pip3 install -U pandas\n",
        "import pandas as pd\n",
        "import bs4 as bs\n",
        "!pip install xlsxwriter\n",
        "import xlsxwriter\n",
        "import re\n",
        "import csv\n",
        "from datetime import datetime, timedelta\n",
        "import os"
      ]
    },
    {
      "cell_type": "markdown",
      "source": [
        "Аудио-файлы скачаны с сайта: https://www.jamendo.com по категориям pop и rock"
      ],
      "metadata": {
        "id": "cZVV6_ohW35C"
      }
    },
    {
      "cell_type": "markdown",
      "source": [
        "Составление датасетов для разметки:"
      ],
      "metadata": {
        "id": "5qBkANWKoMJZ"
      }
    },
    {
      "cell_type": "code",
      "source": [
        "import os\n",
        "import pandas as pd\n",
        "\n",
        "def collect_audio_data(directory):\n",
        "    data = []\n",
        "    for filename in os.listdir(directory):\n",
        "        if filename.endswith(\".wav\"):\n",
        "            try:\n",
        "                song, artist = filename[:-4].split(\"_-_\")  # удаляем \".wav\" и разделяем по \"_-_\"\n",
        "                data.append({\"song\": song, \"artist\": artist})\n",
        "            except ValueError:\n",
        "                print(f\"Ошибка в названии файла: {filename}\")\n",
        "    df = pd.DataFrame(data)\n",
        "\n",
        "    return df\n",
        "\n",
        "\n",
        "directory = \"/content/true_pop\"\n",
        "df_pop = collect_audio_data(directory)\n",
        "df_pop.to_csv(\"pop_dataset.csv\", index=False)\n",
        "\n",
        "\n",
        "print(df_pop.head())\n",
        "print(len(df_pop))\n"
      ],
      "metadata": {
        "colab": {
          "base_uri": "https://localhost:8080/"
        },
        "id": "KJm7sJYuqywo",
        "outputId": "4592fd65-81e0-4ba6-8d06-df02ff4641b6"
      },
      "execution_count": null,
      "outputs": [
        {
          "output_type": "stream",
          "name": "stdout",
          "text": [
            "                   song         artist\n",
            "0            Find_A_Way        THE_DLX\n",
            "1        Crash_and_Burn           JARA\n",
            "2       Come_On_Come_On  Tamara_Laurel\n",
            "3                 Roses           JEKK\n",
            "4  Meant_To_Be_This_Way   Square_a_Saw\n",
            "51\n"
          ]
        }
      ]
    },
    {
      "cell_type": "code",
      "source": [
        "import os\n",
        "import pandas as pd\n",
        "\n",
        "def collect_audio_data(directory):\n",
        "    data = []\n",
        "    for filename in os.listdir(directory):\n",
        "        if filename.endswith(\".wav\"):\n",
        "            try:\n",
        "                song, artist = filename[:-4].split(\"_-_\")  # удаляем \".wav\" и разделяем по \"_-_\"\n",
        "                data.append({\"song\": song, \"artist\": artist})\n",
        "            except ValueError:\n",
        "                print(f\"Ошибка в названии файла: {filename}\")\n",
        "    df = pd.DataFrame(data)\n",
        "\n",
        "    return df\n",
        "\n",
        "\n",
        "directory = \"/content/true_rock\"\n",
        "df_rock = collect_audio_data(directory)\n",
        "df_rock.to_csv(\"rock_dataset.csv\", index=False)\n",
        "\n",
        "\n",
        "print(df_rock.head())\n",
        "print(len(df_rock))\n"
      ],
      "metadata": {
        "colab": {
          "base_uri": "https://localhost:8080/"
        },
        "id": "bGHHgK5BrWRR",
        "outputId": "c7cbfcad-047c-4eed-a1bc-b5c8676ff301"
      },
      "execution_count": null,
      "outputs": [
        {
          "output_type": "stream",
          "name": "stdout",
          "text": [
            "                song                  artist\n",
            "0              Scars       The_Morning_Light\n",
            "1  Swimming_Upstream          CrumbSnatchers\n",
            "2                Boy           The_Different\n",
            "3    Randall_Scandal                    Maze\n",
            "4          Graveyard  The_Liquid_Kitchen_(3)\n",
            "52\n"
          ]
        }
      ]
    },
    {
      "cell_type": "markdown",
      "source": [
        "По факту данные уже размечены, так как они изначально разделены на две отличные друг от друга категории и уже из них составлены отдельные датасеты, с которыми потом можно будет сверяться"
      ],
      "metadata": {
        "id": "RwJp5mzOxLQf"
      }
    },
    {
      "cell_type": "markdown",
      "source": [
        "Немного предобработаем и почистим данные"
      ],
      "metadata": {
        "id": "bgI3osP9rr6V"
      }
    },
    {
      "cell_type": "code",
      "source": [
        "df1 = pd.read_csv('/content/rock_dataset.csv') #df1 - rock\n",
        "df1.head(20)"
      ],
      "metadata": {
        "colab": {
          "base_uri": "https://localhost:8080/",
          "height": 697
        },
        "id": "sDSB8I07rwLd",
        "outputId": "da6d042a-e5a2-4a6e-8a7c-05aff78f5b10"
      },
      "execution_count": null,
      "outputs": [
        {
          "output_type": "execute_result",
          "data": {
            "text/plain": [
              "                            song                  artist\n",
              "0                          Scars       The_Morning_Light\n",
              "1              Swimming_Upstream          CrumbSnatchers\n",
              "2                            Boy           The_Different\n",
              "3                Randall_Scandal                    Maze\n",
              "4                      Graveyard  The_Liquid_Kitchen_(3)\n",
              "5                   Kill_the_Old               theleague\n",
              "6                 Designer_Genes           The_Bourgeois\n",
              "7   Mercurial_(Feat._AJ_Perdomo)               Color_Out\n",
              "8                         Summer        Rusty_Tea_Makers\n",
              "9                       Wage_War             Circa_Vitae\n",
              "10           Under_My_Red_Carpet       The_Morning_Light\n",
              "11                  Likely_Story     Great_White_Buffalo\n",
              "12                        Embers                Avercage\n",
              "13                  Heart_of_War     Message_From_Sylvia\n",
              "14           Cheat_On_Each_Other             Whalers_(2)\n",
              "15                Revolution_Now            joshwoodward\n",
              "16                    Rubituckin          CrumbSnatchers\n",
              "17                 One_Last_Time             Final_Round\n",
              "18                       Fake_It               bradsucks\n",
              "19            Thanks_for_Nothing     Great_White_Buffalo"
            ],
            "text/html": [
              "\n",
              "  <div id=\"df-79352a47-d9a3-43ac-a578-92ea06d864f6\" class=\"colab-df-container\">\n",
              "    <div>\n",
              "<style scoped>\n",
              "    .dataframe tbody tr th:only-of-type {\n",
              "        vertical-align: middle;\n",
              "    }\n",
              "\n",
              "    .dataframe tbody tr th {\n",
              "        vertical-align: top;\n",
              "    }\n",
              "\n",
              "    .dataframe thead th {\n",
              "        text-align: right;\n",
              "    }\n",
              "</style>\n",
              "<table border=\"1\" class=\"dataframe\">\n",
              "  <thead>\n",
              "    <tr style=\"text-align: right;\">\n",
              "      <th></th>\n",
              "      <th>song</th>\n",
              "      <th>artist</th>\n",
              "    </tr>\n",
              "  </thead>\n",
              "  <tbody>\n",
              "    <tr>\n",
              "      <th>0</th>\n",
              "      <td>Scars</td>\n",
              "      <td>The_Morning_Light</td>\n",
              "    </tr>\n",
              "    <tr>\n",
              "      <th>1</th>\n",
              "      <td>Swimming_Upstream</td>\n",
              "      <td>CrumbSnatchers</td>\n",
              "    </tr>\n",
              "    <tr>\n",
              "      <th>2</th>\n",
              "      <td>Boy</td>\n",
              "      <td>The_Different</td>\n",
              "    </tr>\n",
              "    <tr>\n",
              "      <th>3</th>\n",
              "      <td>Randall_Scandal</td>\n",
              "      <td>Maze</td>\n",
              "    </tr>\n",
              "    <tr>\n",
              "      <th>4</th>\n",
              "      <td>Graveyard</td>\n",
              "      <td>The_Liquid_Kitchen_(3)</td>\n",
              "    </tr>\n",
              "    <tr>\n",
              "      <th>5</th>\n",
              "      <td>Kill_the_Old</td>\n",
              "      <td>theleague</td>\n",
              "    </tr>\n",
              "    <tr>\n",
              "      <th>6</th>\n",
              "      <td>Designer_Genes</td>\n",
              "      <td>The_Bourgeois</td>\n",
              "    </tr>\n",
              "    <tr>\n",
              "      <th>7</th>\n",
              "      <td>Mercurial_(Feat._AJ_Perdomo)</td>\n",
              "      <td>Color_Out</td>\n",
              "    </tr>\n",
              "    <tr>\n",
              "      <th>8</th>\n",
              "      <td>Summer</td>\n",
              "      <td>Rusty_Tea_Makers</td>\n",
              "    </tr>\n",
              "    <tr>\n",
              "      <th>9</th>\n",
              "      <td>Wage_War</td>\n",
              "      <td>Circa_Vitae</td>\n",
              "    </tr>\n",
              "    <tr>\n",
              "      <th>10</th>\n",
              "      <td>Under_My_Red_Carpet</td>\n",
              "      <td>The_Morning_Light</td>\n",
              "    </tr>\n",
              "    <tr>\n",
              "      <th>11</th>\n",
              "      <td>Likely_Story</td>\n",
              "      <td>Great_White_Buffalo</td>\n",
              "    </tr>\n",
              "    <tr>\n",
              "      <th>12</th>\n",
              "      <td>Embers</td>\n",
              "      <td>Avercage</td>\n",
              "    </tr>\n",
              "    <tr>\n",
              "      <th>13</th>\n",
              "      <td>Heart_of_War</td>\n",
              "      <td>Message_From_Sylvia</td>\n",
              "    </tr>\n",
              "    <tr>\n",
              "      <th>14</th>\n",
              "      <td>Cheat_On_Each_Other</td>\n",
              "      <td>Whalers_(2)</td>\n",
              "    </tr>\n",
              "    <tr>\n",
              "      <th>15</th>\n",
              "      <td>Revolution_Now</td>\n",
              "      <td>joshwoodward</td>\n",
              "    </tr>\n",
              "    <tr>\n",
              "      <th>16</th>\n",
              "      <td>Rubituckin</td>\n",
              "      <td>CrumbSnatchers</td>\n",
              "    </tr>\n",
              "    <tr>\n",
              "      <th>17</th>\n",
              "      <td>One_Last_Time</td>\n",
              "      <td>Final_Round</td>\n",
              "    </tr>\n",
              "    <tr>\n",
              "      <th>18</th>\n",
              "      <td>Fake_It</td>\n",
              "      <td>bradsucks</td>\n",
              "    </tr>\n",
              "    <tr>\n",
              "      <th>19</th>\n",
              "      <td>Thanks_for_Nothing</td>\n",
              "      <td>Great_White_Buffalo</td>\n",
              "    </tr>\n",
              "  </tbody>\n",
              "</table>\n",
              "</div>\n",
              "    <div class=\"colab-df-buttons\">\n",
              "\n",
              "  <div class=\"colab-df-container\">\n",
              "    <button class=\"colab-df-convert\" onclick=\"convertToInteractive('df-79352a47-d9a3-43ac-a578-92ea06d864f6')\"\n",
              "            title=\"Convert this dataframe to an interactive table.\"\n",
              "            style=\"display:none;\">\n",
              "\n",
              "  <svg xmlns=\"http://www.w3.org/2000/svg\" height=\"24px\" viewBox=\"0 -960 960 960\">\n",
              "    <path d=\"M120-120v-720h720v720H120Zm60-500h600v-160H180v160Zm220 220h160v-160H400v160Zm0 220h160v-160H400v160ZM180-400h160v-160H180v160Zm440 0h160v-160H620v160ZM180-180h160v-160H180v160Zm440 0h160v-160H620v160Z\"/>\n",
              "  </svg>\n",
              "    </button>\n",
              "\n",
              "  <style>\n",
              "    .colab-df-container {\n",
              "      display:flex;\n",
              "      gap: 12px;\n",
              "    }\n",
              "\n",
              "    .colab-df-convert {\n",
              "      background-color: #E8F0FE;\n",
              "      border: none;\n",
              "      border-radius: 50%;\n",
              "      cursor: pointer;\n",
              "      display: none;\n",
              "      fill: #1967D2;\n",
              "      height: 32px;\n",
              "      padding: 0 0 0 0;\n",
              "      width: 32px;\n",
              "    }\n",
              "\n",
              "    .colab-df-convert:hover {\n",
              "      background-color: #E2EBFA;\n",
              "      box-shadow: 0px 1px 2px rgba(60, 64, 67, 0.3), 0px 1px 3px 1px rgba(60, 64, 67, 0.15);\n",
              "      fill: #174EA6;\n",
              "    }\n",
              "\n",
              "    .colab-df-buttons div {\n",
              "      margin-bottom: 4px;\n",
              "    }\n",
              "\n",
              "    [theme=dark] .colab-df-convert {\n",
              "      background-color: #3B4455;\n",
              "      fill: #D2E3FC;\n",
              "    }\n",
              "\n",
              "    [theme=dark] .colab-df-convert:hover {\n",
              "      background-color: #434B5C;\n",
              "      box-shadow: 0px 1px 3px 1px rgba(0, 0, 0, 0.15);\n",
              "      filter: drop-shadow(0px 1px 2px rgba(0, 0, 0, 0.3));\n",
              "      fill: #FFFFFF;\n",
              "    }\n",
              "  </style>\n",
              "\n",
              "    <script>\n",
              "      const buttonEl =\n",
              "        document.querySelector('#df-79352a47-d9a3-43ac-a578-92ea06d864f6 button.colab-df-convert');\n",
              "      buttonEl.style.display =\n",
              "        google.colab.kernel.accessAllowed ? 'block' : 'none';\n",
              "\n",
              "      async function convertToInteractive(key) {\n",
              "        const element = document.querySelector('#df-79352a47-d9a3-43ac-a578-92ea06d864f6');\n",
              "        const dataTable =\n",
              "          await google.colab.kernel.invokeFunction('convertToInteractive',\n",
              "                                                    [key], {});\n",
              "        if (!dataTable) return;\n",
              "\n",
              "        const docLinkHtml = 'Like what you see? Visit the ' +\n",
              "          '<a target=\"_blank\" href=https://colab.research.google.com/notebooks/data_table.ipynb>data table notebook</a>'\n",
              "          + ' to learn more about interactive tables.';\n",
              "        element.innerHTML = '';\n",
              "        dataTable['output_type'] = 'display_data';\n",
              "        await google.colab.output.renderOutput(dataTable, element);\n",
              "        const docLink = document.createElement('div');\n",
              "        docLink.innerHTML = docLinkHtml;\n",
              "        element.appendChild(docLink);\n",
              "      }\n",
              "    </script>\n",
              "  </div>\n",
              "\n",
              "\n",
              "<div id=\"df-c14e8d20-1806-4f86-a61d-5b8bcb13227c\">\n",
              "  <button class=\"colab-df-quickchart\" onclick=\"quickchart('df-c14e8d20-1806-4f86-a61d-5b8bcb13227c')\"\n",
              "            title=\"Suggest charts\"\n",
              "            style=\"display:none;\">\n",
              "\n",
              "<svg xmlns=\"http://www.w3.org/2000/svg\" height=\"24px\"viewBox=\"0 0 24 24\"\n",
              "     width=\"24px\">\n",
              "    <g>\n",
              "        <path d=\"M19 3H5c-1.1 0-2 .9-2 2v14c0 1.1.9 2 2 2h14c1.1 0 2-.9 2-2V5c0-1.1-.9-2-2-2zM9 17H7v-7h2v7zm4 0h-2V7h2v10zm4 0h-2v-4h2v4z\"/>\n",
              "    </g>\n",
              "</svg>\n",
              "  </button>\n",
              "\n",
              "<style>\n",
              "  .colab-df-quickchart {\n",
              "      --bg-color: #E8F0FE;\n",
              "      --fill-color: #1967D2;\n",
              "      --hover-bg-color: #E2EBFA;\n",
              "      --hover-fill-color: #174EA6;\n",
              "      --disabled-fill-color: #AAA;\n",
              "      --disabled-bg-color: #DDD;\n",
              "  }\n",
              "\n",
              "  [theme=dark] .colab-df-quickchart {\n",
              "      --bg-color: #3B4455;\n",
              "      --fill-color: #D2E3FC;\n",
              "      --hover-bg-color: #434B5C;\n",
              "      --hover-fill-color: #FFFFFF;\n",
              "      --disabled-bg-color: #3B4455;\n",
              "      --disabled-fill-color: #666;\n",
              "  }\n",
              "\n",
              "  .colab-df-quickchart {\n",
              "    background-color: var(--bg-color);\n",
              "    border: none;\n",
              "    border-radius: 50%;\n",
              "    cursor: pointer;\n",
              "    display: none;\n",
              "    fill: var(--fill-color);\n",
              "    height: 32px;\n",
              "    padding: 0;\n",
              "    width: 32px;\n",
              "  }\n",
              "\n",
              "  .colab-df-quickchart:hover {\n",
              "    background-color: var(--hover-bg-color);\n",
              "    box-shadow: 0 1px 2px rgba(60, 64, 67, 0.3), 0 1px 3px 1px rgba(60, 64, 67, 0.15);\n",
              "    fill: var(--button-hover-fill-color);\n",
              "  }\n",
              "\n",
              "  .colab-df-quickchart-complete:disabled,\n",
              "  .colab-df-quickchart-complete:disabled:hover {\n",
              "    background-color: var(--disabled-bg-color);\n",
              "    fill: var(--disabled-fill-color);\n",
              "    box-shadow: none;\n",
              "  }\n",
              "\n",
              "  .colab-df-spinner {\n",
              "    border: 2px solid var(--fill-color);\n",
              "    border-color: transparent;\n",
              "    border-bottom-color: var(--fill-color);\n",
              "    animation:\n",
              "      spin 1s steps(1) infinite;\n",
              "  }\n",
              "\n",
              "  @keyframes spin {\n",
              "    0% {\n",
              "      border-color: transparent;\n",
              "      border-bottom-color: var(--fill-color);\n",
              "      border-left-color: var(--fill-color);\n",
              "    }\n",
              "    20% {\n",
              "      border-color: transparent;\n",
              "      border-left-color: var(--fill-color);\n",
              "      border-top-color: var(--fill-color);\n",
              "    }\n",
              "    30% {\n",
              "      border-color: transparent;\n",
              "      border-left-color: var(--fill-color);\n",
              "      border-top-color: var(--fill-color);\n",
              "      border-right-color: var(--fill-color);\n",
              "    }\n",
              "    40% {\n",
              "      border-color: transparent;\n",
              "      border-right-color: var(--fill-color);\n",
              "      border-top-color: var(--fill-color);\n",
              "    }\n",
              "    60% {\n",
              "      border-color: transparent;\n",
              "      border-right-color: var(--fill-color);\n",
              "    }\n",
              "    80% {\n",
              "      border-color: transparent;\n",
              "      border-right-color: var(--fill-color);\n",
              "      border-bottom-color: var(--fill-color);\n",
              "    }\n",
              "    90% {\n",
              "      border-color: transparent;\n",
              "      border-bottom-color: var(--fill-color);\n",
              "    }\n",
              "  }\n",
              "</style>\n",
              "\n",
              "  <script>\n",
              "    async function quickchart(key) {\n",
              "      const quickchartButtonEl =\n",
              "        document.querySelector('#' + key + ' button');\n",
              "      quickchartButtonEl.disabled = true;  // To prevent multiple clicks.\n",
              "      quickchartButtonEl.classList.add('colab-df-spinner');\n",
              "      try {\n",
              "        const charts = await google.colab.kernel.invokeFunction(\n",
              "            'suggestCharts', [key], {});\n",
              "      } catch (error) {\n",
              "        console.error('Error during call to suggestCharts:', error);\n",
              "      }\n",
              "      quickchartButtonEl.classList.remove('colab-df-spinner');\n",
              "      quickchartButtonEl.classList.add('colab-df-quickchart-complete');\n",
              "    }\n",
              "    (() => {\n",
              "      let quickchartButtonEl =\n",
              "        document.querySelector('#df-c14e8d20-1806-4f86-a61d-5b8bcb13227c button');\n",
              "      quickchartButtonEl.style.display =\n",
              "        google.colab.kernel.accessAllowed ? 'block' : 'none';\n",
              "    })();\n",
              "  </script>\n",
              "</div>\n",
              "    </div>\n",
              "  </div>\n"
            ],
            "application/vnd.google.colaboratory.intrinsic+json": {
              "type": "dataframe",
              "variable_name": "df1",
              "summary": "{\n  \"name\": \"df1\",\n  \"rows\": 52,\n  \"fields\": [\n    {\n      \"column\": \"song\",\n      \"properties\": {\n        \"dtype\": \"string\",\n        \"num_unique_values\": 52,\n        \"samples\": [\n          \"Thanks_for_Nothing\",\n          \"ON_SALE\",\n          \"Peyote\"\n        ],\n        \"semantic_type\": \"\",\n        \"description\": \"\"\n      }\n    },\n    {\n      \"column\": \"artist\",\n      \"properties\": {\n        \"dtype\": \"string\",\n        \"num_unique_values\": 43,\n        \"samples\": [\n          \"Kismet_\",\n          \"Nick_Miller\",\n          \"Falling_Blind\"\n        ],\n        \"semantic_type\": \"\",\n        \"description\": \"\"\n      }\n    }\n  ]\n}"
            }
          },
          "metadata": {},
          "execution_count": 7
        }
      ]
    },
    {
      "cell_type": "code",
      "source": [
        "df1.info()"
      ],
      "metadata": {
        "colab": {
          "base_uri": "https://localhost:8080/"
        },
        "id": "EH2vBjT4sdpm",
        "outputId": "c443bd2b-bafa-4bdd-e849-cfd3fe431b41"
      },
      "execution_count": null,
      "outputs": [
        {
          "output_type": "stream",
          "name": "stdout",
          "text": [
            "<class 'pandas.core.frame.DataFrame'>\n",
            "RangeIndex: 52 entries, 0 to 51\n",
            "Data columns (total 2 columns):\n",
            " #   Column  Non-Null Count  Dtype \n",
            "---  ------  --------------  ----- \n",
            " 0   song    52 non-null     object\n",
            " 1   artist  52 non-null     object\n",
            "dtypes: object(2)\n",
            "memory usage: 960.0+ bytes\n"
          ]
        }
      ]
    },
    {
      "cell_type": "code",
      "source": [
        "# Функция для очистки от нижнего подчеркивания и чисел в скобках\n",
        "def clean_text(text):\n",
        "    return re.sub(r'_\\([^)]*\\)', '', text)"
      ],
      "metadata": {
        "id": "KbiaAwePuCqQ"
      },
      "execution_count": null,
      "outputs": []
    },
    {
      "cell_type": "code",
      "source": [
        "df1['song'] = df1['song'].apply(clean_text)\n",
        "df1['artist'] = df1['artist'].apply(clean_text)\n",
        "\n",
        "df1['song'] = df1['song'].str.replace('_', ' ')\n",
        "df1['artist'] = df1['artist'].str.replace('_', ' ')\n",
        "\n",
        "\n",
        "# Удаляем дубликаты\n",
        "df1_cleaned = df1.drop_duplicates()\n",
        "\n",
        "# Вывод очищенного DataFrame\n",
        "print(df1_cleaned)\n"
      ],
      "metadata": {
        "colab": {
          "base_uri": "https://localhost:8080/"
        },
        "id": "HqfmDD8kt4EA",
        "outputId": "778845f4-c3c1-43fd-c49c-6f85f2cfb464"
      },
      "execution_count": null,
      "outputs": [
        {
          "output_type": "stream",
          "name": "stdout",
          "text": [
            "                            song                         artist\n",
            "0                          Scars              The Morning Light\n",
            "1              Swimming Upstream                 CrumbSnatchers\n",
            "2                            Boy                  The Different\n",
            "3                Randall Scandal                           Maze\n",
            "4                      Graveyard             The Liquid Kitchen\n",
            "5                   Kill the Old                      theleague\n",
            "6                 Designer Genes                  The Bourgeois\n",
            "7                      Mercurial                      Color Out\n",
            "8                         Summer               Rusty Tea Makers\n",
            "9                       Wage War                    Circa Vitae\n",
            "10           Under My Red Carpet              The Morning Light\n",
            "11                  Likely Story            Great White Buffalo\n",
            "12                        Embers                       Avercage\n",
            "13                  Heart of War            Message From Sylvia\n",
            "14           Cheat On Each Other                        Whalers\n",
            "15                Revolution Now                   joshwoodward\n",
            "16                    Rubituckin                 CrumbSnatchers\n",
            "17                 One Last Time                    Final Round\n",
            "18                       Fake It                      bradsucks\n",
            "19            Thanks for Nothing            Great White Buffalo\n",
            "20                Everybody Else  Kara Square and Piero Peluche\n",
            "21               My Little World                   Other Noises\n",
            "22               Superman's Cape                        10 Code\n",
            "23              The Little Robot           Forget the Whale  2 \n",
            "24                     Get It On                    Major Major\n",
            "25       No Rest Or Endless Rest                         Lisofv\n",
            "26                  Mourning Day                          SadMe\n",
            "27                   Game Change                    Nick Miller\n",
            "28                        Reason                  Falling Blind\n",
            "29                         Alone                      Color Out\n",
            "30                Not My Problem         All My Friends Hate Me\n",
            "31                Girls Like You                 The Spin Wires\n",
            "32                See The Ghosts                    Stephane TV\n",
            "33                   New Friends                        cumshot\n",
            "34                It Never Works                  Social Square\n",
            "35                         Today                        10 Code\n",
            "36            Staring into Space           The Monster Brothers\n",
            "37               Monkeys Jumping               Rusty Tea Makers\n",
            "38             Easy On The Radio                  Michael Ellis\n",
            "39                   Grand daddy                 Victoria Caffe\n",
            "40         Whenever I m With You                  The Bourgeois\n",
            "41                       ON SALE          Golden Duck Orchestra\n",
            "42                     Soul Kiss                        entheos\n",
            "43                 Until The End                 Retrosonic  2 \n",
            "44                       holiday                        Kismet \n",
            "45            Give Till It Hurts                 For The Broken\n",
            "46                   Cupid Kills                  Falling Blind\n",
            "47                        Peyote                      Kinematic\n",
            "48             I'm Growing Fangs            Great White Buffalo\n",
            "49  From the Outside, Looking In                 Fallen to Flux\n",
            "50                      Old News                    Hot Fiction\n",
            "51                   Wearing Out                      Katherine\n"
          ]
        }
      ]
    },
    {
      "cell_type": "code",
      "source": [
        "df1_cleaned.info()"
      ],
      "metadata": {
        "colab": {
          "base_uri": "https://localhost:8080/"
        },
        "id": "VxGSj-ilsko9",
        "outputId": "1c063be3-595d-48c5-b6da-2b2969ae76fd"
      },
      "execution_count": null,
      "outputs": [
        {
          "output_type": "stream",
          "name": "stdout",
          "text": [
            "<class 'pandas.core.frame.DataFrame'>\n",
            "RangeIndex: 52 entries, 0 to 51\n",
            "Data columns (total 2 columns):\n",
            " #   Column  Non-Null Count  Dtype \n",
            "---  ------  --------------  ----- \n",
            " 0   song    52 non-null     object\n",
            " 1   artist  52 non-null     object\n",
            "dtypes: object(2)\n",
            "memory usage: 960.0+ bytes\n"
          ]
        }
      ]
    },
    {
      "cell_type": "code",
      "source": [
        "df2 = pd.read_csv('/content/pop_dataset.csv') #df2 - pop\n",
        "df2.head(20)"
      ],
      "metadata": {
        "colab": {
          "base_uri": "https://localhost:8080/",
          "height": 697
        },
        "id": "Wz6_Oi1LuU8K",
        "outputId": "c93da8e4-6756-483a-927d-6006fd58daeb"
      },
      "execution_count": null,
      "outputs": [
        {
          "output_type": "execute_result",
          "data": {
            "text/plain": [
              "                        song              artist\n",
              "0                 Find_A_Way             THE_DLX\n",
              "1             Crash_and_Burn                JARA\n",
              "2            Come_On_Come_On       Tamara_Laurel\n",
              "3                      Roses                JEKK\n",
              "4       Meant_To_Be_This_Way        Square_a_Saw\n",
              "5                  Last_Song         The_Jaygles\n",
              "6                   Paradise     Songwriterz_(2)\n",
              "7     When_the_snow_falls...             Ralf_G.\n",
              "8   Fell_In_Love_With_Summer     Songwriterz_(2)\n",
              "9            All_For_Nothing      Anthem_of_Rain\n",
              "10             Dance_With_Me    THE_SAME_PERSONS\n",
              "11           Strictly_Luxury           lillywolf\n",
              "12                  The_Walk                JARA\n",
              "13       Dame_Más_(acoustic)        Alfonso_Lugo\n",
              "14             Dance_tonight         Lollita_(2)\n",
              "15                    Better        Square_a_Saw\n",
              "16                      Gone   Michael_McEachern\n",
              "17    Do_You_Ever_Feel_Sorry  the.madpix.project\n",
              "18                  Criminal        Axl_amp_Arth\n",
              "19             Good_Problems           lillywolf"
            ],
            "text/html": [
              "\n",
              "  <div id=\"df-43ad1b36-b556-4315-9c67-1c1db62f7e4d\" class=\"colab-df-container\">\n",
              "    <div>\n",
              "<style scoped>\n",
              "    .dataframe tbody tr th:only-of-type {\n",
              "        vertical-align: middle;\n",
              "    }\n",
              "\n",
              "    .dataframe tbody tr th {\n",
              "        vertical-align: top;\n",
              "    }\n",
              "\n",
              "    .dataframe thead th {\n",
              "        text-align: right;\n",
              "    }\n",
              "</style>\n",
              "<table border=\"1\" class=\"dataframe\">\n",
              "  <thead>\n",
              "    <tr style=\"text-align: right;\">\n",
              "      <th></th>\n",
              "      <th>song</th>\n",
              "      <th>artist</th>\n",
              "    </tr>\n",
              "  </thead>\n",
              "  <tbody>\n",
              "    <tr>\n",
              "      <th>0</th>\n",
              "      <td>Find_A_Way</td>\n",
              "      <td>THE_DLX</td>\n",
              "    </tr>\n",
              "    <tr>\n",
              "      <th>1</th>\n",
              "      <td>Crash_and_Burn</td>\n",
              "      <td>JARA</td>\n",
              "    </tr>\n",
              "    <tr>\n",
              "      <th>2</th>\n",
              "      <td>Come_On_Come_On</td>\n",
              "      <td>Tamara_Laurel</td>\n",
              "    </tr>\n",
              "    <tr>\n",
              "      <th>3</th>\n",
              "      <td>Roses</td>\n",
              "      <td>JEKK</td>\n",
              "    </tr>\n",
              "    <tr>\n",
              "      <th>4</th>\n",
              "      <td>Meant_To_Be_This_Way</td>\n",
              "      <td>Square_a_Saw</td>\n",
              "    </tr>\n",
              "    <tr>\n",
              "      <th>5</th>\n",
              "      <td>Last_Song</td>\n",
              "      <td>The_Jaygles</td>\n",
              "    </tr>\n",
              "    <tr>\n",
              "      <th>6</th>\n",
              "      <td>Paradise</td>\n",
              "      <td>Songwriterz_(2)</td>\n",
              "    </tr>\n",
              "    <tr>\n",
              "      <th>7</th>\n",
              "      <td>When_the_snow_falls...</td>\n",
              "      <td>Ralf_G.</td>\n",
              "    </tr>\n",
              "    <tr>\n",
              "      <th>8</th>\n",
              "      <td>Fell_In_Love_With_Summer</td>\n",
              "      <td>Songwriterz_(2)</td>\n",
              "    </tr>\n",
              "    <tr>\n",
              "      <th>9</th>\n",
              "      <td>All_For_Nothing</td>\n",
              "      <td>Anthem_of_Rain</td>\n",
              "    </tr>\n",
              "    <tr>\n",
              "      <th>10</th>\n",
              "      <td>Dance_With_Me</td>\n",
              "      <td>THE_SAME_PERSONS</td>\n",
              "    </tr>\n",
              "    <tr>\n",
              "      <th>11</th>\n",
              "      <td>Strictly_Luxury</td>\n",
              "      <td>lillywolf</td>\n",
              "    </tr>\n",
              "    <tr>\n",
              "      <th>12</th>\n",
              "      <td>The_Walk</td>\n",
              "      <td>JARA</td>\n",
              "    </tr>\n",
              "    <tr>\n",
              "      <th>13</th>\n",
              "      <td>Dame_Más_(acoustic)</td>\n",
              "      <td>Alfonso_Lugo</td>\n",
              "    </tr>\n",
              "    <tr>\n",
              "      <th>14</th>\n",
              "      <td>Dance_tonight</td>\n",
              "      <td>Lollita_(2)</td>\n",
              "    </tr>\n",
              "    <tr>\n",
              "      <th>15</th>\n",
              "      <td>Better</td>\n",
              "      <td>Square_a_Saw</td>\n",
              "    </tr>\n",
              "    <tr>\n",
              "      <th>16</th>\n",
              "      <td>Gone</td>\n",
              "      <td>Michael_McEachern</td>\n",
              "    </tr>\n",
              "    <tr>\n",
              "      <th>17</th>\n",
              "      <td>Do_You_Ever_Feel_Sorry</td>\n",
              "      <td>the.madpix.project</td>\n",
              "    </tr>\n",
              "    <tr>\n",
              "      <th>18</th>\n",
              "      <td>Criminal</td>\n",
              "      <td>Axl_amp_Arth</td>\n",
              "    </tr>\n",
              "    <tr>\n",
              "      <th>19</th>\n",
              "      <td>Good_Problems</td>\n",
              "      <td>lillywolf</td>\n",
              "    </tr>\n",
              "  </tbody>\n",
              "</table>\n",
              "</div>\n",
              "    <div class=\"colab-df-buttons\">\n",
              "\n",
              "  <div class=\"colab-df-container\">\n",
              "    <button class=\"colab-df-convert\" onclick=\"convertToInteractive('df-43ad1b36-b556-4315-9c67-1c1db62f7e4d')\"\n",
              "            title=\"Convert this dataframe to an interactive table.\"\n",
              "            style=\"display:none;\">\n",
              "\n",
              "  <svg xmlns=\"http://www.w3.org/2000/svg\" height=\"24px\" viewBox=\"0 -960 960 960\">\n",
              "    <path d=\"M120-120v-720h720v720H120Zm60-500h600v-160H180v160Zm220 220h160v-160H400v160Zm0 220h160v-160H400v160ZM180-400h160v-160H180v160Zm440 0h160v-160H620v160ZM180-180h160v-160H180v160Zm440 0h160v-160H620v160Z\"/>\n",
              "  </svg>\n",
              "    </button>\n",
              "\n",
              "  <style>\n",
              "    .colab-df-container {\n",
              "      display:flex;\n",
              "      gap: 12px;\n",
              "    }\n",
              "\n",
              "    .colab-df-convert {\n",
              "      background-color: #E8F0FE;\n",
              "      border: none;\n",
              "      border-radius: 50%;\n",
              "      cursor: pointer;\n",
              "      display: none;\n",
              "      fill: #1967D2;\n",
              "      height: 32px;\n",
              "      padding: 0 0 0 0;\n",
              "      width: 32px;\n",
              "    }\n",
              "\n",
              "    .colab-df-convert:hover {\n",
              "      background-color: #E2EBFA;\n",
              "      box-shadow: 0px 1px 2px rgba(60, 64, 67, 0.3), 0px 1px 3px 1px rgba(60, 64, 67, 0.15);\n",
              "      fill: #174EA6;\n",
              "    }\n",
              "\n",
              "    .colab-df-buttons div {\n",
              "      margin-bottom: 4px;\n",
              "    }\n",
              "\n",
              "    [theme=dark] .colab-df-convert {\n",
              "      background-color: #3B4455;\n",
              "      fill: #D2E3FC;\n",
              "    }\n",
              "\n",
              "    [theme=dark] .colab-df-convert:hover {\n",
              "      background-color: #434B5C;\n",
              "      box-shadow: 0px 1px 3px 1px rgba(0, 0, 0, 0.15);\n",
              "      filter: drop-shadow(0px 1px 2px rgba(0, 0, 0, 0.3));\n",
              "      fill: #FFFFFF;\n",
              "    }\n",
              "  </style>\n",
              "\n",
              "    <script>\n",
              "      const buttonEl =\n",
              "        document.querySelector('#df-43ad1b36-b556-4315-9c67-1c1db62f7e4d button.colab-df-convert');\n",
              "      buttonEl.style.display =\n",
              "        google.colab.kernel.accessAllowed ? 'block' : 'none';\n",
              "\n",
              "      async function convertToInteractive(key) {\n",
              "        const element = document.querySelector('#df-43ad1b36-b556-4315-9c67-1c1db62f7e4d');\n",
              "        const dataTable =\n",
              "          await google.colab.kernel.invokeFunction('convertToInteractive',\n",
              "                                                    [key], {});\n",
              "        if (!dataTable) return;\n",
              "\n",
              "        const docLinkHtml = 'Like what you see? Visit the ' +\n",
              "          '<a target=\"_blank\" href=https://colab.research.google.com/notebooks/data_table.ipynb>data table notebook</a>'\n",
              "          + ' to learn more about interactive tables.';\n",
              "        element.innerHTML = '';\n",
              "        dataTable['output_type'] = 'display_data';\n",
              "        await google.colab.output.renderOutput(dataTable, element);\n",
              "        const docLink = document.createElement('div');\n",
              "        docLink.innerHTML = docLinkHtml;\n",
              "        element.appendChild(docLink);\n",
              "      }\n",
              "    </script>\n",
              "  </div>\n",
              "\n",
              "\n",
              "<div id=\"df-e4abef19-9947-4a34-b555-815ddea28f08\">\n",
              "  <button class=\"colab-df-quickchart\" onclick=\"quickchart('df-e4abef19-9947-4a34-b555-815ddea28f08')\"\n",
              "            title=\"Suggest charts\"\n",
              "            style=\"display:none;\">\n",
              "\n",
              "<svg xmlns=\"http://www.w3.org/2000/svg\" height=\"24px\"viewBox=\"0 0 24 24\"\n",
              "     width=\"24px\">\n",
              "    <g>\n",
              "        <path d=\"M19 3H5c-1.1 0-2 .9-2 2v14c0 1.1.9 2 2 2h14c1.1 0 2-.9 2-2V5c0-1.1-.9-2-2-2zM9 17H7v-7h2v7zm4 0h-2V7h2v10zm4 0h-2v-4h2v4z\"/>\n",
              "    </g>\n",
              "</svg>\n",
              "  </button>\n",
              "\n",
              "<style>\n",
              "  .colab-df-quickchart {\n",
              "      --bg-color: #E8F0FE;\n",
              "      --fill-color: #1967D2;\n",
              "      --hover-bg-color: #E2EBFA;\n",
              "      --hover-fill-color: #174EA6;\n",
              "      --disabled-fill-color: #AAA;\n",
              "      --disabled-bg-color: #DDD;\n",
              "  }\n",
              "\n",
              "  [theme=dark] .colab-df-quickchart {\n",
              "      --bg-color: #3B4455;\n",
              "      --fill-color: #D2E3FC;\n",
              "      --hover-bg-color: #434B5C;\n",
              "      --hover-fill-color: #FFFFFF;\n",
              "      --disabled-bg-color: #3B4455;\n",
              "      --disabled-fill-color: #666;\n",
              "  }\n",
              "\n",
              "  .colab-df-quickchart {\n",
              "    background-color: var(--bg-color);\n",
              "    border: none;\n",
              "    border-radius: 50%;\n",
              "    cursor: pointer;\n",
              "    display: none;\n",
              "    fill: var(--fill-color);\n",
              "    height: 32px;\n",
              "    padding: 0;\n",
              "    width: 32px;\n",
              "  }\n",
              "\n",
              "  .colab-df-quickchart:hover {\n",
              "    background-color: var(--hover-bg-color);\n",
              "    box-shadow: 0 1px 2px rgba(60, 64, 67, 0.3), 0 1px 3px 1px rgba(60, 64, 67, 0.15);\n",
              "    fill: var(--button-hover-fill-color);\n",
              "  }\n",
              "\n",
              "  .colab-df-quickchart-complete:disabled,\n",
              "  .colab-df-quickchart-complete:disabled:hover {\n",
              "    background-color: var(--disabled-bg-color);\n",
              "    fill: var(--disabled-fill-color);\n",
              "    box-shadow: none;\n",
              "  }\n",
              "\n",
              "  .colab-df-spinner {\n",
              "    border: 2px solid var(--fill-color);\n",
              "    border-color: transparent;\n",
              "    border-bottom-color: var(--fill-color);\n",
              "    animation:\n",
              "      spin 1s steps(1) infinite;\n",
              "  }\n",
              "\n",
              "  @keyframes spin {\n",
              "    0% {\n",
              "      border-color: transparent;\n",
              "      border-bottom-color: var(--fill-color);\n",
              "      border-left-color: var(--fill-color);\n",
              "    }\n",
              "    20% {\n",
              "      border-color: transparent;\n",
              "      border-left-color: var(--fill-color);\n",
              "      border-top-color: var(--fill-color);\n",
              "    }\n",
              "    30% {\n",
              "      border-color: transparent;\n",
              "      border-left-color: var(--fill-color);\n",
              "      border-top-color: var(--fill-color);\n",
              "      border-right-color: var(--fill-color);\n",
              "    }\n",
              "    40% {\n",
              "      border-color: transparent;\n",
              "      border-right-color: var(--fill-color);\n",
              "      border-top-color: var(--fill-color);\n",
              "    }\n",
              "    60% {\n",
              "      border-color: transparent;\n",
              "      border-right-color: var(--fill-color);\n",
              "    }\n",
              "    80% {\n",
              "      border-color: transparent;\n",
              "      border-right-color: var(--fill-color);\n",
              "      border-bottom-color: var(--fill-color);\n",
              "    }\n",
              "    90% {\n",
              "      border-color: transparent;\n",
              "      border-bottom-color: var(--fill-color);\n",
              "    }\n",
              "  }\n",
              "</style>\n",
              "\n",
              "  <script>\n",
              "    async function quickchart(key) {\n",
              "      const quickchartButtonEl =\n",
              "        document.querySelector('#' + key + ' button');\n",
              "      quickchartButtonEl.disabled = true;  // To prevent multiple clicks.\n",
              "      quickchartButtonEl.classList.add('colab-df-spinner');\n",
              "      try {\n",
              "        const charts = await google.colab.kernel.invokeFunction(\n",
              "            'suggestCharts', [key], {});\n",
              "      } catch (error) {\n",
              "        console.error('Error during call to suggestCharts:', error);\n",
              "      }\n",
              "      quickchartButtonEl.classList.remove('colab-df-spinner');\n",
              "      quickchartButtonEl.classList.add('colab-df-quickchart-complete');\n",
              "    }\n",
              "    (() => {\n",
              "      let quickchartButtonEl =\n",
              "        document.querySelector('#df-e4abef19-9947-4a34-b555-815ddea28f08 button');\n",
              "      quickchartButtonEl.style.display =\n",
              "        google.colab.kernel.accessAllowed ? 'block' : 'none';\n",
              "    })();\n",
              "  </script>\n",
              "</div>\n",
              "    </div>\n",
              "  </div>\n"
            ],
            "application/vnd.google.colaboratory.intrinsic+json": {
              "type": "dataframe",
              "variable_name": "df2",
              "summary": "{\n  \"name\": \"df2\",\n  \"rows\": 51,\n  \"fields\": [\n    {\n      \"column\": \"song\",\n      \"properties\": {\n        \"dtype\": \"string\",\n        \"num_unique_values\": 51,\n        \"samples\": [\n          \"RED_LIGHT\",\n          \"Dreams\",\n          \"Gates\"\n        ],\n        \"semantic_type\": \"\",\n        \"description\": \"\"\n      }\n    },\n    {\n      \"column\": \"artist\",\n      \"properties\": {\n        \"dtype\": \"string\",\n        \"num_unique_values\": 40,\n        \"samples\": [\n          \"Bella_Ruse\",\n          \"Sydney_Leigh\",\n          \"Axl_amp_Arth\"\n        ],\n        \"semantic_type\": \"\",\n        \"description\": \"\"\n      }\n    }\n  ]\n}"
            }
          },
          "metadata": {},
          "execution_count": 12
        }
      ]
    },
    {
      "cell_type": "code",
      "source": [
        "df2.info()"
      ],
      "metadata": {
        "colab": {
          "base_uri": "https://localhost:8080/"
        },
        "id": "pK8BU8LkwYr0",
        "outputId": "09e5ec7c-5667-43a3-809c-978c0723bd71"
      },
      "execution_count": null,
      "outputs": [
        {
          "output_type": "stream",
          "name": "stdout",
          "text": [
            "<class 'pandas.core.frame.DataFrame'>\n",
            "RangeIndex: 51 entries, 0 to 50\n",
            "Data columns (total 2 columns):\n",
            " #   Column  Non-Null Count  Dtype \n",
            "---  ------  --------------  ----- \n",
            " 0   song    51 non-null     object\n",
            " 1   artist  51 non-null     object\n",
            "dtypes: object(2)\n",
            "memory usage: 944.0+ bytes\n"
          ]
        }
      ]
    },
    {
      "cell_type": "code",
      "source": [
        "df2['song'] = df2['song'].apply(clean_text)\n",
        "df2['artist'] = df2['artist'].apply(clean_text)\n",
        "\n",
        "df2['song'] = df2['song'].str.replace('_', ' ')\n",
        "df2['artist'] = df2['artist'].str.replace('_', ' ')\n",
        "\n",
        "\n",
        "# Удаляем дубликаты\n",
        "df2_cleaned = df2.drop_duplicates()\n",
        "\n",
        "# Вывод очищенного DataFrame\n",
        "print(df2_cleaned)"
      ],
      "metadata": {
        "colab": {
          "base_uri": "https://localhost:8080/"
        },
        "id": "k_cNv8pSwi8E",
        "outputId": "29619066-cdab-4863-ba5a-e1a48fef6799"
      },
      "execution_count": null,
      "outputs": [
        {
          "output_type": "stream",
          "name": "stdout",
          "text": [
            "                         song                                      artist\n",
            "0                  Find A Way                                     THE DLX\n",
            "1              Crash and Burn                                        JARA\n",
            "2             Come On Come On                               Tamara Laurel\n",
            "3                       Roses                                        JEKK\n",
            "4        Meant To Be This Way                                Square a Saw\n",
            "5                   Last Song                                 The Jaygles\n",
            "6                    Paradise                                 Songwriterz\n",
            "7      When the snow falls...                                     Ralf G.\n",
            "8    Fell In Love With Summer                                 Songwriterz\n",
            "9             All For Nothing                              Anthem of Rain\n",
            "10              Dance With Me                            THE SAME PERSONS\n",
            "11            Strictly Luxury                                   lillywolf\n",
            "12                   The Walk                                        JARA\n",
            "13                   Dame Más                                Alfonso Lugo\n",
            "14              Dance tonight                                     Lollita\n",
            "15                     Better                                Square a Saw\n",
            "16                       Gone                           Michael McEachern\n",
            "17     Do You Ever Feel Sorry                          the.madpix.project\n",
            "18                   Criminal                                Axl amp Arth\n",
            "19              Good Problems                                   lillywolf\n",
            "20    Everybody On Your Block                                   lillywolf\n",
            "21                 Out of Air                                Sydney Leigh\n",
            "22         My Favorite Escape                         Explosive Ear Candy\n",
            "23         Do You Still Dream                         Explosive Ear Candy\n",
            "24                      Lover                                Square a Saw\n",
            "25               I Cleaned Up                                        JARA\n",
            "26                   Más Allá                               Vince Miranda\n",
            "27        Summer of Our Lives                                        JARA\n",
            "28                 Dark Horse                                  Bella Ruse\n",
            "29                      Flame                                The ARTISANS\n",
            "30                   Movement  Eliot Feldman--online-audio-convert.com(1)\n",
            "31                    My Love                                       MODUS\n",
            "32                    Show me                                  Liz Turner\n",
            "33                      Alone                                      Nehilo\n",
            "34               Unbelievable        Virgin Joy--online-audio-convert.com\n",
            "35              See The World                  Mercury amp The Architects\n",
            "36          Love is a Journey                            Robert Avellanet\n",
            "37                  Our Place                             Arrow amp Olive\n",
            "38           A Virtual Friend                                Clair Obscur\n",
            "39  Don't You Steal My Groove                               Neon NiteClub\n",
            "40                     Dreams                                    Manhat10\n",
            "41                    B U R N                                 bessonnitsa\n",
            "42            Love of My Life                                   Ben Lvcas\n",
            "43                  RED LIGHT                               EGOR BUDENNYY\n",
            "44                  Baby Bird                                       LZYBY\n",
            "45              Eight or Nine                             Jonathan Dimmel\n",
            "46                      Gates                                    Bellevue\n",
            "47                       Fire                                  Seth Power\n",
            "48              Dance with me                                    Manhat10\n",
            "49                  Adventure                                 madelyniris\n",
            "50                  Chocolate                                Alfonso Lugo\n"
          ]
        }
      ]
    },
    {
      "cell_type": "code",
      "source": [
        "df2_cleaned['artist'] = df2_cleaned['artist'].str.split('-').str[0]\n",
        "print(df2_cleaned)"
      ],
      "metadata": {
        "colab": {
          "base_uri": "https://localhost:8080/"
        },
        "id": "JO-4lPTmyDBG",
        "outputId": "d2db0ca4-ae03-4df7-82ab-80f607fc60ff"
      },
      "execution_count": null,
      "outputs": [
        {
          "output_type": "stream",
          "name": "stdout",
          "text": [
            "                         song                      artist\n",
            "0                  Find A Way                     THE DLX\n",
            "1              Crash and Burn                        JARA\n",
            "2             Come On Come On               Tamara Laurel\n",
            "3                       Roses                        JEKK\n",
            "4        Meant To Be This Way                Square a Saw\n",
            "5                   Last Song                 The Jaygles\n",
            "6                    Paradise                 Songwriterz\n",
            "7      When the snow falls...                     Ralf G.\n",
            "8    Fell In Love With Summer                 Songwriterz\n",
            "9             All For Nothing              Anthem of Rain\n",
            "10              Dance With Me            THE SAME PERSONS\n",
            "11            Strictly Luxury                   lillywolf\n",
            "12                   The Walk                        JARA\n",
            "13                   Dame Más                Alfonso Lugo\n",
            "14              Dance tonight                     Lollita\n",
            "15                     Better                Square a Saw\n",
            "16                       Gone           Michael McEachern\n",
            "17     Do You Ever Feel Sorry          the.madpix.project\n",
            "18                   Criminal                Axl amp Arth\n",
            "19              Good Problems                   lillywolf\n",
            "20    Everybody On Your Block                   lillywolf\n",
            "21                 Out of Air                Sydney Leigh\n",
            "22         My Favorite Escape         Explosive Ear Candy\n",
            "23         Do You Still Dream         Explosive Ear Candy\n",
            "24                      Lover                Square a Saw\n",
            "25               I Cleaned Up                        JARA\n",
            "26                   Más Allá               Vince Miranda\n",
            "27        Summer of Our Lives                        JARA\n",
            "28                 Dark Horse                  Bella Ruse\n",
            "29                      Flame                The ARTISANS\n",
            "30                   Movement               Eliot Feldman\n",
            "31                    My Love                       MODUS\n",
            "32                    Show me                  Liz Turner\n",
            "33                      Alone                      Nehilo\n",
            "34               Unbelievable                  Virgin Joy\n",
            "35              See The World  Mercury amp The Architects\n",
            "36          Love is a Journey            Robert Avellanet\n",
            "37                  Our Place             Arrow amp Olive\n",
            "38           A Virtual Friend                Clair Obscur\n",
            "39  Don't You Steal My Groove               Neon NiteClub\n",
            "40                     Dreams                    Manhat10\n",
            "41                    B U R N                 bessonnitsa\n",
            "42            Love of My Life                   Ben Lvcas\n",
            "43                  RED LIGHT               EGOR BUDENNYY\n",
            "44                  Baby Bird                       LZYBY\n",
            "45              Eight or Nine             Jonathan Dimmel\n",
            "46                      Gates                    Bellevue\n",
            "47                       Fire                  Seth Power\n",
            "48              Dance with me                    Manhat10\n",
            "49                  Adventure                 madelyniris\n",
            "50                  Chocolate                Alfonso Lugo\n"
          ]
        }
      ]
    },
    {
      "cell_type": "code",
      "source": [
        "df2_cleaned.info()"
      ],
      "metadata": {
        "colab": {
          "base_uri": "https://localhost:8080/"
        },
        "id": "s5UvVzjnxieX",
        "outputId": "569f0b1f-9a28-418e-8ba8-6aa457179743"
      },
      "execution_count": null,
      "outputs": [
        {
          "output_type": "stream",
          "name": "stdout",
          "text": [
            "<class 'pandas.core.frame.DataFrame'>\n",
            "RangeIndex: 51 entries, 0 to 50\n",
            "Data columns (total 2 columns):\n",
            " #   Column  Non-Null Count  Dtype \n",
            "---  ------  --------------  ----- \n",
            " 0   song    51 non-null     object\n",
            " 1   artist  51 non-null     object\n",
            "dtypes: object(2)\n",
            "memory usage: 944.0+ bytes\n"
          ]
        }
      ]
    },
    {
      "cell_type": "markdown",
      "source": [
        " Задача:классификация по поиску похожих исполнителей (двух разных жанров) на основе аудиозаписей"
      ],
      "metadata": {
        "id": "pMbKerNOx2gH"
      }
    },
    {
      "cell_type": "markdown",
      "source": [
        "Предобработка аудио"
      ],
      "metadata": {
        "id": "cp8sOYjmz95_"
      }
    },
    {
      "cell_type": "code",
      "source": [
        "!pip3 install torchaudio\n",
        "import torchaudio\n",
        "import torch"
      ],
      "metadata": {
        "colab": {
          "base_uri": "https://localhost:8080/"
        },
        "id": "1MoGPTzDAvf4",
        "outputId": "99d8e395-8201-49b6-f16c-3f3d059676ab"
      },
      "execution_count": 2,
      "outputs": [
        {
          "output_type": "stream",
          "name": "stdout",
          "text": [
            "Requirement already satisfied: torchaudio in /usr/local/lib/python3.10/dist-packages (2.5.1+cu121)\n",
            "Requirement already satisfied: torch==2.5.1 in /usr/local/lib/python3.10/dist-packages (from torchaudio) (2.5.1+cu121)\n",
            "Requirement already satisfied: filelock in /usr/local/lib/python3.10/dist-packages (from torch==2.5.1->torchaudio) (3.16.1)\n",
            "Requirement already satisfied: typing-extensions>=4.8.0 in /usr/local/lib/python3.10/dist-packages (from torch==2.5.1->torchaudio) (4.12.2)\n",
            "Requirement already satisfied: networkx in /usr/local/lib/python3.10/dist-packages (from torch==2.5.1->torchaudio) (3.4.2)\n",
            "Requirement already satisfied: jinja2 in /usr/local/lib/python3.10/dist-packages (from torch==2.5.1->torchaudio) (3.1.4)\n",
            "Requirement already satisfied: fsspec in /usr/local/lib/python3.10/dist-packages (from torch==2.5.1->torchaudio) (2024.10.0)\n",
            "Requirement already satisfied: sympy==1.13.1 in /usr/local/lib/python3.10/dist-packages (from torch==2.5.1->torchaudio) (1.13.1)\n",
            "Requirement already satisfied: mpmath<1.4,>=1.1.0 in /usr/local/lib/python3.10/dist-packages (from sympy==1.13.1->torch==2.5.1->torchaudio) (1.3.0)\n",
            "Requirement already satisfied: MarkupSafe>=2.0 in /usr/local/lib/python3.10/dist-packages (from jinja2->torch==2.5.1->torchaudio) (3.0.2)\n"
          ]
        }
      ]
    },
    {
      "cell_type": "code",
      "source": [
        "import os\n",
        "from pathlib import Path\n",
        "import librosa\n",
        "path = Path('/content/drive/MyDrive/audios')\n",
        "\n",
        "audios = []\n",
        "labels = []\n",
        "for filename in os.listdir(path):\n",
        "        if filename.endswith(\".wav\"):\n",
        "            audio_path = os.path.join(path, filename)\n",
        "            print(f'loading {filename}')\n",
        "\n",
        "            wave, sample_rate = librosa.load(audio_path)\n",
        "            audios.append(torch.Tensor(wave))\n",
        "            artist = filename.split(\"_-_\")[1][:-4] #Используем  имя исполнителя как метку\n",
        "            labels.append(artist)"
      ],
      "metadata": {
        "colab": {
          "base_uri": "https://localhost:8080/"
        },
        "collapsed": true,
        "id": "5AlLVs5sAVKY",
        "outputId": "46566075-c2d3-417b-e223-4a90064ed4fb"
      },
      "execution_count": 15,
      "outputs": [
        {
          "output_type": "stream",
          "name": "stdout",
          "text": [
            "loading A_Virtual_Friend_-_Clair_Obscur.wav\n",
            "loading B_U_R_N_-_bessonnitsa.wav\n",
            "loading Alone_-_Nehilo_-_Nehilo.wav\n",
            "loading All_For_Nothing_-_Anthem_of_Rain.wav\n",
            "loading Adventure_-_madelyniris_(2).wav\n",
            "loading Dame_Más_(acoustic)_-_Alfonso_Lugo.wav\n",
            "loading Criminal_-_Axl_amp_Arth.wav\n",
            "loading Crash_and_Burn_-_JARA.wav\n",
            "loading Come_On_Come_On_-_Tamara_Laurel.wav\n",
            "loading Chocolate_-_Alfonso_Lugo.wav\n",
            "loading Better_-_Square_a_Saw.wav\n",
            "loading Baby_Bird_-_LZYBY.wav\n",
            "loading Dance_With_Me_-_THE_SAME_PERSONS.wav\n",
            "loading Dance_with_me_-_Manhat10.wav\n",
            "loading Dance_tonight_-_Lollita_(2).wav\n",
            "loading Don't_You_Steal_My_Groove_-_Neon_NiteClub_(2).wav\n",
            "loading Do_You_Still_Dream_-_Explosive_Ear_Candy.wav\n",
            "loading Do_You_Ever_Feel_Sorry_-_the.madpix.project.wav\n",
            "loading Dark_Horse_-_Bella_Ruse.wav\n",
            "loading Find_A_Way_-_THE_DLX.wav\n",
            "loading Fell_In_Love_With_Summer_-_Songwriterz_(2).wav\n",
            "loading Everybody_On_Your_Block_-_lillywolf.wav\n",
            "loading Eight_or_Nine_-_Jonathan_Dimmel.wav\n",
            "loading Dreams_-_Manhat10.wav\n",
            "loading I_Cleaned_Up_-_JARA.wav\n",
            "loading Good_Problems_-_lillywolf.wav\n",
            "loading Gone_-_Michael_McEachern.wav\n",
            "loading Gates_-_Bellevue.wav\n",
            "loading Flame_-_The_ARTISANS.wav\n",
            "loading Fire_-_Seth_Power_(2).wav\n",
            "loading Meant_To_Be_This_Way_-_Square_a_Saw.wav\n",
            "loading Lover_-_Square_a_Saw.wav\n",
            "loading Love_is_a_Journey_-_Robert_Avellanet_(2).wav\n",
            "loading Love_of_My_Life_-_Ben_Lvcas.wav\n",
            "loading Last_Song_-_The_Jaygles.wav\n",
            "loading RED_LIGHT_-_EGOR_BUDENNYY.wav\n",
            "loading Paradise_-_Songwriterz_(2).wav\n",
            "loading Out_of_Air_-_Sydney_Leigh.wav\n",
            "loading Our_Place_-_Arrow_amp_Olive.wav\n",
            "loading My_Love_-_MODUS.wav\n",
            "loading My_Favorite_Escape_-_Explosive_Ear_Candy.wav\n",
            "loading Movement_-_Eliot_Feldman--online-audio-convert.com(1).wav\n",
            "loading The_Walk_-_JARA.wav\n",
            "loading Summer_of_Our_Lives_-_JARA.wav\n",
            "loading Strictly_Luxury_-_lillywolf.wav\n",
            "loading Show_me_-_Liz_Turner.wav\n",
            "loading See_The_World_-_Mercury_amp_The_Architects.wav\n",
            "loading Roses_-_JEKK.wav\n",
            "loading Más_Allá_-_Vince_Miranda.wav\n",
            "loading When_the_snow_falls..._-_Ralf_G..wav\n",
            "loading Unbelievable_-_Virgin_Joy--online-audio-convert.com.wav\n",
            "loading Cheat_On_Each_Other_-_Whalers_(2).wav\n",
            "loading Boy_-_The_Different.wav\n",
            "loading Alone_-_Color_Out.wav\n",
            "loading Fake_It_-_bradsucks.wav\n",
            "loading Everybody_Else_-_Kara_Square_and_Piero_Peluche.wav\n",
            "loading Embers_-_Avercage.wav\n",
            "loading Easy_On_The_Radio_-_Michael_Ellis.wav\n",
            "loading Designer_Genes_-_The_Bourgeois.wav\n",
            "loading Cupid_Kills_-_Falling_Blind.wav\n",
            "loading Game_Change_-_Nick_Miller.wav\n",
            "loading From_the_Outside,_Looking_In_-_Fallen_to_Flux.wav\n",
            "loading Girls_Like_You_-_The_Spin_Wires_(2).wav\n",
            "loading Get_It_On_-_Major_Major_(2).wav\n",
            "loading Graveyard_-_The_Liquid_Kitchen_(3).wav\n",
            "loading Give_Till_It_Hurts_-_For_The_Broken.wav\n",
            "loading Grand_daddy_-_Victoria_Caffe.wav\n",
            "loading It_Never_Works_-_Social_Square.wav\n",
            "loading I'm_Growing_Fangs_-_Great_White_Buffalo.wav\n",
            "loading holiday_-_Kismet_.wav\n",
            "loading Heart_of_War_-_Message_From_Sylvia.wav\n",
            "loading Mercurial_(Feat._AJ_Perdomo)_-_Color_Out.wav\n",
            "loading Likely_Story_-_Great_White_Buffalo.wav\n",
            "loading Kill_the_Old_-_theleague.wav\n",
            "loading My_Little_World_-_Other_Noises.wav\n",
            "loading Mourning_Day_-_SadMe.wav\n",
            "loading Monkeys_Jumping_-_Rusty_Tea_Makers.wav\n",
            "loading Not_My_Problem_-_All_My_Friends_Hate_Me.wav\n",
            "loading No_Rest_Or_Endless_Rest_-_Lisofv.wav\n",
            "loading New_Friends_-_cumshot.wav\n",
            "loading ON_SALE_-_Golden_Duck_Orchestra.wav\n",
            "loading Old_News_-_Hot_Fiction.wav\n",
            "loading Rubituckin_-_CrumbSnatchers.wav\n",
            "loading Revolution_Now_-_joshwoodward.wav\n",
            "loading Reason_-_Falling_Blind.wav\n",
            "loading Randall_Scandal_-_Maze.wav\n",
            "loading Peyote_-_Kinematic.wav\n",
            "loading One_Last_Time_-_Final_Round.wav\n",
            "loading Superman's_Cape_-_10_Code.wav\n",
            "loading Summer_-_Rusty_Tea_Makers.wav\n",
            "loading Staring_into_Space_-_The_Monster_Brothers.wav\n",
            "loading Soul_Kiss_-_entheos.wav\n",
            "loading See_The_Ghosts_-_Stephane_TV.wav\n",
            "loading Scars_-_The_Morning_Light.wav\n",
            "loading Until_The_End_-_Retrosonic__2_.wav\n",
            "loading Under_My_Red_Carpet_-_The_Morning_Light.wav\n",
            "loading Today_-_10_Code.wav\n",
            "loading The_Little_Robot_-_Forget_the_Whale__2_.wav\n",
            "loading Thanks_for_Nothing_-_Great_White_Buffalo.wav\n",
            "loading Swimming_Upstream_-_CrumbSnatchers.wav\n",
            "loading Wearing_Out_-_Katherine.wav\n",
            "loading Wage_War_-_Circa_Vitae.wav\n"
          ]
        }
      ]
    },
    {
      "cell_type": "code",
      "source": [
        "len(audios)"
      ],
      "metadata": {
        "colab": {
          "base_uri": "https://localhost:8080/"
        },
        "id": "HWiUt9z9-5LW",
        "outputId": "1818a301-eca0-4e1e-8b20-a9c6156085b3"
      },
      "execution_count": 16,
      "outputs": [
        {
          "output_type": "execute_result",
          "data": {
            "text/plain": [
              "102"
            ]
          },
          "metadata": {},
          "execution_count": 16
        }
      ]
    },
    {
      "cell_type": "code",
      "source": [
        "print(labels) #Полученный массив меток исполнителей"
      ],
      "metadata": {
        "colab": {
          "base_uri": "https://localhost:8080/"
        },
        "id": "2ay5ZOelN-W4",
        "outputId": "f27cd330-fad1-4be8-ff90-f224f143929d"
      },
      "execution_count": 17,
      "outputs": [
        {
          "output_type": "stream",
          "name": "stdout",
          "text": [
            "['Clair_Obscur', 'bessonnitsa', 'Ne', 'Anthem_of_Rain', 'madelyniris_(2)', 'Alfonso_Lugo', 'Axl_amp_Arth', 'JARA', 'Tamara_Laurel', 'Alfonso_Lugo', 'Square_a_Saw', 'LZYBY', 'THE_SAME_PERSONS', 'Manhat10', 'Lollita_(2)', 'Neon_NiteClub_(2)', 'Explosive_Ear_Candy', 'the.madpix.project', 'Bella_Ruse', 'THE_DLX', 'Songwriterz_(2)', 'lillywolf', 'Jonathan_Dimmel', 'Manhat10', 'JARA', 'lillywolf', 'Michael_McEachern', 'Bellevue', 'The_ARTISANS', 'Seth_Power_(2)', 'Square_a_Saw', 'Square_a_Saw', 'Robert_Avellanet_(2)', 'Ben_Lvcas', 'The_Jaygles', 'EGOR_BUDENNYY', 'Songwriterz_(2)', 'Sydney_Leigh', 'Arrow_amp_Olive', 'MODUS', 'Explosive_Ear_Candy', 'Eliot_Feldman--online-audio-convert.com(1)', 'JARA', 'JARA', 'lillywolf', 'Liz_Turner', 'Mercury_amp_The_Architects', 'JEKK', 'Vince_Miranda', 'Ralf_G.', 'Virgin_Joy--online-audio-convert.com', 'Whalers_(2)', 'The_Different', 'Color_Out', 'bradsucks', 'Kara_Square_and_Piero_Peluche', 'Avercage', 'Michael_Ellis', 'The_Bourgeois', 'Falling_Blind', 'Nick_Miller', 'Fallen_to_Flux', 'The_Spin_Wires_(2)', 'Major_Major_(2)', 'The_Liquid_Kitchen_(3)', 'For_The_Broken', 'Victoria_Caffe', 'Social_Square', 'Great_White_Buffalo', 'Kismet_', 'Message_From_Sylvia', 'Color_Out', 'Great_White_Buffalo', 'theleague', 'Other_Noises', 'SadMe', 'Rusty_Tea_Makers', 'All_My_Friends_Hate_Me', 'Lisofv', 'cumshot', 'Golden_Duck_Orchestra', 'Hot_Fiction', 'CrumbSnatchers', 'joshwoodward', 'Falling_Blind', 'Maze', 'Kinematic', 'Final_Round', '10_Code', 'Rusty_Tea_Makers', 'The_Monster_Brothers', 'entheos', 'Stephane_TV', 'The_Morning_Light', 'Retrosonic__2_', 'The_Morning_Light', '10_Code', 'Forget_the_Whale__2_', 'Great_White_Buffalo', 'CrumbSnatchers', 'Katherine', 'Circa_Vitae']\n"
          ]
        }
      ]
    },
    {
      "cell_type": "code",
      "source": [
        "print(len(labels))"
      ],
      "metadata": {
        "colab": {
          "base_uri": "https://localhost:8080/"
        },
        "id": "opu7T6TjldK3",
        "outputId": "5cf64b5f-aab9-45ff-b5e2-16c787e7e277"
      },
      "execution_count": 18,
      "outputs": [
        {
          "output_type": "stream",
          "name": "stdout",
          "text": [
            "102\n"
          ]
        }
      ]
    },
    {
      "cell_type": "code",
      "source": [
        "#сохраняем метки в файл\n",
        "with open(\"artist_labels.txt\", \"w\") as file:\n",
        "    for name in labels:\n",
        "        file.write(name + \"\\n\")  # Записываем имя в файл, добавляя перевод строки\n",
        "\n",
        "print(\"Список сохранен в файл.\")"
      ],
      "metadata": {
        "colab": {
          "base_uri": "https://localhost:8080/"
        },
        "id": "nFi1B0Le__yx",
        "outputId": "61588175-fb25-4f5f-8602-01608a67a93d"
      },
      "execution_count": 20,
      "outputs": [
        {
          "output_type": "stream",
          "name": "stdout",
          "text": [
            "Список сохранен в файл.\n"
          ]
        }
      ]
    },
    {
      "cell_type": "code",
      "source": [
        "# Загрузка списка из текстового файла\n",
        "with open(\"artist_labels.txt\", \"r\") as file:\n",
        "    labels = [line.strip() for line in file]\n",
        "\n",
        "print(labels)\n"
      ],
      "metadata": {
        "colab": {
          "base_uri": "https://localhost:8080/"
        },
        "id": "bEQKrk82AZpo",
        "outputId": "adbfb178-dae3-42fa-8d13-f8ff36259dda"
      },
      "execution_count": 6,
      "outputs": [
        {
          "output_type": "stream",
          "name": "stdout",
          "text": [
            "['Clair_Obscur', 'bessonnitsa', 'Ne', 'Anthem_of_Rain', 'madelyniris_(2)', 'Alfonso_Lugo', 'Axl_amp_Arth', 'JARA', 'Tamara_Laurel', 'Alfonso_Lugo', 'Square_a_Saw', 'LZYBY', 'THE_SAME_PERSONS', 'Manhat10', 'Lollita_(2)', 'Neon_NiteClub_(2)', 'Explosive_Ear_Candy', 'the.madpix.project', 'Bella_Ruse', 'THE_DLX', 'Songwriterz_(2)', 'lillywolf', 'Jonathan_Dimmel', 'Manhat10', 'JARA', 'lillywolf', 'Michael_McEachern', 'Bellevue', 'The_ARTISANS', 'Seth_Power_(2)', 'Square_a_Saw', 'Square_a_Saw', 'Robert_Avellanet_(2)', 'Ben_Lvcas', 'The_Jaygles', 'EGOR_BUDENNYY', 'Songwriterz_(2)', 'Sydney_Leigh', 'Arrow_amp_Olive', 'MODUS', 'Explosive_Ear_Candy', 'Eliot_Feldman--online-audio-convert.com(1)', 'JARA', 'JARA', 'lillywolf', 'Liz_Turner', 'Mercury_amp_The_Architects', 'JEKK', 'Vince_Miranda', 'Ralf_G.', 'Virgin_Joy--online-audio-convert.com', 'Whalers_(2)', 'The_Different', 'Color_Out', 'bradsucks', 'Kara_Square_and_Piero_Peluche', 'Avercage', 'Michael_Ellis', 'The_Bourgeois', 'Falling_Blind', 'Nick_Miller', 'Fallen_to_Flux', 'The_Spin_Wires_(2)', 'Major_Major_(2)', 'The_Liquid_Kitchen_(3)', 'For_The_Broken', 'Victoria_Caffe', 'Social_Square', 'Great_White_Buffalo', 'Kismet_', 'Message_From_Sylvia', 'Color_Out', 'Great_White_Buffalo', 'theleague', 'Other_Noises', 'SadMe', 'Rusty_Tea_Makers', 'All_My_Friends_Hate_Me', 'Lisofv', 'cumshot', 'Golden_Duck_Orchestra', 'Hot_Fiction', 'CrumbSnatchers', 'joshwoodward', 'Falling_Blind', 'Maze', 'Kinematic', 'Final_Round', '10_Code', 'Rusty_Tea_Makers', 'The_Monster_Brothers', 'entheos', 'Stephane_TV', 'The_Morning_Light', 'Retrosonic__2_', 'The_Morning_Light', '10_Code', 'Forget_the_Whale__2_', 'Great_White_Buffalo', 'CrumbSnatchers', 'Katherine', 'Circa_Vitae']\n"
          ]
        }
      ]
    },
    {
      "cell_type": "code",
      "source": [
        "print(len(labels)) #проверочка, что все нормально сохранилось и вернулось"
      ],
      "metadata": {
        "colab": {
          "base_uri": "https://localhost:8080/"
        },
        "id": "wVlSm31mAjOr",
        "outputId": "f5f179d3-b6f5-4849-ed3b-8ad23340eaa0"
      },
      "execution_count": 7,
      "outputs": [
        {
          "output_type": "stream",
          "name": "stdout",
          "text": [
            "102\n"
          ]
        }
      ]
    },
    {
      "cell_type": "code",
      "source": [
        "df_pop = pd.read_csv('/content/drive/MyDrive/pop_dataset.csv')\n",
        "df_pop"
      ],
      "metadata": {
        "colab": {
          "base_uri": "https://localhost:8080/",
          "height": 1000
        },
        "id": "6eNzdGNrB9D6",
        "outputId": "8099b697-7b5f-4962-b72e-b9c2c93ef344"
      },
      "execution_count": 101,
      "outputs": [
        {
          "output_type": "execute_result",
          "data": {
            "text/plain": [
              "                         song                                      artist\n",
              "0                  Find_A_Way                                     THE_DLX\n",
              "1              Crash_and_Burn                                        JARA\n",
              "2             Come_On_Come_On                               Tamara_Laurel\n",
              "3                       Roses                                        JEKK\n",
              "4        Meant_To_Be_This_Way                                Square_a_Saw\n",
              "5                   Last_Song                                 The_Jaygles\n",
              "6                    Paradise                             Songwriterz_(2)\n",
              "7      When_the_snow_falls...                                     Ralf_G.\n",
              "8    Fell_In_Love_With_Summer                             Songwriterz_(2)\n",
              "9             All_For_Nothing                              Anthem_of_Rain\n",
              "10              Dance_With_Me                            THE_SAME_PERSONS\n",
              "11            Strictly_Luxury                                   lillywolf\n",
              "12                   The_Walk                                        JARA\n",
              "13        Dame_Más_(acoustic)                                Alfonso_Lugo\n",
              "14              Dance_tonight                                 Lollita_(2)\n",
              "15                     Better                                Square_a_Saw\n",
              "16                       Gone                           Michael_McEachern\n",
              "17     Do_You_Ever_Feel_Sorry                          the.madpix.project\n",
              "18                   Criminal                                Axl_amp_Arth\n",
              "19              Good_Problems                                   lillywolf\n",
              "20    Everybody_On_Your_Block                                   lillywolf\n",
              "21                 Out_of_Air                                Sydney_Leigh\n",
              "22         My_Favorite_Escape                         Explosive_Ear_Candy\n",
              "23         Do_You_Still_Dream                         Explosive_Ear_Candy\n",
              "24                      Lover                                Square_a_Saw\n",
              "25               I_Cleaned_Up                                        JARA\n",
              "26                   Más_Allá                               Vince_Miranda\n",
              "27        Summer_of_Our_Lives                                        JARA\n",
              "28                 Dark_Horse                                  Bella_Ruse\n",
              "29                      Flame                                The_ARTISANS\n",
              "30                   Movement  Eliot_Feldman--online-audio-convert.com(1)\n",
              "31                    My_Love                                       MODUS\n",
              "32                    Show_me                                  Liz_Turner\n",
              "33               Unbelievable        Virgin_Joy--online-audio-convert.com\n",
              "34              See_The_World                  Mercury_amp_The_Architects\n",
              "35          Love_is_a_Journey                        Robert_Avellanet_(2)\n",
              "36                  Our_Place                             Arrow_amp_Olive\n",
              "37           A_Virtual_Friend                                Clair_Obscur\n",
              "38  Don't_You_Steal_My_Groove                           Neon_NiteClub_(2)\n",
              "39                     Dreams                                    Manhat10\n",
              "40                    B_U_R_N                                 bessonnitsa\n",
              "41            Love_of_My_Life                                   Ben_Lvcas\n",
              "42                  RED_LIGHT                               EGOR_BUDENNYY\n",
              "43                  Baby_Bird                                       LZYBY\n",
              "44              Eight_or_Nine                             Jonathan_Dimmel\n",
              "45                      Gates                                    Bellevue\n",
              "46                       Fire                              Seth_Power_(2)\n",
              "47              Dance_with_me                                    Manhat10\n",
              "48                  Adventure                             madelyniris_(2)\n",
              "49                  Chocolate                                Alfonso_Lugo"
            ],
            "text/html": [
              "\n",
              "  <div id=\"df-793b7229-4e3e-4f7b-9511-e094800d10f7\" class=\"colab-df-container\">\n",
              "    <div>\n",
              "<style scoped>\n",
              "    .dataframe tbody tr th:only-of-type {\n",
              "        vertical-align: middle;\n",
              "    }\n",
              "\n",
              "    .dataframe tbody tr th {\n",
              "        vertical-align: top;\n",
              "    }\n",
              "\n",
              "    .dataframe thead th {\n",
              "        text-align: right;\n",
              "    }\n",
              "</style>\n",
              "<table border=\"1\" class=\"dataframe\">\n",
              "  <thead>\n",
              "    <tr style=\"text-align: right;\">\n",
              "      <th></th>\n",
              "      <th>song</th>\n",
              "      <th>artist</th>\n",
              "    </tr>\n",
              "  </thead>\n",
              "  <tbody>\n",
              "    <tr>\n",
              "      <th>0</th>\n",
              "      <td>Find_A_Way</td>\n",
              "      <td>THE_DLX</td>\n",
              "    </tr>\n",
              "    <tr>\n",
              "      <th>1</th>\n",
              "      <td>Crash_and_Burn</td>\n",
              "      <td>JARA</td>\n",
              "    </tr>\n",
              "    <tr>\n",
              "      <th>2</th>\n",
              "      <td>Come_On_Come_On</td>\n",
              "      <td>Tamara_Laurel</td>\n",
              "    </tr>\n",
              "    <tr>\n",
              "      <th>3</th>\n",
              "      <td>Roses</td>\n",
              "      <td>JEKK</td>\n",
              "    </tr>\n",
              "    <tr>\n",
              "      <th>4</th>\n",
              "      <td>Meant_To_Be_This_Way</td>\n",
              "      <td>Square_a_Saw</td>\n",
              "    </tr>\n",
              "    <tr>\n",
              "      <th>5</th>\n",
              "      <td>Last_Song</td>\n",
              "      <td>The_Jaygles</td>\n",
              "    </tr>\n",
              "    <tr>\n",
              "      <th>6</th>\n",
              "      <td>Paradise</td>\n",
              "      <td>Songwriterz_(2)</td>\n",
              "    </tr>\n",
              "    <tr>\n",
              "      <th>7</th>\n",
              "      <td>When_the_snow_falls...</td>\n",
              "      <td>Ralf_G.</td>\n",
              "    </tr>\n",
              "    <tr>\n",
              "      <th>8</th>\n",
              "      <td>Fell_In_Love_With_Summer</td>\n",
              "      <td>Songwriterz_(2)</td>\n",
              "    </tr>\n",
              "    <tr>\n",
              "      <th>9</th>\n",
              "      <td>All_For_Nothing</td>\n",
              "      <td>Anthem_of_Rain</td>\n",
              "    </tr>\n",
              "    <tr>\n",
              "      <th>10</th>\n",
              "      <td>Dance_With_Me</td>\n",
              "      <td>THE_SAME_PERSONS</td>\n",
              "    </tr>\n",
              "    <tr>\n",
              "      <th>11</th>\n",
              "      <td>Strictly_Luxury</td>\n",
              "      <td>lillywolf</td>\n",
              "    </tr>\n",
              "    <tr>\n",
              "      <th>12</th>\n",
              "      <td>The_Walk</td>\n",
              "      <td>JARA</td>\n",
              "    </tr>\n",
              "    <tr>\n",
              "      <th>13</th>\n",
              "      <td>Dame_Más_(acoustic)</td>\n",
              "      <td>Alfonso_Lugo</td>\n",
              "    </tr>\n",
              "    <tr>\n",
              "      <th>14</th>\n",
              "      <td>Dance_tonight</td>\n",
              "      <td>Lollita_(2)</td>\n",
              "    </tr>\n",
              "    <tr>\n",
              "      <th>15</th>\n",
              "      <td>Better</td>\n",
              "      <td>Square_a_Saw</td>\n",
              "    </tr>\n",
              "    <tr>\n",
              "      <th>16</th>\n",
              "      <td>Gone</td>\n",
              "      <td>Michael_McEachern</td>\n",
              "    </tr>\n",
              "    <tr>\n",
              "      <th>17</th>\n",
              "      <td>Do_You_Ever_Feel_Sorry</td>\n",
              "      <td>the.madpix.project</td>\n",
              "    </tr>\n",
              "    <tr>\n",
              "      <th>18</th>\n",
              "      <td>Criminal</td>\n",
              "      <td>Axl_amp_Arth</td>\n",
              "    </tr>\n",
              "    <tr>\n",
              "      <th>19</th>\n",
              "      <td>Good_Problems</td>\n",
              "      <td>lillywolf</td>\n",
              "    </tr>\n",
              "    <tr>\n",
              "      <th>20</th>\n",
              "      <td>Everybody_On_Your_Block</td>\n",
              "      <td>lillywolf</td>\n",
              "    </tr>\n",
              "    <tr>\n",
              "      <th>21</th>\n",
              "      <td>Out_of_Air</td>\n",
              "      <td>Sydney_Leigh</td>\n",
              "    </tr>\n",
              "    <tr>\n",
              "      <th>22</th>\n",
              "      <td>My_Favorite_Escape</td>\n",
              "      <td>Explosive_Ear_Candy</td>\n",
              "    </tr>\n",
              "    <tr>\n",
              "      <th>23</th>\n",
              "      <td>Do_You_Still_Dream</td>\n",
              "      <td>Explosive_Ear_Candy</td>\n",
              "    </tr>\n",
              "    <tr>\n",
              "      <th>24</th>\n",
              "      <td>Lover</td>\n",
              "      <td>Square_a_Saw</td>\n",
              "    </tr>\n",
              "    <tr>\n",
              "      <th>25</th>\n",
              "      <td>I_Cleaned_Up</td>\n",
              "      <td>JARA</td>\n",
              "    </tr>\n",
              "    <tr>\n",
              "      <th>26</th>\n",
              "      <td>Más_Allá</td>\n",
              "      <td>Vince_Miranda</td>\n",
              "    </tr>\n",
              "    <tr>\n",
              "      <th>27</th>\n",
              "      <td>Summer_of_Our_Lives</td>\n",
              "      <td>JARA</td>\n",
              "    </tr>\n",
              "    <tr>\n",
              "      <th>28</th>\n",
              "      <td>Dark_Horse</td>\n",
              "      <td>Bella_Ruse</td>\n",
              "    </tr>\n",
              "    <tr>\n",
              "      <th>29</th>\n",
              "      <td>Flame</td>\n",
              "      <td>The_ARTISANS</td>\n",
              "    </tr>\n",
              "    <tr>\n",
              "      <th>30</th>\n",
              "      <td>Movement</td>\n",
              "      <td>Eliot_Feldman--online-audio-convert.com(1)</td>\n",
              "    </tr>\n",
              "    <tr>\n",
              "      <th>31</th>\n",
              "      <td>My_Love</td>\n",
              "      <td>MODUS</td>\n",
              "    </tr>\n",
              "    <tr>\n",
              "      <th>32</th>\n",
              "      <td>Show_me</td>\n",
              "      <td>Liz_Turner</td>\n",
              "    </tr>\n",
              "    <tr>\n",
              "      <th>33</th>\n",
              "      <td>Unbelievable</td>\n",
              "      <td>Virgin_Joy--online-audio-convert.com</td>\n",
              "    </tr>\n",
              "    <tr>\n",
              "      <th>34</th>\n",
              "      <td>See_The_World</td>\n",
              "      <td>Mercury_amp_The_Architects</td>\n",
              "    </tr>\n",
              "    <tr>\n",
              "      <th>35</th>\n",
              "      <td>Love_is_a_Journey</td>\n",
              "      <td>Robert_Avellanet_(2)</td>\n",
              "    </tr>\n",
              "    <tr>\n",
              "      <th>36</th>\n",
              "      <td>Our_Place</td>\n",
              "      <td>Arrow_amp_Olive</td>\n",
              "    </tr>\n",
              "    <tr>\n",
              "      <th>37</th>\n",
              "      <td>A_Virtual_Friend</td>\n",
              "      <td>Clair_Obscur</td>\n",
              "    </tr>\n",
              "    <tr>\n",
              "      <th>38</th>\n",
              "      <td>Don't_You_Steal_My_Groove</td>\n",
              "      <td>Neon_NiteClub_(2)</td>\n",
              "    </tr>\n",
              "    <tr>\n",
              "      <th>39</th>\n",
              "      <td>Dreams</td>\n",
              "      <td>Manhat10</td>\n",
              "    </tr>\n",
              "    <tr>\n",
              "      <th>40</th>\n",
              "      <td>B_U_R_N</td>\n",
              "      <td>bessonnitsa</td>\n",
              "    </tr>\n",
              "    <tr>\n",
              "      <th>41</th>\n",
              "      <td>Love_of_My_Life</td>\n",
              "      <td>Ben_Lvcas</td>\n",
              "    </tr>\n",
              "    <tr>\n",
              "      <th>42</th>\n",
              "      <td>RED_LIGHT</td>\n",
              "      <td>EGOR_BUDENNYY</td>\n",
              "    </tr>\n",
              "    <tr>\n",
              "      <th>43</th>\n",
              "      <td>Baby_Bird</td>\n",
              "      <td>LZYBY</td>\n",
              "    </tr>\n",
              "    <tr>\n",
              "      <th>44</th>\n",
              "      <td>Eight_or_Nine</td>\n",
              "      <td>Jonathan_Dimmel</td>\n",
              "    </tr>\n",
              "    <tr>\n",
              "      <th>45</th>\n",
              "      <td>Gates</td>\n",
              "      <td>Bellevue</td>\n",
              "    </tr>\n",
              "    <tr>\n",
              "      <th>46</th>\n",
              "      <td>Fire</td>\n",
              "      <td>Seth_Power_(2)</td>\n",
              "    </tr>\n",
              "    <tr>\n",
              "      <th>47</th>\n",
              "      <td>Dance_with_me</td>\n",
              "      <td>Manhat10</td>\n",
              "    </tr>\n",
              "    <tr>\n",
              "      <th>48</th>\n",
              "      <td>Adventure</td>\n",
              "      <td>madelyniris_(2)</td>\n",
              "    </tr>\n",
              "    <tr>\n",
              "      <th>49</th>\n",
              "      <td>Chocolate</td>\n",
              "      <td>Alfonso_Lugo</td>\n",
              "    </tr>\n",
              "  </tbody>\n",
              "</table>\n",
              "</div>\n",
              "    <div class=\"colab-df-buttons\">\n",
              "\n",
              "  <div class=\"colab-df-container\">\n",
              "    <button class=\"colab-df-convert\" onclick=\"convertToInteractive('df-793b7229-4e3e-4f7b-9511-e094800d10f7')\"\n",
              "            title=\"Convert this dataframe to an interactive table.\"\n",
              "            style=\"display:none;\">\n",
              "\n",
              "  <svg xmlns=\"http://www.w3.org/2000/svg\" height=\"24px\" viewBox=\"0 -960 960 960\">\n",
              "    <path d=\"M120-120v-720h720v720H120Zm60-500h600v-160H180v160Zm220 220h160v-160H400v160Zm0 220h160v-160H400v160ZM180-400h160v-160H180v160Zm440 0h160v-160H620v160ZM180-180h160v-160H180v160Zm440 0h160v-160H620v160Z\"/>\n",
              "  </svg>\n",
              "    </button>\n",
              "\n",
              "  <style>\n",
              "    .colab-df-container {\n",
              "      display:flex;\n",
              "      gap: 12px;\n",
              "    }\n",
              "\n",
              "    .colab-df-convert {\n",
              "      background-color: #E8F0FE;\n",
              "      border: none;\n",
              "      border-radius: 50%;\n",
              "      cursor: pointer;\n",
              "      display: none;\n",
              "      fill: #1967D2;\n",
              "      height: 32px;\n",
              "      padding: 0 0 0 0;\n",
              "      width: 32px;\n",
              "    }\n",
              "\n",
              "    .colab-df-convert:hover {\n",
              "      background-color: #E2EBFA;\n",
              "      box-shadow: 0px 1px 2px rgba(60, 64, 67, 0.3), 0px 1px 3px 1px rgba(60, 64, 67, 0.15);\n",
              "      fill: #174EA6;\n",
              "    }\n",
              "\n",
              "    .colab-df-buttons div {\n",
              "      margin-bottom: 4px;\n",
              "    }\n",
              "\n",
              "    [theme=dark] .colab-df-convert {\n",
              "      background-color: #3B4455;\n",
              "      fill: #D2E3FC;\n",
              "    }\n",
              "\n",
              "    [theme=dark] .colab-df-convert:hover {\n",
              "      background-color: #434B5C;\n",
              "      box-shadow: 0px 1px 3px 1px rgba(0, 0, 0, 0.15);\n",
              "      filter: drop-shadow(0px 1px 2px rgba(0, 0, 0, 0.3));\n",
              "      fill: #FFFFFF;\n",
              "    }\n",
              "  </style>\n",
              "\n",
              "    <script>\n",
              "      const buttonEl =\n",
              "        document.querySelector('#df-793b7229-4e3e-4f7b-9511-e094800d10f7 button.colab-df-convert');\n",
              "      buttonEl.style.display =\n",
              "        google.colab.kernel.accessAllowed ? 'block' : 'none';\n",
              "\n",
              "      async function convertToInteractive(key) {\n",
              "        const element = document.querySelector('#df-793b7229-4e3e-4f7b-9511-e094800d10f7');\n",
              "        const dataTable =\n",
              "          await google.colab.kernel.invokeFunction('convertToInteractive',\n",
              "                                                    [key], {});\n",
              "        if (!dataTable) return;\n",
              "\n",
              "        const docLinkHtml = 'Like what you see? Visit the ' +\n",
              "          '<a target=\"_blank\" href=https://colab.research.google.com/notebooks/data_table.ipynb>data table notebook</a>'\n",
              "          + ' to learn more about interactive tables.';\n",
              "        element.innerHTML = '';\n",
              "        dataTable['output_type'] = 'display_data';\n",
              "        await google.colab.output.renderOutput(dataTable, element);\n",
              "        const docLink = document.createElement('div');\n",
              "        docLink.innerHTML = docLinkHtml;\n",
              "        element.appendChild(docLink);\n",
              "      }\n",
              "    </script>\n",
              "  </div>\n",
              "\n",
              "\n",
              "<div id=\"df-8d8d9c6f-2dca-403f-a7f1-a83edd845b27\">\n",
              "  <button class=\"colab-df-quickchart\" onclick=\"quickchart('df-8d8d9c6f-2dca-403f-a7f1-a83edd845b27')\"\n",
              "            title=\"Suggest charts\"\n",
              "            style=\"display:none;\">\n",
              "\n",
              "<svg xmlns=\"http://www.w3.org/2000/svg\" height=\"24px\"viewBox=\"0 0 24 24\"\n",
              "     width=\"24px\">\n",
              "    <g>\n",
              "        <path d=\"M19 3H5c-1.1 0-2 .9-2 2v14c0 1.1.9 2 2 2h14c1.1 0 2-.9 2-2V5c0-1.1-.9-2-2-2zM9 17H7v-7h2v7zm4 0h-2V7h2v10zm4 0h-2v-4h2v4z\"/>\n",
              "    </g>\n",
              "</svg>\n",
              "  </button>\n",
              "\n",
              "<style>\n",
              "  .colab-df-quickchart {\n",
              "      --bg-color: #E8F0FE;\n",
              "      --fill-color: #1967D2;\n",
              "      --hover-bg-color: #E2EBFA;\n",
              "      --hover-fill-color: #174EA6;\n",
              "      --disabled-fill-color: #AAA;\n",
              "      --disabled-bg-color: #DDD;\n",
              "  }\n",
              "\n",
              "  [theme=dark] .colab-df-quickchart {\n",
              "      --bg-color: #3B4455;\n",
              "      --fill-color: #D2E3FC;\n",
              "      --hover-bg-color: #434B5C;\n",
              "      --hover-fill-color: #FFFFFF;\n",
              "      --disabled-bg-color: #3B4455;\n",
              "      --disabled-fill-color: #666;\n",
              "  }\n",
              "\n",
              "  .colab-df-quickchart {\n",
              "    background-color: var(--bg-color);\n",
              "    border: none;\n",
              "    border-radius: 50%;\n",
              "    cursor: pointer;\n",
              "    display: none;\n",
              "    fill: var(--fill-color);\n",
              "    height: 32px;\n",
              "    padding: 0;\n",
              "    width: 32px;\n",
              "  }\n",
              "\n",
              "  .colab-df-quickchart:hover {\n",
              "    background-color: var(--hover-bg-color);\n",
              "    box-shadow: 0 1px 2px rgba(60, 64, 67, 0.3), 0 1px 3px 1px rgba(60, 64, 67, 0.15);\n",
              "    fill: var(--button-hover-fill-color);\n",
              "  }\n",
              "\n",
              "  .colab-df-quickchart-complete:disabled,\n",
              "  .colab-df-quickchart-complete:disabled:hover {\n",
              "    background-color: var(--disabled-bg-color);\n",
              "    fill: var(--disabled-fill-color);\n",
              "    box-shadow: none;\n",
              "  }\n",
              "\n",
              "  .colab-df-spinner {\n",
              "    border: 2px solid var(--fill-color);\n",
              "    border-color: transparent;\n",
              "    border-bottom-color: var(--fill-color);\n",
              "    animation:\n",
              "      spin 1s steps(1) infinite;\n",
              "  }\n",
              "\n",
              "  @keyframes spin {\n",
              "    0% {\n",
              "      border-color: transparent;\n",
              "      border-bottom-color: var(--fill-color);\n",
              "      border-left-color: var(--fill-color);\n",
              "    }\n",
              "    20% {\n",
              "      border-color: transparent;\n",
              "      border-left-color: var(--fill-color);\n",
              "      border-top-color: var(--fill-color);\n",
              "    }\n",
              "    30% {\n",
              "      border-color: transparent;\n",
              "      border-left-color: var(--fill-color);\n",
              "      border-top-color: var(--fill-color);\n",
              "      border-right-color: var(--fill-color);\n",
              "    }\n",
              "    40% {\n",
              "      border-color: transparent;\n",
              "      border-right-color: var(--fill-color);\n",
              "      border-top-color: var(--fill-color);\n",
              "    }\n",
              "    60% {\n",
              "      border-color: transparent;\n",
              "      border-right-color: var(--fill-color);\n",
              "    }\n",
              "    80% {\n",
              "      border-color: transparent;\n",
              "      border-right-color: var(--fill-color);\n",
              "      border-bottom-color: var(--fill-color);\n",
              "    }\n",
              "    90% {\n",
              "      border-color: transparent;\n",
              "      border-bottom-color: var(--fill-color);\n",
              "    }\n",
              "  }\n",
              "</style>\n",
              "\n",
              "  <script>\n",
              "    async function quickchart(key) {\n",
              "      const quickchartButtonEl =\n",
              "        document.querySelector('#' + key + ' button');\n",
              "      quickchartButtonEl.disabled = true;  // To prevent multiple clicks.\n",
              "      quickchartButtonEl.classList.add('colab-df-spinner');\n",
              "      try {\n",
              "        const charts = await google.colab.kernel.invokeFunction(\n",
              "            'suggestCharts', [key], {});\n",
              "      } catch (error) {\n",
              "        console.error('Error during call to suggestCharts:', error);\n",
              "      }\n",
              "      quickchartButtonEl.classList.remove('colab-df-spinner');\n",
              "      quickchartButtonEl.classList.add('colab-df-quickchart-complete');\n",
              "    }\n",
              "    (() => {\n",
              "      let quickchartButtonEl =\n",
              "        document.querySelector('#df-8d8d9c6f-2dca-403f-a7f1-a83edd845b27 button');\n",
              "      quickchartButtonEl.style.display =\n",
              "        google.colab.kernel.accessAllowed ? 'block' : 'none';\n",
              "    })();\n",
              "  </script>\n",
              "</div>\n",
              "    </div>\n",
              "  </div>\n"
            ],
            "application/vnd.google.colaboratory.intrinsic+json": {
              "type": "dataframe",
              "variable_name": "df_pop",
              "summary": "{\n  \"name\": \"df_pop\",\n  \"rows\": 50,\n  \"fields\": [\n    {\n      \"column\": \"song\",\n      \"properties\": {\n        \"dtype\": \"string\",\n        \"num_unique_values\": 50,\n        \"samples\": [\n          \"Dame_M\\u00e1s_(acoustic)\",\n          \"Dreams\",\n          \"Movement\"\n        ],\n        \"semantic_type\": \"\",\n        \"description\": \"\"\n      }\n    },\n    {\n      \"column\": \"artist\",\n      \"properties\": {\n        \"dtype\": \"string\",\n        \"num_unique_values\": 39,\n        \"samples\": [\n          \"EGOR_BUDENNYY\",\n          \"Bellevue\",\n          \"Square_a_Saw\"\n        ],\n        \"semantic_type\": \"\",\n        \"description\": \"\"\n      }\n    }\n  ]\n}"
            }
          },
          "metadata": {},
          "execution_count": 101
        }
      ]
    },
    {
      "cell_type": "code",
      "source": [
        "df_rock = pd.read_csv('/content/drive/MyDrive/rock_dataset.csv')\n",
        "df_rock.head(5)"
      ],
      "metadata": {
        "colab": {
          "base_uri": "https://localhost:8080/",
          "height": 206
        },
        "id": "yiwysFlMCNCx",
        "outputId": "666ab4bb-66c2-45ff-9ece-3fdec2ecf306"
      },
      "execution_count": 102,
      "outputs": [
        {
          "output_type": "execute_result",
          "data": {
            "text/plain": [
              "                song                  artist\n",
              "0              Scars       The_Morning_Light\n",
              "1  Swimming_Upstream          CrumbSnatchers\n",
              "2                Boy           The_Different\n",
              "3    Randall_Scandal                    Maze\n",
              "4          Graveyard  The_Liquid_Kitchen_(3)"
            ],
            "text/html": [
              "\n",
              "  <div id=\"df-fb3851bc-187c-4c89-92d1-d82128d878e7\" class=\"colab-df-container\">\n",
              "    <div>\n",
              "<style scoped>\n",
              "    .dataframe tbody tr th:only-of-type {\n",
              "        vertical-align: middle;\n",
              "    }\n",
              "\n",
              "    .dataframe tbody tr th {\n",
              "        vertical-align: top;\n",
              "    }\n",
              "\n",
              "    .dataframe thead th {\n",
              "        text-align: right;\n",
              "    }\n",
              "</style>\n",
              "<table border=\"1\" class=\"dataframe\">\n",
              "  <thead>\n",
              "    <tr style=\"text-align: right;\">\n",
              "      <th></th>\n",
              "      <th>song</th>\n",
              "      <th>artist</th>\n",
              "    </tr>\n",
              "  </thead>\n",
              "  <tbody>\n",
              "    <tr>\n",
              "      <th>0</th>\n",
              "      <td>Scars</td>\n",
              "      <td>The_Morning_Light</td>\n",
              "    </tr>\n",
              "    <tr>\n",
              "      <th>1</th>\n",
              "      <td>Swimming_Upstream</td>\n",
              "      <td>CrumbSnatchers</td>\n",
              "    </tr>\n",
              "    <tr>\n",
              "      <th>2</th>\n",
              "      <td>Boy</td>\n",
              "      <td>The_Different</td>\n",
              "    </tr>\n",
              "    <tr>\n",
              "      <th>3</th>\n",
              "      <td>Randall_Scandal</td>\n",
              "      <td>Maze</td>\n",
              "    </tr>\n",
              "    <tr>\n",
              "      <th>4</th>\n",
              "      <td>Graveyard</td>\n",
              "      <td>The_Liquid_Kitchen_(3)</td>\n",
              "    </tr>\n",
              "  </tbody>\n",
              "</table>\n",
              "</div>\n",
              "    <div class=\"colab-df-buttons\">\n",
              "\n",
              "  <div class=\"colab-df-container\">\n",
              "    <button class=\"colab-df-convert\" onclick=\"convertToInteractive('df-fb3851bc-187c-4c89-92d1-d82128d878e7')\"\n",
              "            title=\"Convert this dataframe to an interactive table.\"\n",
              "            style=\"display:none;\">\n",
              "\n",
              "  <svg xmlns=\"http://www.w3.org/2000/svg\" height=\"24px\" viewBox=\"0 -960 960 960\">\n",
              "    <path d=\"M120-120v-720h720v720H120Zm60-500h600v-160H180v160Zm220 220h160v-160H400v160Zm0 220h160v-160H400v160ZM180-400h160v-160H180v160Zm440 0h160v-160H620v160ZM180-180h160v-160H180v160Zm440 0h160v-160H620v160Z\"/>\n",
              "  </svg>\n",
              "    </button>\n",
              "\n",
              "  <style>\n",
              "    .colab-df-container {\n",
              "      display:flex;\n",
              "      gap: 12px;\n",
              "    }\n",
              "\n",
              "    .colab-df-convert {\n",
              "      background-color: #E8F0FE;\n",
              "      border: none;\n",
              "      border-radius: 50%;\n",
              "      cursor: pointer;\n",
              "      display: none;\n",
              "      fill: #1967D2;\n",
              "      height: 32px;\n",
              "      padding: 0 0 0 0;\n",
              "      width: 32px;\n",
              "    }\n",
              "\n",
              "    .colab-df-convert:hover {\n",
              "      background-color: #E2EBFA;\n",
              "      box-shadow: 0px 1px 2px rgba(60, 64, 67, 0.3), 0px 1px 3px 1px rgba(60, 64, 67, 0.15);\n",
              "      fill: #174EA6;\n",
              "    }\n",
              "\n",
              "    .colab-df-buttons div {\n",
              "      margin-bottom: 4px;\n",
              "    }\n",
              "\n",
              "    [theme=dark] .colab-df-convert {\n",
              "      background-color: #3B4455;\n",
              "      fill: #D2E3FC;\n",
              "    }\n",
              "\n",
              "    [theme=dark] .colab-df-convert:hover {\n",
              "      background-color: #434B5C;\n",
              "      box-shadow: 0px 1px 3px 1px rgba(0, 0, 0, 0.15);\n",
              "      filter: drop-shadow(0px 1px 2px rgba(0, 0, 0, 0.3));\n",
              "      fill: #FFFFFF;\n",
              "    }\n",
              "  </style>\n",
              "\n",
              "    <script>\n",
              "      const buttonEl =\n",
              "        document.querySelector('#df-fb3851bc-187c-4c89-92d1-d82128d878e7 button.colab-df-convert');\n",
              "      buttonEl.style.display =\n",
              "        google.colab.kernel.accessAllowed ? 'block' : 'none';\n",
              "\n",
              "      async function convertToInteractive(key) {\n",
              "        const element = document.querySelector('#df-fb3851bc-187c-4c89-92d1-d82128d878e7');\n",
              "        const dataTable =\n",
              "          await google.colab.kernel.invokeFunction('convertToInteractive',\n",
              "                                                    [key], {});\n",
              "        if (!dataTable) return;\n",
              "\n",
              "        const docLinkHtml = 'Like what you see? Visit the ' +\n",
              "          '<a target=\"_blank\" href=https://colab.research.google.com/notebooks/data_table.ipynb>data table notebook</a>'\n",
              "          + ' to learn more about interactive tables.';\n",
              "        element.innerHTML = '';\n",
              "        dataTable['output_type'] = 'display_data';\n",
              "        await google.colab.output.renderOutput(dataTable, element);\n",
              "        const docLink = document.createElement('div');\n",
              "        docLink.innerHTML = docLinkHtml;\n",
              "        element.appendChild(docLink);\n",
              "      }\n",
              "    </script>\n",
              "  </div>\n",
              "\n",
              "\n",
              "<div id=\"df-6183ab28-9945-4ee0-800e-16f9b4379191\">\n",
              "  <button class=\"colab-df-quickchart\" onclick=\"quickchart('df-6183ab28-9945-4ee0-800e-16f9b4379191')\"\n",
              "            title=\"Suggest charts\"\n",
              "            style=\"display:none;\">\n",
              "\n",
              "<svg xmlns=\"http://www.w3.org/2000/svg\" height=\"24px\"viewBox=\"0 0 24 24\"\n",
              "     width=\"24px\">\n",
              "    <g>\n",
              "        <path d=\"M19 3H5c-1.1 0-2 .9-2 2v14c0 1.1.9 2 2 2h14c1.1 0 2-.9 2-2V5c0-1.1-.9-2-2-2zM9 17H7v-7h2v7zm4 0h-2V7h2v10zm4 0h-2v-4h2v4z\"/>\n",
              "    </g>\n",
              "</svg>\n",
              "  </button>\n",
              "\n",
              "<style>\n",
              "  .colab-df-quickchart {\n",
              "      --bg-color: #E8F0FE;\n",
              "      --fill-color: #1967D2;\n",
              "      --hover-bg-color: #E2EBFA;\n",
              "      --hover-fill-color: #174EA6;\n",
              "      --disabled-fill-color: #AAA;\n",
              "      --disabled-bg-color: #DDD;\n",
              "  }\n",
              "\n",
              "  [theme=dark] .colab-df-quickchart {\n",
              "      --bg-color: #3B4455;\n",
              "      --fill-color: #D2E3FC;\n",
              "      --hover-bg-color: #434B5C;\n",
              "      --hover-fill-color: #FFFFFF;\n",
              "      --disabled-bg-color: #3B4455;\n",
              "      --disabled-fill-color: #666;\n",
              "  }\n",
              "\n",
              "  .colab-df-quickchart {\n",
              "    background-color: var(--bg-color);\n",
              "    border: none;\n",
              "    border-radius: 50%;\n",
              "    cursor: pointer;\n",
              "    display: none;\n",
              "    fill: var(--fill-color);\n",
              "    height: 32px;\n",
              "    padding: 0;\n",
              "    width: 32px;\n",
              "  }\n",
              "\n",
              "  .colab-df-quickchart:hover {\n",
              "    background-color: var(--hover-bg-color);\n",
              "    box-shadow: 0 1px 2px rgba(60, 64, 67, 0.3), 0 1px 3px 1px rgba(60, 64, 67, 0.15);\n",
              "    fill: var(--button-hover-fill-color);\n",
              "  }\n",
              "\n",
              "  .colab-df-quickchart-complete:disabled,\n",
              "  .colab-df-quickchart-complete:disabled:hover {\n",
              "    background-color: var(--disabled-bg-color);\n",
              "    fill: var(--disabled-fill-color);\n",
              "    box-shadow: none;\n",
              "  }\n",
              "\n",
              "  .colab-df-spinner {\n",
              "    border: 2px solid var(--fill-color);\n",
              "    border-color: transparent;\n",
              "    border-bottom-color: var(--fill-color);\n",
              "    animation:\n",
              "      spin 1s steps(1) infinite;\n",
              "  }\n",
              "\n",
              "  @keyframes spin {\n",
              "    0% {\n",
              "      border-color: transparent;\n",
              "      border-bottom-color: var(--fill-color);\n",
              "      border-left-color: var(--fill-color);\n",
              "    }\n",
              "    20% {\n",
              "      border-color: transparent;\n",
              "      border-left-color: var(--fill-color);\n",
              "      border-top-color: var(--fill-color);\n",
              "    }\n",
              "    30% {\n",
              "      border-color: transparent;\n",
              "      border-left-color: var(--fill-color);\n",
              "      border-top-color: var(--fill-color);\n",
              "      border-right-color: var(--fill-color);\n",
              "    }\n",
              "    40% {\n",
              "      border-color: transparent;\n",
              "      border-right-color: var(--fill-color);\n",
              "      border-top-color: var(--fill-color);\n",
              "    }\n",
              "    60% {\n",
              "      border-color: transparent;\n",
              "      border-right-color: var(--fill-color);\n",
              "    }\n",
              "    80% {\n",
              "      border-color: transparent;\n",
              "      border-right-color: var(--fill-color);\n",
              "      border-bottom-color: var(--fill-color);\n",
              "    }\n",
              "    90% {\n",
              "      border-color: transparent;\n",
              "      border-bottom-color: var(--fill-color);\n",
              "    }\n",
              "  }\n",
              "</style>\n",
              "\n",
              "  <script>\n",
              "    async function quickchart(key) {\n",
              "      const quickchartButtonEl =\n",
              "        document.querySelector('#' + key + ' button');\n",
              "      quickchartButtonEl.disabled = true;  // To prevent multiple clicks.\n",
              "      quickchartButtonEl.classList.add('colab-df-spinner');\n",
              "      try {\n",
              "        const charts = await google.colab.kernel.invokeFunction(\n",
              "            'suggestCharts', [key], {});\n",
              "      } catch (error) {\n",
              "        console.error('Error during call to suggestCharts:', error);\n",
              "      }\n",
              "      quickchartButtonEl.classList.remove('colab-df-spinner');\n",
              "      quickchartButtonEl.classList.add('colab-df-quickchart-complete');\n",
              "    }\n",
              "    (() => {\n",
              "      let quickchartButtonEl =\n",
              "        document.querySelector('#df-6183ab28-9945-4ee0-800e-16f9b4379191 button');\n",
              "      quickchartButtonEl.style.display =\n",
              "        google.colab.kernel.accessAllowed ? 'block' : 'none';\n",
              "    })();\n",
              "  </script>\n",
              "</div>\n",
              "    </div>\n",
              "  </div>\n"
            ],
            "application/vnd.google.colaboratory.intrinsic+json": {
              "type": "dataframe",
              "variable_name": "df_rock",
              "summary": "{\n  \"name\": \"df_rock\",\n  \"rows\": 52,\n  \"fields\": [\n    {\n      \"column\": \"song\",\n      \"properties\": {\n        \"dtype\": \"string\",\n        \"num_unique_values\": 52,\n        \"samples\": [\n          \"Thanks_for_Nothing\",\n          \"ON_SALE\",\n          \"Peyote\"\n        ],\n        \"semantic_type\": \"\",\n        \"description\": \"\"\n      }\n    },\n    {\n      \"column\": \"artist\",\n      \"properties\": {\n        \"dtype\": \"string\",\n        \"num_unique_values\": 43,\n        \"samples\": [\n          \"Kismet_\",\n          \"Nick_Miller\",\n          \"Falling_Blind\"\n        ],\n        \"semantic_type\": \"\",\n        \"description\": \"\"\n      }\n    }\n  ]\n}"
            }
          },
          "metadata": {},
          "execution_count": 102
        }
      ]
    },
    {
      "cell_type": "code",
      "source": [
        "# Массив меток для распределения артистов по жанрам\n",
        "artist_labels = []\n",
        "\n",
        "for artist in labels:\n",
        "    if artist in df_pop['artist'].values:\n",
        "        artist_labels.append(0)\n",
        "    elif artist in df_rock['artist'].values:\n",
        "        artist_labels.append(1)\n",
        "    else:\n",
        "        artist_labels.append(-1)  # Если не найдено в обоих датасетах\n",
        "\n",
        "print(artist_labels)"
      ],
      "metadata": {
        "colab": {
          "base_uri": "https://localhost:8080/"
        },
        "id": "fxuNRKiTBQsJ",
        "outputId": "f9ab6a37-0787-4c00-897e-9758cf418fb9"
      },
      "execution_count": 103,
      "outputs": [
        {
          "output_type": "stream",
          "name": "stdout",
          "text": [
            "[0, 0, -1, 0, 0, 0, 0, 0, 0, 0, 0, 0, 0, 0, 0, 0, 0, 0, 0, 0, 0, 0, 0, 0, 0, 0, 0, 0, 0, 0, 0, 0, 0, 0, 0, 0, 0, 0, 0, 0, 0, 0, 0, 0, 0, 0, 0, 0, 0, 0, 0, 1, 1, 1, 1, 1, 1, 1, 1, 1, 1, 1, 1, 1, 1, 1, 1, 1, 1, 1, 1, 1, 1, 1, 1, 1, 1, 1, 1, 1, 1, 1, 1, 1, 1, 1, 1, 1, 1, 1, 1, 1, 1, 1, 1, 1, 1, 1, 1, 1, 1, 1]\n"
          ]
        }
      ]
    },
    {
      "cell_type": "code",
      "source": [
        "mel_transform = torchaudio.transforms.MFCC()"
      ],
      "metadata": {
        "colab": {
          "base_uri": "https://localhost:8080/"
        },
        "id": "9be35Eq7F-r1",
        "outputId": "21b2e606-977e-4298-c41f-246ea59ef240"
      },
      "execution_count": 32,
      "outputs": [
        {
          "output_type": "stream",
          "name": "stderr",
          "text": [
            "/usr/local/lib/python3.10/dist-packages/torchaudio/functional/functional.py:584: UserWarning: At least one mel filterbank has all zero values. The value for `n_mels` (128) may be set too high. Or, the value for `n_freqs` (201) may be set too low.\n",
            "  warnings.warn(\n"
          ]
        }
      ]
    },
    {
      "cell_type": "code",
      "source": [
        "def extract_mfcc(audio: torch.Tensor) -> torch.Tensor:\n",
        "    mfcc = mel_transform(audio)\n",
        "    mfcc = mfcc.mean(dim=1)\n",
        "    return mfcc"
      ],
      "metadata": {
        "id": "vqXcMwCbz-zo"
      },
      "execution_count": 33,
      "outputs": []
    },
    {
      "cell_type": "code",
      "source": [
        "mfcc = [extract_mfcc(audio) for audio in audios]\n",
        "print([t.size() for t in mfcc])"
      ],
      "metadata": {
        "colab": {
          "base_uri": "https://localhost:8080/"
        },
        "id": "zYkLM-SfGQd-",
        "outputId": "a930ef1e-e2e1-4ea7-da94-d55993763601"
      },
      "execution_count": 34,
      "outputs": [
        {
          "output_type": "stream",
          "name": "stdout",
          "text": [
            "[torch.Size([40]), torch.Size([40]), torch.Size([40]), torch.Size([40]), torch.Size([40]), torch.Size([40]), torch.Size([40]), torch.Size([40]), torch.Size([40]), torch.Size([40]), torch.Size([40]), torch.Size([40]), torch.Size([40]), torch.Size([40]), torch.Size([40]), torch.Size([40]), torch.Size([40]), torch.Size([40]), torch.Size([40]), torch.Size([40]), torch.Size([40]), torch.Size([40]), torch.Size([40]), torch.Size([40]), torch.Size([40]), torch.Size([40]), torch.Size([40]), torch.Size([40]), torch.Size([40]), torch.Size([40]), torch.Size([40]), torch.Size([40]), torch.Size([40]), torch.Size([40]), torch.Size([40]), torch.Size([40]), torch.Size([40]), torch.Size([40]), torch.Size([40]), torch.Size([40]), torch.Size([40]), torch.Size([40]), torch.Size([40]), torch.Size([40]), torch.Size([40]), torch.Size([40]), torch.Size([40]), torch.Size([40]), torch.Size([40]), torch.Size([40]), torch.Size([40]), torch.Size([40]), torch.Size([40]), torch.Size([40]), torch.Size([40]), torch.Size([40]), torch.Size([40]), torch.Size([40]), torch.Size([40]), torch.Size([40]), torch.Size([40]), torch.Size([40]), torch.Size([40]), torch.Size([40]), torch.Size([40]), torch.Size([40]), torch.Size([40]), torch.Size([40]), torch.Size([40]), torch.Size([40]), torch.Size([40]), torch.Size([40]), torch.Size([40]), torch.Size([40]), torch.Size([40]), torch.Size([40]), torch.Size([40]), torch.Size([40]), torch.Size([40]), torch.Size([40]), torch.Size([40]), torch.Size([40]), torch.Size([40]), torch.Size([40]), torch.Size([40]), torch.Size([40]), torch.Size([40]), torch.Size([40]), torch.Size([40]), torch.Size([40]), torch.Size([40]), torch.Size([40]), torch.Size([40]), torch.Size([40]), torch.Size([40]), torch.Size([40]), torch.Size([40]), torch.Size([40]), torch.Size([40]), torch.Size([40]), torch.Size([40]), torch.Size([40])]\n"
          ]
        }
      ]
    },
    {
      "cell_type": "code",
      "source": [
        "print(mfcc)"
      ],
      "metadata": {
        "colab": {
          "base_uri": "https://localhost:8080/"
        },
        "id": "eYBlHo_OJIp4",
        "outputId": "af2217eb-a04e-458d-ccf3-37213451a267"
      },
      "execution_count": 35,
      "outputs": [
        {
          "output_type": "stream",
          "name": "stdout",
          "text": [
            "[tensor([-108.2913,   49.5634,    6.5867,   -2.2822,  -15.0913,  -16.9882,\n",
            "         -16.9204,   -8.3872,   -7.5990,   -2.9017,   -2.6610,    1.5988,\n",
            "          -8.2738,   -3.1945,   -8.8956,   -2.5323,   -7.8395,   -5.8930,\n",
            "         -10.9848,   -4.0830,   -7.6019,   -1.2969,   -2.5207,    3.4960,\n",
            "           1.7545,    5.2709,    3.7981,    9.7894,    3.2598,    6.2741,\n",
            "           1.1661,    2.4266,   -5.6150,   -1.4368,   -7.0914,   -6.0522,\n",
            "         -12.2938,   -9.3101,  -12.3310,   -6.9381]), tensor([-121.0478,   74.1888,  -21.6466,   -9.4654,  -21.9804,  -13.5720,\n",
            "         -14.4308,   -5.4605,   -9.8770,   -2.9259,   -2.3179,    1.0340,\n",
            "          -6.6118,   -2.0979,   -8.3919,   -4.2026,  -10.1926,   -4.1213,\n",
            "         -10.6287,   -4.0864,   -7.6053,   -2.4576,   -6.3705,    0.8387,\n",
            "          -0.3814,    3.0429,    1.1227,    8.3010,    1.9892,    6.4939,\n",
            "           1.1472,    1.7716,   -4.7720,   -2.2520,   -6.4079,   -6.0621,\n",
            "         -12.9777,   -9.0698,  -11.0458,   -7.1296]), tensor([-30.7952,  29.1278,   9.1396,   1.8332, -10.5363, -11.5773,  -7.3162,\n",
            "         -7.2546,  -7.3074,  -4.2724,  -7.8560,   2.8988,  -7.0228,  -2.1131,\n",
            "         -6.7581,  -1.4731,  -7.9810,  -2.6133,  -6.2309,  -3.0688,  -6.7345,\n",
            "          1.3743,  -5.0837,   0.7875,  -3.7753,   2.7506,  -0.7403,   5.1511,\n",
            "          1.9216,   7.0146,  -0.8069,   3.9173,  -3.6817,  -0.5617,  -6.6209,\n",
            "         -5.3556, -14.1716, -10.7991, -15.1928, -10.2375]), tensor([-183.1704,  137.9020,  -17.6980,  -29.7441,   -8.4088,  -22.9090,\n",
            "         -23.2399,   -4.6712,  -22.9734,    2.7676,  -12.0021,   -5.8776,\n",
            "          -4.9697,    0.9886,   -5.7116,   -7.8665,   -5.2071,   -7.4176,\n",
            "         -10.9641,   -1.6440,   -7.4783,    0.2981,   -3.3789,    4.0510,\n",
            "           1.3206,    2.3436,    2.6186,    9.7281,    4.4427,    4.2457,\n",
            "           0.2830,    0.9630,   -1.9529,   -0.9023,   -9.1902,   -8.1406,\n",
            "         -14.2099,  -11.5622,  -10.7244,   -7.9261]), tensor([-7.5443e+01,  6.4646e+01, -1.1154e+01, -4.2024e+00, -1.4370e+01,\n",
            "        -2.6767e+01, -1.2310e+01, -8.5282e+00, -1.1478e+01,  2.0498e+00,\n",
            "        -1.1751e+01, -1.6654e+00, -7.4339e+00, -7.0467e-02, -5.7605e+00,\n",
            "         2.0491e+00, -5.2895e+00, -6.7087e-01, -9.1114e+00, -4.1619e+00,\n",
            "        -8.4073e+00, -2.8106e+00, -1.0496e+01, -5.0797e-01,  2.8225e-01,\n",
            "         3.0619e+00, -1.2949e+00,  6.5594e+00,  4.8182e+00,  1.0046e+01,\n",
            "         4.3659e+00,  5.9677e+00, -6.3559e+00, -5.4019e+00, -9.4615e+00,\n",
            "        -4.8771e+00, -8.4241e+00, -9.1386e+00, -1.6263e+01, -1.0686e+01]), tensor([-84.7154,  65.4003, -13.7257,  -3.3453,  -1.7499, -16.3595, -17.6857,\n",
            "         -4.9029, -18.2533,  -1.6002, -14.0223,  -8.9615, -13.8865,  -5.6779,\n",
            "        -10.7136,  -6.5730, -12.6538, -10.3682, -14.6518,  -3.8990, -12.3802,\n",
            "         -4.0582,  -3.3334,   3.9074,   0.3302,   7.4281,   4.9421,  11.3690,\n",
            "          2.7615,   8.1814,   0.4380,   1.7909,  -4.1476,  -1.9230,  -7.4074,\n",
            "         -4.6772,  -9.5368,  -7.8706, -12.9625, -10.1597]), tensor([-8.0184e+01,  6.0352e+01, -3.4612e+00, -1.5674e+01, -1.5519e+01,\n",
            "        -5.1023e+00, -1.8451e+01,  2.5174e+00, -1.2684e+01, -5.4693e+00,\n",
            "        -4.4654e+00, -1.2796e+00, -6.8314e+00, -1.7010e-01, -6.3962e+00,\n",
            "        -4.8558e-01, -9.8259e+00, -4.1507e+00, -1.0150e+01, -5.1254e+00,\n",
            "        -9.2822e+00, -1.9094e+00, -5.0295e-02,  1.3549e+00, -9.6853e-02,\n",
            "         6.4008e+00,  8.0298e-01,  5.9624e+00,  2.3576e+00,  4.5185e+00,\n",
            "        -2.4302e+00,  8.9781e-01, -2.8274e+00,  6.3938e-01, -7.2125e+00,\n",
            "        -7.8316e+00, -1.3349e+01, -7.9902e+00, -1.2366e+01, -9.2017e+00]), tensor([-92.4632,  50.9172, -38.6286, -26.5126, -29.2905, -11.4509, -21.4738,\n",
            "         -0.9504,  -7.8823,  -1.6761,  -3.4933,   1.2649,  -4.3237,  -1.2097,\n",
            "         -6.4513,  -1.6712,  -8.8447,  -5.7063, -13.0695,  -4.9309,  -8.6636,\n",
            "          1.1513,  -3.4318,   5.2623,   3.3098,   7.0006,   2.7009,   5.0132,\n",
            "          0.5597,   5.6320,  -0.9138,   2.1507,  -3.5715,   0.1176,  -7.6714,\n",
            "         -6.2262, -10.8277,  -6.6090,  -9.3142,  -5.0269]), tensor([-50.4264,  43.4002, -10.9900,   2.1378, -14.4086,  -6.3569, -13.6994,\n",
            "         -2.8943,  -9.3944,  -0.3409,  -7.2444,  -0.4796,  -6.2472,   0.1122,\n",
            "         -8.2437,  -1.2430, -10.6820,  -2.4053,  -9.1339,  -3.8132,  -8.4679,\n",
            "         -2.8897,  -5.2388,   1.8006,   0.2955,   3.8951,  -0.3045,   8.1270,\n",
            "          2.7625,   8.6295,   1.4325,   2.5521,  -4.8605,  -3.1334,  -9.0881,\n",
            "         -5.4573,  -9.8716,  -8.7996, -13.4506, -10.5690]), tensor([-70.0410,  49.7432, -31.0351,  -1.5668, -11.4053,  -4.8710, -11.4776,\n",
            "          1.9935,  -9.6733,   2.2637,  -3.6120,   0.9255,  -2.2424,   2.6104,\n",
            "         -4.2702,  -2.5497,  -7.4452,  -5.3772,  -9.2589,  -3.4874, -10.5187,\n",
            "         -2.4554,  -3.5648,   1.7392,   0.2213,   5.1481,   1.1557,   4.9256,\n",
            "          0.3845,   7.1483,   0.6662,   1.8888,  -5.4259,  -1.3872,  -7.8313,\n",
            "         -8.6265, -14.3617,  -9.1946, -10.3919,  -5.7608]), tensor([-84.6018,  46.9525, -13.6709,  -8.7194, -16.1746, -16.8580, -13.9840,\n",
            "        -10.5002, -15.2081,  -0.7101,  -9.3812,  -4.6187,  -8.8701,  -2.7913,\n",
            "         -7.7463,  -5.8817,  -6.9528,  -1.9699,  -7.9941,  -0.6505,  -5.5582,\n",
            "          0.4511,  -5.0611,   4.4919,   0.5453,   4.5675,   1.6984,   6.1966,\n",
            "          2.7134,   5.7420,   0.4152,   0.8637,  -3.7109,  -0.6240,  -5.1403,\n",
            "         -4.0653, -12.3294, -11.4342, -14.5101,  -7.9144]), tensor([-161.9185,   77.4863,  -10.6056,   -1.2539,  -13.2062,  -13.3843,\n",
            "         -21.3518,   -7.8129,  -11.9631,   -6.6972,   -4.0594,    1.5262,\n",
            "         -10.1070,   -2.8176,   -5.5787,   -1.3157,   -7.4470,  -10.9801,\n",
            "         -12.0124,   -4.1065,   -5.2533,   -1.7263,   -2.0898,    6.9523,\n",
            "          -0.6287,    2.5553,    1.5459,    6.2423,    1.2394,    7.6678,\n",
            "           5.2881,   -0.8899,   -5.7408,   -0.5587,   -5.4754,   -3.3427,\n",
            "         -12.1709,  -12.4191,  -12.5445,   -5.4915]), tensor([-44.1514,  49.1834, -11.2860, -13.1481, -13.7798,  -3.6740, -10.9362,\n",
            "         -3.8579,  -9.9540,   0.4816,  -8.8828,   1.7573,  -6.6145,  -2.7347,\n",
            "         -8.9768,  -4.1409, -10.1554,  -4.6016,  -9.5783,  -2.9901,  -6.7545,\n",
            "         -2.5694,  -6.8271,  -0.3209,  -2.4956,   3.4228,   2.3771,   6.7242,\n",
            "          3.9938,   7.4019,   0.7041,   2.3633,  -2.6028,  -1.3458,  -7.8435,\n",
            "         -6.2947, -11.3912,  -8.1084, -12.5147,  -9.9743]), tensor([-85.8756,  40.7330,   0.3384,   2.7542,  -6.4092,   1.2761, -19.0903,\n",
            "         -6.0329, -10.6434,  -1.4367,  -5.0978,   1.4692,  -6.6169,   0.6310,\n",
            "         -8.2289,  -4.7696,  -6.5643,  -7.6413, -11.1197,  -5.5177,  -8.3698,\n",
            "         -1.5956,  -3.1961,   4.3000,   1.2222,   5.7466,   2.7141,   7.0975,\n",
            "          1.2091,   4.2259,  -2.8296,   0.5065,  -4.6020,  -1.4243,  -6.4716,\n",
            "         -5.9816, -11.8151,  -9.9996, -12.8378,  -7.9596]), tensor([-26.7640,  29.8392, -17.5990,  -5.4133, -14.4613, -12.3281,  -9.3357,\n",
            "         -4.1074,  -7.2175,   3.1688,  -6.3669,  -0.2204,  -2.6465,  -1.1394,\n",
            "         -3.8144,   3.6057,  -7.7191,   0.2738,  -5.1649,  -3.2207,  -7.5885,\n",
            "         -1.8182,  -9.2828,  -3.4972,  -4.6195,   3.4016,   1.1888,   7.5612,\n",
            "          2.7064,   6.0689,   0.4617,   1.7764,  -5.3287,  -3.4109,  -9.1484,\n",
            "         -5.8897, -11.7676,  -9.9212, -14.7144,  -8.3001]), tensor([-94.4955,  48.8369,  -8.6454,  -9.4504, -12.9269,  -3.2952, -18.7614,\n",
            "         -3.4126, -13.5259,   2.6071,  -7.7028,   0.5171,  -6.7383,  -1.5049,\n",
            "         -7.5107,  -3.1103,  -7.8858,  -3.9635,  -8.6515,  -1.3879,  -6.6607,\n",
            "         -1.5172,  -4.6127,   2.8026,  -2.4159,   3.2804,   0.5983,   6.9886,\n",
            "          2.7456,   6.7602,   1.8387,   4.0190,  -4.4260,  -1.7927,  -7.2870,\n",
            "         -5.3818, -11.1762,  -7.2387, -12.4474,  -9.1157]), tensor([-19.8489,  34.0215, -15.4053,  -7.2763, -14.8552, -15.8613, -10.9175,\n",
            "         -0.8171,  -6.8001,  -2.3686,  -8.4839,  -2.5108, -11.8391,  -0.3500,\n",
            "         -9.4186,  -2.1842, -10.0223,   0.2318,  -9.5720,  -6.2762,  -8.1643,\n",
            "         -0.0764,  -4.0513,   2.6313,  -1.4429,   4.5238,   3.3453,   8.6642,\n",
            "          0.7792,   6.2765,   1.6442,   1.5535,  -7.5822,  -1.5205,  -5.6630,\n",
            "         -4.9641, -12.9642,  -9.4383, -13.9203, -10.0269]), tensor([-105.3199,   67.2906,   -9.0355,  -14.1550,  -19.6634,  -19.3912,\n",
            "          -8.6812,   -5.0461,  -10.1367,    0.9270,   -9.2639,    0.5257,\n",
            "          -7.1812,   -2.7997,   -0.2266,    1.1232,   -4.3635,   -1.6621,\n",
            "          -9.3432,   -6.0844,  -11.5795,   -2.6046,   -2.9341,   -0.3722,\n",
            "          -0.1291,    7.1568,   -0.7950,    5.3879,    2.1568,    5.8729,\n",
            "           1.9010,    3.5642,   -3.5024,   -2.6927,   -9.0640,   -6.3934,\n",
            "         -10.4106,   -9.4506,  -14.3763,   -8.4069]), tensor([-141.1164,   86.5083,   -8.3956,   -9.2577,   -5.7947,  -14.3255,\n",
            "         -18.6392,    2.9738,  -13.7984,   -5.3062,  -11.4069,   -8.1948,\n",
            "         -12.2383,   -6.5465,   -4.0612,   -5.7718,  -10.2085,   -5.3422,\n",
            "         -11.0482,   -6.3226,   -8.5806,    2.9318,   -2.3601,   -0.5826,\n",
            "          -1.4415,    3.2467,    1.2524,    7.8064,    6.2348,    8.3736,\n",
            "           1.2603,    2.5514,   -3.6000,   -0.7939,   -7.9557,   -8.2458,\n",
            "         -12.1897,   -8.5633,  -11.3969,   -7.9772]), tensor([-81.4462,  69.6138,  11.2890,  -7.0333, -14.5480,  -2.7860, -17.3108,\n",
            "         -7.6039,  -7.1897,  -4.7888,  -7.3696,   1.7315,  -6.2548,  -2.8978,\n",
            "        -13.9095,  -4.8750,  -9.3903,  -2.7280,  -8.8982,  -0.5352,  -6.8816,\n",
            "         -2.0712,  -3.6789,   4.1478,  -0.1207,   3.7968,  -1.2612,   6.7025,\n",
            "          2.4246,   7.7323,   1.1740,   4.3316,  -3.4233,  -1.9248,  -7.0519,\n",
            "         -5.1793, -12.2660,  -9.7237, -12.9235,  -9.8532]), tensor([ -9.4054,  33.6975, -16.4812, -12.8679, -21.1340, -15.4338, -18.3342,\n",
            "         -6.0374, -11.3999,  -5.8518,  -8.0454,   2.4913, -10.4260,  -3.0665,\n",
            "        -11.2283,  -2.3471, -11.3373,  -3.7937,  -9.9937,  -4.7750,  -8.1946,\n",
            "          2.1511,  -5.3120,   1.0737,   1.5097,   8.6780,   2.2872,   6.8508,\n",
            "          2.2857,   7.3777,   1.2166,   3.5650,  -4.1557,  -0.3349,  -8.0712,\n",
            "         -6.8647, -13.6320, -11.1921, -15.2443, -10.1490]), tensor([-16.4829,  23.5709, -15.6868, -10.0593, -10.7456,  -6.8073, -12.6178,\n",
            "         -1.8152,  -7.8883,   1.1841,  -6.3487,  -1.3662,  -7.5016,  -2.4303,\n",
            "         -7.9341,  -1.3795,  -9.0176,  -4.4278, -10.2044,  -3.5275,  -8.2024,\n",
            "         -0.4721,  -4.3538,   2.8760,  -0.3000,   4.9099,   0.4457,   7.3421,\n",
            "          2.2321,   5.7404,   0.5131,   3.2555,  -4.4516,  -2.0269,  -9.7883,\n",
            "         -7.2095, -12.3133,  -9.7256, -13.4472,  -9.4141]), tensor([-93.7240,  71.3696, -16.5685,   7.7392, -23.0572, -15.2489, -21.3253,\n",
            "         -2.3997, -15.7865,   0.8772,  -6.6487,  -2.0222,  -8.2248,  -4.0290,\n",
            "        -11.5539,  -2.1473,  -8.8031,  -4.4229,  -8.1824,  -0.5317,  -7.2536,\n",
            "         -0.2633,  -2.3600,   1.0287,  -3.7515,   2.8286,   2.2145,   5.9403,\n",
            "          4.4485,   6.5572,   0.8822,   3.0850,  -4.5018,  -0.8699,  -8.0101,\n",
            "         -7.1577, -12.4563, -11.8869, -14.5970, -12.9665]), tensor([-64.9743,  61.4178, -14.7462,   0.2395, -11.2664,  -6.7409, -14.9950,\n",
            "         -5.1242,  -7.1123,   1.2500,  -5.3690,  -0.2239,  -4.2554,   1.9081,\n",
            "         -9.2558,  -3.2960,  -4.5397,  -5.0781,  -9.5079,  -2.5923,  -4.7200,\n",
            "         -1.9342,  -6.4196,   0.7197,  -1.7124,   4.5200,   0.7846,   5.9434,\n",
            "          1.1018,   6.1264,   0.6240,   3.1582,  -4.3873,  -1.4013,  -7.0651,\n",
            "         -5.6974, -12.2261, -10.1491, -15.2694,  -9.2907]), tensor([-61.6855,  58.5216, -39.5271,   6.0172, -18.8170,  -6.2515,  -5.9389,\n",
            "          2.2112,  -3.5968,   0.4045,  -2.5908,   3.7185, -10.3871,   3.9910,\n",
            "         -7.2258,   0.8378, -11.4924,  -5.5438,  -9.4710,  -6.1895,  -6.7098,\n",
            "         -2.3834,  -1.8601,   2.2902,  -2.9279,   6.2731,   0.3973,   7.0547,\n",
            "          2.0437,   7.1259,  -0.6130,  -0.7652,  -5.6183,  -2.2258,  -6.9173,\n",
            "         -6.6699, -14.2546, -10.1065, -11.6998,  -7.0746]), tensor([-9.9032e+01,  5.8674e+01, -2.4527e+01, -1.4462e+01, -2.4750e+01,\n",
            "        -2.4785e+01, -7.3216e+00,  2.9467e+00, -1.3594e+00,  5.1869e+00,\n",
            "        -5.0281e+00,  4.2023e-01, -2.9247e+00,  1.9942e+00, -2.9561e+00,\n",
            "        -9.6775e-02, -9.8674e+00, -5.2702e+00, -1.1614e+01, -5.3629e+00,\n",
            "        -6.4428e+00,  2.9437e+00, -3.7386e+00,  8.2730e-01, -1.2660e+00,\n",
            "         4.9300e+00,  2.3489e+00,  8.8913e+00,  2.9821e+00,  2.4296e+00,\n",
            "        -4.0445e+00,  3.1263e-01, -2.4178e+00,  1.8378e-01, -7.7169e+00,\n",
            "        -6.9796e+00, -9.8546e+00, -5.5596e+00, -8.5547e+00, -6.8373e+00]), tensor([-44.2394,  46.8365,  -5.4720, -13.6773, -22.1631, -13.5164, -19.5178,\n",
            "         -3.9583, -15.6238,  -3.1661,  -6.7702,  -2.7386,  -6.1452,  -2.6195,\n",
            "        -10.4528,  -2.3971, -10.4216,  -8.3783,  -9.6246,  -0.3036,  -8.7642,\n",
            "         -2.0547,  -4.8207,   2.7741,  -0.5590,   8.8706,   2.5370,   7.9887,\n",
            "          1.6617,   4.8112,   0.7685,   4.6560,  -2.5935,   0.4346,  -7.8314,\n",
            "         -5.2487, -13.5955, -11.0486, -14.7897, -10.1193]), tensor([-68.0429,  58.7863,  -9.6774,  -2.1308, -18.4084,  -4.7556,  -9.4597,\n",
            "         -7.1541,  -9.1619,   0.4965,  -8.7528,  -2.9250, -12.1346,  -1.2135,\n",
            "         -4.1868,  -2.3092,  -6.0900,  -4.1144, -10.0853,  -6.3786, -13.7958,\n",
            "         -6.0929,  -7.3119,   2.1324,   2.5654,   7.9355,   3.9032,   8.6576,\n",
            "          2.6558,   4.6476,   0.4381,   4.3798,  -3.0501,   0.3060,  -8.1442,\n",
            "         -8.9360, -14.4402,  -9.4050, -10.7429,  -9.7349]), tensor([-61.1489,  26.3818, -13.8265,  -1.5119, -13.6416,  -5.2088, -15.1954,\n",
            "         -5.3134,  -8.6259,   0.1956,  -6.0211,   1.0236,  -5.4031,  -0.6993,\n",
            "         -7.3643,  -5.6517, -12.3469,  -4.5565, -10.9456,  -2.5490,  -5.9976,\n",
            "          0.8423,  -4.3209,   1.4266,  -2.0943,   6.9356,   3.4191,   5.6598,\n",
            "          1.5250,   6.2090,  -2.9252,   0.1515,  -4.0877,   0.8081,  -8.2311,\n",
            "         -5.4362,  -9.5483,  -6.7684, -13.7342, -10.3106]), tensor([-1.7953e+02,  8.7126e+01,  5.5534e+00, -1.6858e+01, -1.7158e+01,\n",
            "        -1.3350e+01, -1.9602e+01, -1.7033e+01, -9.8535e+00, -9.5258e+00,\n",
            "        -1.3658e+01, -6.0942e+00, -6.2986e+00, -2.2173e-01, -1.1281e+01,\n",
            "        -2.9622e+00, -9.6859e+00, -3.7600e+00, -1.0371e+01,  9.6018e-01,\n",
            "        -9.0900e+00, -2.9123e+00, -4.3771e+00,  3.5205e+00, -1.3085e+00,\n",
            "         6.9277e+00,  3.0049e+00,  6.6490e+00,  3.6180e+00,  8.8960e+00,\n",
            "         1.4305e-01,  4.4247e+00, -4.2756e+00, -2.0556e+00, -5.4843e+00,\n",
            "        -6.2498e+00, -1.1755e+01, -1.0618e+01, -1.4905e+01, -8.8206e+00]), tensor([-37.8062,  25.4401, -13.1204, -15.5657, -17.3122, -22.1112,  -9.5691,\n",
            "         -4.2143,  -7.9065,   5.5715,  -7.7616,   2.2281,  -7.6592,   1.3865,\n",
            "         -5.4200,   0.5002,  -7.3122,  -0.4901,  -9.6114,  -3.2445,  -9.3031,\n",
            "          1.7247,  -6.2880,   2.4496,  -3.4734,   3.2156,  -3.0295,   7.2565,\n",
            "          0.6578,   6.3283,  -1.0824,   2.2923,  -2.3741,  -0.4510, -10.3434,\n",
            "         -8.3569, -11.9158,  -6.7630, -11.1886,  -9.8412]), tensor([-58.0145,  55.9827, -19.7786,  -7.9131, -23.7488, -15.3602, -14.7899,\n",
            "        -10.1365, -11.4988,  -2.0028,  -8.7322,  -1.1375,  -7.5430,  -3.2329,\n",
            "         -7.3045,  -6.7945,  -9.8375,  -2.1417,  -9.6860,  -5.6528,  -6.2290,\n",
            "         -0.3469,  -5.2533,   4.7993,   2.4581,   5.5377,   3.1962,   7.5551,\n",
            "          3.0397,   7.1262,  -0.3520,   3.0723,  -2.9734,  -1.9937,  -9.3923,\n",
            "         -7.8780, -13.4586,  -8.4329, -12.7167,  -9.4095]), tensor([-80.5398,  44.1239,  -5.6706,  -2.4685,  -7.8480,  -2.2622, -10.9464,\n",
            "          6.6355, -11.1859,  -0.7033,  -6.6612,  -3.1908,  -7.1046,  -2.5057,\n",
            "        -10.8990,  -0.2701,  -8.1913,  -5.1790, -11.8557,  -2.6986,  -7.0670,\n",
            "         -1.7077,  -6.4626,  -1.7944,  -4.2295,   4.8760,   5.2761,  10.5367,\n",
            "          4.5925,   6.8114,  -3.4942,  -0.4783,  -4.7919,   2.2940,  -4.7067,\n",
            "         -6.1180, -14.9479, -10.7443, -11.7573,  -6.8299]), tensor([-81.6570,  45.4413, -17.4924,  -8.5282, -16.1353, -19.6326,  -8.5167,\n",
            "         -7.8380,  -5.8834,   1.3881,  -5.8163,   3.7901,  -4.6500,  -1.7909,\n",
            "         -1.8278,  -2.3168,  -8.7509,  -2.1829,  -7.9521,  -2.6919,  -7.6502,\n",
            "          1.9812,  -6.0593,   0.2808,  -0.2856,   3.5921,   0.3417,   5.9384,\n",
            "          0.8743,   6.5348,   1.1415,   2.6901,  -3.6590,  -2.3417,  -7.0984,\n",
            "         -6.5656, -11.2784,  -9.0374, -13.7899,  -8.5121]), tensor([-51.3319,  43.3632,  -8.7098,   2.4388, -14.9781,  -7.5669, -14.2569,\n",
            "         -2.8729, -16.0485,  -6.7299, -11.2332,  -8.0494,  -9.9556,  -3.5431,\n",
            "         -9.0180,  -6.4743, -14.6976,  -4.6082, -10.0199,  -1.5236,  -7.2036,\n",
            "         -1.7118,  -6.3620,   1.7865,   0.2480,   4.8433,   2.5571,  10.0334,\n",
            "          6.7439,   6.7487,  -0.6510,   4.3304,  -1.9658,   1.8305,  -7.9939,\n",
            "        -10.5201, -16.0644, -10.3357, -14.1106,  -9.3372]), tensor([-56.1255,  39.9322,  -8.1499,   1.8910,  -4.9448,  -7.6752, -18.1670,\n",
            "         -1.6309, -12.1647,  -0.6322,  -3.5869,  -2.4714,  -6.6210,  -4.2091,\n",
            "        -12.3719,  -3.7538, -10.2314,  -4.0946,  -8.2174,  -2.7143,  -8.6912,\n",
            "         -0.6050,  -4.2979,   2.9250,   0.3759,   6.7499,   2.7234,   7.6527,\n",
            "          2.4437,   6.6023,   0.1916,   1.8290,  -5.8053,  -3.7062,  -8.6609,\n",
            "         -5.9125, -11.2749,  -9.0667, -13.7166,  -8.9803]), tensor([ 6.9363e+00,  2.8566e+01, -1.5439e+01, -8.6544e+00, -1.3833e+01,\n",
            "        -1.3476e+01, -1.5460e+01, -7.1289e+00, -1.5451e+01,  1.5944e+00,\n",
            "        -1.1809e+01,  1.8111e+00, -6.3910e+00,  9.1395e-02, -4.7810e+00,\n",
            "         3.5031e-01, -7.4438e+00, -2.1230e+00, -1.0420e+01, -5.5792e+00,\n",
            "        -9.8060e+00, -1.9629e+00, -8.4948e+00,  3.2421e+00, -1.6663e+00,\n",
            "         4.9244e+00,  1.1825e+00,  8.9180e+00,  3.5801e+00,  6.5215e+00,\n",
            "         2.1905e-01,  2.2807e+00, -3.5605e+00, -2.1808e-02, -8.5417e+00,\n",
            "        -7.6996e+00, -1.4683e+01, -8.5992e+00, -1.3119e+01, -9.4664e+00]), tensor([-9.3641e+01,  2.5687e+01,  1.5192e+01, -1.3697e+01, -5.0507e+00,\n",
            "        -8.0343e+00, -1.9017e+01, -9.0806e+00, -7.1588e+00,  7.1405e+00,\n",
            "        -4.3619e+00,  1.8890e+00, -7.8651e+00, -9.1151e-01, -2.8324e+00,\n",
            "         1.8314e+00, -4.5750e+00,  5.2766e+00, -6.9464e+00, -4.0149e+00,\n",
            "        -6.1545e+00, -4.4614e+00, -1.0273e+01,  1.9547e+00, -2.8818e+00,\n",
            "        -2.1574e-01, -1.1328e+00,  5.7050e+00,  9.6755e-01,  7.2966e+00,\n",
            "        -4.0019e-01,  1.3610e+00, -3.0145e+00, -8.6558e-02, -6.7302e+00,\n",
            "        -5.6403e+00, -1.1073e+01, -7.1906e+00, -9.8934e+00, -6.4166e+00]), tensor([-88.6124,  51.7058,  -4.3594,   3.5358,  -3.2374, -13.5937, -21.6748,\n",
            "         -4.9728, -11.9353,   0.1091,  -9.0004,  -2.1915,  -7.2924,  -1.7772,\n",
            "        -11.8748,  -2.1976, -12.3934,  -5.5260, -11.3377,  -1.8624,  -6.4670,\n",
            "          0.0935,  -3.4794,   3.2217,  -3.4298,   5.9236,   0.2645,   8.1855,\n",
            "          3.9877,   6.5218,   0.6300,   2.8760,  -5.1352,  -2.2800,  -8.0438,\n",
            "         -7.4964, -11.8093,  -6.9421, -12.8304,  -9.9028]), tensor([-1.0370e+02,  6.4178e+01,  9.5865e+00, -8.6003e+00, -4.8306e+00,\n",
            "         5.4317e-01, -1.1831e+01, -4.6963e-01, -1.0333e+01,  3.7931e-01,\n",
            "        -2.0785e+00, -2.9908e-01, -7.1265e+00, -7.7046e-01, -8.7867e+00,\n",
            "        -6.9698e-02, -5.9277e+00, -3.9496e+00, -9.8951e+00, -5.7061e+00,\n",
            "        -1.1492e+01, -3.8900e+00, -8.1223e+00,  8.4550e-01, -1.0338e+00,\n",
            "         4.5524e+00,  1.8055e+00,  8.6000e+00,  4.2661e+00,  8.3801e+00,\n",
            "         1.5228e+00,  1.2675e+00, -3.0573e+00, -2.8656e+00, -7.9681e+00,\n",
            "        -5.7036e+00, -1.2198e+01, -9.3712e+00, -1.2231e+01, -9.7547e+00]), tensor([-26.6728,  40.6746, -20.9532, -12.8705, -11.1247, -16.3952,  -8.6975,\n",
            "         -0.2565,  -4.5484,   2.5072, -10.6436,  -3.8385, -10.0604,   1.6050,\n",
            "         -8.1433,  -5.8935, -11.7000,  -2.1994,  -6.1693,  -4.3107,  -9.0674,\n",
            "          0.4253,  -1.1726,   2.6313,  -3.2030,   3.5477,   2.1665,   8.1604,\n",
            "         -0.4920,   5.1508,   0.9357,   2.4314,  -5.4192,  -1.8563,  -6.8378,\n",
            "         -5.7979, -11.7315,  -9.2810, -14.3930, -11.5030]), tensor([-81.2566,  89.0911, -23.1850, -11.6188, -15.5560,  -7.0418, -22.6703,\n",
            "         -8.8659, -11.4615,  -2.2028,  -9.8909,  -4.2726,  -8.6018,   0.7154,\n",
            "        -12.5057,  -0.8572,  -8.2256,  -4.8734, -11.6660,  -5.0526,  -8.4667,\n",
            "         -3.5418,  -3.6310,   3.3823,  -0.3899,   5.6686,   2.4818,   7.1586,\n",
            "          5.2423,   7.2980,   0.2763,   3.3265,  -0.3829,   0.1222,  -6.0003,\n",
            "         -6.6638, -12.0396, -10.4303, -13.5947,  -8.9054]), tensor([-79.4105,  35.9640, -29.6174,  -0.3115, -14.4049,  -9.3409, -19.9881,\n",
            "          1.1759,  -8.4315,   1.8137,  -0.6216,   0.1937,  -7.8108,  -2.3265,\n",
            "         -8.4028,  -1.2128,  -9.7138,  -2.9712,  -9.3175,  -4.5362, -10.7254,\n",
            "         -1.3967,  -6.6420,   0.5257,  -1.6952,   7.7936,   0.8491,   5.6617,\n",
            "          1.2701,   8.1699,   0.8394,   3.2149,  -3.7461,  -1.8347,  -7.4435,\n",
            "         -6.3001, -12.6969,  -9.7906, -12.8670,  -8.1513]), tensor([-23.1255,  45.3425, -21.3449,   2.6197, -14.8802,   4.1710,  -6.6334,\n",
            "          8.3364,  -5.6779,   0.3355,  -5.2319,   3.8540,  -4.1056,   1.1134,\n",
            "         -8.1137,  -4.0835,  -9.3590,  -2.6732, -11.1513,  -5.2255,  -8.1577,\n",
            "         -1.6222,  -6.1582,   0.0815,  -4.2661,   3.4978,  -0.6709,   5.7809,\n",
            "          2.0324,   4.4286,  -1.6051,   3.2479,  -4.1278,  -2.1094,  -7.6503,\n",
            "         -2.9875, -10.0814,  -9.2182, -16.0310, -11.3350]), tensor([-13.7729,  26.9378, -13.8423,  -3.8092,  -7.8628,  -4.6648,  -9.5308,\n",
            "         -4.0126,  -8.0553,   0.9067,  -8.8069,  -2.1689,  -6.0321,  -0.6955,\n",
            "         -6.2988,   0.0807,  -7.7705,  -2.4922,  -8.6881,  -4.6561, -10.0429,\n",
            "         -2.0227,  -6.3098,   4.3058,   0.5414,   5.9909,   0.9077,   6.7740,\n",
            "          1.5678,   6.3870,  -1.1834,   2.4433,  -3.3776,  -0.9910, -10.4361,\n",
            "         -8.4631, -14.2914,  -9.6546, -12.4498,  -8.5174]), tensor([-61.0656,  42.1915, -22.3484,  13.3907, -12.9507,  -7.2746,   1.8049,\n",
            "          4.0930,  -8.9861,   6.8785,  -7.2742,   0.4501,  -9.7810,  -4.7084,\n",
            "         -5.8787,  -6.5610, -11.3507,  -3.4912, -12.9377,  -5.0592,  -7.3493,\n",
            "         -4.0658,  -7.6926,   4.0872,  -0.4826,   5.3813,   2.0982,   5.6972,\n",
            "          1.8674,   6.8645,   2.6985,   3.9860,  -4.1799,  -1.7188,  -8.9832,\n",
            "         -6.0933, -12.1299,  -8.2394, -12.0855,  -7.8506]), tensor([-46.7039,  29.2825, -19.8622, -14.1235, -11.1447, -13.1677, -18.1026,\n",
            "         -4.3174, -10.7478,  -8.8254,  -9.8445,  -5.6752,  -6.1430,  -0.4707,\n",
            "        -12.0848,  -4.9631, -11.2105,  -6.1470, -10.8550,  -3.6089,  -9.0338,\n",
            "         -2.1851,  -1.0147,   5.2765,  -0.9913,   4.9600,   4.3594,  10.1051,\n",
            "          5.3948,   9.6728,  -0.2531,   2.7901,  -5.3274,  -1.8669,  -6.7328,\n",
            "         -3.7380, -11.7590, -10.3627, -14.9569,  -8.7506]), tensor([-99.3232,  66.7529,  -3.6093,  -8.5281, -18.6679,  -7.8660, -18.3487,\n",
            "         -4.9354, -13.6280,  -6.2980,  -4.2291,  -4.2171,  -8.6159,  -0.6328,\n",
            "         -8.8139,  -1.4168,  -6.8711,  -4.9589, -10.6333,  -4.6095,  -6.9815,\n",
            "         -2.7135,  -4.9893,   6.2212,   0.2612,   6.7507,   2.6983,   5.5401,\n",
            "          3.7244,   6.3084,   1.3104,   2.6310,  -3.6810,  -1.0997,  -5.6981,\n",
            "         -6.2303, -13.5671, -10.3621, -12.3184,  -6.8534]), tensor([-61.1742,  77.7124, -20.9305,   3.7127, -18.4408, -14.2165, -11.6402,\n",
            "         -3.2624, -12.4573,  -5.6894,   3.1126,   1.4580, -11.8075,   3.9792,\n",
            "        -10.5343,  -0.4425,  -7.8389,  -6.3864,  -5.1656,  -4.2853, -11.2640,\n",
            "         -0.0803,  -2.9571,   1.4246,  -0.5081,   5.4658,   1.4917,   7.1048,\n",
            "          1.1652,   3.6628,   0.8468,   2.1386,  -6.7180,  -1.8831,  -8.8171,\n",
            "         -5.7691,  -9.0699, -10.7149, -16.3079, -12.2440]), tensor([-77.0566,  69.6909, -22.5653, -16.3737, -10.6776, -15.8237, -19.1379,\n",
            "         -1.4588, -11.5327,  -4.7768,  -6.1625,  -4.7846,  -5.7561,  -1.9180,\n",
            "         -5.9600,  -3.4874, -11.4188,  -5.3432, -10.7387,  -5.0231,  -9.2598,\n",
            "         -0.6229,  -3.7278,   3.3883,   0.5078,   2.6505,   3.4339,  11.1837,\n",
            "          3.1774,   5.5958,   0.8386,   4.0974,  -5.6732,  -2.6831,  -7.0877,\n",
            "         -4.0244, -11.3742, -10.4682, -14.8711, -10.8871]), tensor([-88.8638,  71.4350, -23.3930, -14.4597, -12.3781,  -6.0984, -21.3874,\n",
            "         -4.3909, -12.5635,  -0.9446,  -5.7851,  -0.5509,  -4.4828,  -0.8454,\n",
            "         -8.5057,  -0.8481, -10.7781,  -4.6079,  -6.8152,  -4.4094,  -6.2963,\n",
            "         -3.6600,  -1.9546,   5.3138,   0.7456,   6.4615,   2.9990,   6.8290,\n",
            "         -0.5912,   4.2078,  -0.6328,   2.6541,  -2.7285,  -1.9992,  -7.2146,\n",
            "         -5.5632, -12.2003, -11.0208, -16.0982,  -9.3101]), tensor([-2.5590e+01,  6.4883e+01, -3.7278e+01, -9.4768e+00, -1.0054e+01,\n",
            "        -7.7485e+00, -1.7613e+01, -9.8365e-01, -1.3842e+01, -3.6037e+00,\n",
            "        -6.2419e+00, -7.0906e+00, -9.8117e+00,  2.2924e+00, -9.2904e+00,\n",
            "        -3.8351e+00, -1.1327e+01, -6.5853e+00, -1.1537e+01, -3.6738e+00,\n",
            "        -7.1675e+00, -3.4479e+00, -5.8709e+00,  1.5546e+00,  1.0120e+00,\n",
            "         5.7447e+00,  4.2194e-02,  4.2299e+00,  1.9512e+00,  1.0032e+01,\n",
            "         2.1777e+00,  5.4750e+00, -2.6582e+00, -2.4534e+00, -8.4785e+00,\n",
            "        -6.7045e+00, -1.1733e+01, -1.0899e+01, -1.5441e+01, -8.8893e+00]), tensor([-82.4630,  58.1038,  -8.5217,  -4.7458,  -3.2156, -12.9586,  -7.9615,\n",
            "         -6.0059, -17.2275,  -3.3196, -16.5925,  -4.9386, -12.1619,  -2.4490,\n",
            "         -6.1617,  -8.1951, -16.1263,  -5.5858, -10.3529,  -5.6045,  -9.3169,\n",
            "         -1.5723,  -8.0955,   4.1675,   1.0377,   9.5683,   2.6761,   8.1930,\n",
            "          2.2192,   4.2971,   1.0338,   4.1050,  -1.6134,  -1.2009,  -8.0465,\n",
            "         -4.6897, -12.0802,  -8.1035, -14.9027, -11.5352]), tensor([-3.3141e+01,  4.1772e+01, -2.3922e+01,  1.6279e+00, -9.3900e+00,\n",
            "        -4.3464e+00, -1.9156e+01, -1.7536e+00, -7.6045e+00, -2.1278e+00,\n",
            "        -4.1716e+00, -5.0147e+00, -8.3575e+00, -3.7003e+00, -1.2962e+01,\n",
            "        -4.0325e+00, -8.1259e+00,  2.2718e-03, -9.7119e+00, -3.2027e+00,\n",
            "        -6.5008e+00, -3.1850e+00, -5.4429e+00,  2.5032e+00, -3.5590e+00,\n",
            "         1.4081e+00,  1.0567e+00,  7.2380e+00,  3.3992e+00,  8.9513e+00,\n",
            "         1.8053e+00,  4.4503e+00, -3.6757e+00, -2.0856e+00, -8.5316e+00,\n",
            "        -5.7748e+00, -1.2154e+01, -9.7145e+00, -1.5865e+01, -1.1546e+01]), tensor([  3.0626,  19.0146, -32.4192,  16.7438,  -9.3256,  -8.0430, -12.4390,\n",
            "         -6.9318,  -8.6989,   2.2882, -10.0855,  -3.6551,  -4.7420,  -0.8376,\n",
            "        -10.7263,  -4.1837, -10.5669,  -6.2504, -12.0065,  -5.6888, -10.5851,\n",
            "         -3.3461,  -5.5291,   2.1912,  -1.5030,   4.6415,   1.0605,   8.0329,\n",
            "          2.9656,   6.6413,  -1.5385,   3.2751,  -4.5188,  -2.2714,  -6.7399,\n",
            "         -4.5072, -13.0127, -10.3219, -15.5291, -11.1894]), tensor([-28.0210,  56.9681, -28.6160,   4.1616,  -5.4396,  -7.4344, -22.2204,\n",
            "         -4.8645,  -3.5652,  -0.3010, -13.0741,  -7.5208, -10.9983,  -5.4694,\n",
            "        -13.5315,  -4.3120, -11.2721,  -3.1398,  -7.1698,  -0.6032,  -8.1986,\n",
            "         -4.5097,  -7.4317,   0.6636,  -1.6213,   7.9725,   1.6751,   7.7839,\n",
            "          5.2786,  12.8018,   3.8680,   1.7435,  -5.3052,  -2.3739,  -7.0875,\n",
            "         -6.2880, -15.6322, -12.3007, -13.6620,  -7.7669]), tensor([-36.1354,  38.3459, -32.4752,   3.1239, -15.6695,  -3.9656, -13.7290,\n",
            "         -4.8323,  -9.3309,   0.1787, -10.7808,  -5.4078,  -7.9365,  -1.6481,\n",
            "        -11.0462,  -5.0482,  -9.8660,  -1.7183,  -9.9375,  -3.5267,  -8.2825,\n",
            "         -2.6619,  -7.3471,   1.6052,  -1.7969,   5.5141,   1.0535,   7.0527,\n",
            "          1.6653,   8.5519,   3.0975,   3.7127,  -4.1225,  -1.0217,  -7.7926,\n",
            "         -7.2523, -14.0225, -10.1111, -14.1224,  -7.3532]), tensor([-90.6075,  69.6362, -30.2223, -18.5998, -22.8413,  -7.3794,  -6.5902,\n",
            "          1.3267,  -9.0620,  -4.4201, -10.1056,   0.6006,  -6.8923,  -4.7667,\n",
            "        -12.8838,  -2.0144, -13.6750,  -2.9291,  -9.6505,  -5.1610, -10.0545,\n",
            "         -2.6978,  -4.6777,   3.1726,  -1.4719,   4.3087,   1.6645,   8.9608,\n",
            "          4.5894,   7.4747,   2.3514,   0.2626,  -4.7474,  -0.7521,  -9.2548,\n",
            "         -6.4609, -10.4399,  -9.5926, -14.5273,  -6.7399]), tensor([ -9.4076,  48.3900, -36.7400,   8.0082, -13.1002,  -8.4258, -18.8573,\n",
            "         -5.8931, -12.7485,   2.7268,  -6.7357,  -0.3189,  -5.2475,  -5.6888,\n",
            "         -8.7605,   1.6123,  -6.7124,  -5.5874,  -8.7394,  -1.4703,  -7.1667,\n",
            "         -1.5202,  -4.9973,   0.6354,  -3.1672,   3.6255,   1.8578,   6.1674,\n",
            "          2.4254,   7.3593,   2.1175,   1.8057,  -4.1507,  -2.7261,  -7.9622,\n",
            "         -5.4272, -11.6491,  -9.2334, -13.5612,  -9.3386]), tensor([  9.0588,  43.5350, -25.6420,   1.6427, -15.3388,  -8.2706, -14.7801,\n",
            "         -6.8627, -12.6307,   0.2834, -10.8054,  -3.4312,  -5.9364,   0.4285,\n",
            "        -11.6804,  -4.2582,  -9.5195,  -3.3901, -10.0345,  -3.6379,  -7.1520,\n",
            "         -1.1420,  -8.5695,   1.0098,  -0.6203,   6.2467,   3.1917,   8.3256,\n",
            "          3.1094,   7.9351,   1.3566,   3.1401,  -3.0838,   0.0810,  -8.9599,\n",
            "         -8.2303, -14.6150,  -9.5838, -12.9971,  -8.7773]), tensor([-11.5380,  42.1493, -26.8714,   7.6710, -15.9997, -11.4489, -16.4974,\n",
            "         -8.5046,  -8.1467,   1.8046, -13.4880,  -9.4977,  -9.3027,  -0.2741,\n",
            "         -9.6445,  -2.9539,  -8.8138,  -1.7211, -11.5916,  -6.1064,  -8.4092,\n",
            "         -3.1028,  -7.5583,   3.3326,   2.0517,   6.6017,   3.1234,   8.3735,\n",
            "          2.6712,   8.0807,   1.4680,   4.8839,  -3.8709,  -1.6144,  -9.6888,\n",
            "         -7.4154, -13.0109,  -9.1876, -12.9694,  -9.7281]), tensor([ -2.3775,  19.9420, -35.6756,  15.5447,  -8.7724,  -5.7690, -13.8860,\n",
            "         -3.8599,  -4.6355,  -6.1240, -16.1291,  -2.9424, -15.3998,  -2.4653,\n",
            "         -6.8000,  -9.3946,  -6.3701,  -3.8185, -13.3546,  -2.5806,  -8.0832,\n",
            "         -1.3119,  -9.0893,   0.2011,  -1.1059,   6.5111,   4.6535,   9.8156,\n",
            "          2.5197,   8.2077,   2.0853,   7.6128,  -4.2649,  -6.0983,  -6.1094,\n",
            "         -4.6309, -15.4201, -10.8024, -11.4327,  -9.0882]), tensor([ 22.2337,  18.4929, -24.1999,   6.7919, -10.7282,  -2.8941, -15.3108,\n",
            "          1.9863, -10.2586,   5.3903,  -5.6136,   2.2309,  -7.2469,   0.9942,\n",
            "         -9.4639,  -3.8728,  -8.5894,  -5.2078, -10.0955,  -4.6459, -11.0038,\n",
            "         -2.4926,  -6.7051,   2.6925,  -0.6918,   6.8200,   2.0136,   3.9521,\n",
            "          3.9090,   5.7466,  -0.9459,   3.5493,  -4.7754,  -2.1159,  -8.4640,\n",
            "         -6.2058, -13.2381, -10.5598, -12.9342,  -9.5894]), tensor([-25.6931,  42.9247, -48.0494,   2.5503, -10.3175,  -8.8225, -18.5101,\n",
            "         -4.1200,  -9.7993,  -4.1092,  -4.8000,  -4.8511,  -8.8855,   1.3795,\n",
            "         -9.9680,  -4.0353,  -6.9090,  -7.3717, -11.9963,  -3.6824,  -9.7267,\n",
            "         -4.0392,  -7.4916,   2.9697,  -0.7292,   6.6028,   3.2623,   7.5472,\n",
            "          2.6477,   6.3784,   0.5013,   4.0855,  -2.3305,  -0.8036,  -8.4301,\n",
            "         -7.6236, -12.9578,  -7.9942, -12.6938,  -9.4201]), tensor([-27.6088,  24.8903, -45.1665,  -2.8918,  -5.5647,  -9.9652, -18.9797,\n",
            "          0.9745,  -5.5963,   3.9335,  -5.3700,  -1.7054,  -7.8955,  -2.3201,\n",
            "        -10.1079,   0.6184,  -9.8067,  -7.4073, -11.8377,  -3.5913,  -8.4302,\n",
            "         -0.8787,  -2.9890,   1.3053,  -2.0637,   2.5019,   0.5971,   7.7684,\n",
            "          2.9573,   7.1776,   1.9748,   3.6253,  -4.7186,  -1.6498,  -7.6547,\n",
            "         -5.5162, -11.6755,  -7.9590, -13.0996,  -8.7266]), tensor([-65.7115,  56.4070, -22.0930,  20.1463,   0.1368,  -7.8825, -14.7099,\n",
            "         -5.1035,  -7.6041,   0.7536,  -7.6112,  -0.6828,  -7.8966,  -6.5802,\n",
            "        -14.3038,  -7.1785, -10.3795,  -7.6146, -12.3055,  -4.1997,  -8.4198,\n",
            "         -4.2429,  -6.7505,   1.9051,  -0.4835,   5.4380,   1.4194,   9.9151,\n",
            "          3.7491,   6.4079,   0.6362,   4.2469,  -2.5960,  -2.9209,  -5.7936,\n",
            "         -5.8604, -12.1475,  -8.4696, -13.9295, -11.8130]), tensor([-49.4963,  47.3187, -22.0947,  -1.0670, -10.6739,  -0.3271, -11.6949,\n",
            "         -2.1795, -10.7374,  -2.4777,  -4.1059,  -2.8157,  -6.7067,  -0.6000,\n",
            "         -8.6273,  -3.8019,  -9.8187,  -7.2521,  -9.7443,  -1.4059,  -6.9344,\n",
            "          0.7076,  -1.7630,   3.6639,  -0.3137,   8.7215,   2.4138,   5.9676,\n",
            "          1.9636,   5.1587,  -0.4502,   2.0858,  -4.8810,  -3.1991,  -8.0911,\n",
            "         -4.4108, -10.5852, -10.6636, -15.4532, -10.0975]), tensor([-10.1502,  38.2264, -35.7368,   4.8898,  -6.0798,  -2.1874, -14.7007,\n",
            "         -5.4061,  -7.4152,  -2.0329,  -7.7561,  -0.0425,  -7.2595,  -4.1489,\n",
            "         -8.0829,  -5.2520,  -9.8111,  -1.1788, -11.3203,  -6.5079,  -5.0105,\n",
            "         -1.3753,  -7.8606,   0.8428,  -2.3204,   9.2880,   2.8224,   4.3430,\n",
            "          3.5783,   6.8025,  -0.3705,   4.0418,  -3.3095,  -2.5308,  -7.2006,\n",
            "         -6.8437, -14.1971,  -9.6162, -11.7416,  -7.9641]), tensor([-58.5986,  66.3869, -12.2562,  -6.4342,  -3.8976,   0.7667, -14.0694,\n",
            "         -1.1612,  -2.1276,  -1.8292,  -7.4908,  -1.4622,  -2.4839,  -3.5696,\n",
            "        -14.7143,  -6.3939,  -8.6111,  -3.4839, -12.0545,  -3.1524,  -6.7098,\n",
            "         -4.2130,  -8.1917,   2.9337,   0.6076,   4.8103,   0.6720,   8.2182,\n",
            "          1.8689,   5.0563,  -0.8978,  -0.3858,  -3.5842,   0.1354,  -5.9837,\n",
            "         -5.6158, -11.0016,  -7.6900, -13.4666,  -9.2310]), tensor([-38.4177,  69.3454, -48.2549, -17.6220, -16.6881, -10.1851,  -8.4074,\n",
            "          7.8989,  -2.8843,   6.2587,  -5.7100,   1.1206,  -7.3724,  -2.5653,\n",
            "        -10.9665,  -7.2328, -11.4666,  -4.5610, -12.9362,  -4.2007,  -6.9601,\n",
            "         -0.3759,  -5.4430,   0.4532,  -3.4188,   4.4859,  -0.6886,   7.0153,\n",
            "          3.4837,   5.1735,  -0.2113,   3.7578,  -4.8027,  -3.5140,  -8.3372,\n",
            "         -3.6540, -11.1596,  -8.5375, -14.6669,  -9.8993]), tensor([ 10.6560,  18.9099, -22.7695,   8.1214, -15.9409,  -8.4509, -13.1452,\n",
            "         -2.6057,  -4.8004,   1.7462,  -7.2858,  -1.5543,  -7.8228,  -0.8889,\n",
            "        -11.6070,  -3.7921,  -9.4875,  -6.1219, -10.7015,  -5.2438,  -8.4066,\n",
            "         -0.4023,  -8.0816,   0.0294,  -0.0641,   5.9321,   2.6283,   9.0660,\n",
            "          1.5345,   7.4454,   1.3897,   2.9771,  -5.3700,  -2.3179,  -8.4013,\n",
            "         -6.3230, -10.9805,  -8.5801, -13.2817, -10.7798]), tensor([  1.2942,  22.8229, -30.7748,  16.7304,  -8.4096,  -6.9977, -13.6202,\n",
            "         -0.9536,  -5.3639,   3.7320,  -8.0396,  -1.3806, -10.1735,  -2.4595,\n",
            "         -8.7861,  -4.0251,  -8.2639,  -2.8373,  -7.2058,  -2.6353,  -8.2192,\n",
            "         -4.4714,  -6.6300,   0.3332,  -1.6723,   5.1758,   0.8548,   8.7522,\n",
            "          2.2508,   8.6471,   2.0024,   2.3751,  -5.7003,  -2.7415,  -6.7284,\n",
            "         -5.8339, -13.4119, -10.4471, -13.0358,  -8.6460]), tensor([-10.0620,  31.3366, -29.9044,   1.8532,  -9.9695,  -5.0248, -16.3666,\n",
            "         -1.3286,  -4.6978,  -2.2111, -13.1065,  -3.0952,  -4.2040,   0.7287,\n",
            "        -11.0147,  -7.2138, -11.6296,  -4.2972, -11.7557,  -0.2042, -10.1522,\n",
            "         -4.4846,  -7.5686,   1.0195,  -2.5897,   6.4221,   0.4483,   9.5034,\n",
            "          5.6080,   7.4256,  -0.7772,   1.6824,  -3.4636,   0.6917,  -5.2121,\n",
            "         -5.2763, -14.1879, -10.5265, -11.9644,  -8.0731]), tensor([-3.1389e+00,  5.6641e+01, -3.4512e+01, -1.0506e+01, -2.0965e+01,\n",
            "        -4.6363e+00, -1.0295e+01, -1.3489e+00, -6.6193e+00,  1.5543e+00,\n",
            "        -5.2748e+00,  6.3798e-01, -7.8080e+00, -2.3907e+00, -1.0003e+01,\n",
            "        -3.7517e+00, -1.0277e+01, -3.7425e+00, -8.4628e+00, -4.6403e+00,\n",
            "        -9.7246e+00, -3.7655e+00, -7.7706e+00,  1.1421e+00, -1.6900e+00,\n",
            "         5.1881e+00,  1.8193e+00,  7.3770e+00,  1.8045e+00,  6.9324e+00,\n",
            "         1.1773e-02,  2.1387e+00, -2.4179e+00, -1.1139e+00, -9.5520e+00,\n",
            "        -6.6993e+00, -1.1984e+01, -9.1633e+00, -1.0456e+01, -9.2054e+00]), tensor([-39.7455,  42.7708, -20.2265,   6.2033, -10.3180,  -6.5965, -17.1343,\n",
            "         -5.6499, -10.5203,  -0.8617,  -5.5158,  -2.1595,  -9.9127,   1.7755,\n",
            "        -10.9455,  -3.6804,  -9.2087,  -4.0256,  -9.7706,  -6.1558, -11.7075,\n",
            "         -2.6378,  -6.6589,   1.0285,  -1.1001,   4.1950,   6.1027,  10.6876,\n",
            "          2.7613,   5.5104,  -1.7794,   1.5775,  -3.7221,  -0.6886,  -7.3018,\n",
            "         -6.1528, -11.2289,  -8.8483, -14.3392, -12.7819]), tensor([-56.9186,  84.8409, -25.7773,   8.5211,  -8.6465,  -8.4797, -15.1248,\n",
            "         -5.7028,  -9.1567,   0.6735,  -5.9682,  -2.2069,  -8.3775,  -3.9851,\n",
            "         -8.3797,  -4.3331,  -9.3762,  -5.1382, -10.9654,  -7.1116, -10.4609,\n",
            "         -2.5890,  -6.0475,   0.5699,  -0.4685,   5.2683,   2.5889,   8.3931,\n",
            "          5.4619,   6.8423,   1.2685,   4.4452,  -2.9766,  -2.5210,  -7.9090,\n",
            "         -6.8080, -11.4513, -10.6620, -13.1970, -12.5693]), tensor([ 17.8832,  26.0366, -27.1557,   5.2308, -11.0524,  -9.8252, -10.8639,\n",
            "         -0.9216,  -6.3935,   3.1089,  -8.4973,   3.0350,  -6.7224,  -0.8385,\n",
            "        -11.2067,  -6.1538,  -7.9712,  -2.7480, -12.2317,  -5.6402,  -8.5174,\n",
            "          0.2272,  -7.4550,   1.4410,  -1.3279,   4.8744,   0.5227,   8.7639,\n",
            "          3.9347,   8.1293,   0.8332,   2.0335,  -4.9697,  -1.7010,  -8.5820,\n",
            "         -6.4687, -12.0226,  -8.1852, -14.5144,  -8.9335]), tensor([ -7.9397,  43.3017, -31.5788,   0.9717, -25.8161,  -1.9175, -17.2814,\n",
            "          0.9894,  -9.9754,   2.2165,  -7.2038,  -2.5099, -10.8054,  -5.3532,\n",
            "        -12.1550,  -2.2870,  -9.9196,  -3.4344, -11.0862,  -6.6406,  -5.0757,\n",
            "         -2.0478,  -5.9404,   3.0344,   2.0391,   6.1706,   2.0998,   6.6982,\n",
            "          2.8991,   7.7666,   2.2632,   2.4677,  -4.9231,  -1.0551,  -7.5951,\n",
            "         -6.8223, -13.0365,  -9.7647, -14.6435,  -9.1817]), tensor([-1.5511e+02,  9.6250e+01,  1.2330e+01,  6.7693e+00, -1.8944e+01,\n",
            "        -1.1985e+01, -1.5888e+01, -4.8290e+00, -1.3915e+01, -7.4721e+00,\n",
            "        -1.6166e+01, -5.7804e+00, -4.2923e+00,  2.2472e+00, -8.4561e-01,\n",
            "        -2.3087e+00, -8.8164e+00, -8.6839e+00, -1.1819e+01, -3.5975e+00,\n",
            "        -8.6731e+00, -3.2518e+00, -1.4424e+00,  2.7313e+00,  3.8393e-02,\n",
            "         6.6304e+00,  2.0623e+00,  7.3882e+00,  6.4249e+00,  4.2073e+00,\n",
            "         2.8477e-01, -5.9798e-01, -5.2911e+00, -2.3352e+00, -7.8318e+00,\n",
            "        -5.2626e+00, -9.9500e+00, -9.7062e+00, -1.3198e+01, -9.3071e+00]), tensor([-1.9539e+01,  4.0961e+01, -1.8550e+01,  1.1225e+00, -1.4710e+01,\n",
            "        -2.5724e+00, -1.4622e+01, -4.2013e+00, -8.8983e+00, -9.5584e-01,\n",
            "        -9.4766e+00, -6.3190e-03, -7.4174e+00, -1.8209e+00, -1.0124e+01,\n",
            "        -6.3618e+00, -1.1106e+01, -5.3658e+00, -9.6347e+00, -2.8391e+00,\n",
            "        -8.6129e+00, -3.2432e+00, -6.0335e+00,  3.8396e+00, -2.4945e-01,\n",
            "         6.3765e+00,  1.1627e+00,  7.2193e+00,  3.1745e+00,  8.8705e+00,\n",
            "         1.2516e+00,  3.1339e+00, -5.8028e+00, -2.9888e+00, -9.1393e+00,\n",
            "        -4.9522e+00, -1.2003e+01, -1.0187e+01, -1.4036e+01, -9.3477e+00]), tensor([ 2.0906e+01,  4.1243e+01, -4.3472e+01, -1.5149e+01, -7.5300e+00,\n",
            "        -1.7994e+00, -1.5792e+01,  5.2273e+00, -7.1151e+00, -5.2832e-01,\n",
            "        -5.2987e+00, -1.4208e+00, -8.1674e+00,  1.1542e-01, -1.1001e+01,\n",
            "        -5.6383e+00, -1.0760e+01, -5.5758e+00, -1.3679e+01, -3.1101e+00,\n",
            "        -7.6878e+00, -3.2167e+00, -3.9652e+00,  2.8915e+00, -5.9221e-03,\n",
            "         5.7840e+00,  1.3761e+00,  7.1367e+00,  1.0898e+00,  6.5110e+00,\n",
            "         1.4981e-01,  5.6430e+00, -1.8275e+00,  2.7177e-01, -8.7175e+00,\n",
            "        -7.5028e+00, -1.3672e+01, -9.5089e+00, -1.3828e+01, -1.0511e+01]), tensor([-83.5336,  71.4999, -19.3869,   2.9293, -21.3993,  -4.6957, -15.8141,\n",
            "         -8.7599, -11.7017,  -8.0754, -12.5219,  -3.7819,  -4.8486,   0.5354,\n",
            "         -8.3160,  -2.3451, -10.0838,  -7.8075, -14.2763,  -0.6464,  -7.7209,\n",
            "         -6.7862,  -6.8023,   3.8254,  -1.1617,   8.4049,   2.8921,   5.7738,\n",
            "          2.4249,   3.5588,   2.6369,   7.1397,  -2.8328,  -1.0032,  -9.8138,\n",
            "         -7.6669, -12.9409, -11.1420,  -9.7800,  -6.8766]), tensor([ 18.1785,  36.1059, -27.4810,   7.4961, -11.4806, -13.6560, -15.0553,\n",
            "          0.1902, -10.2798,   1.8319,  -5.2050,  -0.3604,  -8.1894,  -1.0564,\n",
            "        -12.7086,  -5.7022,  -9.1272,  -4.3383, -13.0169,  -3.9891,  -8.8427,\n",
            "         -3.6166,  -7.3797,   3.7912,  -0.0659,   5.9265,   1.4208,   8.1720,\n",
            "          3.3096,   6.7790,   2.7598,   2.8207,  -6.4588,  -0.9036,  -5.8936,\n",
            "         -7.8961, -12.6207,  -9.8098, -14.5414,  -8.8969]), tensor([-7.6717e+01,  6.3230e+01, -2.6993e+01, -4.9270e+00, -1.9884e+01,\n",
            "        -4.3351e+00, -2.2849e+01, -4.3296e+00, -1.0896e+01,  5.6892e+00,\n",
            "        -1.1902e+01, -7.2597e+00, -4.2906e+00, -4.3813e+00, -9.3313e+00,\n",
            "        -5.4761e+00, -1.1231e+01, -4.9729e+00, -1.0702e+01, -8.1147e+00,\n",
            "        -7.5700e+00,  3.6707e-02, -6.0666e+00,  2.2126e+00, -2.3112e+00,\n",
            "         6.8955e+00,  6.1132e+00,  9.2594e+00,  1.3256e+00,  3.7477e+00,\n",
            "         7.2925e-01,  4.2848e+00, -3.2159e+00, -2.6670e+00, -6.1338e+00,\n",
            "        -5.0275e+00, -1.2597e+01, -1.0004e+01, -1.3291e+01, -8.3127e+00]), tensor([ 22.2250,  29.5682, -34.7714,   2.2991, -18.7374,  -6.8241, -14.6522,\n",
            "         -5.6957,  -6.7410,   3.1725,  -7.7973,  -0.7887,  -5.7004,  -3.9373,\n",
            "        -12.8107,  -3.6272,  -9.3781,  -3.5044, -10.0640,  -3.5589,  -7.5749,\n",
            "         -1.0433,  -8.2593,   2.3233,   1.9586,   5.5321,   1.2589,   8.6330,\n",
            "          2.2260,   7.2948,   3.3858,   4.1017,  -6.1597,  -3.1965,  -8.3811,\n",
            "         -7.6388, -13.6894,  -8.2511, -14.0791, -10.4878]), tensor([-44.0812,  52.8689, -18.4910,  -9.8950,  -5.8347,  -9.7744, -13.2104,\n",
            "         -3.7361,  -8.5577,   0.4745, -11.5684,  -5.5430,  -9.2384,  -0.4666,\n",
            "         -7.8931,  -3.2868,  -7.1037,  -1.0781, -11.4988,  -5.1297,  -8.3339,\n",
            "         -2.3432,  -6.8876,  -0.3480,  -2.3762,   8.8741,   3.5388,   7.2726,\n",
            "          1.6857,   5.7094,   2.2364,   5.3986,  -4.8059,  -1.1196,  -6.5613,\n",
            "         -5.5547, -12.9253, -11.0307, -13.5091,  -9.5203]), tensor([-12.9748,  35.9343, -12.3515,   0.4157,  -9.2202,  -1.1526,  -9.5841,\n",
            "          2.1781,  -3.3770,  -2.2025,  -7.4753,  -2.9721,  -9.9617,  -2.8589,\n",
            "         -6.3850,  -0.1823, -11.9999,  -6.5057, -13.9525,  -1.9281,  -6.0785,\n",
            "         -1.6693,  -5.0062,   0.1532,  -0.1022,   6.0527,   0.3999,   6.0940,\n",
            "          2.2794,   6.1823,   1.3005,   3.6774,  -2.0661,  -3.7834, -10.1731,\n",
            "         -7.3074, -12.8863,  -7.8577, -15.2099, -10.5717]), tensor([-33.4594,  53.5720, -13.4938,  -2.8373, -10.5011,  -4.8340, -12.0270,\n",
            "         -4.2719, -13.8937,  -2.9369,  -8.7165,  -2.7457,  -8.5459,  -2.5150,\n",
            "        -13.0580,  -6.5251, -11.9729,  -5.3951, -13.2493,  -9.3545, -10.8530,\n",
            "         -1.7043,  -5.0738,   4.3269,   1.1245,   8.2223,   4.9774,   8.8401,\n",
            "          3.5342,   6.7161,   0.0679,   3.3352,  -4.8062,  -3.2950,  -8.1309,\n",
            "         -5.8998, -11.2131,  -9.6684, -14.6972,  -9.8427]), tensor([  8.6213,  56.7570, -38.1532,  -8.6682, -16.6754,  -0.7243,  -9.1756,\n",
            "         -5.1663,  -8.2250,  -1.5313, -10.7798,  -0.2794,  -6.0845,   3.6671,\n",
            "         -9.1654,  -1.1070,  -7.8013,  -6.9693, -10.4649,  -4.3373, -10.9498,\n",
            "         -1.6696,  -2.3017,   4.0187,   0.6675,   5.9264,   2.6538,   8.1320,\n",
            "         -0.1997,   6.1362,  -1.4542,   2.3454,  -3.2903,  -2.3507,  -9.6041,\n",
            "         -7.5884, -12.4603, -11.7847, -15.8071, -10.0936]), tensor([-28.0265,  51.1032, -30.3049,   5.1905, -13.5773,  -2.0340,  -4.2713,\n",
            "          1.5755,  -5.9504,  -0.8471,  -6.4772,   2.9198,  -8.9434,  -0.5671,\n",
            "        -10.2337,  -3.5736,  -6.5877,  -3.8102, -10.8236,  -6.2970,  -8.7516,\n",
            "         -0.8603,  -6.1435,   1.4088,  -2.3089,   3.5292,   1.1043,  10.3667,\n",
            "          5.2390,   6.8004,  -1.2516,   1.4713,  -3.6998,  -2.0658,  -9.7374,\n",
            "         -7.8278, -10.2851,  -8.2346, -12.3432,  -8.7961]), tensor([-40.5205,  39.7526, -11.2837,  -6.5165, -18.0708,  -1.4280, -11.8695,\n",
            "         -4.3137,  -7.9405,  -2.8643,  -6.7258,  -3.4017,  -7.5833,  -1.8263,\n",
            "        -11.0154,  -3.1920,  -8.5339,  -3.6155, -10.0047,  -3.9008,  -9.3025,\n",
            "         -2.3094,  -6.4348,   1.5663,  -2.0564,   6.5723,   1.6532,   8.4023,\n",
            "          4.3805,   5.1448,  -0.4254,   3.4811,  -2.7473,  -2.1112, -10.3739,\n",
            "         -6.8960, -12.0264,  -9.5410, -12.2301, -12.3013]), tensor([ 26.0548,  36.4443, -36.5749,  -0.2438, -18.4270,  -8.4066, -19.5532,\n",
            "         -4.5001,  -8.8248,   0.4637,  -5.9598,  -6.0585,  -7.9764,   2.9708,\n",
            "         -8.8979,  -1.1439,  -8.5063,  -1.6582, -10.3721,  -4.3889, -10.6509,\n",
            "         -0.4243,  -1.6528,   4.7320,  -1.4198,   6.0876,   1.5944,   6.3901,\n",
            "          1.2848,   8.5590,   1.3363,   2.5509,  -4.3924,  -4.0310,  -9.2090,\n",
            "         -5.2766, -13.4596, -10.4024, -16.1630, -12.3786]), tensor([-77.5101,  80.0945, -18.9793,  -7.1971, -11.5778,  -8.1573, -16.4317,\n",
            "          0.5366,  -8.9394,  -4.6855,  -9.3324,  -0.7530,  -7.0466,  -1.4916,\n",
            "         -9.0155,  -5.3268,  -8.0480,  -6.4889, -13.5581,  -5.7907,  -7.6480,\n",
            "         -4.0633,  -6.5464,   1.8200,  -1.2578,   7.9980,   4.2069,   7.9602,\n",
            "          3.4090,   5.4034,  -0.2380,   3.5789,  -2.3066,   0.0813,  -8.4307,\n",
            "         -8.3008, -12.6010,  -8.5633, -12.3600,  -8.9170]), tensor([-65.2768,  57.3841, -23.6837,  -5.5470,   3.0375,  -0.4302, -12.3678,\n",
            "         -4.9190,  -2.3161,  -4.6726, -11.7998,  -1.7486,  -9.5871,  -7.2769,\n",
            "         -9.1529,  -5.2912,  -8.4776,  -3.0136, -10.8537,  -6.8924,  -6.0408,\n",
            "         -1.4812,  -7.5102,  -0.5444,   1.2300,   7.0629,  -0.7437,   5.4021,\n",
            "          3.1221,   5.8306,   0.6283,   3.3640,  -4.5225,  -1.2851,  -6.8971,\n",
            "         -5.0707, -13.2663, -12.3245, -13.1281,  -7.3036]), tensor([  9.5806,  38.2026, -38.3042,  -2.7455, -16.9408, -15.0779, -13.1245,\n",
            "         -3.0174,  -8.6529,   3.7488,  -8.3908,   2.7525,  -5.5514, -11.0699,\n",
            "        -10.6147,  -1.7565, -11.7949,  -4.1742, -13.2545,  -6.4707,  -9.4267,\n",
            "         -5.6552,  -6.9600,   2.9726,   0.8413,   7.0880,   0.9661,   7.3643,\n",
            "          4.1449,   9.8659,   2.5709,   3.9510,  -5.9570,  -2.1192,  -7.1179,\n",
            "         -6.4620, -16.1762, -11.0596, -12.8723,  -9.3691]), tensor([-58.7888,  59.0121, -19.7065, -15.7910, -19.6301, -10.6046, -13.6292,\n",
            "         -5.9320,  -8.2138,  -3.3179,  -6.9067,  -1.6011,  -7.6449,  -4.0011,\n",
            "        -11.8795,  -7.6807, -10.1358,  -6.0684, -11.7970,  -8.0094,  -8.8967,\n",
            "         -1.2114,  -4.2887,   1.4112,   2.6097,   6.9928,   0.7617,   7.5399,\n",
            "          4.8787,   7.3606,   1.0586,   3.6466,  -3.5304,  -1.7073,  -8.3657,\n",
            "         -6.5415,  -9.8020,  -7.0901, -12.7816,  -8.8381]), tensor([-16.6927,  43.9425, -35.8513,  -2.7389,  -5.9845,  -6.0758, -11.5224,\n",
            "         -4.5670,  -7.4583,   7.0762, -10.8145,  -1.1915,  -8.5240,   0.4897,\n",
            "        -11.0081,  -1.8253,  -8.3379,  -4.8650, -11.6884,  -3.4551,  -9.3301,\n",
            "         -3.0254,  -3.6322,   1.9293,  -1.1747,   5.2855,   0.4680,   6.9523,\n",
            "          2.6224,   8.0631,   0.5476,   2.4206,  -4.2352,  -3.1583,  -8.3441,\n",
            "         -6.2290, -12.4690, -11.8552, -15.4844,  -9.8038]), tensor([-31.1455,  27.6668,   1.7848,   0.0438, -15.8234, -10.6349, -14.8128,\n",
            "         -2.2701,  -6.7849,   2.3034,  -7.8072,  -5.9135, -10.4192,  -2.1527,\n",
            "         -9.2347,  -0.6426,  -8.6313,  -2.1393, -10.0095,  -4.0857, -10.9526,\n",
            "         -0.2128,  -6.6095,   2.6798,   1.8420,   7.1464,   1.4798,   8.3515,\n",
            "          3.7531,   6.8831,  -1.1788,   2.6792,  -3.2794,  -0.9026,  -9.3805,\n",
            "         -7.4357, -11.4462,  -8.5500, -13.3834,  -8.7746]), tensor([-13.0602,  47.4326, -33.3815,   8.4039, -17.5139, -12.8529, -17.5417,\n",
            "         -0.6936,  -7.6747,  -6.6982,  -7.0103,   0.2027,  -9.4817,  -2.3619,\n",
            "        -11.0541,  -5.7045, -14.6390,  -7.1920, -12.1583,  -2.7445,  -8.5809,\n",
            "         -5.9057,  -4.0449,   4.2056,  -0.8478,   9.3384,   3.1061,   7.3748,\n",
            "          5.2424,   5.1068,  -1.6544,   3.1834,  -2.2569,   0.6838,  -7.7787,\n",
            "         -5.9713, -14.9939, -12.8049, -14.4406,  -8.3327]), tensor([-26.6065,  48.7178, -32.9119,   2.7966, -16.4245,  -5.4634, -15.2036,\n",
            "         -7.2890, -10.2459,  -0.3641,  -8.6489,  -0.4773,  -8.8328,  -3.9592,\n",
            "        -13.3467,  -2.9313, -10.3455,  -5.5715, -11.9565,  -5.4511,  -7.5669,\n",
            "         -3.3388,  -6.8148,  -0.0938,  -2.2607,   6.9865,   2.2014,   7.9216,\n",
            "          4.2621,   7.4893,   0.7190,   2.7773,  -3.2020,  -0.2506,  -7.5335,\n",
            "         -9.5671, -15.6700,  -8.7972,  -9.9507,  -9.0190]), tensor([  5.5923,  46.2049, -30.8769,  -8.8240,  -4.7709, -10.2641, -25.7910,\n",
            "         -4.7723, -14.5328,  -0.6794,  -7.4374,  -6.4811,  -6.9026,  -2.9694,\n",
            "         -9.3850,  -1.5975, -12.2383,  -1.3400,  -9.3087, -10.5426,  -5.7079,\n",
            "         -2.6200, -12.5340,   0.3242,  -0.2318,   7.5079,   3.4775,   5.9902,\n",
            "          0.7413,  11.5142,   1.5547,   4.6855,  -1.4423,   0.3183,  -9.1263,\n",
            "         -9.2384, -12.7119, -10.3326, -14.0332,  -9.0463]), tensor([-85.8495,  62.3841, -31.3926,   3.9784, -21.2409, -13.6989, -12.7299,\n",
            "          0.3373,  -9.3511,   2.4154,  -3.6916,   2.1681,  -8.4629,  -4.1355,\n",
            "         -9.5907,  -6.9769, -14.5342,  -2.7959,  -6.6521,  -6.1842, -11.7246,\n",
            "         -2.1921,  -4.3074,   4.0381,   0.8622,   5.5085,  -0.5420,   3.3817,\n",
            "          2.0160,   9.2710,   4.4979,   6.7557,  -6.1712,  -4.0103,  -6.6461,\n",
            "         -6.0675, -16.0404, -12.1701, -12.3605,  -8.7330])]\n"
          ]
        }
      ]
    },
    {
      "cell_type": "code",
      "source": [
        "# Сохранение MFCC в CSV\n",
        "def save_mfcc_to_csv(mfcc, filename):\n",
        "    with open(filename, mode='w', newline='') as file:\n",
        "        writer = csv.writer(file)\n",
        "        for t in mfcc:\n",
        "            writer.writerow(t.numpy())  # Преобразуем тензор в numpy массив перед записью\n",
        "\n",
        "save_mfcc_to_csv(mfcc, 'mfcc_output.csv')"
      ],
      "metadata": {
        "id": "KsvJdPndLumV"
      },
      "execution_count": 36,
      "outputs": []
    },
    {
      "cell_type": "code",
      "source": [
        "#И еще для удобства сохранение в бинарный файл\n",
        "def save_mfcc_to_binary(mfcc, filename):\n",
        "    torch.save(mfcc, filename)  # Сохраняем список тензоров в бинарный файл\n",
        "\n",
        "save_mfcc_to_binary(mfcc, 'mfcc_output.pt')"
      ],
      "metadata": {
        "id": "iTrNplCfL3B2"
      },
      "execution_count": 37,
      "outputs": []
    },
    {
      "cell_type": "code",
      "source": [
        "#Рассмотрим визуализацию мел-коэффициентов на примере первого аудио\n",
        "import numpy as np\n",
        "import librosa\n",
        "mels_one = mel_transform(audios[0])\n",
        "librosa.display.specshow(np.log1p(mels_one.numpy()[:, :1000]))"
      ],
      "metadata": {
        "colab": {
          "base_uri": "https://localhost:8080/",
          "height": 458
        },
        "id": "ZNG5I8rLIRLI",
        "outputId": "5a03a8f6-f7ca-4c03-8b47-bc66d45dfda9"
      },
      "execution_count": 38,
      "outputs": [
        {
          "output_type": "stream",
          "name": "stderr",
          "text": [
            "<ipython-input-38-0a665a27c9d8>:5: RuntimeWarning: invalid value encountered in log1p\n",
            "  librosa.display.specshow(np.log1p(mels_one.numpy()[:, :1000]))\n"
          ]
        },
        {
          "output_type": "execute_result",
          "data": {
            "text/plain": [
              "<matplotlib.collections.QuadMesh at 0x78b94cb0e4d0>"
            ]
          },
          "metadata": {},
          "execution_count": 38
        },
        {
          "output_type": "display_data",
          "data": {
            "text/plain": [
              "<Figure size 640x480 with 1 Axes>"
            ],
            "image/png": "[encoded data removed]"
          },
          "metadata": {}
        }
      ]
    },
    {
      "cell_type": "markdown",
      "source": [
        "По полученной спектрограмме мы можем увидеть, что присутствует разная частота сигнала, при этом интенсивность на разных \"уровнях\" внутри себя примерно одинаковая. Как таковых скачков и переходов не наблюдается, разве что в начале и конце (что логично - начало и конец композиции)"
      ],
      "metadata": {
        "id": "SxCLdMI1MuHF"
      }
    },
    {
      "cell_type": "code",
      "source": [
        "from sklearn.manifold import TSNE\n",
        "\n",
        "embs = TSNE(n_components=2, perplexity=1.5).fit_transform(torch.stack(mfcc))"
      ],
      "metadata": {
        "id": "-MqSKn8aETAG"
      },
      "execution_count": 39,
      "outputs": []
    },
    {
      "cell_type": "code",
      "source": [
        "# полученные с помощью мел-преобразования усредненные эмбеддинги разделяются по жанрам (какой исполнитель, какому жанру принадлежит. То, что размечалось выше)\n",
        "import matplotlib.pyplot as plt\n",
        "colors = ['blue' if artist_i == 0 else 'red' if artist_i == 1 else \"white\" for artist_i in artist_labels]\n",
        "\n",
        "plt.scatter(embs[:, 0], embs[:, 1], c=colors)\n",
        "plt.show()"
      ],
      "metadata": {
        "colab": {
          "base_uri": "https://localhost:8080/",
          "height": 430
        },
        "id": "oKkWEudcEYrM",
        "outputId": "78dca3b4-0bd9-4e7c-c8c2-ff6550a525d5"
      },
      "execution_count": 42,
      "outputs": [
        {
          "output_type": "display_data",
          "data": {
            "text/plain": [
              "<Figure size 640x480 with 1 Axes>"
            ],
            "image/png": "[encoded data removed]"
          },
          "metadata": {}
        }
      ]
    },
    {
      "cell_type": "markdown",
      "source": [
        "Кодируем метки"
      ],
      "metadata": {
        "id": "y_MYW5hMOmmV"
      }
    },
    {
      "cell_type": "code",
      "source": [
        "#Восстановление тензоров меток из файла\n",
        "import csv\n",
        "import torch\n",
        "import numpy as np\n",
        "\n",
        "def load_mfcc_from_csv(filename):\n",
        "    mfcc = []\n",
        "    with open(filename, mode='r') as file:\n",
        "        reader = csv.reader(file)\n",
        "        for row in reader:\n",
        "            # Преобразуем строку из CSV в numpy массив и затем в torch Tensor\n",
        "            mfcc.append(torch.Tensor(np.array(row, dtype=np.float32)))\n",
        "    return mfcc\n",
        "\n",
        "# Загрузка MFCC из файла\n",
        "mfcc = load_mfcc_from_csv('mfcc_output.csv')\n",
        "\n",
        "# Проверка на вывод\n",
        "for i, t in enumerate(mfcc[:5]):  # Печатаем первые 5 примеров для проверки\n",
        "    print(f'MFCC {i + 1}: {t}')\n"
      ],
      "metadata": {
        "colab": {
          "base_uri": "https://localhost:8080/"
        },
        "id": "8aDfx6c21yCZ",
        "outputId": "5e70b903-cc34-4ac4-9b9e-5a719039f889"
      },
      "execution_count": 3,
      "outputs": [
        {
          "output_type": "stream",
          "name": "stdout",
          "text": [
            "MFCC 1: tensor([-108.2913,   49.5634,    6.5867,   -2.2822,  -15.0913,  -16.9882,\n",
            "         -16.9204,   -8.3872,   -7.5990,   -2.9017,   -2.6610,    1.5988,\n",
            "          -8.2738,   -3.1945,   -8.8956,   -2.5323,   -7.8395,   -5.8930,\n",
            "         -10.9848,   -4.0830,   -7.6019,   -1.2969,   -2.5207,    3.4960,\n",
            "           1.7545,    5.2709,    3.7981,    9.7894,    3.2598,    6.2741,\n",
            "           1.1661,    2.4266,   -5.6150,   -1.4368,   -7.0914,   -6.0522,\n",
            "         -12.2938,   -9.3101,  -12.3310,   -6.9381])\n",
            "MFCC 2: tensor([-121.0478,   74.1888,  -21.6466,   -9.4654,  -21.9804,  -13.5720,\n",
            "         -14.4308,   -5.4605,   -9.8770,   -2.9259,   -2.3179,    1.0340,\n",
            "          -6.6118,   -2.0979,   -8.3919,   -4.2026,  -10.1926,   -4.1213,\n",
            "         -10.6287,   -4.0864,   -7.6053,   -2.4576,   -6.3705,    0.8387,\n",
            "          -0.3814,    3.0429,    1.1227,    8.3010,    1.9892,    6.4939,\n",
            "           1.1472,    1.7716,   -4.7720,   -2.2520,   -6.4079,   -6.0621,\n",
            "         -12.9777,   -9.0698,  -11.0458,   -7.1296])\n",
            "MFCC 3: tensor([-30.7952,  29.1278,   9.1396,   1.8332, -10.5363, -11.5773,  -7.3162,\n",
            "         -7.2546,  -7.3074,  -4.2724,  -7.8560,   2.8988,  -7.0228,  -2.1131,\n",
            "         -6.7581,  -1.4731,  -7.9810,  -2.6133,  -6.2309,  -3.0688,  -6.7345,\n",
            "          1.3743,  -5.0837,   0.7875,  -3.7753,   2.7506,  -0.7403,   5.1511,\n",
            "          1.9216,   7.0146,  -0.8069,   3.9173,  -3.6817,  -0.5617,  -6.6209,\n",
            "         -5.3556, -14.1716, -10.7991, -15.1928, -10.2375])\n",
            "MFCC 4: tensor([-183.1704,  137.9020,  -17.6980,  -29.7441,   -8.4088,  -22.9090,\n",
            "         -23.2399,   -4.6712,  -22.9734,    2.7676,  -12.0021,   -5.8776,\n",
            "          -4.9697,    0.9886,   -5.7116,   -7.8665,   -5.2071,   -7.4176,\n",
            "         -10.9641,   -1.6440,   -7.4783,    0.2981,   -3.3789,    4.0510,\n",
            "           1.3206,    2.3436,    2.6186,    9.7281,    4.4427,    4.2457,\n",
            "           0.2830,    0.9630,   -1.9529,   -0.9023,   -9.1902,   -8.1406,\n",
            "         -14.2099,  -11.5622,  -10.7244,   -7.9261])\n",
            "MFCC 5: tensor([-7.5443e+01,  6.4646e+01, -1.1154e+01, -4.2024e+00, -1.4370e+01,\n",
            "        -2.6767e+01, -1.2310e+01, -8.5282e+00, -1.1478e+01,  2.0498e+00,\n",
            "        -1.1751e+01, -1.6654e+00, -7.4339e+00, -7.0467e-02, -5.7605e+00,\n",
            "         2.0491e+00, -5.2895e+00, -6.7087e-01, -9.1114e+00, -4.1619e+00,\n",
            "        -8.4073e+00, -2.8106e+00, -1.0496e+01, -5.0797e-01,  2.8225e-01,\n",
            "         3.0619e+00, -1.2949e+00,  6.5594e+00,  4.8182e+00,  1.0046e+01,\n",
            "         4.3659e+00,  5.9677e+00, -6.3559e+00, -5.4019e+00, -9.4615e+00,\n",
            "        -4.8771e+00, -8.4241e+00, -9.1386e+00, -1.6263e+01, -1.0686e+01])\n"
          ]
        }
      ]
    },
    {
      "cell_type": "code",
      "source": [
        "from sklearn.preprocessing import LabelEncoder\n",
        "from tensorflow.keras.utils import to_categorical\n",
        "label_encoder = LabelEncoder()\n",
        "y_encoded = label_encoder.fit_transform(labels)\n",
        "print(y_encoded)\n",
        "print(len(y_encoded))\n",
        "print(y_encoded.shape)\n",
        "y_one_hot = to_categorical(y_encoded)\n",
        "print(y_one_hot)\n",
        "print(len(y_one_hot))"
      ],
      "metadata": {
        "id": "WqBwPrLhOoHc",
        "colab": {
          "base_uri": "https://localhost:8080/"
        },
        "outputId": "d82aa9a3-1348-4832-c193-6b97d374d9df"
      },
      "execution_count": 8,
      "outputs": [
        {
          "output_type": "stream",
          "name": "stdout",
          "text": [
            "[11 74 44  3 80  1  6 25 61  1 56 32 60 38 35 45 16 81  7 59 55 79 27 38\n",
            " 25 79 43  8 62 53 56 56 50  9 65 14 55 58  4 36 16 15 25 25 79 34 40 26\n",
            " 71 48 72 73 64 12 75 28  5 42 63 18 46 17 69 37 66 20 70 54 23 31 41 12\n",
            " 23 82 47 52 51  2 33 76 22 24 13 78 18 39 30 19  0 51 67 77 57 68 49 68\n",
            "  0 21 23 13 29 10]\n",
            "102\n",
            "(102,)\n",
            "[[0. 0. 0. ... 0. 0. 0.]\n",
            " [0. 0. 0. ... 0. 0. 0.]\n",
            " [0. 0. 0. ... 0. 0. 0.]\n",
            " ...\n",
            " [0. 0. 0. ... 0. 0. 0.]\n",
            " [0. 0. 0. ... 0. 0. 0.]\n",
            " [0. 0. 0. ... 0. 0. 0.]]\n",
            "102\n"
          ]
        }
      ]
    },
    {
      "cell_type": "code",
      "source": [
        "print(y_one_hot.shape)"
      ],
      "metadata": {
        "colab": {
          "base_uri": "https://localhost:8080/"
        },
        "id": "vEa9oeBFlScg",
        "outputId": "29e8a3c9-f7b7-4044-c331-b599b305979b"
      },
      "execution_count": 9,
      "outputs": [
        {
          "output_type": "stream",
          "name": "stdout",
          "text": [
            "(102, 83)\n"
          ]
        }
      ]
    },
    {
      "cell_type": "markdown",
      "source": [
        "Разделение датасета на выборки"
      ],
      "metadata": {
        "id": "FdlSWCALOGmE"
      }
    },
    {
      "cell_type": "code",
      "source": [
        "from sklearn.model_selection import train_test_split\n",
        "mfcc_array = np.array(mfcc)\n",
        "\n",
        "X_train, X_test, y_train, y_test = train_test_split(mfcc_array, y_encoded, test_size=0.2, random_state=42)\n",
        "print(f'Размеры выборок: Обучающая: {X_train.shape} Тестовая: {X_test.shape}')\n",
        "print(y_train.shape, y_test.shape)"
      ],
      "metadata": {
        "colab": {
          "base_uri": "https://localhost:8080/"
        },
        "id": "1qHs8ovzOI9U",
        "outputId": "811254dd-00b8-406a-c5d9-0a67f0b16ef4"
      },
      "execution_count": 38,
      "outputs": [
        {
          "output_type": "stream",
          "name": "stdout",
          "text": [
            "Размеры выборок: Обучающая: (81, 40) Тестовая: (21, 40)\n",
            "(81,) (21,)\n"
          ]
        }
      ]
    },
    {
      "cell_type": "code",
      "source": [
        "# Паддинг последовательностей\n",
        "from tensorflow.keras.preprocessing.sequence import pad_sequences\n",
        "max_length = max(max(len(seq) for seq in X_train), max(len(seq) for seq in X_test))\n",
        "X_train_padded = pad_sequences(X_train, maxlen=max_length, padding='post')\n",
        "X_test_padded = pad_sequences(X_test, maxlen=max_length, padding='post')"
      ],
      "metadata": {
        "id": "msDd-Ed-Ql-4"
      },
      "execution_count": 39,
      "outputs": []
    },
    {
      "cell_type": "code",
      "source": [
        "X_train_tensor = torch.tensor(X_train_padded, dtype=torch.float32)\n",
        "X_test_tensor = torch.tensor(X_test_padded, dtype=torch.float32)\n",
        "y_train_tensor = torch.tensor(y_train, dtype=torch.float32)\n",
        "y_test_tensor = torch.tensor(y_test, dtype=torch.float32)"
      ],
      "metadata": {
        "id": "yOYMszCvkiM4"
      },
      "execution_count": 40,
      "outputs": []
    },
    {
      "cell_type": "markdown",
      "source": [
        "Реализация модели с помощью LSTM ячейки"
      ],
      "metadata": {
        "id": "IHe2VClz0JVC"
      }
    },
    {
      "cell_type": "code",
      "source": [
        "import torch.optim as optim\n",
        "from sklearn.metrics import accuracy_score\n",
        "import matplotlib.pyplot as plt\n",
        "\n",
        "class LSTMModel(nn.Module):\n",
        "    def __init__(self, input_size, hidden_size, output_size):\n",
        "        super(LSTMModel, self).__init__()\n",
        "        self.lstm = nn.LSTM(input_size, hidden_size, batch_first=True)\n",
        "        self.fc = nn.Linear(hidden_size, output_size)\n",
        "\n",
        "    def forward(self, x):\n",
        "        lstm_out, _ = self.lstm(x)\n",
        "        out = self.fc(lstm_out[:, -1, :])  # Используем последний выход LSTM\n",
        "        return out"
      ],
      "metadata": {
        "id": "-2-6g54KrAwl"
      },
      "execution_count": 77,
      "outputs": []
    },
    {
      "cell_type": "code",
      "source": [
        "# Параметры модели\n",
        "input_size = mfcc_array.shape[1]  # Размер входа (количество признаков MFCC)\n",
        "hidden_size = 128  # Размер скрытого слоя\n",
        "output_size = len(label_encoder.classes_)  # Количество классов\n",
        "\n",
        "# Создание модели\n",
        "model = LSTMModel(input_size, hidden_size, output_size)\n",
        "criterion = nn.CrossEntropyLoss()\n",
        "optimizer = optim.Adam(model.parameters(), lr=0.001)"
      ],
      "metadata": {
        "id": "THtMubWXrUsE"
      },
      "execution_count": 78,
      "outputs": []
    },
    {
      "cell_type": "markdown",
      "source": [
        "Обучение модели"
      ],
      "metadata": {
        "id": "pLwcHRtkTNy8"
      }
    },
    {
      "cell_type": "code",
      "source": [
        "num_epochs = 200\n",
        "train_losses = []\n",
        "test_losses = []\n",
        "\n",
        "for epoch in range(num_epochs):\n",
        "    model.train()\n",
        "    optimizer.zero_grad()\n",
        "    outputs = model(X_train_tensor.unsqueeze(1))  # Добавляем размерность для батча\n",
        "    loss = criterion(outputs, y_train_tensor.long())\n",
        "    loss.backward()\n",
        "    optimizer.step()\n",
        "\n",
        "    train_losses.append(loss.item())\n",
        "\n",
        "\n",
        "    model.eval()\n",
        "    with torch.no_grad():\n",
        "        test_outputs = model(X_test_tensor.unsqueeze(1))\n",
        "        test_loss = criterion(test_outputs, y_test_tensor.long())\n",
        "        test_losses.append(test_loss.item())\n",
        "\n",
        "    print(f'Epoch [{epoch+1}/{num_epochs}], Train Loss: {loss.item():.4f}, Test Loss: {test_loss.item():.4f}')\n",
        "\n",
        "# Сравнение метрик\n",
        "y_train_pred = torch.argmax(model(X_train_tensor.unsqueeze(1)), dim=1).numpy()\n",
        "y_test_pred = torch.argmax(model(X_test_tensor.unsqueeze(1)), dim=1).numpy()\n",
        "\n",
        "train_accuracy = accuracy_score(y_train, y_train_pred)\n",
        "test_accuracy = accuracy_score(y_test, y_test_pred)\n",
        "\n",
        "print(f'Train Accuracy: {train_accuracy:.4f}, Test Accuracy: {test_accuracy:.4f}')\n",
        "\n",
        "# Построение графиков потерь\n",
        "plt.plot(train_losses, label='Train Loss')\n",
        "plt.plot(test_losses, label='Test Loss')\n",
        "plt.xlabel('Epochs')\n",
        "plt.ylabel('Loss')\n",
        "plt.legend()\n",
        "plt.title('Loss vs Epochs')\n",
        "\n",
        "# График ROC AUC\n",
        "plt.subplot(1, 2, 2)\n",
        "plt.bar(['Train', 'Test'], [train_accuracy, test_accuracy])\n",
        "plt.title('ROC AUC')\n",
        "plt.ylabel('ROC AUC Score')\n",
        "\n",
        "plt.tight_layout()\n",
        "plt.show()\n"
      ],
      "metadata": {
        "colab": {
          "base_uri": "https://localhost:8080/",
          "height": 1000
        },
        "id": "-qFhlf4DqUwJ",
        "outputId": "7fd03e31-82a9-4f18-9556-36eaed67b024"
      },
      "execution_count": 79,
      "outputs": [
        {
          "output_type": "stream",
          "name": "stdout",
          "text": [
            "Epoch [1/200], Train Loss: 4.4117, Test Loss: 4.4356\n",
            "Epoch [2/200], Train Loss: 4.3630, Test Loss: 4.4530\n",
            "Epoch [3/200], Train Loss: 4.3166, Test Loss: 4.4693\n",
            "Epoch [4/200], Train Loss: 4.2734, Test Loss: 4.4853\n",
            "Epoch [5/200], Train Loss: 4.2325, Test Loss: 4.5019\n",
            "Epoch [6/200], Train Loss: 4.1924, Test Loss: 4.5201\n",
            "Epoch [7/200], Train Loss: 4.1523, Test Loss: 4.5407\n",
            "Epoch [8/200], Train Loss: 4.1118, Test Loss: 4.5639\n",
            "Epoch [9/200], Train Loss: 4.0710, Test Loss: 4.5892\n",
            "Epoch [10/200], Train Loss: 4.0300, Test Loss: 4.6165\n",
            "Epoch [11/200], Train Loss: 3.9888, Test Loss: 4.6455\n",
            "Epoch [12/200], Train Loss: 3.9476, Test Loss: 4.6756\n",
            "Epoch [13/200], Train Loss: 3.9059, Test Loss: 4.7059\n",
            "Epoch [14/200], Train Loss: 3.8637, Test Loss: 4.7361\n",
            "Epoch [15/200], Train Loss: 3.8209, Test Loss: 4.7662\n",
            "Epoch [16/200], Train Loss: 3.7773, Test Loss: 4.7959\n",
            "Epoch [17/200], Train Loss: 3.7331, Test Loss: 4.8246\n",
            "Epoch [18/200], Train Loss: 3.6885, Test Loss: 4.8520\n",
            "Epoch [19/200], Train Loss: 3.6440, Test Loss: 4.8782\n",
            "Epoch [20/200], Train Loss: 3.5993, Test Loss: 4.9036\n",
            "Epoch [21/200], Train Loss: 3.5538, Test Loss: 4.9287\n",
            "Epoch [22/200], Train Loss: 3.5072, Test Loss: 4.9545\n",
            "Epoch [23/200], Train Loss: 3.4597, Test Loss: 4.9818\n",
            "Epoch [24/200], Train Loss: 3.4116, Test Loss: 5.0103\n",
            "Epoch [25/200], Train Loss: 3.3630, Test Loss: 5.0388\n",
            "Epoch [26/200], Train Loss: 3.3143, Test Loss: 5.0661\n",
            "Epoch [27/200], Train Loss: 3.2654, Test Loss: 5.0918\n",
            "Epoch [28/200], Train Loss: 3.2163, Test Loss: 5.1169\n",
            "Epoch [29/200], Train Loss: 3.1674, Test Loss: 5.1433\n",
            "Epoch [30/200], Train Loss: 3.1190, Test Loss: 5.1723\n",
            "Epoch [31/200], Train Loss: 3.0711, Test Loss: 5.2030\n",
            "Epoch [32/200], Train Loss: 3.0232, Test Loss: 5.2344\n",
            "Epoch [33/200], Train Loss: 2.9751, Test Loss: 5.2658\n",
            "Epoch [34/200], Train Loss: 2.9270, Test Loss: 5.2971\n",
            "Epoch [35/200], Train Loss: 2.8790, Test Loss: 5.3280\n",
            "Epoch [36/200], Train Loss: 2.8315, Test Loss: 5.3582\n",
            "Epoch [37/200], Train Loss: 2.7848, Test Loss: 5.3875\n",
            "Epoch [38/200], Train Loss: 2.7383, Test Loss: 5.4164\n",
            "Epoch [39/200], Train Loss: 2.6916, Test Loss: 5.4453\n",
            "Epoch [40/200], Train Loss: 2.6450, Test Loss: 5.4744\n",
            "Epoch [41/200], Train Loss: 2.5988, Test Loss: 5.5040\n",
            "Epoch [42/200], Train Loss: 2.5528, Test Loss: 5.5337\n",
            "Epoch [43/200], Train Loss: 2.5070, Test Loss: 5.5627\n",
            "Epoch [44/200], Train Loss: 2.4615, Test Loss: 5.5912\n",
            "Epoch [45/200], Train Loss: 2.4163, Test Loss: 5.6197\n",
            "Epoch [46/200], Train Loss: 2.3712, Test Loss: 5.6487\n",
            "Epoch [47/200], Train Loss: 2.3263, Test Loss: 5.6781\n",
            "Epoch [48/200], Train Loss: 2.2816, Test Loss: 5.7074\n",
            "Epoch [49/200], Train Loss: 2.2373, Test Loss: 5.7364\n",
            "Epoch [50/200], Train Loss: 2.1934, Test Loss: 5.7642\n",
            "Epoch [51/200], Train Loss: 2.1499, Test Loss: 5.7911\n",
            "Epoch [52/200], Train Loss: 2.1068, Test Loss: 5.8174\n",
            "Epoch [53/200], Train Loss: 2.0642, Test Loss: 5.8434\n",
            "Epoch [54/200], Train Loss: 2.0221, Test Loss: 5.8687\n",
            "Epoch [55/200], Train Loss: 1.9804, Test Loss: 5.8927\n",
            "Epoch [56/200], Train Loss: 1.9390, Test Loss: 5.9150\n",
            "Epoch [57/200], Train Loss: 1.8981, Test Loss: 5.9363\n",
            "Epoch [58/200], Train Loss: 1.8576, Test Loss: 5.9575\n",
            "Epoch [59/200], Train Loss: 1.8176, Test Loss: 5.9800\n",
            "Epoch [60/200], Train Loss: 1.7779, Test Loss: 6.0037\n",
            "Epoch [61/200], Train Loss: 1.7386, Test Loss: 6.0275\n",
            "Epoch [62/200], Train Loss: 1.6999, Test Loss: 6.0498\n",
            "Epoch [63/200], Train Loss: 1.6617, Test Loss: 6.0702\n",
            "Epoch [64/200], Train Loss: 1.6241, Test Loss: 6.0890\n",
            "Epoch [65/200], Train Loss: 1.5872, Test Loss: 6.1071\n",
            "Epoch [66/200], Train Loss: 1.5507, Test Loss: 6.1259\n",
            "Epoch [67/200], Train Loss: 1.5148, Test Loss: 6.1466\n",
            "Epoch [68/200], Train Loss: 1.4794, Test Loss: 6.1693\n",
            "Epoch [69/200], Train Loss: 1.4443, Test Loss: 6.1925\n",
            "Epoch [70/200], Train Loss: 1.4096, Test Loss: 6.2150\n",
            "Epoch [71/200], Train Loss: 1.3753, Test Loss: 6.2364\n",
            "Epoch [72/200], Train Loss: 1.3413, Test Loss: 6.2569\n",
            "Epoch [73/200], Train Loss: 1.3076, Test Loss: 6.2764\n",
            "Epoch [74/200], Train Loss: 1.2745, Test Loss: 6.2957\n",
            "Epoch [75/200], Train Loss: 1.2420, Test Loss: 6.3149\n",
            "Epoch [76/200], Train Loss: 1.2103, Test Loss: 6.3326\n",
            "Epoch [77/200], Train Loss: 1.1792, Test Loss: 6.3492\n",
            "Epoch [78/200], Train Loss: 1.1486, Test Loss: 6.3660\n",
            "Epoch [79/200], Train Loss: 1.1183, Test Loss: 6.3846\n",
            "Epoch [80/200], Train Loss: 1.0884, Test Loss: 6.4037\n",
            "Epoch [81/200], Train Loss: 1.0589, Test Loss: 6.4224\n",
            "Epoch [82/200], Train Loss: 1.0300, Test Loss: 6.4415\n",
            "Epoch [83/200], Train Loss: 1.0019, Test Loss: 6.4619\n",
            "Epoch [84/200], Train Loss: 0.9743, Test Loss: 6.4828\n",
            "Epoch [85/200], Train Loss: 0.9474, Test Loss: 6.5031\n",
            "Epoch [86/200], Train Loss: 0.9210, Test Loss: 6.5225\n",
            "Epoch [87/200], Train Loss: 0.8951, Test Loss: 6.5415\n",
            "Epoch [88/200], Train Loss: 0.8699, Test Loss: 6.5602\n",
            "Epoch [89/200], Train Loss: 0.8454, Test Loss: 6.5784\n",
            "Epoch [90/200], Train Loss: 0.8216, Test Loss: 6.5953\n",
            "Epoch [91/200], Train Loss: 0.7985, Test Loss: 6.6110\n",
            "Epoch [92/200], Train Loss: 0.7760, Test Loss: 6.6261\n",
            "Epoch [93/200], Train Loss: 0.7542, Test Loss: 6.6406\n",
            "Epoch [94/200], Train Loss: 0.7329, Test Loss: 6.6544\n",
            "Epoch [95/200], Train Loss: 0.7123, Test Loss: 6.6673\n",
            "Epoch [96/200], Train Loss: 0.6922, Test Loss: 6.6796\n",
            "Epoch [97/200], Train Loss: 0.6727, Test Loss: 6.6919\n",
            "Epoch [98/200], Train Loss: 0.6537, Test Loss: 6.7046\n",
            "Epoch [99/200], Train Loss: 0.6353, Test Loss: 6.7175\n",
            "Epoch [100/200], Train Loss: 0.6174, Test Loss: 6.7297\n",
            "Epoch [101/200], Train Loss: 0.6000, Test Loss: 6.7406\n",
            "Epoch [102/200], Train Loss: 0.5831, Test Loss: 6.7505\n",
            "Epoch [103/200], Train Loss: 0.5667, Test Loss: 6.7608\n",
            "Epoch [104/200], Train Loss: 0.5508, Test Loss: 6.7719\n",
            "Epoch [105/200], Train Loss: 0.5354, Test Loss: 6.7841\n",
            "Epoch [106/200], Train Loss: 0.5204, Test Loss: 6.7969\n",
            "Epoch [107/200], Train Loss: 0.5059, Test Loss: 6.8099\n",
            "Epoch [108/200], Train Loss: 0.4919, Test Loss: 6.8225\n",
            "Epoch [109/200], Train Loss: 0.4784, Test Loss: 6.8345\n",
            "Epoch [110/200], Train Loss: 0.4653, Test Loss: 6.8458\n",
            "Epoch [111/200], Train Loss: 0.4526, Test Loss: 6.8564\n",
            "Epoch [112/200], Train Loss: 0.4404, Test Loss: 6.8666\n",
            "Epoch [113/200], Train Loss: 0.4285, Test Loss: 6.8768\n",
            "Epoch [114/200], Train Loss: 0.4171, Test Loss: 6.8874\n",
            "Epoch [115/200], Train Loss: 0.4060, Test Loss: 6.8984\n",
            "Epoch [116/200], Train Loss: 0.3954, Test Loss: 6.9095\n",
            "Epoch [117/200], Train Loss: 0.3850, Test Loss: 6.9203\n",
            "Epoch [118/200], Train Loss: 0.3750, Test Loss: 6.9310\n",
            "Epoch [119/200], Train Loss: 0.3653, Test Loss: 6.9414\n",
            "Epoch [120/200], Train Loss: 0.3559, Test Loss: 6.9517\n",
            "Epoch [121/200], Train Loss: 0.3467, Test Loss: 6.9616\n",
            "Epoch [122/200], Train Loss: 0.3379, Test Loss: 6.9712\n",
            "Epoch [123/200], Train Loss: 0.3294, Test Loss: 6.9803\n",
            "Epoch [124/200], Train Loss: 0.3211, Test Loss: 6.9890\n",
            "Epoch [125/200], Train Loss: 0.3131, Test Loss: 6.9975\n",
            "Epoch [126/200], Train Loss: 0.3054, Test Loss: 7.0057\n",
            "Epoch [127/200], Train Loss: 0.2979, Test Loss: 7.0135\n",
            "Epoch [128/200], Train Loss: 0.2907, Test Loss: 7.0210\n",
            "Epoch [129/200], Train Loss: 0.2837, Test Loss: 7.0283\n",
            "Epoch [130/200], Train Loss: 0.2769, Test Loss: 7.0356\n",
            "Epoch [131/200], Train Loss: 0.2704, Test Loss: 7.0432\n",
            "Epoch [132/200], Train Loss: 0.2640, Test Loss: 7.0510\n",
            "Epoch [133/200], Train Loss: 0.2579, Test Loss: 7.0586\n",
            "Epoch [134/200], Train Loss: 0.2519, Test Loss: 7.0657\n",
            "Epoch [135/200], Train Loss: 0.2461, Test Loss: 7.0727\n",
            "Epoch [136/200], Train Loss: 0.2405, Test Loss: 7.0799\n",
            "Epoch [137/200], Train Loss: 0.2351, Test Loss: 7.0872\n",
            "Epoch [138/200], Train Loss: 0.2298, Test Loss: 7.0939\n",
            "Epoch [139/200], Train Loss: 0.2248, Test Loss: 7.1001\n",
            "Epoch [140/200], Train Loss: 0.2199, Test Loss: 7.1064\n",
            "Epoch [141/200], Train Loss: 0.2152, Test Loss: 7.1127\n",
            "Epoch [142/200], Train Loss: 0.2106, Test Loss: 7.1187\n",
            "Epoch [143/200], Train Loss: 0.2061, Test Loss: 7.1242\n",
            "Epoch [144/200], Train Loss: 0.2018, Test Loss: 7.1296\n",
            "Epoch [145/200], Train Loss: 0.1976, Test Loss: 7.1353\n",
            "Epoch [146/200], Train Loss: 0.1936, Test Loss: 7.1410\n",
            "Epoch [147/200], Train Loss: 0.1896, Test Loss: 7.1466\n",
            "Epoch [148/200], Train Loss: 0.1857, Test Loss: 7.1518\n",
            "Epoch [149/200], Train Loss: 0.1819, Test Loss: 7.1572\n",
            "Epoch [150/200], Train Loss: 0.1783, Test Loss: 7.1649\n",
            "Epoch [151/200], Train Loss: 0.1747, Test Loss: 7.1744\n",
            "Epoch [152/200], Train Loss: 0.1713, Test Loss: 7.1836\n",
            "Epoch [153/200], Train Loss: 0.1681, Test Loss: 7.1907\n",
            "Epoch [154/200], Train Loss: 0.1649, Test Loss: 7.1960\n",
            "Epoch [155/200], Train Loss: 0.1619, Test Loss: 7.2008\n",
            "Epoch [156/200], Train Loss: 0.1589, Test Loss: 7.2058\n",
            "Epoch [157/200], Train Loss: 0.1560, Test Loss: 7.2113\n",
            "Epoch [158/200], Train Loss: 0.1532, Test Loss: 7.2170\n",
            "Epoch [159/200], Train Loss: 0.1505, Test Loss: 7.2227\n",
            "Epoch [160/200], Train Loss: 0.1479, Test Loss: 7.2279\n",
            "Epoch [161/200], Train Loss: 0.1453, Test Loss: 7.2327\n",
            "Epoch [162/200], Train Loss: 0.1428, Test Loss: 7.2370\n",
            "Epoch [163/200], Train Loss: 0.1404, Test Loss: 7.2414\n",
            "Epoch [164/200], Train Loss: 0.1380, Test Loss: 7.2463\n",
            "Epoch [165/200], Train Loss: 0.1357, Test Loss: 7.2524\n",
            "Epoch [166/200], Train Loss: 0.1335, Test Loss: 7.2591\n",
            "Epoch [167/200], Train Loss: 0.1313, Test Loss: 7.2653\n",
            "Epoch [168/200], Train Loss: 0.1292, Test Loss: 7.2706\n",
            "Epoch [169/200], Train Loss: 0.1271, Test Loss: 7.2752\n",
            "Epoch [170/200], Train Loss: 0.1251, Test Loss: 7.2798\n",
            "Epoch [171/200], Train Loss: 0.1232, Test Loss: 7.2850\n",
            "Epoch [172/200], Train Loss: 0.1213, Test Loss: 7.2906\n",
            "Epoch [173/200], Train Loss: 0.1195, Test Loss: 7.2961\n",
            "Epoch [174/200], Train Loss: 0.1177, Test Loss: 7.3009\n",
            "Epoch [175/200], Train Loss: 0.1159, Test Loss: 7.3050\n",
            "Epoch [176/200], Train Loss: 0.1142, Test Loss: 7.3085\n",
            "Epoch [177/200], Train Loss: 0.1125, Test Loss: 7.3120\n",
            "Epoch [178/200], Train Loss: 0.1109, Test Loss: 7.3158\n",
            "Epoch [179/200], Train Loss: 0.1093, Test Loss: 7.3205\n",
            "Epoch [180/200], Train Loss: 0.1077, Test Loss: 7.3254\n",
            "Epoch [181/200], Train Loss: 0.1062, Test Loss: 7.3299\n",
            "Epoch [182/200], Train Loss: 0.1047, Test Loss: 7.3337\n",
            "Epoch [183/200], Train Loss: 0.1032, Test Loss: 7.3372\n",
            "Epoch [184/200], Train Loss: 0.1018, Test Loss: 7.3408\n",
            "Epoch [185/200], Train Loss: 0.1004, Test Loss: 7.3445\n",
            "Epoch [186/200], Train Loss: 0.0990, Test Loss: 7.3483\n",
            "Epoch [187/200], Train Loss: 0.0977, Test Loss: 7.3521\n",
            "Epoch [188/200], Train Loss: 0.0964, Test Loss: 7.3557\n",
            "Epoch [189/200], Train Loss: 0.0951, Test Loss: 7.3593\n",
            "Epoch [190/200], Train Loss: 0.0938, Test Loss: 7.3628\n",
            "Epoch [191/200], Train Loss: 0.0926, Test Loss: 7.3663\n",
            "Epoch [192/200], Train Loss: 0.0914, Test Loss: 7.3697\n",
            "Epoch [193/200], Train Loss: 0.0903, Test Loss: 7.3731\n",
            "Epoch [194/200], Train Loss: 0.0891, Test Loss: 7.3765\n",
            "Epoch [195/200], Train Loss: 0.0880, Test Loss: 7.3798\n",
            "Epoch [196/200], Train Loss: 0.0869, Test Loss: 7.3831\n",
            "Epoch [197/200], Train Loss: 0.0858, Test Loss: 7.3864\n",
            "Epoch [198/200], Train Loss: 0.0848, Test Loss: 7.3897\n",
            "Epoch [199/200], Train Loss: 0.0838, Test Loss: 7.3929\n",
            "Epoch [200/200], Train Loss: 0.0827, Test Loss: 7.3961\n",
            "Train Accuracy: 1.0000, Test Accuracy: 0.0476\n"
          ]
        },
        {
          "output_type": "display_data",
          "data": {
            "text/plain": [
              "<Figure size 640x480 with 2 Axes>"
            ],
            "image/png": "[encoded data removed]"
          },
          "metadata": {}
        }
      ]
    },
    {
      "cell_type": "markdown",
      "source": [
        "Усложним модель и проведем подбор гиперпараметров"
      ],
      "metadata": {
        "id": "fd6pXg3ZurWG"
      }
    },
    {
      "cell_type": "code",
      "source": [
        "import torch\n",
        "import torch.nn as nn\n",
        "import torch.optim as optim\n",
        "from sklearn.metrics import roc_auc_score\n",
        "!pip install optuna\n",
        "import optuna\n",
        "\n",
        "class LSTMModel1(nn.Module):\n",
        "    def __init__(self, input_size, hidden_size, output_size, dropout_rate):\n",
        "        super(LSTMModel1, self).__init__()\n",
        "        self.lstm = nn.LSTM(input_size, hidden_size, batch_first=True)\n",
        "        self.batchnorm = nn.BatchNorm1d(hidden_size)\n",
        "        self.dropout = nn.Dropout(dropout_rate)\n",
        "        self.fc = nn.Linear(hidden_size, output_size)\n",
        "\n",
        "    def forward(self, x):\n",
        "        lstm_out, _ = self.lstm(x)\n",
        "        out = self.batchnorm(lstm_out[:, -1, :])  # Используем последний выход LSTM\n",
        "        out = self.dropout(out)\n",
        "        out = self.fc(out)\n",
        "        return out\n"
      ],
      "metadata": {
        "colab": {
          "base_uri": "https://localhost:8080/"
        },
        "id": "IOFjqz9Cux4W",
        "outputId": "7afb2843-c0f8-4ad3-ef8b-49154e9974be"
      },
      "execution_count": 85,
      "outputs": [
        {
          "output_type": "stream",
          "name": "stdout",
          "text": [
            "Requirement already satisfied: optuna in /usr/local/lib/python3.10/dist-packages (4.1.0)\n",
            "Requirement already satisfied: alembic>=1.5.0 in /usr/local/lib/python3.10/dist-packages (from optuna) (1.14.0)\n",
            "Requirement already satisfied: colorlog in /usr/local/lib/python3.10/dist-packages (from optuna) (6.9.0)\n",
            "Requirement already satisfied: numpy in /usr/local/lib/python3.10/dist-packages (from optuna) (1.26.4)\n",
            "Requirement already satisfied: packaging>=20.0 in /usr/local/lib/python3.10/dist-packages (from optuna) (24.2)\n",
            "Requirement already satisfied: sqlalchemy>=1.4.2 in /usr/local/lib/python3.10/dist-packages (from optuna) (2.0.36)\n",
            "Requirement already satisfied: tqdm in /usr/local/lib/python3.10/dist-packages (from optuna) (4.66.6)\n",
            "Requirement already satisfied: PyYAML in /usr/local/lib/python3.10/dist-packages (from optuna) (6.0.2)\n",
            "Requirement already satisfied: Mako in /usr/local/lib/python3.10/dist-packages (from alembic>=1.5.0->optuna) (1.3.8)\n",
            "Requirement already satisfied: typing-extensions>=4 in /usr/local/lib/python3.10/dist-packages (from alembic>=1.5.0->optuna) (4.12.2)\n",
            "Requirement already satisfied: greenlet!=0.4.17 in /usr/local/lib/python3.10/dist-packages (from sqlalchemy>=1.4.2->optuna) (3.1.1)\n",
            "Requirement already satisfied: MarkupSafe>=0.9.2 in /usr/local/lib/python3.10/dist-packages (from Mako->alembic>=1.5.0->optuna) (3.0.2)\n"
          ]
        }
      ]
    },
    {
      "cell_type": "code",
      "source": [
        "def train_and_evaluate(trial):\n",
        "    input_size = mfcc_array.shape[1]  # Размер входа (количество признаков MFCC)\n",
        "    output_size = len(label_encoder.classes_)  # Количество классов\n",
        "    # Гиперпараметры\n",
        "    hidden_size = trial.suggest_int('hidden_size', 64, 128)\n",
        "    dropout_rate = trial.suggest_float('dropout_rate', 0.1, 0.5)\n",
        "    learning_rate = trial.suggest_loguniform('learning_rate', 1e-5, 1e-1)\n",
        "    num_epochs = trial.suggest_int('num_epochs', 10, 50)\n",
        "    batch_size = trial.suggest_int('batch_size', 16, 64)\n",
        "\n",
        "    model = LSTMModel1(input_size=input_size, hidden_size=hidden_size,\n",
        "                      output_size=output_size, dropout_rate=dropout_rate)\n",
        "\n",
        "    criterion = nn.CrossEntropyLoss()\n",
        "    optimizer = optim.Adam(model.parameters(), lr=learning_rate)\n",
        "\n",
        "    num_epochs = 100\n",
        "    train_losses = []\n",
        "    test_losses = []\n",
        "\n",
        "    for epoch in range(num_epochs):\n",
        "        model.train()\n",
        "        optimizer.zero_grad()\n",
        "        outputs = model(X_train_tensor.unsqueeze(1))  # Добавляем размерность для батча\n",
        "        loss = criterion(outputs, y_train_tensor.long())\n",
        "        loss.backward()\n",
        "        optimizer.step()\n",
        "\n",
        "        train_losses.append(loss.item())\n",
        "\n",
        "\n",
        "        model.eval()\n",
        "        with torch.no_grad():\n",
        "            test_outputs = model(X_test_tensor.unsqueeze(1))\n",
        "            test_loss = criterion(test_outputs, y_test_tensor.long())\n",
        "            test_losses.append(test_loss.item())\n",
        "\n",
        "        print(f'Epoch [{epoch+1}/{num_epochs}], Train Loss: {loss.item():.4f}, Test Loss: {test_loss.item():.4f}')\n",
        "\n",
        "        # Сравнение метрик\n",
        "        y_train_pred = torch.argmax(model(X_train_tensor.unsqueeze(1)), dim=1).numpy()\n",
        "        y_test_pred = torch.argmax(model(X_test_tensor.unsqueeze(1)), dim=1).numpy()\n",
        "\n",
        "        train_accuracy = accuracy_score(y_train, y_train_pred)\n",
        "        test_accuracy = accuracy_score(y_test, y_test_pred)\n",
        "\n",
        "        print(f'Train Accuracy: {train_accuracy:.4f}, Test Accuracy: {test_accuracy:.4f}')\n",
        "        return test_accuracy"
      ],
      "metadata": {
        "id": "d9vj7TLxwRxN"
      },
      "execution_count": 86,
      "outputs": []
    },
    {
      "cell_type": "code",
      "source": [
        "study = optuna.create_study(direction='maximize')\n",
        "study.optimize(train_and_evaluate, n_trials=50)\n",
        "\n",
        "# Выводим лучшие гиперпараметры\n",
        "print(\"Best hyperparameters: \", study.best_params)\n",
        "print(\"Best ROC AUC: \", study.best_value)\n"
      ],
      "metadata": {
        "colab": {
          "base_uri": "https://localhost:8080/"
        },
        "id": "R5GJ0ywvwbJ6",
        "outputId": "8b3c4bf1-b81d-4d14-def6-149d89410d2e"
      },
      "execution_count": 88,
      "outputs": [
        {
          "output_type": "stream",
          "name": "stderr",
          "text": [
            "[I 2024-12-17 15:11:47,881] A new study created in memory with name: no-name-8a8655c1-ec1b-42cf-817a-da8424eccec9\n",
            "<ipython-input-86-9d4808739980>:7: FutureWarning: suggest_loguniform has been deprecated in v3.0.0. This feature will be removed in v6.0.0. See https://github.com/optuna/optuna/releases/tag/v3.0.0. Use suggest_float(..., log=True) instead.\n",
            "  learning_rate = trial.suggest_loguniform('learning_rate', 1e-5, 1e-1)\n",
            "[I 2024-12-17 15:11:48,011] Trial 0 finished with value: 0.0 and parameters: {'hidden_size': 85, 'dropout_rate': 0.4680079176924705, 'learning_rate': 0.0014720610282227136, 'num_epochs': 45, 'batch_size': 38}. Best is trial 0 with value: 0.0.\n",
            "<ipython-input-86-9d4808739980>:7: FutureWarning: suggest_loguniform has been deprecated in v3.0.0. This feature will be removed in v6.0.0. See https://github.com/optuna/optuna/releases/tag/v3.0.0. Use suggest_float(..., log=True) instead.\n",
            "  learning_rate = trial.suggest_loguniform('learning_rate', 1e-5, 1e-1)\n",
            "[I 2024-12-17 15:11:48,088] Trial 1 finished with value: 0.0 and parameters: {'hidden_size': 85, 'dropout_rate': 0.3734928894499804, 'learning_rate': 0.013144226198185182, 'num_epochs': 37, 'batch_size': 21}. Best is trial 0 with value: 0.0.\n",
            "<ipython-input-86-9d4808739980>:7: FutureWarning: suggest_loguniform has been deprecated in v3.0.0. This feature will be removed in v6.0.0. See https://github.com/optuna/optuna/releases/tag/v3.0.0. Use suggest_float(..., log=True) instead.\n",
            "  learning_rate = trial.suggest_loguniform('learning_rate', 1e-5, 1e-1)\n",
            "[I 2024-12-17 15:11:48,156] Trial 2 finished with value: 0.0 and parameters: {'hidden_size': 68, 'dropout_rate': 0.10472952392536561, 'learning_rate': 2.1137660490987347e-05, 'num_epochs': 33, 'batch_size': 26}. Best is trial 0 with value: 0.0.\n"
          ]
        },
        {
          "output_type": "stream",
          "name": "stdout",
          "text": [
            "Epoch [1/100], Train Loss: 4.6620, Test Loss: 4.4287\n",
            "Train Accuracy: 0.0123, Test Accuracy: 0.0000\n",
            "Epoch [1/100], Train Loss: 4.6641, Test Loss: 4.4590\n",
            "Train Accuracy: 0.0494, Test Accuracy: 0.0000\n",
            "Epoch [1/100], Train Loss: 4.6010, Test Loss: 4.4478\n",
            "Train Accuracy: 0.0247, Test Accuracy: 0.0000\n"
          ]
        },
        {
          "output_type": "stream",
          "name": "stderr",
          "text": [
            "<ipython-input-86-9d4808739980>:7: FutureWarning: suggest_loguniform has been deprecated in v3.0.0. This feature will be removed in v6.0.0. See https://github.com/optuna/optuna/releases/tag/v3.0.0. Use suggest_float(..., log=True) instead.\n",
            "  learning_rate = trial.suggest_loguniform('learning_rate', 1e-5, 1e-1)\n",
            "[I 2024-12-17 15:11:48,211] Trial 3 finished with value: 0.0 and parameters: {'hidden_size': 96, 'dropout_rate': 0.229520899167688, 'learning_rate': 0.006033427333080237, 'num_epochs': 19, 'batch_size': 18}. Best is trial 0 with value: 0.0.\n",
            "<ipython-input-86-9d4808739980>:7: FutureWarning: suggest_loguniform has been deprecated in v3.0.0. This feature will be removed in v6.0.0. See https://github.com/optuna/optuna/releases/tag/v3.0.0. Use suggest_float(..., log=True) instead.\n",
            "  learning_rate = trial.suggest_loguniform('learning_rate', 1e-5, 1e-1)\n",
            "[I 2024-12-17 15:11:48,263] Trial 4 finished with value: 0.0 and parameters: {'hidden_size': 96, 'dropout_rate': 0.3526471916712215, 'learning_rate': 0.03421884736278646, 'num_epochs': 23, 'batch_size': 53}. Best is trial 0 with value: 0.0.\n",
            "<ipython-input-86-9d4808739980>:7: FutureWarning: suggest_loguniform has been deprecated in v3.0.0. This feature will be removed in v6.0.0. See https://github.com/optuna/optuna/releases/tag/v3.0.0. Use suggest_float(..., log=True) instead.\n",
            "  learning_rate = trial.suggest_loguniform('learning_rate', 1e-5, 1e-1)\n",
            "[I 2024-12-17 15:11:48,314] Trial 5 finished with value: 0.0 and parameters: {'hidden_size': 80, 'dropout_rate': 0.4617272828721811, 'learning_rate': 0.0001410033052171085, 'num_epochs': 46, 'batch_size': 42}. Best is trial 0 with value: 0.0.\n",
            "<ipython-input-86-9d4808739980>:7: FutureWarning: suggest_loguniform has been deprecated in v3.0.0. This feature will be removed in v6.0.0. See https://github.com/optuna/optuna/releases/tag/v3.0.0. Use suggest_float(..., log=True) instead.\n",
            "  learning_rate = trial.suggest_loguniform('learning_rate', 1e-5, 1e-1)\n",
            "[I 2024-12-17 15:11:48,362] Trial 6 finished with value: 0.0 and parameters: {'hidden_size': 103, 'dropout_rate': 0.3417757371334791, 'learning_rate': 0.002167192932866818, 'num_epochs': 38, 'batch_size': 60}. Best is trial 0 with value: 0.0.\n"
          ]
        },
        {
          "output_type": "stream",
          "name": "stdout",
          "text": [
            "Epoch [1/100], Train Loss: 4.5519, Test Loss: 4.4435\n",
            "Train Accuracy: 0.0741, Test Accuracy: 0.0000\n",
            "Epoch [1/100], Train Loss: 4.5918, Test Loss: 4.5409\n",
            "Train Accuracy: 0.0123, Test Accuracy: 0.0000\n",
            "Epoch [1/100], Train Loss: 4.5278, Test Loss: 4.4898\n",
            "Train Accuracy: 0.0247, Test Accuracy: 0.0000\n",
            "Epoch [1/100], Train Loss: 4.6307, Test Loss: 4.4194\n",
            "Train Accuracy: 0.0247, Test Accuracy: 0.0000\n"
          ]
        },
        {
          "output_type": "stream",
          "name": "stderr",
          "text": [
            "<ipython-input-86-9d4808739980>:7: FutureWarning: suggest_loguniform has been deprecated in v3.0.0. This feature will be removed in v6.0.0. See https://github.com/optuna/optuna/releases/tag/v3.0.0. Use suggest_float(..., log=True) instead.\n",
            "  learning_rate = trial.suggest_loguniform('learning_rate', 1e-5, 1e-1)\n",
            "[I 2024-12-17 15:11:48,464] Trial 7 finished with value: 0.047619047619047616 and parameters: {'hidden_size': 121, 'dropout_rate': 0.14127014136390562, 'learning_rate': 0.010179894331227133, 'num_epochs': 44, 'batch_size': 41}. Best is trial 7 with value: 0.047619047619047616.\n",
            "<ipython-input-86-9d4808739980>:7: FutureWarning: suggest_loguniform has been deprecated in v3.0.0. This feature will be removed in v6.0.0. See https://github.com/optuna/optuna/releases/tag/v3.0.0. Use suggest_float(..., log=True) instead.\n",
            "  learning_rate = trial.suggest_loguniform('learning_rate', 1e-5, 1e-1)\n",
            "[I 2024-12-17 15:11:48,557] Trial 8 finished with value: 0.0 and parameters: {'hidden_size': 83, 'dropout_rate': 0.14339093401973824, 'learning_rate': 0.003528542144814928, 'num_epochs': 32, 'batch_size': 24}. Best is trial 7 with value: 0.047619047619047616.\n",
            "<ipython-input-86-9d4808739980>:7: FutureWarning: suggest_loguniform has been deprecated in v3.0.0. This feature will be removed in v6.0.0. See https://github.com/optuna/optuna/releases/tag/v3.0.0. Use suggest_float(..., log=True) instead.\n",
            "  learning_rate = trial.suggest_loguniform('learning_rate', 1e-5, 1e-1)\n"
          ]
        },
        {
          "output_type": "stream",
          "name": "stdout",
          "text": [
            "Epoch [1/100], Train Loss: 4.5343, Test Loss: 4.4459\n",
            "Train Accuracy: 0.0864, Test Accuracy: 0.0476\n",
            "Epoch [1/100], Train Loss: 4.6245, Test Loss: 4.4530\n",
            "Train Accuracy: 0.0123, Test Accuracy: 0.0000\n",
            "Epoch [1/100], Train Loss: 4.5293, Test Loss: 4.4295\n",
            "Train Accuracy: 0.0000, Test Accuracy: 0.0000"
          ]
        },
        {
          "output_type": "stream",
          "name": "stderr",
          "text": [
            "[I 2024-12-17 15:11:48,667] Trial 9 finished with value: 0.0 and parameters: {'hidden_size': 113, 'dropout_rate': 0.4551394512235819, 'learning_rate': 3.7826622095901966e-05, 'num_epochs': 34, 'batch_size': 28}. Best is trial 7 with value: 0.047619047619047616.\n",
            "<ipython-input-86-9d4808739980>:7: FutureWarning: suggest_loguniform has been deprecated in v3.0.0. This feature will be removed in v6.0.0. See https://github.com/optuna/optuna/releases/tag/v3.0.0. Use suggest_float(..., log=True) instead.\n",
            "  learning_rate = trial.suggest_loguniform('learning_rate', 1e-5, 1e-1)\n"
          ]
        },
        {
          "output_type": "stream",
          "name": "stdout",
          "text": [
            "\n"
          ]
        },
        {
          "output_type": "stream",
          "name": "stderr",
          "text": [
            "[I 2024-12-17 15:11:48,998] Trial 10 finished with value: 0.09523809523809523 and parameters: {'hidden_size': 127, 'dropout_rate': 0.2184663185138595, 'learning_rate': 0.0002874089390108436, 'num_epochs': 10, 'batch_size': 43}. Best is trial 10 with value: 0.09523809523809523.\n"
          ]
        },
        {
          "output_type": "stream",
          "name": "stdout",
          "text": [
            "Epoch [1/100], Train Loss: 4.4823, Test Loss: 4.4132\n",
            "Train Accuracy: 0.0247, Test Accuracy: 0.0952\n"
          ]
        },
        {
          "output_type": "stream",
          "name": "stderr",
          "text": [
            "<ipython-input-86-9d4808739980>:7: FutureWarning: suggest_loguniform has been deprecated in v3.0.0. This feature will be removed in v6.0.0. See https://github.com/optuna/optuna/releases/tag/v3.0.0. Use suggest_float(..., log=True) instead.\n",
            "  learning_rate = trial.suggest_loguniform('learning_rate', 1e-5, 1e-1)\n",
            "[I 2024-12-17 15:11:49,256] Trial 11 finished with value: 0.0 and parameters: {'hidden_size': 126, 'dropout_rate': 0.21152126945210695, 'learning_rate': 0.00023562345329572882, 'num_epochs': 10, 'batch_size': 43}. Best is trial 10 with value: 0.09523809523809523.\n"
          ]
        },
        {
          "output_type": "stream",
          "name": "stdout",
          "text": [
            "Epoch [1/100], Train Loss: 4.5529, Test Loss: 4.3663\n",
            "Train Accuracy: 0.0123, Test Accuracy: 0.0000\n"
          ]
        },
        {
          "output_type": "stream",
          "name": "stderr",
          "text": [
            "<ipython-input-86-9d4808739980>:7: FutureWarning: suggest_loguniform has been deprecated in v3.0.0. This feature will be removed in v6.0.0. See https://github.com/optuna/optuna/releases/tag/v3.0.0. Use suggest_float(..., log=True) instead.\n",
            "  learning_rate = trial.suggest_loguniform('learning_rate', 1e-5, 1e-1)\n",
            "[I 2024-12-17 15:11:49,516] Trial 12 finished with value: 0.0 and parameters: {'hidden_size': 126, 'dropout_rate': 0.20931112035511806, 'learning_rate': 0.00032881997530117055, 'num_epochs': 24, 'batch_size': 35}. Best is trial 10 with value: 0.09523809523809523.\n"
          ]
        },
        {
          "output_type": "stream",
          "name": "stdout",
          "text": [
            "Epoch [1/100], Train Loss: 4.6185, Test Loss: 4.4517\n",
            "Train Accuracy: 0.0123, Test Accuracy: 0.0000\n"
          ]
        },
        {
          "output_type": "stream",
          "name": "stderr",
          "text": [
            "<ipython-input-86-9d4808739980>:7: FutureWarning: suggest_loguniform has been deprecated in v3.0.0. This feature will be removed in v6.0.0. See https://github.com/optuna/optuna/releases/tag/v3.0.0. Use suggest_float(..., log=True) instead.\n",
            "  learning_rate = trial.suggest_loguniform('learning_rate', 1e-5, 1e-1)\n",
            "[I 2024-12-17 15:11:49,832] Trial 13 finished with value: 0.0 and parameters: {'hidden_size': 115, 'dropout_rate': 0.26791769920859404, 'learning_rate': 0.061365484929802816, 'num_epochs': 10, 'batch_size': 51}. Best is trial 10 with value: 0.09523809523809523.\n"
          ]
        },
        {
          "output_type": "stream",
          "name": "stdout",
          "text": [
            "Epoch [1/100], Train Loss: 4.5977, Test Loss: 4.6524\n",
            "Train Accuracy: 0.0123, Test Accuracy: 0.0000\n"
          ]
        },
        {
          "output_type": "stream",
          "name": "stderr",
          "text": [
            "<ipython-input-86-9d4808739980>:7: FutureWarning: suggest_loguniform has been deprecated in v3.0.0. This feature will be removed in v6.0.0. See https://github.com/optuna/optuna/releases/tag/v3.0.0. Use suggest_float(..., log=True) instead.\n",
            "  learning_rate = trial.suggest_loguniform('learning_rate', 1e-5, 1e-1)\n",
            "[I 2024-12-17 15:11:50,013] Trial 14 finished with value: 0.0 and parameters: {'hidden_size': 117, 'dropout_rate': 0.1774127803466976, 'learning_rate': 0.0006083042076513452, 'num_epochs': 41, 'batch_size': 49}. Best is trial 10 with value: 0.09523809523809523.\n",
            "<ipython-input-86-9d4808739980>:7: FutureWarning: suggest_loguniform has been deprecated in v3.0.0. This feature will be removed in v6.0.0. See https://github.com/optuna/optuna/releases/tag/v3.0.0. Use suggest_float(..., log=True) instead.\n",
            "  learning_rate = trial.suggest_loguniform('learning_rate', 1e-5, 1e-1)\n"
          ]
        },
        {
          "output_type": "stream",
          "name": "stdout",
          "text": [
            "Epoch [1/100], Train Loss: 4.5828, Test Loss: 4.4470\n",
            "Train Accuracy: 0.0123, Test Accuracy: 0.0000\n",
            "Epoch [1/100], Train Loss: 4.4427, Test Loss: 4.4410\n"
          ]
        },
        {
          "output_type": "stream",
          "name": "stderr",
          "text": [
            "[I 2024-12-17 15:11:50,212] Trial 15 finished with value: 0.047619047619047616 and parameters: {'hidden_size': 107, 'dropout_rate': 0.10633612089928215, 'learning_rate': 0.014122939199797119, 'num_epochs': 49, 'batch_size': 32}. Best is trial 10 with value: 0.09523809523809523.\n",
            "<ipython-input-86-9d4808739980>:7: FutureWarning: suggest_loguniform has been deprecated in v3.0.0. This feature will be removed in v6.0.0. See https://github.com/optuna/optuna/releases/tag/v3.0.0. Use suggest_float(..., log=True) instead.\n",
            "  learning_rate = trial.suggest_loguniform('learning_rate', 1e-5, 1e-1)\n",
            "[I 2024-12-17 15:11:50,379] Trial 16 finished with value: 0.0 and parameters: {'hidden_size': 127, 'dropout_rate': 0.2789321614654672, 'learning_rate': 7.465819845689212e-05, 'num_epochs': 16, 'batch_size': 45}. Best is trial 10 with value: 0.09523809523809523.\n"
          ]
        },
        {
          "output_type": "stream",
          "name": "stdout",
          "text": [
            "Train Accuracy: 0.0370, Test Accuracy: 0.0476\n",
            "Epoch [1/100], Train Loss: 4.6943, Test Loss: 4.4790\n",
            "Train Accuracy: 0.0247, Test Accuracy: 0.0000\n"
          ]
        },
        {
          "output_type": "stream",
          "name": "stderr",
          "text": [
            "<ipython-input-86-9d4808739980>:7: FutureWarning: suggest_loguniform has been deprecated in v3.0.0. This feature will be removed in v6.0.0. See https://github.com/optuna/optuna/releases/tag/v3.0.0. Use suggest_float(..., log=True) instead.\n",
            "  learning_rate = trial.suggest_loguniform('learning_rate', 1e-5, 1e-1)\n",
            "[I 2024-12-17 15:11:50,507] Trial 17 finished with value: 0.0 and parameters: {'hidden_size': 119, 'dropout_rate': 0.15746122446886102, 'learning_rate': 0.0007622666859322113, 'num_epochs': 28, 'batch_size': 64}. Best is trial 10 with value: 0.09523809523809523.\n",
            "<ipython-input-86-9d4808739980>:7: FutureWarning: suggest_loguniform has been deprecated in v3.0.0. This feature will be removed in v6.0.0. See https://github.com/optuna/optuna/releases/tag/v3.0.0. Use suggest_float(..., log=True) instead.\n",
            "  learning_rate = trial.suggest_loguniform('learning_rate', 1e-5, 1e-1)\n",
            "[I 2024-12-17 15:11:50,610] Trial 18 finished with value: 0.0 and parameters: {'hidden_size': 106, 'dropout_rate': 0.24460409604881217, 'learning_rate': 1.1986036639548133e-05, 'num_epochs': 27, 'batch_size': 32}. Best is trial 10 with value: 0.09523809523809523.\n"
          ]
        },
        {
          "output_type": "stream",
          "name": "stdout",
          "text": [
            "Epoch [1/100], Train Loss: 4.6928, Test Loss: 4.3854\n",
            "Train Accuracy: 0.0123, Test Accuracy: 0.0000\n",
            "Epoch [1/100], Train Loss: 4.5378, Test Loss: 4.3923\n",
            "Train Accuracy: 0.0247, Test Accuracy: 0.0000\n"
          ]
        },
        {
          "output_type": "stream",
          "name": "stderr",
          "text": [
            "<ipython-input-86-9d4808739980>:7: FutureWarning: suggest_loguniform has been deprecated in v3.0.0. This feature will be removed in v6.0.0. See https://github.com/optuna/optuna/releases/tag/v3.0.0. Use suggest_float(..., log=True) instead.\n",
            "  learning_rate = trial.suggest_loguniform('learning_rate', 1e-5, 1e-1)\n",
            "[I 2024-12-17 15:11:50,759] Trial 19 finished with value: 0.047619047619047616 and parameters: {'hidden_size': 121, 'dropout_rate': 0.17677557863429147, 'learning_rate': 0.008235913577466626, 'num_epochs': 18, 'batch_size': 57}. Best is trial 10 with value: 0.09523809523809523.\n",
            "<ipython-input-86-9d4808739980>:7: FutureWarning: suggest_loguniform has been deprecated in v3.0.0. This feature will be removed in v6.0.0. See https://github.com/optuna/optuna/releases/tag/v3.0.0. Use suggest_float(..., log=True) instead.\n",
            "  learning_rate = trial.suggest_loguniform('learning_rate', 1e-5, 1e-1)\n"
          ]
        },
        {
          "output_type": "stream",
          "name": "stdout",
          "text": [
            "Epoch [1/100], Train Loss: 4.6036, Test Loss: 4.4890\n",
            "Train Accuracy: 0.0741, Test Accuracy: 0.0476\n"
          ]
        },
        {
          "output_type": "stream",
          "name": "stderr",
          "text": [
            "[I 2024-12-17 15:11:50,976] Trial 20 finished with value: 0.0 and parameters: {'hidden_size': 111, 'dropout_rate': 0.4026784615377406, 'learning_rate': 0.09612596249044798, 'num_epochs': 42, 'batch_size': 48}. Best is trial 10 with value: 0.09523809523809523.\n",
            "<ipython-input-86-9d4808739980>:7: FutureWarning: suggest_loguniform has been deprecated in v3.0.0. This feature will be removed in v6.0.0. See https://github.com/optuna/optuna/releases/tag/v3.0.0. Use suggest_float(..., log=True) instead.\n",
            "  learning_rate = trial.suggest_loguniform('learning_rate', 1e-5, 1e-1)\n"
          ]
        },
        {
          "output_type": "stream",
          "name": "stdout",
          "text": [
            "Epoch [1/100], Train Loss: 4.6467, Test Loss: 4.6812\n",
            "Train Accuracy: 0.0370, Test Accuracy: 0.0000\n"
          ]
        },
        {
          "output_type": "stream",
          "name": "stderr",
          "text": [
            "[I 2024-12-17 15:11:51,176] Trial 21 finished with value: 0.0 and parameters: {'hidden_size': 106, 'dropout_rate': 0.11514154124209208, 'learning_rate': 0.02279355779642151, 'num_epochs': 50, 'batch_size': 37}. Best is trial 10 with value: 0.09523809523809523.\n",
            "<ipython-input-86-9d4808739980>:7: FutureWarning: suggest_loguniform has been deprecated in v3.0.0. This feature will be removed in v6.0.0. See https://github.com/optuna/optuna/releases/tag/v3.0.0. Use suggest_float(..., log=True) instead.\n",
            "  learning_rate = trial.suggest_loguniform('learning_rate', 1e-5, 1e-1)\n",
            "[I 2024-12-17 15:11:51,332] Trial 22 finished with value: 0.0 and parameters: {'hidden_size': 122, 'dropout_rate': 0.1381822546879909, 'learning_rate': 0.015931988758004317, 'num_epochs': 50, 'batch_size': 30}. Best is trial 10 with value: 0.09523809523809523.\n"
          ]
        },
        {
          "output_type": "stream",
          "name": "stdout",
          "text": [
            "Epoch [1/100], Train Loss: 4.6918, Test Loss: 4.4889\n",
            "Train Accuracy: 0.0494, Test Accuracy: 0.0000\n",
            "Epoch [1/100], Train Loss: 4.6066, Test Loss: 4.4718\n",
            "Train Accuracy: 0.0617, Test Accuracy: 0.0000\n"
          ]
        },
        {
          "output_type": "stream",
          "name": "stderr",
          "text": [
            "<ipython-input-86-9d4808739980>:7: FutureWarning: suggest_loguniform has been deprecated in v3.0.0. This feature will be removed in v6.0.0. See https://github.com/optuna/optuna/releases/tag/v3.0.0. Use suggest_float(..., log=True) instead.\n",
            "  learning_rate = trial.suggest_loguniform('learning_rate', 1e-5, 1e-1)\n",
            "[I 2024-12-17 15:11:51,560] Trial 23 finished with value: 0.0 and parameters: {'hidden_size': 110, 'dropout_rate': 0.18625790228645456, 'learning_rate': 0.003571871195782191, 'num_epochs': 46, 'batch_size': 33}. Best is trial 10 with value: 0.09523809523809523.\n",
            "<ipython-input-86-9d4808739980>:7: FutureWarning: suggest_loguniform has been deprecated in v3.0.0. This feature will be removed in v6.0.0. See https://github.com/optuna/optuna/releases/tag/v3.0.0. Use suggest_float(..., log=True) instead.\n",
            "  learning_rate = trial.suggest_loguniform('learning_rate', 1e-5, 1e-1)\n",
            "[I 2024-12-17 15:11:51,687] Trial 24 finished with value: 0.0 and parameters: {'hidden_size': 102, 'dropout_rate': 0.10714464695570955, 'learning_rate': 0.03912682062822349, 'num_epochs': 42, 'batch_size': 40}. Best is trial 10 with value: 0.09523809523809523.\n"
          ]
        },
        {
          "output_type": "stream",
          "name": "stdout",
          "text": [
            "Epoch [1/100], Train Loss: 4.6330, Test Loss: 4.4231\n",
            "Train Accuracy: 0.0370, Test Accuracy: 0.0000\n",
            "Epoch [1/100], Train Loss: 4.6250, Test Loss: 4.5770\n",
            "Train Accuracy: 0.0123, Test Accuracy: 0.0000\n"
          ]
        },
        {
          "output_type": "stream",
          "name": "stderr",
          "text": [
            "<ipython-input-86-9d4808739980>:7: FutureWarning: suggest_loguniform has been deprecated in v3.0.0. This feature will be removed in v6.0.0. See https://github.com/optuna/optuna/releases/tag/v3.0.0. Use suggest_float(..., log=True) instead.\n",
            "  learning_rate = trial.suggest_loguniform('learning_rate', 1e-5, 1e-1)\n",
            "[I 2024-12-17 15:11:51,918] Trial 25 finished with value: 0.0 and parameters: {'hidden_size': 128, 'dropout_rate': 0.1404530059685571, 'learning_rate': 0.005143713232029496, 'num_epochs': 48, 'batch_size': 46}. Best is trial 10 with value: 0.09523809523809523.\n",
            "<ipython-input-86-9d4808739980>:7: FutureWarning: suggest_loguniform has been deprecated in v3.0.0. This feature will be removed in v6.0.0. See https://github.com/optuna/optuna/releases/tag/v3.0.0. Use suggest_float(..., log=True) instead.\n",
            "  learning_rate = trial.suggest_loguniform('learning_rate', 1e-5, 1e-1)\n",
            "[I 2024-12-17 15:11:52,005] Trial 26 finished with value: 0.0 and parameters: {'hidden_size': 121, 'dropout_rate': 0.30338425293823446, 'learning_rate': 0.0014985380847630772, 'num_epochs': 39, 'batch_size': 39}. Best is trial 10 with value: 0.09523809523809523.\n",
            "<ipython-input-86-9d4808739980>:7: FutureWarning: suggest_loguniform has been deprecated in v3.0.0. This feature will be removed in v6.0.0. See https://github.com/optuna/optuna/releases/tag/v3.0.0. Use suggest_float(..., log=True) instead.\n",
            "  learning_rate = trial.suggest_loguniform('learning_rate', 1e-5, 1e-1)\n",
            "[I 2024-12-17 15:11:52,082] Trial 27 finished with value: 0.0 and parameters: {'hidden_size': 117, 'dropout_rate': 0.1992577369300699, 'learning_rate': 0.011310214097365552, 'num_epochs': 15, 'batch_size': 35}. Best is trial 10 with value: 0.09523809523809523.\n"
          ]
        },
        {
          "output_type": "stream",
          "name": "stdout",
          "text": [
            "Epoch [1/100], Train Loss: 4.6104, Test Loss: 4.5242\n",
            "Train Accuracy: 0.0988, Test Accuracy: 0.0000\n",
            "Epoch [1/100], Train Loss: 4.5709, Test Loss: 4.4919\n",
            "Train Accuracy: 0.0123, Test Accuracy: 0.0000\n",
            "Epoch [1/100], Train Loss: 4.4913, Test Loss: 4.4369\n",
            "Train Accuracy: 0.0864, Test Accuracy: 0.0000\n"
          ]
        },
        {
          "output_type": "stream",
          "name": "stderr",
          "text": [
            "<ipython-input-86-9d4808739980>:7: FutureWarning: suggest_loguniform has been deprecated in v3.0.0. This feature will be removed in v6.0.0. See https://github.com/optuna/optuna/releases/tag/v3.0.0. Use suggest_float(..., log=True) instead.\n",
            "  learning_rate = trial.suggest_loguniform('learning_rate', 1e-5, 1e-1)\n",
            "[I 2024-12-17 15:11:52,204] Trial 28 finished with value: 0.0 and parameters: {'hidden_size': 108, 'dropout_rate': 0.16142919372790682, 'learning_rate': 0.000282077750065219, 'num_epochs': 45, 'batch_size': 56}. Best is trial 10 with value: 0.09523809523809523.\n",
            "<ipython-input-86-9d4808739980>:7: FutureWarning: suggest_loguniform has been deprecated in v3.0.0. This feature will be removed in v6.0.0. See https://github.com/optuna/optuna/releases/tag/v3.0.0. Use suggest_float(..., log=True) instead.\n",
            "  learning_rate = trial.suggest_loguniform('learning_rate', 1e-5, 1e-1)\n",
            "[I 2024-12-17 15:11:52,368] Trial 29 finished with value: 0.0 and parameters: {'hidden_size': 99, 'dropout_rate': 0.24164829861839485, 'learning_rate': 0.0012447683820674684, 'num_epochs': 36, 'batch_size': 42}. Best is trial 10 with value: 0.09523809523809523.\n"
          ]
        },
        {
          "output_type": "stream",
          "name": "stdout",
          "text": [
            "Epoch [1/100], Train Loss: 4.5701, Test Loss: 4.4681\n",
            "Train Accuracy: 0.0123, Test Accuracy: 0.0000\n",
            "Epoch [1/100], Train Loss: 4.4122, Test Loss: 4.4746\n",
            "Train Accuracy: 0.0370, Test Accuracy: 0.0000\n"
          ]
        },
        {
          "output_type": "stream",
          "name": "stderr",
          "text": [
            "<ipython-input-86-9d4808739980>:7: FutureWarning: suggest_loguniform has been deprecated in v3.0.0. This feature will be removed in v6.0.0. See https://github.com/optuna/optuna/releases/tag/v3.0.0. Use suggest_float(..., log=True) instead.\n",
            "  learning_rate = trial.suggest_loguniform('learning_rate', 1e-5, 1e-1)\n",
            "[I 2024-12-17 15:11:52,591] Trial 30 finished with value: 0.0 and parameters: {'hidden_size': 124, 'dropout_rate': 0.126186378014566, 'learning_rate': 9.949345144288254e-05, 'num_epochs': 44, 'batch_size': 37}. Best is trial 10 with value: 0.09523809523809523.\n",
            "<ipython-input-86-9d4808739980>:7: FutureWarning: suggest_loguniform has been deprecated in v3.0.0. This feature will be removed in v6.0.0. See https://github.com/optuna/optuna/releases/tag/v3.0.0. Use suggest_float(..., log=True) instead.\n",
            "  learning_rate = trial.suggest_loguniform('learning_rate', 1e-5, 1e-1)\n",
            "[I 2024-12-17 15:11:52,676] Trial 31 finished with value: 0.0 and parameters: {'hidden_size': 118, 'dropout_rate': 0.17000506591664472, 'learning_rate': 0.00920340710042458, 'num_epochs': 15, 'batch_size': 57}. Best is trial 10 with value: 0.09523809523809523.\n"
          ]
        },
        {
          "output_type": "stream",
          "name": "stdout",
          "text": [
            "Epoch [1/100], Train Loss: 4.5219, Test Loss: 4.3977\n",
            "Train Accuracy: 0.0000, Test Accuracy: 0.0000\n",
            "Epoch [1/100], Train Loss: 4.6955, Test Loss: 4.4399\n",
            "Train Accuracy: 0.0494, Test Accuracy: 0.0000\n"
          ]
        },
        {
          "output_type": "stream",
          "name": "stderr",
          "text": [
            "<ipython-input-86-9d4808739980>:7: FutureWarning: suggest_loguniform has been deprecated in v3.0.0. This feature will be removed in v6.0.0. See https://github.com/optuna/optuna/releases/tag/v3.0.0. Use suggest_float(..., log=True) instead.\n",
            "  learning_rate = trial.suggest_loguniform('learning_rate', 1e-5, 1e-1)\n",
            "[I 2024-12-17 15:11:52,849] Trial 32 finished with value: 0.0 and parameters: {'hidden_size': 89, 'dropout_rate': 0.1956608592589152, 'learning_rate': 0.020486298041522723, 'num_epochs': 13, 'batch_size': 55}. Best is trial 10 with value: 0.09523809523809523.\n",
            "<ipython-input-86-9d4808739980>:7: FutureWarning: suggest_loguniform has been deprecated in v3.0.0. This feature will be removed in v6.0.0. See https://github.com/optuna/optuna/releases/tag/v3.0.0. Use suggest_float(..., log=True) instead.\n",
            "  learning_rate = trial.suggest_loguniform('learning_rate', 1e-5, 1e-1)\n",
            "[I 2024-12-17 15:11:53,005] Trial 33 finished with value: 0.09523809523809523 and parameters: {'hidden_size': 122, 'dropout_rate': 0.15351100443880705, 'learning_rate': 0.006391433196862884, 'num_epochs': 20, 'batch_size': 64}. Best is trial 10 with value: 0.09523809523809523.\n"
          ]
        },
        {
          "output_type": "stream",
          "name": "stdout",
          "text": [
            "Epoch [1/100], Train Loss: 4.5871, Test Loss: 4.4721\n",
            "Train Accuracy: 0.0123, Test Accuracy: 0.0000\n",
            "Epoch [1/100], Train Loss: 4.5893, Test Loss: 4.4112\n",
            "Train Accuracy: 0.0494, Test Accuracy: 0.0952\n"
          ]
        },
        {
          "output_type": "stream",
          "name": "stderr",
          "text": [
            "<ipython-input-86-9d4808739980>:7: FutureWarning: suggest_loguniform has been deprecated in v3.0.0. This feature will be removed in v6.0.0. See https://github.com/optuna/optuna/releases/tag/v3.0.0. Use suggest_float(..., log=True) instead.\n",
            "  learning_rate = trial.suggest_loguniform('learning_rate', 1e-5, 1e-1)\n",
            "[I 2024-12-17 15:11:53,251] Trial 34 finished with value: 0.0 and parameters: {'hidden_size': 113, 'dropout_rate': 0.10525850738219915, 'learning_rate': 0.0028384359272027445, 'num_epochs': 22, 'batch_size': 23}. Best is trial 10 with value: 0.09523809523809523.\n"
          ]
        },
        {
          "output_type": "stream",
          "name": "stdout",
          "text": [
            "Epoch [1/100], Train Loss: 4.6311, Test Loss: 4.4472\n",
            "Train Accuracy: 0.0617, Test Accuracy: 0.0000\n"
          ]
        },
        {
          "output_type": "stream",
          "name": "stderr",
          "text": [
            "<ipython-input-86-9d4808739980>:7: FutureWarning: suggest_loguniform has been deprecated in v3.0.0. This feature will be removed in v6.0.0. See https://github.com/optuna/optuna/releases/tag/v3.0.0. Use suggest_float(..., log=True) instead.\n",
            "  learning_rate = trial.suggest_loguniform('learning_rate', 1e-5, 1e-1)\n",
            "[I 2024-12-17 15:11:53,504] Trial 35 finished with value: 0.0 and parameters: {'hidden_size': 65, 'dropout_rate': 0.14424461420265586, 'learning_rate': 0.00588599973099232, 'num_epochs': 21, 'batch_size': 16}. Best is trial 10 with value: 0.09523809523809523.\n",
            "<ipython-input-86-9d4808739980>:7: FutureWarning: suggest_loguniform has been deprecated in v3.0.0. This feature will be removed in v6.0.0. See https://github.com/optuna/optuna/releases/tag/v3.0.0. Use suggest_float(..., log=True) instead.\n",
            "  learning_rate = trial.suggest_loguniform('learning_rate', 1e-5, 1e-1)\n",
            "[I 2024-12-17 15:11:53,679] Trial 36 finished with value: 0.0 and parameters: {'hidden_size': 123, 'dropout_rate': 0.22695637110320993, 'learning_rate': 0.032704928998206574, 'num_epochs': 25, 'batch_size': 63}. Best is trial 10 with value: 0.09523809523809523.\n"
          ]
        },
        {
          "output_type": "stream",
          "name": "stdout",
          "text": [
            "Epoch [1/100], Train Loss: 4.6240, Test Loss: 4.4021\n",
            "Train Accuracy: 0.0247, Test Accuracy: 0.0000\n",
            "Epoch [1/100], Train Loss: 4.5312, Test Loss: 4.4748\n",
            "Train Accuracy: 0.0370, Test Accuracy: 0.0000\n"
          ]
        },
        {
          "output_type": "stream",
          "name": "stderr",
          "text": [
            "<ipython-input-86-9d4808739980>:7: FutureWarning: suggest_loguniform has been deprecated in v3.0.0. This feature will be removed in v6.0.0. See https://github.com/optuna/optuna/releases/tag/v3.0.0. Use suggest_float(..., log=True) instead.\n",
            "  learning_rate = trial.suggest_loguniform('learning_rate', 1e-5, 1e-1)\n",
            "[I 2024-12-17 15:11:53,872] Trial 37 finished with value: 0.0 and parameters: {'hidden_size': 128, 'dropout_rate': 0.11881159675988724, 'learning_rate': 0.0005476284266577112, 'num_epochs': 19, 'batch_size': 28}. Best is trial 10 with value: 0.09523809523809523.\n",
            "<ipython-input-86-9d4808739980>:7: FutureWarning: suggest_loguniform has been deprecated in v3.0.0. This feature will be removed in v6.0.0. See https://github.com/optuna/optuna/releases/tag/v3.0.0. Use suggest_float(..., log=True) instead.\n",
            "  learning_rate = trial.suggest_loguniform('learning_rate', 1e-5, 1e-1)\n",
            "[I 2024-12-17 15:11:53,995] Trial 38 finished with value: 0.0 and parameters: {'hidden_size': 89, 'dropout_rate': 0.30757904795550234, 'learning_rate': 0.0022203288747186046, 'num_epochs': 30, 'batch_size': 60}. Best is trial 10 with value: 0.09523809523809523.\n"
          ]
        },
        {
          "output_type": "stream",
          "name": "stdout",
          "text": [
            "Epoch [1/100], Train Loss: 4.4300, Test Loss: 4.4299\n",
            "Train Accuracy: 0.0247, Test Accuracy: 0.0000\n",
            "Epoch [1/100], Train Loss: 4.6209, Test Loss: 4.3880\n",
            "Train Accuracy: 0.0123, Test Accuracy: 0.0000\n"
          ]
        },
        {
          "output_type": "stream",
          "name": "stderr",
          "text": [
            "<ipython-input-86-9d4808739980>:7: FutureWarning: suggest_loguniform has been deprecated in v3.0.0. This feature will be removed in v6.0.0. See https://github.com/optuna/optuna/releases/tag/v3.0.0. Use suggest_float(..., log=True) instead.\n",
            "  learning_rate = trial.suggest_loguniform('learning_rate', 1e-5, 1e-1)\n",
            "[I 2024-12-17 15:11:54,153] Trial 39 finished with value: 0.0 and parameters: {'hidden_size': 113, 'dropout_rate': 0.10081445160806946, 'learning_rate': 0.011527145292430445, 'num_epochs': 12, 'batch_size': 21}. Best is trial 10 with value: 0.09523809523809523.\n",
            "<ipython-input-86-9d4808739980>:7: FutureWarning: suggest_loguniform has been deprecated in v3.0.0. This feature will be removed in v6.0.0. See https://github.com/optuna/optuna/releases/tag/v3.0.0. Use suggest_float(..., log=True) instead.\n",
            "  learning_rate = trial.suggest_loguniform('learning_rate', 1e-5, 1e-1)\n",
            "[I 2024-12-17 15:11:54,322] Trial 40 finished with value: 0.0 and parameters: {'hidden_size': 74, 'dropout_rate': 0.1562063998344487, 'learning_rate': 0.004857107228937795, 'num_epochs': 48, 'batch_size': 52}. Best is trial 10 with value: 0.09523809523809523.\n"
          ]
        },
        {
          "output_type": "stream",
          "name": "stdout",
          "text": [
            "Epoch [1/100], Train Loss: 4.4937, Test Loss: 4.4570\n",
            "Train Accuracy: 0.0494, Test Accuracy: 0.0000\n",
            "Epoch [1/100], Train Loss: 4.6088, Test Loss: 4.4276\n",
            "Train Accuracy: 0.0247, Test Accuracy: 0.0000\n"
          ]
        },
        {
          "output_type": "stream",
          "name": "stderr",
          "text": [
            "<ipython-input-86-9d4808739980>:7: FutureWarning: suggest_loguniform has been deprecated in v3.0.0. This feature will be removed in v6.0.0. See https://github.com/optuna/optuna/releases/tag/v3.0.0. Use suggest_float(..., log=True) instead.\n",
            "  learning_rate = trial.suggest_loguniform('learning_rate', 1e-5, 1e-1)\n",
            "[I 2024-12-17 15:11:54,450] Trial 41 finished with value: 0.0 and parameters: {'hidden_size': 121, 'dropout_rate': 0.1775417099085911, 'learning_rate': 0.007895625122065465, 'num_epochs': 18, 'batch_size': 61}. Best is trial 10 with value: 0.09523809523809523.\n",
            "<ipython-input-86-9d4808739980>:7: FutureWarning: suggest_loguniform has been deprecated in v3.0.0. This feature will be removed in v6.0.0. See https://github.com/optuna/optuna/releases/tag/v3.0.0. Use suggest_float(..., log=True) instead.\n",
            "  learning_rate = trial.suggest_loguniform('learning_rate', 1e-5, 1e-1)\n",
            "[I 2024-12-17 15:11:54,613] Trial 42 finished with value: 0.0 and parameters: {'hidden_size': 120, 'dropout_rate': 0.1341907976951379, 'learning_rate': 0.016729631189018258, 'num_epochs': 20, 'batch_size': 59}. Best is trial 10 with value: 0.09523809523809523.\n"
          ]
        },
        {
          "output_type": "stream",
          "name": "stdout",
          "text": [
            "Epoch [1/100], Train Loss: 4.5405, Test Loss: 4.5168\n",
            "Train Accuracy: 0.0864, Test Accuracy: 0.0000\n",
            "Epoch [1/100], Train Loss: 4.6165, Test Loss: 4.4905\n",
            "Train Accuracy: 0.0370, Test Accuracy: 0.0000\n"
          ]
        },
        {
          "output_type": "stream",
          "name": "stderr",
          "text": [
            "<ipython-input-86-9d4808739980>:7: FutureWarning: suggest_loguniform has been deprecated in v3.0.0. This feature will be removed in v6.0.0. See https://github.com/optuna/optuna/releases/tag/v3.0.0. Use suggest_float(..., log=True) instead.\n",
            "  learning_rate = trial.suggest_loguniform('learning_rate', 1e-5, 1e-1)\n",
            "[I 2024-12-17 15:11:54,946] Trial 43 finished with value: 0.0 and parameters: {'hidden_size': 124, 'dropout_rate': 0.21947455712792358, 'learning_rate': 0.028588206531218293, 'num_epochs': 17, 'batch_size': 54}. Best is trial 10 with value: 0.09523809523809523.\n",
            "<ipython-input-86-9d4808739980>:7: FutureWarning: suggest_loguniform has been deprecated in v3.0.0. This feature will be removed in v6.0.0. See https://github.com/optuna/optuna/releases/tag/v3.0.0. Use suggest_float(..., log=True) instead.\n",
            "  learning_rate = trial.suggest_loguniform('learning_rate', 1e-5, 1e-1)\n",
            "[I 2024-12-17 15:11:55,074] Trial 44 finished with value: 0.0 and parameters: {'hidden_size': 116, 'dropout_rate': 0.2630944755720427, 'learning_rate': 0.0510926235891837, 'num_epochs': 13, 'batch_size': 44}. Best is trial 10 with value: 0.09523809523809523.\n"
          ]
        },
        {
          "output_type": "stream",
          "name": "stdout",
          "text": [
            "Epoch [1/100], Train Loss: 4.6268, Test Loss: 4.3567\n",
            "Train Accuracy: 0.0000, Test Accuracy: 0.0000\n",
            "Epoch [1/100], Train Loss: 4.5813, Test Loss: 4.3861\n",
            "Train Accuracy: 0.0123, Test Accuracy: 0.0000\n"
          ]
        },
        {
          "output_type": "stream",
          "name": "stderr",
          "text": [
            "<ipython-input-86-9d4808739980>:7: FutureWarning: suggest_loguniform has been deprecated in v3.0.0. This feature will be removed in v6.0.0. See https://github.com/optuna/optuna/releases/tag/v3.0.0. Use suggest_float(..., log=True) instead.\n",
            "  learning_rate = trial.suggest_loguniform('learning_rate', 1e-5, 1e-1)\n",
            "[I 2024-12-17 15:11:55,193] Trial 45 finished with value: 0.047619047619047616 and parameters: {'hidden_size': 125, 'dropout_rate': 0.49661874687075763, 'learning_rate': 0.0077785867759776845, 'num_epochs': 26, 'batch_size': 49}. Best is trial 10 with value: 0.09523809523809523.\n",
            "<ipython-input-86-9d4808739980>:7: FutureWarning: suggest_loguniform has been deprecated in v3.0.0. This feature will be removed in v6.0.0. See https://github.com/optuna/optuna/releases/tag/v3.0.0. Use suggest_float(..., log=True) instead.\n",
            "  learning_rate = trial.suggest_loguniform('learning_rate', 1e-5, 1e-1)\n",
            "[I 2024-12-17 15:11:55,299] Trial 46 finished with value: 0.0 and parameters: {'hidden_size': 115, 'dropout_rate': 0.15596237504997043, 'learning_rate': 0.00017774084782774263, 'num_epochs': 31, 'batch_size': 58}. Best is trial 10 with value: 0.09523809523809523.\n"
          ]
        },
        {
          "output_type": "stream",
          "name": "stdout",
          "text": [
            "Epoch [1/100], Train Loss: 4.7717, Test Loss: 4.4300\n",
            "Train Accuracy: 0.0370, Test Accuracy: 0.0476\n",
            "Epoch [1/100], Train Loss: 4.5416, Test Loss: 4.3888\n",
            "Train Accuracy: 0.0123, Test Accuracy: 0.0000\n"
          ]
        },
        {
          "output_type": "stream",
          "name": "stderr",
          "text": [
            "<ipython-input-86-9d4808739980>:7: FutureWarning: suggest_loguniform has been deprecated in v3.0.0. This feature will be removed in v6.0.0. See https://github.com/optuna/optuna/releases/tag/v3.0.0. Use suggest_float(..., log=True) instead.\n",
            "  learning_rate = trial.suggest_loguniform('learning_rate', 1e-5, 1e-1)\n",
            "[I 2024-12-17 15:11:55,404] Trial 47 finished with value: 0.09523809523809523 and parameters: {'hidden_size': 102, 'dropout_rate': 0.19223233722586933, 'learning_rate': 0.0018345069403045188, 'num_epochs': 35, 'batch_size': 62}. Best is trial 10 with value: 0.09523809523809523.\n",
            "<ipython-input-86-9d4808739980>:7: FutureWarning: suggest_loguniform has been deprecated in v3.0.0. This feature will be removed in v6.0.0. See https://github.com/optuna/optuna/releases/tag/v3.0.0. Use suggest_float(..., log=True) instead.\n",
            "  learning_rate = trial.suggest_loguniform('learning_rate', 1e-5, 1e-1)\n",
            "[I 2024-12-17 15:11:55,504] Trial 48 finished with value: 0.0 and parameters: {'hidden_size': 92, 'dropout_rate': 0.19988014300404217, 'learning_rate': 0.00042502923427795, 'num_epochs': 39, 'batch_size': 42}. Best is trial 10 with value: 0.09523809523809523.\n",
            "<ipython-input-86-9d4808739980>:7: FutureWarning: suggest_loguniform has been deprecated in v3.0.0. This feature will be removed in v6.0.0. See https://github.com/optuna/optuna/releases/tag/v3.0.0. Use suggest_float(..., log=True) instead.\n",
            "  learning_rate = trial.suggest_loguniform('learning_rate', 1e-5, 1e-1)\n",
            "[I 2024-12-17 15:11:55,588] Trial 49 finished with value: 0.0 and parameters: {'hidden_size': 99, 'dropout_rate': 0.3344460821090092, 'learning_rate': 0.00178999473688541, 'num_epochs': 35, 'batch_size': 62}. Best is trial 10 with value: 0.09523809523809523.\n"
          ]
        },
        {
          "output_type": "stream",
          "name": "stdout",
          "text": [
            "Epoch [1/100], Train Loss: 4.6831, Test Loss: 4.3598\n",
            "Train Accuracy: 0.0000, Test Accuracy: 0.0952\n",
            "Epoch [1/100], Train Loss: 4.6965, Test Loss: 4.4356\n",
            "Train Accuracy: 0.0123, Test Accuracy: 0.0000\n",
            "Epoch [1/100], Train Loss: 4.6044, Test Loss: 4.4384\n",
            "Train Accuracy: 0.0370, Test Accuracy: 0.0000\n",
            "Best hyperparameters:  {'hidden_size': 127, 'dropout_rate': 0.2184663185138595, 'learning_rate': 0.0002874089390108436, 'num_epochs': 10, 'batch_size': 43}\n",
            "Best ROC AUC:  0.09523809523809523\n"
          ]
        }
      ]
    },
    {
      "cell_type": "markdown",
      "source": [
        "\"Усовершенствованная\" модель"
      ],
      "metadata": {
        "id": "NDnIByiKGTZN"
      }
    },
    {
      "cell_type": "code",
      "source": [
        "class LSTMModel2(nn.Module):\n",
        "    def __init__(self, input_size, hidden_size, output_size, dropout_rate):\n",
        "        super(LSTMModel2, self).__init__()\n",
        "        self.lstm1 = nn.LSTM(input_size, hidden_size, batch_first=True, bidirectional=True)\n",
        "        self.lstm2 = nn.LSTM(hidden_size * 2, hidden_size, batch_first=True, bidirectional=True)\n",
        "        self.batchnorm = nn.BatchNorm1d(hidden_size * 2)\n",
        "        self.dropout = nn.Dropout(dropout_rate)\n",
        "        self.fc1 = nn.Linear(hidden_size * 2, 64)  # Добавляем скрытый слой\n",
        "        self.relu = nn.ReLU()\n",
        "        self.fc2 = nn.Linear(64, output_size)\n",
        "\n",
        "    def forward(self, x):\n",
        "        lstm_out, _ = self.lstm1(x)\n",
        "        lstm_out, _ = self.lstm2(lstm_out)\n",
        "        out = self.batchnorm(lstm_out[:, -1, :])  # Используем последний выход LSTM\n",
        "        out = self.dropout(out)\n",
        "        out = self.fc1(out)\n",
        "        out = self.relu(out)\n",
        "        out = self.fc2(out)\n",
        "        return out"
      ],
      "metadata": {
        "id": "oa0Rl5MlHs-0"
      },
      "execution_count": 93,
      "outputs": []
    },
    {
      "cell_type": "code",
      "source": [
        "# Параметры модели\n",
        "input_size = mfcc_array.shape[1]  # Размер входа (количество признаков MFCC)\n",
        "output_size = len(label_encoder.classes_)  # Количество классов\n",
        "# Гиперпараметры\n",
        "hidden_size = 126\n",
        "dropout_rate = 0.25\n",
        "learning_rate = 0.012\n",
        "num_epochs = 10\n",
        "batch_size = 43\n",
        "\n",
        "model = LSTMModel(input_size=input_size, hidden_size=hidden_size,\n",
        "                      output_size=output_size, dropout_rate=dropout_rate)\n",
        "\n",
        "#Создание модели\n",
        "criterion = nn.CrossEntropyLoss()\n",
        "optimizer = optim.Adam(model.parameters(), lr=learning_rate)"
      ],
      "metadata": {
        "id": "pdSBV4KvHyu2"
      },
      "execution_count": 94,
      "outputs": []
    },
    {
      "cell_type": "code",
      "source": [
        "train_losses = []\n",
        "test_losses = []\n",
        "\n",
        "for epoch in range(num_epochs):\n",
        "    model.train()\n",
        "    optimizer.zero_grad()\n",
        "    outputs = model(X_train_tensor.unsqueeze(1))  # Добавляем размерность для батча\n",
        "    loss = criterion(outputs, y_train_tensor.long())\n",
        "    loss.backward()\n",
        "    optimizer.step()\n",
        "\n",
        "    train_losses.append(loss.item())\n",
        "\n",
        "\n",
        "    model.eval()\n",
        "    with torch.no_grad():\n",
        "        test_outputs = model(X_test_tensor.unsqueeze(1))\n",
        "        test_loss = criterion(test_outputs, y_test_tensor.long())\n",
        "        test_losses.append(test_loss.item())\n",
        "\n",
        "    print(f'Epoch [{epoch+1}/{num_epochs}], Train Loss: {loss.item():.4f}, Test Loss: {test_loss.item():.4f}')\n",
        "\n",
        "# Сравнение метрик\n",
        "y_train_pred = torch.argmax(model(X_train_tensor.unsqueeze(1)), dim=1).numpy()\n",
        "y_test_pred = torch.argmax(model(X_test_tensor.unsqueeze(1)), dim=1).numpy()\n",
        "\n",
        "train_accuracy = accuracy_score(y_train, y_train_pred)\n",
        "test_accuracy = accuracy_score(y_test, y_test_pred)\n",
        "\n",
        "print(f'Train Accuracy: {train_accuracy:.4f}, Test Accuracy: {test_accuracy:.4f}')\n",
        "\n",
        "# Построение графиков потерь\n",
        "plt.plot(train_losses, label='Train Loss')\n",
        "plt.plot(test_losses, label='Test Loss')\n",
        "plt.xlabel('Epochs')\n",
        "plt.ylabel('Loss')\n",
        "plt.legend()\n",
        "plt.title('Loss vs Epochs')\n",
        "\n",
        "# График ROC AUC\n",
        "plt.subplot(1, 2, 2)\n",
        "plt.bar(['Train', 'Test'], [train_accuracy, test_accuracy])\n",
        "plt.title('ROC AUC')\n",
        "plt.ylabel('ROC AUC Score')\n",
        "\n",
        "plt.tight_layout()\n",
        "plt.show()\n"
      ],
      "metadata": {
        "colab": {
          "base_uri": "https://localhost:8080/",
          "height": 1000
        },
        "id": "X-aX84fNIfej",
        "outputId": "4dcac9c5-1a70-414c-c1d3-cde386855c7b"
      },
      "execution_count": 72,
      "outputs": [
        {
          "output_type": "stream",
          "name": "stdout",
          "text": [
            "Epoch [1/34], Train Loss: 4.4657, Test Loss: 4.4352\n",
            "Epoch [2/34], Train Loss: 4.1867, Test Loss: 4.4653\n",
            "Epoch [3/34], Train Loss: 3.6356, Test Loss: 4.5337\n",
            "Epoch [4/34], Train Loss: 3.1244, Test Loss: 4.6569\n",
            "Epoch [5/34], Train Loss: 2.5387, Test Loss: 4.7933\n",
            "Epoch [6/34], Train Loss: 2.0442, Test Loss: 4.9475\n",
            "Epoch [7/34], Train Loss: 1.6812, Test Loss: 5.1053\n",
            "Epoch [8/34], Train Loss: 1.2836, Test Loss: 5.2734\n",
            "Epoch [9/34], Train Loss: 0.9570, Test Loss: 5.6144\n",
            "Epoch [10/34], Train Loss: 0.6585, Test Loss: 6.1535\n",
            "Epoch [11/34], Train Loss: 0.4514, Test Loss: 6.4861\n",
            "Epoch [12/34], Train Loss: 0.3358, Test Loss: 6.8003\n",
            "Epoch [13/34], Train Loss: 0.1863, Test Loss: 7.0508\n",
            "Epoch [14/34], Train Loss: 0.1840, Test Loss: 7.5372\n",
            "Epoch [15/34], Train Loss: 0.1218, Test Loss: 8.0156\n",
            "Epoch [16/34], Train Loss: 0.0846, Test Loss: 8.5788\n",
            "Epoch [17/34], Train Loss: 0.0768, Test Loss: 8.9322\n",
            "Epoch [18/34], Train Loss: 0.0504, Test Loss: 9.3861\n",
            "Epoch [19/34], Train Loss: 0.0791, Test Loss: 10.2257\n",
            "Epoch [20/34], Train Loss: 0.0424, Test Loss: 11.2418\n",
            "Epoch [21/34], Train Loss: 0.0761, Test Loss: 12.0529\n",
            "Epoch [22/34], Train Loss: 0.0302, Test Loss: 13.3425\n",
            "Epoch [23/34], Train Loss: 0.0701, Test Loss: 14.4117\n",
            "Epoch [24/34], Train Loss: 0.0463, Test Loss: 15.3209\n",
            "Epoch [25/34], Train Loss: 0.0521, Test Loss: 16.0666\n",
            "Epoch [26/34], Train Loss: 0.1028, Test Loss: 17.3516\n",
            "Epoch [27/34], Train Loss: 0.0608, Test Loss: 18.1363\n",
            "Epoch [28/34], Train Loss: 0.2277, Test Loss: 17.0578\n",
            "Epoch [29/34], Train Loss: 0.1483, Test Loss: 16.1275\n",
            "Epoch [30/34], Train Loss: 0.1854, Test Loss: 17.1119\n",
            "Epoch [31/34], Train Loss: 0.1150, Test Loss: 18.5781\n",
            "Epoch [32/34], Train Loss: 0.1580, Test Loss: 20.5509\n",
            "Epoch [33/34], Train Loss: 0.1396, Test Loss: 22.0929\n",
            "Epoch [34/34], Train Loss: 0.1515, Test Loss: 24.0749\n",
            "Train Accuracy: 0.7654, Test Accuracy: 0.0000\n"
          ]
        },
        {
          "output_type": "display_data",
          "data": {
            "text/plain": [
              "<Figure size 640x480 with 2 Axes>"
            ],
            "image/png": "[encoded data removed]"
          },
          "metadata": {}
        }
      ]
    },
    {
      "cell_type": "code",
      "source": [
        "train_losses = []\n",
        "test_losses = []\n",
        "\n",
        "for epoch in range(num_epochs):\n",
        "    model.train()\n",
        "    optimizer.zero_grad()\n",
        "    outputs = model(X_train_tensor.unsqueeze(1))  # Добавляем размерность для батча\n",
        "    loss = criterion(outputs, y_train_tensor.long())\n",
        "    loss.backward()\n",
        "    optimizer.step()\n",
        "\n",
        "    train_losses.append(loss.item())\n",
        "\n",
        "\n",
        "    model.eval()\n",
        "    with torch.no_grad():\n",
        "        test_outputs = model(X_test_tensor.unsqueeze(1))\n",
        "        test_loss = criterion(test_outputs, y_test_tensor.long())\n",
        "        test_losses.append(test_loss.item())\n",
        "\n",
        "    print(f'Epoch [{epoch+1}/{num_epochs}], Train Loss: {loss.item():.4f}, Test Loss: {test_loss.item():.4f}')\n",
        "\n",
        "# Сравнение метрик\n",
        "y_train_pred = torch.argmax(model(X_train_tensor.unsqueeze(1)), dim=1).numpy()\n",
        "y_test_pred = torch.argmax(model(X_test_tensor.unsqueeze(1)), dim=1).numpy()\n",
        "\n",
        "train_accuracy = accuracy_score(y_train, y_train_pred)\n",
        "test_accuracy = accuracy_score(y_test, y_test_pred)\n",
        "\n",
        "print(f'Train Accuracy: {train_accuracy:.4f}, Test Accuracy: {test_accuracy:.4f}')\n",
        "\n",
        "# Построение графиков потерь\n",
        "plt.plot(train_losses, label='Train Loss')\n",
        "plt.plot(test_losses, label='Test Loss')\n",
        "plt.xlabel('Epochs')\n",
        "plt.ylabel('Loss')\n",
        "plt.legend()\n",
        "plt.title('Loss vs Epochs')\n",
        "\n",
        "# График ROC AUC\n",
        "plt.subplot(1, 2, 2)\n",
        "plt.bar(['Train', 'Test'], [train_accuracy, test_accuracy])\n",
        "plt.title('ROC AUC')\n",
        "plt.ylabel('ROC AUC Score')\n",
        "\n",
        "plt.tight_layout()\n",
        "plt.show()\n"
      ],
      "metadata": {
        "colab": {
          "base_uri": "https://localhost:8080/",
          "height": 631
        },
        "id": "A8VcLgtiMNdi",
        "outputId": "f28db711-6548-4254-b4e2-116cde1d5239"
      },
      "execution_count": 95,
      "outputs": [
        {
          "output_type": "stream",
          "name": "stdout",
          "text": [
            "Epoch [1/10], Train Loss: 4.5518, Test Loss: 4.3989\n",
            "Epoch [2/10], Train Loss: 3.8119, Test Loss: 4.3504\n",
            "Epoch [3/10], Train Loss: 3.0862, Test Loss: 4.3409\n",
            "Epoch [4/10], Train Loss: 2.5440, Test Loss: 4.4100\n",
            "Epoch [5/10], Train Loss: 2.0498, Test Loss: 4.4639\n",
            "Epoch [6/10], Train Loss: 1.7354, Test Loss: 4.5081\n",
            "Epoch [7/10], Train Loss: 1.3646, Test Loss: 4.5007\n",
            "Epoch [8/10], Train Loss: 1.0851, Test Loss: 4.4785\n",
            "Epoch [9/10], Train Loss: 0.8094, Test Loss: 4.5127\n",
            "Epoch [10/10], Train Loss: 0.6738, Test Loss: 4.5988\n",
            "Train Accuracy: 0.9506, Test Accuracy: 0.0952\n"
          ]
        },
        {
          "output_type": "display_data",
          "data": {
            "text/plain": [
              "<Figure size 640x480 with 2 Axes>"
            ],
            "image/png": "[encoded data removed]"
          },
          "metadata": {}
        }
      ]
    },
    {
      "cell_type": "markdown",
      "source": [
        "Маленькое значение на тест возникает вероятней всего из-за маленького размера итоговой тестовой выборки"
      ],
      "metadata": {
        "id": "uYkGGZyPJAY9"
      }
    },
    {
      "cell_type": "markdown",
      "source": [
        "Создание эмбеддингов аудио"
      ],
      "metadata": {
        "id": "8eL8gUKI0hjg"
      }
    },
    {
      "cell_type": "code",
      "source": [
        "model.eval()\n",
        "with torch.no_grad():\n",
        "    embeddings_train = model.lstm(X_train_tensor.unsqueeze(1))[0][:, -1, :].numpy()  # Последний выход LSTM для обучающей выборки\n",
        "    embeddings_test = model.lstm(X_test_tensor.unsqueeze(1))[0][:, -1, :].numpy()  # Последний выход LSTM для тестовой выборки\n",
        "\n",
        "# Объединяем эмбеддинги\n",
        "embeddings = np.concatenate((embeddings_train, embeddings_test), axis=0)\n",
        "labels_combined = np.concatenate((y_train, y_test), axis=0)\n"
      ],
      "metadata": {
        "id": "0jH9AmuTsI7B"
      },
      "execution_count": 96,
      "outputs": []
    },
    {
      "cell_type": "code",
      "source": [
        "print(embeddings_test)"
      ],
      "metadata": {
        "colab": {
          "base_uri": "https://localhost:8080/"
        },
        "id": "JRIpA8qcs-YR",
        "outputId": "221a2764-b408-42a1-bdf3-4f59d287cc94"
      },
      "execution_count": 97,
      "outputs": [
        {
          "output_type": "stream",
          "name": "stdout",
          "text": [
            "[[ 1.85738564e-01  2.59734611e-06  7.61590242e-01 ... -6.45801192e-04\n",
            "  -1.16282791e-01 -6.27437949e-01]\n",
            " [ 2.96988469e-02 -8.45663249e-04  5.41558504e-01 ... -5.28198421e-01\n",
            "  -1.20796205e-04 -2.80065030e-01]\n",
            " [ 5.94783500e-02 -2.44910736e-03  6.75081462e-02 ... -5.49119949e-01\n",
            "  -7.44804129e-05 -3.37274849e-01]\n",
            " ...\n",
            " [-2.66561117e-02  1.43591587e-05  7.61530876e-01 ... -4.82598413e-03\n",
            "   1.89115368e-02 -5.05800903e-01]\n",
            " [-2.35252038e-01  5.14148297e-08  7.61572421e-01 ... -7.57144764e-04\n",
            "  -4.80004493e-03 -6.14914477e-01]\n",
            " [ 1.85556307e-01 -3.30019626e-04  4.15295750e-01 ... -2.96328574e-01\n",
            "  -1.29202968e-02 -5.24903715e-01]]\n"
          ]
        }
      ]
    },
    {
      "cell_type": "markdown",
      "source": [
        "Визуализация эмбеддингов с использованием t-SNЕ"
      ],
      "metadata": {
        "id": "QL1GPby30qOc"
      }
    },
    {
      "cell_type": "code",
      "source": [
        "from sklearn.manifold import TSNE\n",
        "\n",
        "# Применение t-SNE\n",
        "tsne = TSNE(n_components=2, random_state=42)\n",
        "embeddings_2d = tsne.fit_transform(embeddings)\n",
        "\n",
        "# Визуализация\n",
        "plt.figure(figsize=(10, 8))\n",
        "scatter = plt.scatter(embeddings_2d[:, 0], embeddings_2d[:, 1], c=labels_combined, cmap='viridis', alpha=0.7)\n",
        "plt.colorbar(scatter)\n",
        "plt.title('t-SNE Visualization of Audio Embeddings')\n",
        "plt.xlabel('t-SNE Component 1')\n",
        "plt.ylabel('t-SNE Component 2')\n",
        "plt.show()\n"
      ],
      "metadata": {
        "colab": {
          "base_uri": "https://localhost:8080/",
          "height": 718
        },
        "id": "DBudJHIKscRM",
        "outputId": "df9421cd-17b6-4c98-8c5b-7bcfd5703cc0"
      },
      "execution_count": 98,
      "outputs": [
        {
          "output_type": "display_data",
          "data": {
            "text/plain": [
              "<Figure size 1000x800 with 2 Axes>"
            ],
            "image/png": "[encoded data removed]"
          },
          "metadata": {}
        }
      ]
    },
    {
      "cell_type": "markdown",
      "source": [
        "Визуальное решение задачи относительно меток, которые мы изначально получади доя сравнения"
      ],
      "metadata": {
        "id": "ND-Ni7P9OTfs"
      }
    },
    {
      "cell_type": "code",
      "source": [
        "# полученные с помощью мел-преобразования усредненные эмбеддинги разделяются по жанрам (какой исполнитель, какому жанру принадлежит. То, что размечалось выше)\n",
        "import matplotlib.pyplot as plt\n",
        "colors = ['blue' if artist_i == 0 else 'red' if artist_i == 1 else \"white\" for artist_i in artist_labels]\n",
        "\n",
        "plt.scatter(embeddings_2d[:, 0], embeddings_2d[:, 1], c=colors)\n",
        "plt.show()"
      ],
      "metadata": {
        "colab": {
          "base_uri": "https://localhost:8080/",
          "height": 430
        },
        "id": "UQAw8nY3Ok7X",
        "outputId": "35730950-527f-4640-c828-c04858202e7f"
      },
      "execution_count": 104,
      "outputs": [
        {
          "output_type": "display_data",
          "data": {
            "text/plain": [
              "<Figure size 640x480 with 1 Axes>"
            ],
            "image/png": "[encoded data removed]"
          },
          "metadata": {}
        }
      ]
    },
    {
      "cell_type": "markdown",
      "source": [
        "Итого также получилось поровну исполнителей каждого жанра"
      ],
      "metadata": {
        "id": "i2JoFZyxPqCA"
      }
    }
  ]
}