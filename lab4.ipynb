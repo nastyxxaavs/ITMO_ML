{
  "nbformat": 4,
  "nbformat_minor": 0,
  "metadata": {
    "colab": {
      "provenance": []
    },
    "kernelspec": {
      "name": "python3",
      "display_name": "Python 3"
    },
    "language_info": {
      "name": "python"
    }
  },
  "cells": [
    {
      "cell_type": "markdown",
      "source": [
        "Импорт необходимых библиотек"
      ],
      "metadata": {
        "id": "xpfjas8RPtC0"
      }
    },
    {
      "cell_type": "code",
      "source": [
        "!pip3 install -U pandas\n",
        "import pandas as pd\n",
        "import re\n",
        "import csv\n",
        "from datetime import datetime, timedelta\n",
        "from sklearn.preprocessing import StandardScaler\n",
        "from sklearn.cluster import DBSCAN\n",
        "!pip install umap\n",
        "import umap\n",
        "!pip install sentencepiece\n",
        "from gensim.models import Word2Vec\n",
        "import pickle\n",
        "!pip install umap-learn\n",
        "import umap.umap_ as umap\n",
        "from typing import List\n",
        "from collections import Counter\n",
        "from itertools import chain\n",
        "from nltk.corpus import stopwords\n",
        "import nltk\n",
        "from pymystem3 import Mystem\n",
        "from string import punctuation\n",
        "from keras.preprocessing.sequence import pad_sequences\n",
        "from sklearn import metrics"
      ],
      "metadata": {
        "colab": {
          "base_uri": "https://localhost:8080/"
        },
        "id": "DvKZNJaqljYb",
        "outputId": "d7c9e937-a49b-4a0f-b41b-fab74d2fddac"
      },
      "execution_count": 2,
      "outputs": [
        {
          "output_type": "stream",
          "name": "stdout",
          "text": [
            "Requirement already satisfied: pandas in /usr/local/lib/python3.10/dist-packages (2.2.3)\n",
            "Requirement already satisfied: numpy>=1.22.4 in /usr/local/lib/python3.10/dist-packages (from pandas) (1.26.4)\n",
            "Requirement already satisfied: python-dateutil>=2.8.2 in /usr/local/lib/python3.10/dist-packages (from pandas) (2.8.2)\n",
            "Requirement already satisfied: pytz>=2020.1 in /usr/local/lib/python3.10/dist-packages (from pandas) (2024.2)\n",
            "Requirement already satisfied: tzdata>=2022.7 in /usr/local/lib/python3.10/dist-packages (from pandas) (2024.2)\n",
            "Requirement already satisfied: six>=1.5 in /usr/local/lib/python3.10/dist-packages (from python-dateutil>=2.8.2->pandas) (1.16.0)\n",
            "Requirement already satisfied: umap in /usr/local/lib/python3.10/dist-packages (0.1.1)\n",
            "Requirement already satisfied: sentencepiece in /usr/local/lib/python3.10/dist-packages (0.2.0)\n",
            "Requirement already satisfied: umap-learn in /usr/local/lib/python3.10/dist-packages (0.5.7)\n",
            "Requirement already satisfied: numpy>=1.17 in /usr/local/lib/python3.10/dist-packages (from umap-learn) (1.26.4)\n",
            "Requirement already satisfied: scipy>=1.3.1 in /usr/local/lib/python3.10/dist-packages (from umap-learn) (1.13.1)\n",
            "Requirement already satisfied: scikit-learn>=0.22 in /usr/local/lib/python3.10/dist-packages (from umap-learn) (1.5.2)\n",
            "Requirement already satisfied: numba>=0.51.2 in /usr/local/lib/python3.10/dist-packages (from umap-learn) (0.60.0)\n",
            "Requirement already satisfied: pynndescent>=0.5 in /usr/local/lib/python3.10/dist-packages (from umap-learn) (0.5.13)\n",
            "Requirement already satisfied: tqdm in /usr/local/lib/python3.10/dist-packages (from umap-learn) (4.66.6)\n",
            "Requirement already satisfied: llvmlite<0.44,>=0.43.0dev0 in /usr/local/lib/python3.10/dist-packages (from numba>=0.51.2->umap-learn) (0.43.0)\n",
            "Requirement already satisfied: joblib>=0.11 in /usr/local/lib/python3.10/dist-packages (from pynndescent>=0.5->umap-learn) (1.4.2)\n",
            "Requirement already satisfied: threadpoolctl>=3.1.0 in /usr/local/lib/python3.10/dist-packages (from scikit-learn>=0.22->umap-learn) (3.5.0)\n"
          ]
        }
      ]
    },
    {
      "cell_type": "markdown",
      "source": [
        "Предобработка получившегося датасета"
      ],
      "metadata": {
        "id": "2lY4d_r8PwRY"
      }
    },
    {
      "cell_type": "code",
      "source": [
        "df = pd.read_csv('/content/films_2.csv')\n",
        "df.tail(10)"
      ],
      "metadata": {
        "colab": {
          "base_uri": "https://localhost:8080/",
          "height": 363
        },
        "id": "uVupi88rlW5i",
        "outputId": "d2c10f3c-6d44-40f4-df5c-668652e862f6"
      },
      "execution_count": 3,
      "outputs": [
        {
          "output_type": "execute_result",
          "data": {
            "text/plain": [
              "         Категория Страна  Оценка зрителей  Оценка сайта  Оценка IMDb  \\\n",
              "2953  мультфильмы     США              8.3             6          5.8   \n",
              "2954  мультфильмы     США              8.2             0          7.1   \n",
              "2955  мультфильмы     США              8.2             8          6.5   \n",
              "2956  мультфильмы     США              8.2             0          7.5   \n",
              "2957  мультфильмы     США              8.2             0          7.2   \n",
              "2958  приключения     США              8.2             0          6.0   \n",
              "2959  мультфильмы     США              8.1             6          6.7   \n",
              "2960  мультфильмы     США              8.1             0          6.7   \n",
              "2961  мультфильмы     США              8.1             0          7.5   \n",
              "2962  мультфильмы     США              8.1             0          6.4   \n",
              "\n",
              "      Год выхода                                           Описание  \n",
              "2953        2013  Индюк Реджи вырос на обычной ферме, его жизнь ...  \n",
              "2954        1970  В аристократическом доме в Париже живет мама-к...  \n",
              "2955        2012  И опять Белка со своим орехом расколола земной...  \n",
              "2956        1973  Добро пожаловать в дремучий Шервудский лес, гд...  \n",
              "2957        1981  Добро пожаловать в дремучий Шервудский лес, гд...  \n",
              "2958        2002  Добро пожаловать в дремучий Шервудский лес, гд...  \n",
              "2959        2007  Команда пингвинов-документалистов приглашает з...  \n",
              "2960        1977  Команда пингвинов-документалистов приглашает з...  \n",
              "2961        1982  Скромная мышка становится героиней поневоле. Б...  \n",
              "2962        2004  Скромная мышка становится героиней поневоле. Б...  "
            ],
            "text/html": [
              "\n",
              "  <div id=\"df-854a8eb4-28de-4c9e-bbad-13e360d28110\" class=\"colab-df-container\">\n",
              "    <div>\n",
              "<style scoped>\n",
              "    .dataframe tbody tr th:only-of-type {\n",
              "        vertical-align: middle;\n",
              "    }\n",
              "\n",
              "    .dataframe tbody tr th {\n",
              "        vertical-align: top;\n",
              "    }\n",
              "\n",
              "    .dataframe thead th {\n",
              "        text-align: right;\n",
              "    }\n",
              "</style>\n",
              "<table border=\"1\" class=\"dataframe\">\n",
              "  <thead>\n",
              "    <tr style=\"text-align: right;\">\n",
              "      <th></th>\n",
              "      <th>Категория</th>\n",
              "      <th>Страна</th>\n",
              "      <th>Оценка зрителей</th>\n",
              "      <th>Оценка сайта</th>\n",
              "      <th>Оценка IMDb</th>\n",
              "      <th>Год выхода</th>\n",
              "      <th>Описание</th>\n",
              "    </tr>\n",
              "  </thead>\n",
              "  <tbody>\n",
              "    <tr>\n",
              "      <th>2953</th>\n",
              "      <td>мультфильмы</td>\n",
              "      <td>США</td>\n",
              "      <td>8.3</td>\n",
              "      <td>6</td>\n",
              "      <td>5.8</td>\n",
              "      <td>2013</td>\n",
              "      <td>Индюк Реджи вырос на обычной ферме, его жизнь ...</td>\n",
              "    </tr>\n",
              "    <tr>\n",
              "      <th>2954</th>\n",
              "      <td>мультфильмы</td>\n",
              "      <td>США</td>\n",
              "      <td>8.2</td>\n",
              "      <td>0</td>\n",
              "      <td>7.1</td>\n",
              "      <td>1970</td>\n",
              "      <td>В аристократическом доме в Париже живет мама-к...</td>\n",
              "    </tr>\n",
              "    <tr>\n",
              "      <th>2955</th>\n",
              "      <td>мультфильмы</td>\n",
              "      <td>США</td>\n",
              "      <td>8.2</td>\n",
              "      <td>8</td>\n",
              "      <td>6.5</td>\n",
              "      <td>2012</td>\n",
              "      <td>И опять Белка со своим орехом расколола земной...</td>\n",
              "    </tr>\n",
              "    <tr>\n",
              "      <th>2956</th>\n",
              "      <td>мультфильмы</td>\n",
              "      <td>США</td>\n",
              "      <td>8.2</td>\n",
              "      <td>0</td>\n",
              "      <td>7.5</td>\n",
              "      <td>1973</td>\n",
              "      <td>Добро пожаловать в дремучий Шервудский лес, гд...</td>\n",
              "    </tr>\n",
              "    <tr>\n",
              "      <th>2957</th>\n",
              "      <td>мультфильмы</td>\n",
              "      <td>США</td>\n",
              "      <td>8.2</td>\n",
              "      <td>0</td>\n",
              "      <td>7.2</td>\n",
              "      <td>1981</td>\n",
              "      <td>Добро пожаловать в дремучий Шервудский лес, гд...</td>\n",
              "    </tr>\n",
              "    <tr>\n",
              "      <th>2958</th>\n",
              "      <td>приключения</td>\n",
              "      <td>США</td>\n",
              "      <td>8.2</td>\n",
              "      <td>0</td>\n",
              "      <td>6.0</td>\n",
              "      <td>2002</td>\n",
              "      <td>Добро пожаловать в дремучий Шервудский лес, гд...</td>\n",
              "    </tr>\n",
              "    <tr>\n",
              "      <th>2959</th>\n",
              "      <td>мультфильмы</td>\n",
              "      <td>США</td>\n",
              "      <td>8.1</td>\n",
              "      <td>6</td>\n",
              "      <td>6.7</td>\n",
              "      <td>2007</td>\n",
              "      <td>Команда пингвинов-документалистов приглашает з...</td>\n",
              "    </tr>\n",
              "    <tr>\n",
              "      <th>2960</th>\n",
              "      <td>мультфильмы</td>\n",
              "      <td>США</td>\n",
              "      <td>8.1</td>\n",
              "      <td>0</td>\n",
              "      <td>6.7</td>\n",
              "      <td>1977</td>\n",
              "      <td>Команда пингвинов-документалистов приглашает з...</td>\n",
              "    </tr>\n",
              "    <tr>\n",
              "      <th>2961</th>\n",
              "      <td>мультфильмы</td>\n",
              "      <td>США</td>\n",
              "      <td>8.1</td>\n",
              "      <td>0</td>\n",
              "      <td>7.5</td>\n",
              "      <td>1982</td>\n",
              "      <td>Скромная мышка становится героиней поневоле. Б...</td>\n",
              "    </tr>\n",
              "    <tr>\n",
              "      <th>2962</th>\n",
              "      <td>мультфильмы</td>\n",
              "      <td>США</td>\n",
              "      <td>8.1</td>\n",
              "      <td>0</td>\n",
              "      <td>6.4</td>\n",
              "      <td>2004</td>\n",
              "      <td>Скромная мышка становится героиней поневоле. Б...</td>\n",
              "    </tr>\n",
              "  </tbody>\n",
              "</table>\n",
              "</div>\n",
              "    <div class=\"colab-df-buttons\">\n",
              "\n",
              "  <div class=\"colab-df-container\">\n",
              "    <button class=\"colab-df-convert\" onclick=\"convertToInteractive('df-854a8eb4-28de-4c9e-bbad-13e360d28110')\"\n",
              "            title=\"Convert this dataframe to an interactive table.\"\n",
              "            style=\"display:none;\">\n",
              "\n",
              "  <svg xmlns=\"http://www.w3.org/2000/svg\" height=\"24px\" viewBox=\"0 -960 960 960\">\n",
              "    <path d=\"M120-120v-720h720v720H120Zm60-500h600v-160H180v160Zm220 220h160v-160H400v160Zm0 220h160v-160H400v160ZM180-400h160v-160H180v160Zm440 0h160v-160H620v160ZM180-180h160v-160H180v160Zm440 0h160v-160H620v160Z\"/>\n",
              "  </svg>\n",
              "    </button>\n",
              "\n",
              "  <style>\n",
              "    .colab-df-container {\n",
              "      display:flex;\n",
              "      gap: 12px;\n",
              "    }\n",
              "\n",
              "    .colab-df-convert {\n",
              "      background-color: #E8F0FE;\n",
              "      border: none;\n",
              "      border-radius: 50%;\n",
              "      cursor: pointer;\n",
              "      display: none;\n",
              "      fill: #1967D2;\n",
              "      height: 32px;\n",
              "      padding: 0 0 0 0;\n",
              "      width: 32px;\n",
              "    }\n",
              "\n",
              "    .colab-df-convert:hover {\n",
              "      background-color: #E2EBFA;\n",
              "      box-shadow: 0px 1px 2px rgba(60, 64, 67, 0.3), 0px 1px 3px 1px rgba(60, 64, 67, 0.15);\n",
              "      fill: #174EA6;\n",
              "    }\n",
              "\n",
              "    .colab-df-buttons div {\n",
              "      margin-bottom: 4px;\n",
              "    }\n",
              "\n",
              "    [theme=dark] .colab-df-convert {\n",
              "      background-color: #3B4455;\n",
              "      fill: #D2E3FC;\n",
              "    }\n",
              "\n",
              "    [theme=dark] .colab-df-convert:hover {\n",
              "      background-color: #434B5C;\n",
              "      box-shadow: 0px 1px 3px 1px rgba(0, 0, 0, 0.15);\n",
              "      filter: drop-shadow(0px 1px 2px rgba(0, 0, 0, 0.3));\n",
              "      fill: #FFFFFF;\n",
              "    }\n",
              "  </style>\n",
              "\n",
              "    <script>\n",
              "      const buttonEl =\n",
              "        document.querySelector('#df-854a8eb4-28de-4c9e-bbad-13e360d28110 button.colab-df-convert');\n",
              "      buttonEl.style.display =\n",
              "        google.colab.kernel.accessAllowed ? 'block' : 'none';\n",
              "\n",
              "      async function convertToInteractive(key) {\n",
              "        const element = document.querySelector('#df-854a8eb4-28de-4c9e-bbad-13e360d28110');\n",
              "        const dataTable =\n",
              "          await google.colab.kernel.invokeFunction('convertToInteractive',\n",
              "                                                    [key], {});\n",
              "        if (!dataTable) return;\n",
              "\n",
              "        const docLinkHtml = 'Like what you see? Visit the ' +\n",
              "          '<a target=\"_blank\" href=https://colab.research.google.com/notebooks/data_table.ipynb>data table notebook</a>'\n",
              "          + ' to learn more about interactive tables.';\n",
              "        element.innerHTML = '';\n",
              "        dataTable['output_type'] = 'display_data';\n",
              "        await google.colab.output.renderOutput(dataTable, element);\n",
              "        const docLink = document.createElement('div');\n",
              "        docLink.innerHTML = docLinkHtml;\n",
              "        element.appendChild(docLink);\n",
              "      }\n",
              "    </script>\n",
              "  </div>\n",
              "\n",
              "\n",
              "<div id=\"df-0c1d1f3c-0c40-4492-b6f6-5351fdbccb9a\">\n",
              "  <button class=\"colab-df-quickchart\" onclick=\"quickchart('df-0c1d1f3c-0c40-4492-b6f6-5351fdbccb9a')\"\n",
              "            title=\"Suggest charts\"\n",
              "            style=\"display:none;\">\n",
              "\n",
              "<svg xmlns=\"http://www.w3.org/2000/svg\" height=\"24px\"viewBox=\"0 0 24 24\"\n",
              "     width=\"24px\">\n",
              "    <g>\n",
              "        <path d=\"M19 3H5c-1.1 0-2 .9-2 2v14c0 1.1.9 2 2 2h14c1.1 0 2-.9 2-2V5c0-1.1-.9-2-2-2zM9 17H7v-7h2v7zm4 0h-2V7h2v10zm4 0h-2v-4h2v4z\"/>\n",
              "    </g>\n",
              "</svg>\n",
              "  </button>\n",
              "\n",
              "<style>\n",
              "  .colab-df-quickchart {\n",
              "      --bg-color: #E8F0FE;\n",
              "      --fill-color: #1967D2;\n",
              "      --hover-bg-color: #E2EBFA;\n",
              "      --hover-fill-color: #174EA6;\n",
              "      --disabled-fill-color: #AAA;\n",
              "      --disabled-bg-color: #DDD;\n",
              "  }\n",
              "\n",
              "  [theme=dark] .colab-df-quickchart {\n",
              "      --bg-color: #3B4455;\n",
              "      --fill-color: #D2E3FC;\n",
              "      --hover-bg-color: #434B5C;\n",
              "      --hover-fill-color: #FFFFFF;\n",
              "      --disabled-bg-color: #3B4455;\n",
              "      --disabled-fill-color: #666;\n",
              "  }\n",
              "\n",
              "  .colab-df-quickchart {\n",
              "    background-color: var(--bg-color);\n",
              "    border: none;\n",
              "    border-radius: 50%;\n",
              "    cursor: pointer;\n",
              "    display: none;\n",
              "    fill: var(--fill-color);\n",
              "    height: 32px;\n",
              "    padding: 0;\n",
              "    width: 32px;\n",
              "  }\n",
              "\n",
              "  .colab-df-quickchart:hover {\n",
              "    background-color: var(--hover-bg-color);\n",
              "    box-shadow: 0 1px 2px rgba(60, 64, 67, 0.3), 0 1px 3px 1px rgba(60, 64, 67, 0.15);\n",
              "    fill: var(--button-hover-fill-color);\n",
              "  }\n",
              "\n",
              "  .colab-df-quickchart-complete:disabled,\n",
              "  .colab-df-quickchart-complete:disabled:hover {\n",
              "    background-color: var(--disabled-bg-color);\n",
              "    fill: var(--disabled-fill-color);\n",
              "    box-shadow: none;\n",
              "  }\n",
              "\n",
              "  .colab-df-spinner {\n",
              "    border: 2px solid var(--fill-color);\n",
              "    border-color: transparent;\n",
              "    border-bottom-color: var(--fill-color);\n",
              "    animation:\n",
              "      spin 1s steps(1) infinite;\n",
              "  }\n",
              "\n",
              "  @keyframes spin {\n",
              "    0% {\n",
              "      border-color: transparent;\n",
              "      border-bottom-color: var(--fill-color);\n",
              "      border-left-color: var(--fill-color);\n",
              "    }\n",
              "    20% {\n",
              "      border-color: transparent;\n",
              "      border-left-color: var(--fill-color);\n",
              "      border-top-color: var(--fill-color);\n",
              "    }\n",
              "    30% {\n",
              "      border-color: transparent;\n",
              "      border-left-color: var(--fill-color);\n",
              "      border-top-color: var(--fill-color);\n",
              "      border-right-color: var(--fill-color);\n",
              "    }\n",
              "    40% {\n",
              "      border-color: transparent;\n",
              "      border-right-color: var(--fill-color);\n",
              "      border-top-color: var(--fill-color);\n",
              "    }\n",
              "    60% {\n",
              "      border-color: transparent;\n",
              "      border-right-color: var(--fill-color);\n",
              "    }\n",
              "    80% {\n",
              "      border-color: transparent;\n",
              "      border-right-color: var(--fill-color);\n",
              "      border-bottom-color: var(--fill-color);\n",
              "    }\n",
              "    90% {\n",
              "      border-color: transparent;\n",
              "      border-bottom-color: var(--fill-color);\n",
              "    }\n",
              "  }\n",
              "</style>\n",
              "\n",
              "  <script>\n",
              "    async function quickchart(key) {\n",
              "      const quickchartButtonEl =\n",
              "        document.querySelector('#' + key + ' button');\n",
              "      quickchartButtonEl.disabled = true;  // To prevent multiple clicks.\n",
              "      quickchartButtonEl.classList.add('colab-df-spinner');\n",
              "      try {\n",
              "        const charts = await google.colab.kernel.invokeFunction(\n",
              "            'suggestCharts', [key], {});\n",
              "      } catch (error) {\n",
              "        console.error('Error during call to suggestCharts:', error);\n",
              "      }\n",
              "      quickchartButtonEl.classList.remove('colab-df-spinner');\n",
              "      quickchartButtonEl.classList.add('colab-df-quickchart-complete');\n",
              "    }\n",
              "    (() => {\n",
              "      let quickchartButtonEl =\n",
              "        document.querySelector('#df-0c1d1f3c-0c40-4492-b6f6-5351fdbccb9a button');\n",
              "      quickchartButtonEl.style.display =\n",
              "        google.colab.kernel.accessAllowed ? 'block' : 'none';\n",
              "    })();\n",
              "  </script>\n",
              "</div>\n",
              "    </div>\n",
              "  </div>\n"
            ],
            "application/vnd.google.colaboratory.intrinsic+json": {
              "type": "dataframe",
              "summary": "{\n  \"name\": \"df\",\n  \"rows\": 10,\n  \"fields\": [\n    {\n      \"column\": \"\\u041a\\u0430\\u0442\\u0435\\u0433\\u043e\\u0440\\u0438\\u044f\",\n      \"properties\": {\n        \"dtype\": \"category\",\n        \"num_unique_values\": 2,\n        \"samples\": [\n          \"\\u043f\\u0440\\u0438\\u043a\\u043b\\u044e\\u0447\\u0435\\u043d\\u0438\\u044f \",\n          \"\\u043c\\u0443\\u043b\\u044c\\u0442\\u0444\\u0438\\u043b\\u044c\\u043c\\u044b \"\n        ],\n        \"semantic_type\": \"\",\n        \"description\": \"\"\n      }\n    },\n    {\n      \"column\": \"\\u0421\\u0442\\u0440\\u0430\\u043d\\u0430\",\n      \"properties\": {\n        \"dtype\": \"category\",\n        \"num_unique_values\": 1,\n        \"samples\": [\n          \"\\u0421\\u0428\\u0410\"\n        ],\n        \"semantic_type\": \"\",\n        \"description\": \"\"\n      }\n    },\n    {\n      \"column\": \"\\u041e\\u0446\\u0435\\u043d\\u043a\\u0430 \\u0437\\u0440\\u0438\\u0442\\u0435\\u043b\\u0435\\u0439\",\n      \"properties\": {\n        \"dtype\": \"number\",\n        \"std\": 0.06749485577105542,\n        \"min\": 8.1,\n        \"max\": 8.3,\n        \"num_unique_values\": 3,\n        \"samples\": [\n          8.3\n        ],\n        \"semantic_type\": \"\",\n        \"description\": \"\"\n      }\n    },\n    {\n      \"column\": \"\\u041e\\u0446\\u0435\\u043d\\u043a\\u0430 \\u0441\\u0430\\u0439\\u0442\\u0430\",\n      \"properties\": {\n        \"dtype\": \"number\",\n        \"std\": 3,\n        \"min\": 0,\n        \"max\": 8,\n        \"num_unique_values\": 3,\n        \"samples\": [\n          6\n        ],\n        \"semantic_type\": \"\",\n        \"description\": \"\"\n      }\n    },\n    {\n      \"column\": \"\\u041e\\u0446\\u0435\\u043d\\u043a\\u0430 IMDb\",\n      \"properties\": {\n        \"dtype\": \"number\",\n        \"std\": 0.587272414547873,\n        \"min\": 5.8,\n        \"max\": 7.5,\n        \"num_unique_values\": 8,\n        \"samples\": [\n          7.1\n        ],\n        \"semantic_type\": \"\",\n        \"description\": \"\"\n      }\n    },\n    {\n      \"column\": \"\\u0413\\u043e\\u0434 \\u0432\\u044b\\u0445\\u043e\\u0434\\u0430\",\n      \"properties\": {\n        \"dtype\": \"number\",\n        \"std\": 16,\n        \"min\": 1970,\n        \"max\": 2013,\n        \"num_unique_values\": 10,\n        \"samples\": [\n          1982\n        ],\n        \"semantic_type\": \"\",\n        \"description\": \"\"\n      }\n    },\n    {\n      \"column\": \"\\u041e\\u043f\\u0438\\u0441\\u0430\\u043d\\u0438\\u0435\",\n      \"properties\": {\n        \"dtype\": \"string\",\n        \"num_unique_values\": 6,\n        \"samples\": [\n          \"\\u0418\\u043d\\u0434\\u044e\\u043a \\u0420\\u0435\\u0434\\u0436\\u0438 \\u0432\\u044b\\u0440\\u043e\\u0441 \\u043d\\u0430 \\u043e\\u0431\\u044b\\u0447\\u043d\\u043e\\u0439 \\u0444\\u0435\\u0440\\u043c\\u0435, \\u0435\\u0433\\u043e \\u0436\\u0438\\u0437\\u043d\\u044c \\u0431\\u044b\\u043b\\u0430 \\u0441\\u043a\\u0443\\u0447\\u043d\\u043e\\u0439 \\u0438 \\u043e\\u0434\\u043d\\u043e\\u043e\\u0431\\u0440\\u0430\\u0437\\u043d\\u043e\\u0439, \\u043a\\u0430\\u043a \\u0438 \\u0443 \\u0434\\u0440\\u0443\\u0433\\u0438\\u0445 \\u043f\\u0442\\u0438\\u0446. \\u041e\\u0434\\u043d\\u0430\\u043a\\u043e \\u043e\\u043d \\u043e\\u0442\\u043b\\u0438\\u0447\\u0430\\u043b\\u0441\\u044f \\u043e\\u0442 \\u0441\\u043e\\u0440\\u043e\\u0434\\u0438\\u0447\\u0435\\u0439 \\u0442\\u0435\\u043c, \\u0447\\u0442\\u043e \\u0443\\u043c\\u0435\\u043b \\u043f\\u043e\\u043b\\u044c\\u0437\\u043e\\u0432\\u0430\\u0442\\u044c\\u0441\\u044f \\u0441\\u043c\\u0435\\u043a\\u0430\\u043b\\u043a\\u043e\\u0439 \\u0438 \\u043f\\u043e\\u043d\\u0438\\u043c\\u0430\\u043b, \\u0437\\u0430\\u0447\\u0435\\u043c \\u0435\\u0433\\u043e \\u043a\\u043e\\u0440\\u043c\\u044f\\u0442. \\u041f\\u043e\\u0435\\u0434\\u0430\\u043d\\u0438\\u0435 \\u0438\\u043d\\u0434\\u0435\\u0439\\u043a\\u0438 \\u043d\\u0430 \\u0414\\u0435\\u043d\\u044c \\u0411\\u043b\\u0430\\u0433\\u043e\\u0434\\u0430\\u0440\\u0435\\u043d\\u0438\\u044f - \\u0437\\u043d\\u0430\\u043c\\u0435\\u043d\\u0438\\u0442\\u0430\\u044f \\u0430\\u043c\\u0435\\u0440\\u0438\\u043a\\u0430\\u043d\\u0441\\u043a\\u0430\\u044f \\u0442\\u0440\\u0430\\u0434\\u0438\\u0446\\u0438\\u044f, \\u043a\\u043e\\u0442\\u043e\\u0440\\u0430\\u044f \\u043e\\u043f\\u0440\\u0435\\u0434\\u0435\\u043b\\u044f\\u0435\\u0442 \\u0441\\u043c\\u044b\\u0441\\u043b \\u0441\\u0443\\u0449\\u0435\\u0441\\u0442\\u0432\\u043e\\u0432\\u0430\\u043d\\u0438\\u044f \\u0432\\u0441\\u0435\\u0445 \\u0438\\u043d\\u0434\\u044e\\u043a\\u043e\\u0432 \\u043d\\u0430 \\u044d\\u0442\\u043e\\u0439 \\u0444\\u0435\\u0440\\u043c\\u0435. \\u041e\\u0434\\u043d\\u0430\\u0436\\u0434\\u044b \\u0443 \\u0420\\u0435\\u0434\\u0436\\u0438 \\u043f\\u043e\\u044f\\u0432\\u0438\\u043b\\u0430\\u0441\\u044c \\u0432\\u043e\\u0437\\u043c\\u043e\\u0436\\u043d\\u043e\\u0441\\u0442\\u044c \\u043a\\u0430\\u0440\\u0434\\u0438\\u043d\\u0430\\u043b\\u044c\\u043d\\u043e \\u0438\\u0437\\u043c\\u0435\\u043d\\u0438\\u0442\\u044c \\u0441\\u0438\\u0442\\u0443\\u0430\\u0446\\u0438\\u044e: \\u0432\\u043c\\u0435\\u0441\\u0442\\u0435 \\u0441 \\u0431\\u0435\\u0437\\u0443\\u043c\\u043d\\u044b\\u043c \\u043f\\u0440\\u0438\\u044f\\u0442\\u0435\\u043b\\u0435\\u043c \\u0414\\u0436\\u0435\\u0439\\u043a\\u043e\\u043c \\u043e\\u043d\\u0438 \\u043e\\u0442\\u043f\\u0440\\u0430\\u0432\\u043b\\u044f\\u044e\\u0442\\u0441\\u044f \\u0432 \\u043d\\u0435\\u043e\\u0431\\u044b\\u0447\\u043d\\u043e\\u0435 \\u043f\\u0443\\u0442\\u0435\\u0448\\u0435\\u0441\\u0442\\u0432\\u0438\\u0435 \\u043d\\u0430 \\u043c\\u0430\\u0448\\u0438\\u043d\\u0435 \\u0432\\u0440\\u0435\\u043c\\u0435\\u043d\\u0438 \\u043d\\u0430 \\u0442\\u0440\\u0438\\u0441\\u0442\\u0430 \\u043b\\u0435\\u0442 \\u043d\\u0430\\u0437\\u0430\\u0434. \\u041e\\u0441\\u043d\\u043e\\u0432\\u043d\\u0430\\u044f \\u0437\\u0430\\u0434\\u0430\\u0447\\u0430 - \\u0432\\u0435\\u0440\\u043d\\u0443\\u0442\\u044c\\u0441\\u044f \\u0432\\u043e \\u0432\\u0440\\u0435\\u043c\\u0435\\u043d\\u0430, \\u043a\\u043e\\u0433\\u0434\\u0430 \\u0437\\u0430\\u0440\\u043e\\u0436\\u0434\\u0430\\u043b\\u0430\\u0441\\u044c \\u0442\\u0440\\u0430\\u0434\\u0438\\u0446\\u0438\\u044f \\u043f\\u0440\\u0438\\u0433\\u043e\\u0442\\u043e\\u0432\\u043b\\u0435\\u043d\\u0438\\u044f \\u0438\\u043d\\u0434\\u0435\\u0439\\u043a\\u0438 \\u043d\\u0430 \\u043f\\u0440\\u0430\\u0437\\u0434\\u043d\\u0438\\u043a, \\u0438 \\u0438\\u0437\\u043c\\u0435\\u043d\\u0438\\u0442\\u044c \\u0445\\u043e\\u0434 \\u0438\\u0441\\u0442\\u043e\\u0440\\u0438\\u0438 - \\u0440\\u0430\\u0437 \\u0438 \\u043d\\u0430\\u0432\\u0441\\u0435\\u0433\\u0434\\u0430 \\u0432\\u044b\\u0447\\u0435\\u0440\\u043a\\u043d\\u0443\\u0442\\u044c \\u0438\\u043d\\u0434\\u0435\\u0439\\u043a\\u0443 \\u0438\\u0437 \\u043f\\u0440\\u0430\\u0437\\u0434\\u043d\\u0438\\u0447\\u043d\\u043e\\u0433\\u043e \\u043c\\u0435\\u043d\\u044e.\"\n        ],\n        \"semantic_type\": \"\",\n        \"description\": \"\"\n      }\n    }\n  ]\n}"
            }
          },
          "metadata": {},
          "execution_count": 3
        }
      ]
    },
    {
      "cell_type": "code",
      "source": [
        "df.info()"
      ],
      "metadata": {
        "colab": {
          "base_uri": "https://localhost:8080/"
        },
        "id": "hSkOF1oqlxpp",
        "outputId": "71acf6f5-57a4-4eac-f967-fab6f3407525"
      },
      "execution_count": 4,
      "outputs": [
        {
          "output_type": "stream",
          "name": "stdout",
          "text": [
            "<class 'pandas.core.frame.DataFrame'>\n",
            "RangeIndex: 2963 entries, 0 to 2962\n",
            "Data columns (total 7 columns):\n",
            " #   Column           Non-Null Count  Dtype  \n",
            "---  ------           --------------  -----  \n",
            " 0   Категория        2963 non-null   object \n",
            " 1   Страна           2963 non-null   object \n",
            " 2   Оценка зрителей  2963 non-null   float64\n",
            " 3   Оценка сайта     2963 non-null   int64  \n",
            " 4   Оценка IMDb      2963 non-null   float64\n",
            " 5   Год выхода       2963 non-null   int64  \n",
            " 6   Описание         2959 non-null   object \n",
            "dtypes: float64(2), int64(2), object(3)\n",
            "memory usage: 162.2+ KB\n"
          ]
        }
      ]
    },
    {
      "cell_type": "code",
      "source": [
        "#Удаляем дубликаты\n",
        "df = df.drop_duplicates()\n",
        "print(\"Датасет после удаления дубликатов:\")\n",
        "df.info()"
      ],
      "metadata": {
        "colab": {
          "base_uri": "https://localhost:8080/"
        },
        "id": "3blXdnk2lzbl",
        "outputId": "3dbe4895-84ca-4551-a3fd-ca3786d69d66"
      },
      "execution_count": 5,
      "outputs": [
        {
          "output_type": "stream",
          "name": "stdout",
          "text": [
            "Датасет после удаления дубликатов:\n",
            "<class 'pandas.core.frame.DataFrame'>\n",
            "Index: 2585 entries, 0 to 2962\n",
            "Data columns (total 7 columns):\n",
            " #   Column           Non-Null Count  Dtype  \n",
            "---  ------           --------------  -----  \n",
            " 0   Категория        2585 non-null   object \n",
            " 1   Страна           2585 non-null   object \n",
            " 2   Оценка зрителей  2585 non-null   float64\n",
            " 3   Оценка сайта     2585 non-null   int64  \n",
            " 4   Оценка IMDb      2585 non-null   float64\n",
            " 5   Год выхода       2585 non-null   int64  \n",
            " 6   Описание         2581 non-null   object \n",
            "dtypes: float64(2), int64(2), object(3)\n",
            "memory usage: 161.6+ KB\n"
          ]
        }
      ]
    },
    {
      "cell_type": "code",
      "source": [
        "# Нормализация данных\n",
        "scaler = StandardScaler()\n",
        "scaled_data = scaler.fit_transform(df[[\"Оценка зрителей\", \"Оценка сайта\", \"Оценка IMDb\",\"Год выхода\"]])\n",
        "\n",
        "# Применение DBSCAN для удаления выборосов\n",
        "dbscan = DBSCAN(eps=0.5, min_samples=2)\n",
        "df['cluster'] = dbscan.fit_predict(scaled_data)\n",
        "df = df[df['cluster'] != -1]\n",
        "print(df)\n",
        "df.info()\n",
        "new_df = df.drop(['cluster'], axis='columns')"
      ],
      "metadata": {
        "colab": {
          "base_uri": "https://localhost:8080/"
        },
        "id": "yWlHlWFMl4B-",
        "outputId": "a1495114-d206-4de6-ede0-ca235e73c9de"
      },
      "execution_count": 6,
      "outputs": [
        {
          "output_type": "stream",
          "name": "stdout",
          "text": [
            "            Категория  Страна  Оценка зрителей  Оценка сайта  Оценка IMDb  \\\n",
            "0              драма   Россия              6.5             6          6.3   \n",
            "1     биографический   Россия              4.7             7          5.9   \n",
            "2              драма   Россия              5.7             8          7.6   \n",
            "3            комедия   Россия              6.8             0          6.4   \n",
            "4           детектив   Россия              6.2             6          6.0   \n",
            "...               ...     ...              ...           ...          ...   \n",
            "2958     приключения      США              8.2             0          6.0   \n",
            "2959     мультфильмы      США              8.1             6          6.7   \n",
            "2960     мультфильмы      США              8.1             0          6.7   \n",
            "2961     мультфильмы      США              8.1             0          7.5   \n",
            "2962     мультфильмы      США              8.1             0          6.4   \n",
            "\n",
            "      Год выхода                                           Описание  cluster  \n",
            "0           2024  Хабаровский край, тайга. Павел Лиховцев (Артем...        0  \n",
            "1           2024  По сюжету сотрудник саратовского ОБХСС (Отдел ...        0  \n",
            "2           2023  Казань, перестроечные времена. Школьник Андрей...        0  \n",
            "3           2023  Чак (Денис Васильев), Фил (Влад Коноплев), Мас...        1  \n",
            "4           2021  Наступает лето, а значит, пора отправляться в ...        0  \n",
            "...          ...                                                ...      ...  \n",
            "2958        2002  Добро пожаловать в дремучий Шервудский лес, гд...        1  \n",
            "2959        2007  Команда пингвинов-документалистов приглашает з...        0  \n",
            "2960        1977  Команда пингвинов-документалистов приглашает з...        1  \n",
            "2961        1982  Скромная мышка становится героиней поневоле. Б...        1  \n",
            "2962        2004  Скромная мышка становится героиней поневоле. Б...        1  \n",
            "\n",
            "[2541 rows x 8 columns]\n",
            "<class 'pandas.core.frame.DataFrame'>\n",
            "Index: 2541 entries, 0 to 2962\n",
            "Data columns (total 8 columns):\n",
            " #   Column           Non-Null Count  Dtype  \n",
            "---  ------           --------------  -----  \n",
            " 0   Категория        2541 non-null   object \n",
            " 1   Страна           2541 non-null   object \n",
            " 2   Оценка зрителей  2541 non-null   float64\n",
            " 3   Оценка сайта     2541 non-null   int64  \n",
            " 4   Оценка IMDb      2541 non-null   float64\n",
            " 5   Год выхода       2541 non-null   int64  \n",
            " 6   Описание         2537 non-null   object \n",
            " 7   cluster          2541 non-null   int64  \n",
            "dtypes: float64(2), int64(3), object(3)\n",
            "memory usage: 178.7+ KB\n"
          ]
        }
      ]
    },
    {
      "cell_type": "code",
      "source": [
        "#Очищаем выборку\n",
        "category = new_df.value_counts('Категория')\n",
        "#print(category)\n",
        "new_df = new_df[(new_df['Категория'] != 'драм') & (new_df['Категория'] != 'комеди') & (new_df['Категория'] != 'документальны') & (new_df['Категория'] != 'мультфильм')  & (new_df['Категория'] != 'для взрослы')  & (new_df['Категория'] != 'боеви')  &  (new_df['Категория'] != 'трилле')]\n",
        "\n",
        "countries = new_df.value_counts('Страна')\n",
        "#print(countries)\n",
        "new_df = new_df[(new_df['Страна'] != 'елодрама') & (new_df['Страна'] != 'Южная  Корея')]\n",
        "\n",
        "years = new_df.value_counts('Год выхода')\n",
        "#print(years)\n",
        "new_df = new_df[(new_df['Год выхода'] >= 1900) & (new_df['Год выхода'] <= 2023)]\n"
      ],
      "metadata": {
        "id": "5VQqEZmAl7PW"
      },
      "execution_count": 7,
      "outputs": []
    },
    {
      "cell_type": "code",
      "source": [
        "print(new_df.shape)"
      ],
      "metadata": {
        "colab": {
          "base_uri": "https://localhost:8080/"
        },
        "id": "Fvju4hgZl-49",
        "outputId": "161e1b3f-842c-4969-f294-761016fd1a3f"
      },
      "execution_count": 8,
      "outputs": [
        {
          "output_type": "stream",
          "name": "stdout",
          "text": [
            "(2430, 7)\n"
          ]
        }
      ]
    },
    {
      "cell_type": "markdown",
      "source": [
        "Уменьшаем размер датасета для дальнейшего удобства работы, соблюдая ограничение в кол-во записей (мин 1000)"
      ],
      "metadata": {
        "id": "PSzClsEmeg0B"
      }
    },
    {
      "cell_type": "code",
      "source": [
        "new_df2 = new_df.head(1025)\n",
        "print(len(new_df2))"
      ],
      "metadata": {
        "colab": {
          "base_uri": "https://localhost:8080/"
        },
        "id": "Xj0_D1_Hqtty",
        "outputId": "73375c7c-ef00-41f5-cce9-e22602dd77a1"
      },
      "execution_count": 9,
      "outputs": [
        {
          "output_type": "stream",
          "name": "stdout",
          "text": [
            "1025\n"
          ]
        }
      ]
    },
    {
      "cell_type": "markdown",
      "source": [
        "Предочищаем текст описаний фильмов"
      ],
      "metadata": {
        "id": "oiqGxTZwe85T"
      }
    },
    {
      "cell_type": "code",
      "source": [
        "import pandas as pd\n",
        "import nltk\n",
        "import re\n",
        "\n",
        "def clean_text(text):\n",
        "    # Удаление всех символов, кроме букв и пробелов\n",
        "    text = re.sub(r'[^А-Яа-яЁёa-zA-Zs]', ' ', str(text))\n",
        "    text = re.sub(r's+', ' ', text)\n",
        "    text = re.sub(r's+', ' ', text).strip()\n",
        "    text = text.lower()\n",
        "    return text\n",
        "\n",
        "\n",
        "new_df2['cleaned_description'] = new_df2['Описание'].apply(clean_text)\n",
        "# Удаляем строки с пустыми описаниями\n",
        "new_df2 = new_df2[new_df2['cleaned_description'].str.strip().astype(bool)]\n",
        "print(new_df2[['Оценка зрителей', 'cleaned_description']].head())\n",
        "\n",
        "print(new_df2.shape)"
      ],
      "metadata": {
        "colab": {
          "base_uri": "https://localhost:8080/"
        },
        "id": "pki6Q1-Wp-xO",
        "outputId": "de2b7277-c935-43ba-978d-525660450799"
      },
      "execution_count": 10,
      "outputs": [
        {
          "output_type": "stream",
          "name": "stdout",
          "text": [
            "   Оценка зрителей                                cleaned_description\n",
            "2              5.7  казань  перестроечные времена  школьник андрей...\n",
            "3              6.8  чак  денис васильев   фил  влад коноплев   мас...\n",
            "4              6.2  наступает лето  а значит  пора отправляться в ...\n",
            "5              6.6  в разгар президентской гонки  голосуй или прои...\n",
            "6              5.4  многосерийный проект показывает основные вехи ...\n",
            "(1004, 8)\n"
          ]
        },
        {
          "output_type": "stream",
          "name": "stderr",
          "text": [
            "<ipython-input-10-ef3f23108c2e>:14: SettingWithCopyWarning: \n",
            "A value is trying to be set on a copy of a slice from a DataFrame.\n",
            "Try using .loc[row_indexer,col_indexer] = value instead\n",
            "\n",
            "See the caveats in the documentation: https://pandas.pydata.org/pandas-docs/stable/user_guide/indexing.html#returning-a-view-versus-a-copy\n",
            "  new_df2['cleaned_description'] = new_df2['Описание'].apply(clean_text)\n"
          ]
        }
      ]
    },
    {
      "cell_type": "markdown",
      "source": [
        "Немного изучим состав текстов, преобразовав их в вектора"
      ],
      "metadata": {
        "id": "oZ7rekgRfAb6"
      }
    },
    {
      "cell_type": "code",
      "source": [
        "descrips = new_df2['cleaned_description'].tolist()\n",
        "print(len(descrips))\n",
        "descrips[:6]"
      ],
      "metadata": {
        "colab": {
          "base_uri": "https://localhost:8080/"
        },
        "id": "vczWtozu-LeF",
        "outputId": "b6c814f7-07e3-403b-bf82-b3a338420e57"
      },
      "execution_count": 11,
      "outputs": [
        {
          "output_type": "stream",
          "name": "stdout",
          "text": [
            "1004\n"
          ]
        },
        {
          "output_type": "execute_result",
          "data": {
            "text/plain": [
              "['казань  перестроечные времена  школьник андрей  леон кемстач  растет без отца и живет с младшей сестрой и мамой  юлия александрова   подросток хорошо учится и играет на фортепьяно  однажды в троллейбусе гопник марат  рузиль минекаев  отнимает у андрея часы  а через несколько дней подростки снова сталкиваются в школе  учительница английского просит андрея подтянуть отстающего ученика   как раз марата  вскоре парни становятся друзьями  и пианист по примеру нового товарища вступает в молодежную преступную группировку  андрей учится жить в рамках строгой иерархической системы  банда становится активнее и опаснее  когда из афганистана возвращается сводный брат марата вова по кличке адидас  иван янковский',\n",
              " 'чак  денис васильев   фил  влад коноплев   масса  савелий наумов  и вжик  ярослав заргаров    четверо приятелей бандитов  орудующих в конце лихих девяностых  очередной налет с целью выбить деньги из должника неожиданно заканчивается для них попаданием в криокамеру  когда цикл заморозки подходит к концу и парни приходят в себя  на дворе уже      год  привычный для них образ жизни ушел в прошлое  люди ведут себя совсем иначе  и дело не только в модных гаджетах  самое главное  приятели и близкие стали заметно старше  кому то приходится заново знакомиться с повзрослевшим сыном  а кому то   с близкой подругой  все четверо пытаются отомстить человеку  испортившему им жизнь  и самое главное   найти себя',\n",
              " 'наступает лето  а значит  пора отправляться в лагерь  пионер валерка  петр натаров   щуплый робкий аутсайдер  впрочем  этому событию не очень то и рад  недавно у него умер брат  который работал здесь вожатым  а еще парень никак не может влиться в коллектив  но есть и другая причина  однажды ночью герой видит  как лева  федор федосеев   его сосед по корпусу  пьет кровь у других ребят  и не он один   весь лагерь заполонен вампирами  света упыри не боятся  в гробах не спят  но почему то не снимают пионерский галстук по утрам и вообще отличаются выдающейся партийной покладистостью  вместе с вожатым игорем  даниил вершинин   который  как и валерка  чувствует себя чужаком  они устраивают охоту на вурдалаков  правда  им еще предстоит выяснить  кто враг  а кто друг  хоть из последних у них только боязливый врач алкоголик  тимофей трибунцев  и жуткая повариха  наталья потапова   дорожить нужно каждым новым союзником',\n",
              " 'в разгар президентской гонки  голосуй или проиграешь  главные герои заканчивают школу и вступают в самостоятельную жизнь  полную неопределенности и хаоса  ко всем трудностям добавляется появление в туле нового криминального авторитета  евгений ткачук   который хочет превратить город в героиновую столицу',\n",
              " 'многосерийный проект показывает основные вехи политики  телевидения  рекламы  музыки и ночной жизни  которыми отличилась страна в это время  точно передать колорит и вспомнить  как на самом деле обстояли дела в    х  помогли многочисленные интервью  которые дали участники этой невероятной эпохи  кроме того  в основу фильма легли домашние архивы и личные дневники  а также аудио  и видеозаписи',\n",
              " 'сериал расскажет зрителям о случайно образовавшейся поп группе  в состав которой войдут два гитариста вася  егор трухин  и паша  филипп ершов   студентка хорового училища женя  стася милославская   десантник боб  роман курцын  и преподаватель классического вокала птицын  дмитрий никулин   на пути к славе будущих звёзд ждут криминальные авторитеты  малиновые пиджаки   новейшие  гаджеты в виде пейджеров и тетрисов и  конечно  всемирно известные кумиры  в числе которых фредди меркьюри и курт кобейн']"
            ]
          },
          "metadata": {},
          "execution_count": 11
        }
      ]
    },
    {
      "cell_type": "code",
      "source": [
        "#посмотрим, сколько слов в текстах\n",
        "words = new_df2['cleaned_description'].apply(lambda text: len(text.split()))\n",
        "words.hist(bins=50)"
      ],
      "metadata": {
        "colab": {
          "base_uri": "https://localhost:8080/",
          "height": 447
        },
        "id": "437RM3os-UBD",
        "outputId": "10ece5cd-230b-4ec4-f37a-f637f7695b24"
      },
      "execution_count": 12,
      "outputs": [
        {
          "output_type": "execute_result",
          "data": {
            "text/plain": [
              "<Axes: >"
            ]
          },
          "metadata": {},
          "execution_count": 12
        },
        {
          "output_type": "display_data",
          "data": {
            "text/plain": [
              "<Figure size 640x480 with 1 Axes>"
            ],
            "image/png": "[encoded data removed]"
          },
          "metadata": {}
        }
      ]
    },
    {
      "cell_type": "markdown",
      "source": [
        "Можно сделать вывод о том, что сами описания не очень большие, в основном содержат до 50 слов"
      ],
      "metadata": {
        "id": "RCGDl2JMf8WN"
      }
    },
    {
      "cell_type": "code",
      "source": [
        "#сформируем векторы и \"объединим\" схожие группы с помощью CBOW\n",
        "sentences = [descrip.split() for descrip in descrips]\n",
        "model = Word2Vec(sentences=sentences,\n",
        "                 sg=False,  # cbow model\n",
        "                 vector_size=100,\n",
        "                 window=5,\n",
        "                 seed=42,\n",
        "                 epochs=20,\n",
        "                 min_count=1,\n",
        "                 )\n",
        "print('Размерность получившихся векторов слов:', model.wv.vectors.shape)"
      ],
      "metadata": {
        "colab": {
          "base_uri": "https://localhost:8080/"
        },
        "id": "G3iOyibM-ZkR",
        "outputId": "b935e6fe-5abd-473b-d5e1-0f2a04d61c85"
      },
      "execution_count": 13,
      "outputs": [
        {
          "output_type": "stream",
          "name": "stdout",
          "text": [
            "Размерность получившихся векторов слов: (18686, 100)\n"
          ]
        }
      ]
    },
    {
      "cell_type": "code",
      "source": [
        "points = umap.UMAP(random_state=42).fit_transform(model.wv.vectors)"
      ],
      "metadata": {
        "colab": {
          "base_uri": "https://localhost:8080/"
        },
        "id": "mX81wkkn_A_K",
        "outputId": "ed4f2709-9645-429b-e8d2-d29224cc907e"
      },
      "execution_count": 14,
      "outputs": [
        {
          "output_type": "stream",
          "name": "stderr",
          "text": [
            "/usr/local/lib/python3.10/dist-packages/umap/umap_.py:1952: UserWarning: n_jobs value 1 overridden to 1 by setting random_state. Use no seed for parallelism.\n",
            "  warn(\n"
          ]
        }
      ]
    },
    {
      "cell_type": "code",
      "source": [
        "import matplotlib.pyplot as plt\n",
        "plt.figure(figsize=(12, 11))\n",
        "plt.scatter(x=points[:, 0], y=points[:, 1], s=1) #получился симпатичный червячок:)"
      ],
      "metadata": {
        "colab": {
          "base_uri": "https://localhost:8080/",
          "height": 924
        },
        "id": "Pw0prs0D_eED",
        "outputId": "43025a43-c483-491d-b062-5507a0bd047b"
      },
      "execution_count": 15,
      "outputs": [
        {
          "output_type": "execute_result",
          "data": {
            "text/plain": [
              "<matplotlib.collections.PathCollection at 0x7f4d68454df0>"
            ]
          },
          "metadata": {},
          "execution_count": 15
        },
        {
          "output_type": "display_data",
          "data": {
            "text/plain": [
              "<Figure size 1200x1100 with 1 Axes>"
            ],
            "image/png": "[encoded data removed]"
          },
          "metadata": {}
        }
      ]
    },
    {
      "cell_type": "markdown",
      "source": [
        "Теперь перейдем уже к формированию словаря и эмбедингов"
      ],
      "metadata": {
        "id": "8RUdYbroiIQn"
      }
    },
    {
      "cell_type": "code",
      "source": [
        "def build_vocab(texts: List[str]) -> Counter:  #примитивным методом формируем исходный словарь\n",
        "    words = list(chain.from_iterable([text.split() for text in texts]))\n",
        "    vocab = Counter(words)\n",
        "    return vocab"
      ],
      "metadata": {
        "id": "eJhqndA9rJvs"
      },
      "execution_count": 16,
      "outputs": []
    },
    {
      "cell_type": "code",
      "source": [
        "texts = new_df2.cleaned_description.tolist()\n",
        "vocab = build_vocab(texts)\n",
        "print(len(vocab))\n",
        "\n",
        "sorted(list(vocab.items()), key=lambda p: -p[1])[:30]"
      ],
      "metadata": {
        "colab": {
          "base_uri": "https://localhost:8080/"
        },
        "id": "MATB3T51rTKd",
        "outputId": "3e74fee2-695e-492e-9381-93b05d95d78d"
      },
      "execution_count": 17,
      "outputs": [
        {
          "output_type": "stream",
          "name": "stdout",
          "text": [
            "18686\n"
          ]
        },
        {
          "output_type": "execute_result",
          "data": {
            "text/plain": [
              "[('и', 2411),\n",
              " ('в', 2344),\n",
              " ('на', 950),\n",
              " ('с', 726),\n",
              " ('не', 670),\n",
              " ('что', 525),\n",
              " ('но', 473),\n",
              " ('из', 428),\n",
              " ('его', 409),\n",
              " ('он', 396),\n",
              " ('за', 318),\n",
              " ('по', 310),\n",
              " ('а', 295),\n",
              " ('к', 284),\n",
              " ('о', 279),\n",
              " ('как', 251),\n",
              " ('она', 228),\n",
              " ('для', 220),\n",
              " ('от', 214),\n",
              " ('все', 209),\n",
              " ('у', 188),\n",
              " ('это', 183),\n",
              " ('они', 178),\n",
              " ('чтобы', 174),\n",
              " ('то', 170),\n",
              " ('их', 159),\n",
              " ('который', 152),\n",
              " ('время', 148),\n",
              " ('после', 141),\n",
              " ('жизни', 130)]"
            ]
          },
          "metadata": {},
          "execution_count": 17
        }
      ]
    },
    {
      "cell_type": "code",
      "source": [
        "#с помощью удаления стоп-слов русского языка и лемматизация чистим и сокращаем размер словаря\n",
        "nltk.download('stopwords')\n",
        "mystem = Mystem()\n",
        "rus_stopwords = stopwords.words('russian')\n",
        "\n",
        "def preprocess_text(text):\n",
        "    tokens = mystem.lemmatize(text.lower())\n",
        "    tokens = [token for token in tokens if token not in rus_stopwords\\\n",
        "              and token != \" \" \\\n",
        "              and token.strip() not in punctuation]\n",
        "\n",
        "    text = \" \".join(tokens)\n",
        "\n",
        "    return text\n",
        "\n",
        "new_df2['cleaned_description'] = new_df2['cleaned_description'].apply(preprocess_text)\n",
        "print(new_df2[['Оценка зрителей', 'cleaned_description']].head())\n",
        "print(new_df2.shape)"
      ],
      "metadata": {
        "colab": {
          "base_uri": "https://localhost:8080/"
        },
        "id": "99O031ZksHNd",
        "outputId": "0023dbad-f589-44a5-9295-c9268d418259"
      },
      "execution_count": 18,
      "outputs": [
        {
          "output_type": "stream",
          "name": "stderr",
          "text": [
            "[nltk_data] Downloading package stopwords to /root/nltk_data...\n",
            "[nltk_data]   Unzipping corpora/stopwords.zip.\n",
            "Installing mystem to /root/.local/bin/mystem from http://download.cdn.yandex.net/mystem/mystem-3.1-linux-64bit.tar.gz\n"
          ]
        },
        {
          "output_type": "stream",
          "name": "stdout",
          "text": [
            "   Оценка зрителей                                cleaned_description\n",
            "2              5.7  казань перестроечный время школьник андрей лео...\n",
            "3              6.8  чак денис васильев фил влад коноплев масса сав...\n",
            "4              6.2  наступать лето значит пора отправляться лагерь...\n",
            "5              6.6  разгар президентский гонка голосовать проигрыв...\n",
            "6              5.4  многосерийный проект показывать основной веха ...\n",
            "(1004, 8)\n"
          ]
        }
      ]
    },
    {
      "cell_type": "code",
      "source": [
        "texts2 = new_df2.cleaned_description.tolist()\n",
        "vocab2 = build_vocab(texts2)\n",
        "print(len(vocab2))\n",
        "\n",
        "sorted(list(vocab2.items()), key=lambda p: -p[1])[:30]\n"
      ],
      "metadata": {
        "colab": {
          "base_uri": "https://localhost:8080/"
        },
        "id": "AUPsE_5qttZ9",
        "outputId": "48f49532-2bdf-4403-877a-ca9028258205"
      },
      "execution_count": 19,
      "outputs": [
        {
          "output_type": "stream",
          "name": "stdout",
          "text": [
            "10358\n"
          ]
        },
        {
          "output_type": "execute_result",
          "data": {
            "text/plain": [
              "[('который', 569),\n",
              " ('свой', 504),\n",
              " ('жизнь', 269),\n",
              " ('друг', 252),\n",
              " ('год', 251),\n",
              " ('становиться', 243),\n",
              " ('весь', 239),\n",
              " ('время', 225),\n",
              " ('человек', 208),\n",
              " ('новый', 204),\n",
              " ('это', 203),\n",
              " ('фильм', 165),\n",
              " ('история', 159),\n",
              " ('самый', 152),\n",
              " ('девушка', 150),\n",
              " ('оказываться', 148),\n",
              " ('мочь', 145),\n",
              " ('герой', 140),\n",
              " ('мир', 132),\n",
              " ('женщина', 130),\n",
              " ('дело', 119),\n",
              " ('жить', 109),\n",
              " ('семья', 107),\n",
              " ('дом', 102),\n",
              " ('решать', 99),\n",
              " ('начинать', 98),\n",
              " ('молодой', 97),\n",
              " ('находить', 96),\n",
              " ('вместе', 93),\n",
              " ('пытаться', 92)]"
            ]
          },
          "metadata": {},
          "execution_count": 19
        }
      ]
    },
    {
      "cell_type": "markdown",
      "source": [
        "Можно заметить, что словарь уже стал на 8к слов меньше"
      ],
      "metadata": {
        "id": "TE3kM8StjCUJ"
      }
    },
    {
      "cell_type": "code",
      "source": [
        "#теперь еще удалим стоп-слова корпуса, возьмем первые 10\n",
        "vocab2.most_common(10)"
      ],
      "metadata": {
        "colab": {
          "base_uri": "https://localhost:8080/"
        },
        "id": "KBAHjpnWt57j",
        "outputId": "b4dd7ff7-885d-406f-f7e1-cd38cec2d934"
      },
      "execution_count": 20,
      "outputs": [
        {
          "output_type": "execute_result",
          "data": {
            "text/plain": [
              "[('который', 569),\n",
              " ('свой', 504),\n",
              " ('жизнь', 269),\n",
              " ('друг', 252),\n",
              " ('год', 251),\n",
              " ('становиться', 243),\n",
              " ('весь', 239),\n",
              " ('время', 225),\n",
              " ('человек', 208),\n",
              " ('новый', 204)]"
            ]
          },
          "metadata": {},
          "execution_count": 20
        }
      ]
    },
    {
      "cell_type": "code",
      "source": [
        "for word, freq in vocab2.most_common(10):\n",
        "    if word in vocab2:\n",
        "        vocab2.pop(word)\n",
        "\n",
        "vocab2.most_common(30)"
      ],
      "metadata": {
        "colab": {
          "base_uri": "https://localhost:8080/"
        },
        "id": "dZxZUEA_uCJN",
        "outputId": "bfde0618-c506-4749-c822-b79d0036f908"
      },
      "execution_count": 21,
      "outputs": [
        {
          "output_type": "execute_result",
          "data": {
            "text/plain": [
              "[('это', 203),\n",
              " ('фильм', 165),\n",
              " ('история', 159),\n",
              " ('самый', 152),\n",
              " ('девушка', 150),\n",
              " ('оказываться', 148),\n",
              " ('мочь', 145),\n",
              " ('герой', 140),\n",
              " ('мир', 132),\n",
              " ('женщина', 130),\n",
              " ('дело', 119),\n",
              " ('жить', 109),\n",
              " ('семья', 107),\n",
              " ('дом', 102),\n",
              " ('решать', 99),\n",
              " ('начинать', 98),\n",
              " ('молодой', 97),\n",
              " ('находить', 96),\n",
              " ('вместе', 93),\n",
              " ('пытаться', 92),\n",
              " ('отправляться', 90),\n",
              " ('любовь', 90),\n",
              " ('главный', 88),\n",
              " ('город', 81),\n",
              " ('каждый', 75),\n",
              " ('помогать', 75),\n",
              " ('хороший', 75),\n",
              " ('ребенок', 75),\n",
              " ('день', 74),\n",
              " ('убийство', 74)]"
            ]
          },
          "metadata": {},
          "execution_count": 21
        }
      ]
    },
    {
      "cell_type": "code",
      "source": [
        "print(len(vocab2))"
      ],
      "metadata": {
        "colab": {
          "base_uri": "https://localhost:8080/"
        },
        "id": "2O3sRwfKuKFh",
        "outputId": "ad28fc6d-a8e5-4375-e10f-baac18e2ab75"
      },
      "execution_count": 22,
      "outputs": [
        {
          "output_type": "stream",
          "name": "stdout",
          "text": [
            "10348\n"
          ]
        }
      ]
    },
    {
      "cell_type": "markdown",
      "source": [
        "Применим BPE, чтобы еще больше сократить словарь (соблюсти ограничение в макс кол-во слов = 10к)"
      ],
      "metadata": {
        "id": "4ggVCToRjmY_"
      }
    },
    {
      "cell_type": "code",
      "source": [
        "# Разделение на обучающую и тестовую выборки\n",
        "from sklearn.model_selection import train_test_split\n",
        "X_train, X_test, y_train, y_test = train_test_split(new_df2['cleaned_description'], new_df2['Оценка зрителей'], test_size=0.2, random_state=42)\n",
        "print(f'Размеры выборок: Обучающая: {X_train.shape} Тестовая: {X_test.shape}')"
      ],
      "metadata": {
        "colab": {
          "base_uri": "https://localhost:8080/"
        },
        "id": "EZOs01F1y06f",
        "outputId": "f48038c8-3261-4122-d72e-1ee63c9ae89a"
      },
      "execution_count": 23,
      "outputs": [
        {
          "output_type": "stream",
          "name": "stdout",
          "text": [
            "Размеры выборок: Обучающая: (803,) Тестовая: (201,)\n"
          ]
        }
      ]
    },
    {
      "cell_type": "code",
      "source": [
        "def clean_text(text):\n",
        "    #удаляем лишние пробелы, если они еще остались\n",
        "    return re.sub(r's+', ' ', text).strip()\n",
        "\n",
        "\n",
        "def get_vocab(texts, num_merges):\n",
        "    vocab = Counter()\n",
        "    for text in texts:\n",
        "        words = clean_text(text).split()\n",
        "        for word in words:\n",
        "            vocab[word] += 1\n",
        "\n",
        "    pairs = Counter()\n",
        "    for word, freq in vocab.items():\n",
        "        symbols = list(word)\n",
        "        for i in range(len(symbols) - 1):\n",
        "            pairs[(symbols[i], symbols[i + 1])] += freq\n",
        "\n",
        "    for _ in range(num_merges):\n",
        "        if not pairs:\n",
        "            break\n",
        "        best_pair = pairs.most_common(1)[0][0]\n",
        "        new_symbol = ''.join(best_pair)\n",
        "\n",
        "        # Обновляем словарь\n",
        "        new_vocab = {}\n",
        "        for word in vocab:\n",
        "            new_word = word.replace(best_pair[0] + best_pair[1], new_symbol)\n",
        "            new_vocab[new_word] = vocab[word]\n",
        "\n",
        "        vocab = Counter(new_vocab)\n",
        "\n",
        "        pairs = Counter()\n",
        "        for word, freq in vocab.items():\n",
        "            symbols = list(word)\n",
        "            for i in range(len(symbols) - 1):\n",
        "                pairs[(symbols[i], symbols[i + 1])] += freq\n",
        "\n",
        "    return vocab\n",
        "\n",
        "\n",
        "num_merges = 10000  # Количество объединений пар ака размер словаря\n",
        "vocab = get_vocab(X_train, num_merges)\n",
        "\n",
        "# Создаем токенизатор на основе полученного словаря\n",
        "tokenizer = {word: idx + 1 for idx, (word, _) in enumerate(vocab.items())}\n",
        "\n",
        "# Преобразование текста в последовательности индексов\n",
        "X_train_seq = [[tokenizer.get(word, 0) for word in clean_text(text).split()] for text in X_train]\n",
        "X_test_seq = [[tokenizer.get(word, 0) for word in clean_text(text).split()] for text in X_test]\n",
        "\n",
        "# Паддинг последовательностей\n",
        "max_length = max(max(len(seq) for seq in X_train_seq), max(len(seq) for seq in X_test_seq))\n",
        "X_train_padded = pad_sequences(X_train_seq, maxlen=max_length, padding='post')\n",
        "X_test_padded = pad_sequences(X_test_seq, maxlen=max_length, padding='post')\n",
        "\n",
        "\n",
        "vocab_size = len(tokenizer) + 1\n",
        "print(f'Размер словаря: {vocab_size}')"
      ],
      "metadata": {
        "colab": {
          "base_uri": "https://localhost:8080/"
        },
        "id": "Dr62ubb7NaSt",
        "outputId": "f564cd48-8b39-47d1-9027-8cd074754f79"
      },
      "execution_count": 24,
      "outputs": [
        {
          "output_type": "stream",
          "name": "stdout",
          "text": [
            "Размер словаря: 9288\n"
          ]
        }
      ]
    },
    {
      "cell_type": "markdown",
      "source": [
        "Постановка задачи, выделение таргета"
      ],
      "metadata": {
        "id": "Gk0mcp4PjX4f"
      }
    },
    {
      "cell_type": "code",
      "source": [
        "# Пусть задача звучит как: \"Предскажи оценку зрителей для следующего фильма на основе его описания\", и является задачей регрессии\n",
        "texts2 = new_df2['cleaned_description'].tolist()\n",
        "ratings2 = new_df2['Оценка зрителей'].tolist()"
      ],
      "metadata": {
        "id": "_U5vEMZ3y6Wl"
      },
      "execution_count": 25,
      "outputs": []
    },
    {
      "cell_type": "markdown",
      "source": [
        "По сути данные уже размечены - мы имеем конкретные метки (оценки) для каждого из фильмов в датасете, и теперь попробуем предсказать их на основе описаний"
      ],
      "metadata": {
        "id": "N0tImBlQjdVX"
      }
    },
    {
      "cell_type": "markdown",
      "source": [
        "Реализация DL модели (nn.Embedding + nn.LSTM + nn.Linear слои)"
      ],
      "metadata": {
        "id": "cpSgtMTK__j6"
      }
    },
    {
      "cell_type": "code",
      "source": [
        "import torch\n",
        "import torch.nn as nn\n",
        "import torch.optim as optim\n",
        "\n",
        "class MovieRatingModel(nn.Module):\n",
        "    def __init__(self, vocab_size, embedding_dim, hidden_dim):\n",
        "        super(MovieRatingModel, self).__init__()\n",
        "        self.embedding = nn.Embedding(vocab_size, embedding_dim)\n",
        "        self.lstm = nn.LSTM(embedding_dim, hidden_dim, batch_first=True)\n",
        "        self.fc1 = nn.Linear(hidden_dim, hidden_dim // 2)\n",
        "        self.dropout1 = nn.Dropout(0.5)\n",
        "        self.fc2 = nn.Linear(hidden_dim // 2, 1)\n",
        "        self.dropout2 = nn.Dropout(0.5)\n",
        "\n",
        "    def forward(self, x):\n",
        "        x = self.embedding(x)\n",
        "        x, (hn, cn) = self.lstm(x)\n",
        "        x = hn[-1]\n",
        "        x = self.fc1(x)\n",
        "        x = nn.ReLU()(x)\n",
        "        x = self.dropout1(x)\n",
        "        x = self.fc2(x)\n",
        "        x = self.dropout2(x)\n",
        "        return x\n",
        "\n",
        "# Инициализация модели\n",
        "embedding_dim = 100\n",
        "hidden_dim = 64\n",
        "model = MovieRatingModel(vocab_size, embedding_dim, hidden_dim)\n"
      ],
      "metadata": {
        "id": "Z5MijTCnAKDR"
      },
      "execution_count": 56,
      "outputs": []
    },
    {
      "cell_type": "markdown",
      "source": [
        "Обучение модели"
      ],
      "metadata": {
        "id": "UJaDYzz5AwFR"
      }
    },
    {
      "cell_type": "code",
      "source": [
        "import torch\n",
        "import torch.nn as nn\n",
        "import torch.optim as optim\n",
        "import matplotlib.pyplot as plt\n",
        "from sklearn import metrics\n",
        "\n",
        "# Параметры обучения\n",
        "num_epochs = 10\n",
        "batch_size = 32\n",
        "learning_rate = 0.001\n",
        "\n",
        "train_losses = []\n",
        "test_losses = []\n",
        "\n",
        "# Оптимизатор и функция потерь\n",
        "criterion = nn.BCEWithLogitsLoss()\n",
        "optimizer = optim.Adam(model.parameters(), lr=learning_rate)\n",
        "\n",
        "# Переводим данные в тензоры\n",
        "X_train_tensor = torch.tensor(X_train_padded).long()\n",
        "y_train_tensor = torch.tensor(y_train.values).float().view(-1, 1)\n",
        "X_test_tensor = torch.tensor(X_test_padded).long()\n",
        "y_test_tensor = torch.tensor(y_test.values).float().view(-1, 1)\n",
        "\n",
        "\n",
        "for epoch in range(num_epochs):\n",
        "    model.train()\n",
        "    optimizer.zero_grad()\n",
        "\n",
        "    outputs = model(X_train_tensor)\n",
        "    loss = criterion(outputs, y_train_tensor)\n",
        "    loss.backward()\n",
        "    optimizer.step()\n",
        "\n",
        "    train_losses.append(loss.item())\n",
        "\n",
        "    print(f'Epoch {epoch + 1}/{num_epochs}, Loss: {loss.item()}')\n",
        "\n",
        "    # Оценка на тестовой выборке\n",
        "    model.eval()\n",
        "    with torch.no_grad():\n",
        "        test_outputs = model(X_test_tensor)\n",
        "        test_loss = criterion(test_outputs, y_test_tensor)\n",
        "        test_losses.append(test_loss.item())\n",
        "\n",
        "# Вычисление ROC AUC\n",
        "y_train_pred_prob = torch.sigmoid(outputs).detach().numpy()\n",
        "y_test_pred_prob = torch.sigmoid(test_outputs).detach().numpy()\n",
        "\n",
        "# Преобразование в одномерные массивы\n",
        "y_train_true = y_train_tensor.numpy().flatten()\n",
        "y_test_true = y_test_tensor.numpy().flatten()\n",
        "\n",
        "# Преобразование y_train_true и y_test_true в двоичные метки (0 или 1)\n",
        "y_train_true_binary = (y_train_true > 0.5).astype(int)\n",
        "y_test_true_binary = (y_test_true > 0.5).astype(int)\n",
        "\n",
        "roc_auc_train = metrics.roc_auc_score(y_train_true_binary, y_train_pred_prob)\n",
        "roc_auc_test = metrics.roc_auc_score(y_test_true_binary, y_test_pred_prob)\n",
        "\n",
        "print(f'ROC AUC Train: {roc_auc_train}, ROC AUC Test: {roc_auc_test}')\n",
        "\n",
        "# Построение графиков\n",
        "plt.figure(figsize=(12, 5))\n",
        "\n",
        "# График потерь\n",
        "plt.subplot(1, 2, 1)\n",
        "plt.plot(range(1, num_epochs + 1), train_losses, label='Train Loss')\n",
        "plt.plot(range(1, num_epochs + 1), test_losses, label='Test Loss')\n",
        "plt.title('Loss')\n",
        "plt.xlabel('Epochs')\n",
        "plt.ylabel('Loss')\n",
        "plt.legend()\n",
        "\n",
        "# График ROC AUC\n",
        "plt.subplot(1, 2, 2)\n",
        "plt.bar(['Train', 'Test'], [roc_auc_train, roc_auc_test])\n",
        "plt.title('ROC AUC')\n",
        "plt.ylabel('ROC AUC Score')\n",
        "\n",
        "plt.tight_layout()\n",
        "plt.show()"
      ],
      "metadata": {
        "colab": {
          "base_uri": "https://localhost:8080/",
          "height": 698
        },
        "id": "6bjw_PmRKjdt",
        "outputId": "204ae214-1a08-472a-a899-619ce983f1ce"
      },
      "execution_count": 54,
      "outputs": [
        {
          "output_type": "stream",
          "name": "stdout",
          "text": [
            "Epoch 1/10, Loss: 1.4004757404327393\n",
            "Epoch 2/10, Loss: 0.8397526741027832\n",
            "Epoch 3/10, Loss: 0.35778146982192993\n",
            "Epoch 4/10, Loss: -0.19366958737373352\n",
            "Epoch 5/10, Loss: -0.6932159662246704\n",
            "Epoch 6/10, Loss: -1.1355292797088623\n",
            "Epoch 7/10, Loss: -1.7718136310577393\n",
            "Epoch 8/10, Loss: -2.015880584716797\n",
            "Epoch 9/10, Loss: -2.9596285820007324\n",
            "Epoch 10/10, Loss: -3.2583394050598145\n",
            "ROC AUC Train: 0.7269423558897243, ROC AUC Test: 0.4849246231155779\n"
          ]
        },
        {
          "output_type": "display_data",
          "data": {
            "text/plain": [
              "<Figure size 1200x500 with 2 Axes>"
            ],
            "image/png": "[encoded data removed]"
          },
          "metadata": {}
        }
      ]
    },
    {
      "cell_type": "code",
      "source": [
        "# Получение предсказаний на тестовой выборке\n",
        "model.eval()\n",
        "with torch.no_grad():\n",
        "    test_outputs = model(X_test_tensor)\n",
        "\n",
        "# Визуализация исходных оценок и предсказанных оценок\n",
        "plt.figure(figsize=(10, 5))\n",
        "plt.scatter(range(len(y_test)), y_test, color='blue', label='Исходные оценки')\n",
        "plt.scatter(range(len(test_outputs)), test_outputs, color='red', label='Предсказанные оценки')\n",
        "plt.xlabel('Индекс фильма')\n",
        "plt.ylabel('Оценка')\n",
        "plt.title('Сравнение исходных и предсказанных оценок')\n",
        "plt.legend()\n",
        "plt.show()"
      ],
      "metadata": {
        "colab": {
          "base_uri": "https://localhost:8080/",
          "height": 487
        },
        "id": "AtRBApOmZD_D",
        "outputId": "ce0674bc-4eb9-4473-8c15-4bceabce827d"
      },
      "execution_count": 55,
      "outputs": [
        {
          "output_type": "display_data",
          "data": {
            "text/plain": [
              "<Figure size 1000x500 with 1 Axes>"
            ],
            "image/png": "[encoded data removed]"
          },
          "metadata": {}
        }
      ]
    },
    {
      "cell_type": "markdown",
      "source": [
        "Настройка модели (подбор гиперпараметров и тд)"
      ],
      "metadata": {
        "id": "mzxN2URDNOe6"
      }
    },
    {
      "cell_type": "code",
      "source": [
        "import torch\n",
        "import torch.nn as nn\n",
        "import torch.optim as optim\n",
        "!pip install optuna\n",
        "import optuna\n",
        "from sklearn import metrics\n",
        "\n",
        "class MovieRatingModel(nn.Module):\n",
        "    def __init__(self, vocab_size, embedding_dim, hidden_dim, dropout1, dropout2):\n",
        "        super(MovieRatingModel, self).__init__()\n",
        "        self.embedding = nn.Embedding(vocab_size, embedding_dim)\n",
        "        self.lstm = nn.LSTM(embedding_dim, hidden_dim, batch_first=True)\n",
        "        self.fc1 = nn.Linear(hidden_dim, hidden_dim // 2)\n",
        "        self.dropout1 = nn.Dropout(dropout1)\n",
        "        self.fc2 = nn.Linear(hidden_dim // 2, 1)\n",
        "        #self.dropout2 = nn.Dropout(dropout2)\n",
        "\n",
        "    def forward(self, x):\n",
        "        x = self.embedding(x)\n",
        "        x, (hn, cn) = self.lstm(x)\n",
        "        x = hn[-1]\n",
        "        x = self.fc1(x)\n",
        "        x = nn.ReLU()(x)\n",
        "        x = self.dropout1(x)\n",
        "        x = self.fc2(x)\n",
        "        #x = self.dropout2(x)\n",
        "        return x\n",
        "\n",
        "def train_and_evaluate(trial):\n",
        "    # Гиперпараметры\n",
        "    embedding_dim = trial.suggest_int('embedding_dim',100,200)\n",
        "    hidden_dim = trial.suggest_int('hidden_dim', 32, 128, 64)\n",
        "    dropout1 = trial.suggest_float('dropout1', 0.1, 0.5)\n",
        "    #dropout2 = trial.suggest_float('dropout2', 0.1, 0.5)\n",
        "    learning_rate = trial.suggest_loguniform('learning_rate', 1e-5, 1e-1)\n",
        "\n",
        "    # Инициализация модели\n",
        "    model = MovieRatingModel(vocab_size, embedding_dim, hidden_dim, dropout1)#, dropout2)\n",
        "    criterion = nn.BCEWithLogitsLoss()\n",
        "    optimizer = optim.Adam(model.parameters(), lr=learning_rate)\n",
        "\n",
        "    # Переводим данные в тензоры\n",
        "    X_train_tensor = torch.tensor(X_train_padded).long()\n",
        "    y_train_tensor = torch.tensor(y_train.values).float().view(-1, 1)\n",
        "\n",
        "\n",
        "    for epoch in range(10):\n",
        "        model.train()\n",
        "        optimizer.zero_grad()\n",
        "\n",
        "        outputs = model(X_train_tensor)\n",
        "        loss = criterion(outputs, y_train_tensor)\n",
        "        loss.backward()\n",
        "        optimizer.step()\n",
        "\n",
        "\n",
        "    model.eval()\n",
        "    with torch.no_grad():\n",
        "        X_test_tensor = torch.tensor(X_test_padded).long()\n",
        "        y_test_tensor = torch.tensor(y_test.values).float().view(-1, 1)\n",
        "\n",
        "        test_outputs = model(X_test_tensor)\n",
        "        test_loss = criterion(test_outputs, y_test_tensor)\n",
        "\n",
        "        # Вычисление ROC AUC\n",
        "        y_test_pred_prob = torch.sigmoid(test_outputs).detach().numpy().flatten()\n",
        "        y_test_true_binary = (y_test_tensor.numpy().flatten() > 0.5).astype(int)\n",
        "\n",
        "        roc_auc = metrics.roc_auc_score(y_test_true_binary, y_test_pred_prob)\n",
        "\n",
        "    return roc_auc\n",
        "\n",
        "# Оптимизация с помощью Optuna\n",
        "study = optuna.create_study(direction='maximize')\n",
        "study.optimize(train_and_evaluate, n_trials=50)\n",
        "\n",
        "print(\"Best hyperparameters: \", study.best_params)\n",
        "print(\"Best ROC AUC: \", study.best_value)"
      ],
      "metadata": {
        "colab": {
          "base_uri": "https://localhost:8080/"
        },
        "id": "XZyPgsw1NNKw",
        "outputId": "cb3156ff-4dcf-42ec-8952-54d0ca0541aa"
      },
      "execution_count": 47,
      "outputs": [
        {
          "output_type": "stream",
          "name": "stdout",
          "text": [
            "Requirement already satisfied: optuna in /usr/local/lib/python3.10/dist-packages (4.1.0)\n",
            "Requirement already satisfied: alembic>=1.5.0 in /usr/local/lib/python3.10/dist-packages (from optuna) (1.14.0)\n",
            "Requirement already satisfied: colorlog in /usr/local/lib/python3.10/dist-packages (from optuna) (6.9.0)\n",
            "Requirement already satisfied: numpy in /usr/local/lib/python3.10/dist-packages (from optuna) (1.26.4)\n",
            "Requirement already satisfied: packaging>=20.0 in /usr/local/lib/python3.10/dist-packages (from optuna) (24.2)\n",
            "Requirement already satisfied: sqlalchemy>=1.4.2 in /usr/local/lib/python3.10/dist-packages (from optuna) (2.0.36)\n",
            "Requirement already satisfied: tqdm in /usr/local/lib/python3.10/dist-packages (from optuna) (4.66.6)\n",
            "Requirement already satisfied: PyYAML in /usr/local/lib/python3.10/dist-packages (from optuna) (6.0.2)\n",
            "Requirement already satisfied: Mako in /usr/local/lib/python3.10/dist-packages (from alembic>=1.5.0->optuna) (1.3.8)\n",
            "Requirement already satisfied: typing-extensions>=4 in /usr/local/lib/python3.10/dist-packages (from alembic>=1.5.0->optuna) (4.12.2)\n",
            "Requirement already satisfied: greenlet!=0.4.17 in /usr/local/lib/python3.10/dist-packages (from sqlalchemy>=1.4.2->optuna) (3.1.1)\n",
            "Requirement already satisfied: MarkupSafe>=0.9.2 in /usr/local/lib/python3.10/dist-packages (from Mako->alembic>=1.5.0->optuna) (3.0.2)\n"
          ]
        },
        {
          "output_type": "stream",
          "name": "stderr",
          "text": [
            "[I 2024-12-09 16:49:08,787] A new study created in memory with name: no-name-68edc5cd-c510-4d6c-bbcf-cb2c79e93366\n",
            "<ipython-input-47-e72ae58e0ccb>:31: FutureWarning: suggest_int() got {'step'} as positional arguments but they were expected to be given as keyword arguments.\n",
            "  embedding_dim = trial.suggest_int('embedding_dim', 50,100,200)\n",
            "/usr/local/lib/python3.10/dist-packages/optuna/distributions.py:708: UserWarning: The distribution is specified by [50, 100] and step=200, but the range is not divisible by `step`. It will be replaced by [50, 50].\n",
            "  warnings.warn(\n",
            "<ipython-input-47-e72ae58e0ccb>:32: FutureWarning: suggest_int() got {'step'} as positional arguments but they were expected to be given as keyword arguments.\n",
            "  hidden_dim = trial.suggest_int('hidden_dim', 32, 128, 64)\n",
            "/usr/local/lib/python3.10/dist-packages/optuna/distributions.py:708: UserWarning: The distribution is specified by [32, 128] and step=64, but the range is not divisible by `step`. It will be replaced by [32, 96].\n",
            "  warnings.warn(\n",
            "<ipython-input-47-e72ae58e0ccb>:35: FutureWarning: suggest_loguniform has been deprecated in v3.0.0. This feature will be removed in v6.0.0. See https://github.com/optuna/optuna/releases/tag/v3.0.0. Use suggest_float(..., log=True) instead.\n",
            "  learning_rate = trial.suggest_loguniform('learning_rate', 1e-5, 1e-1)\n",
            "[I 2024-12-09 16:49:38,501] Trial 0 finished with value: 0.5 and parameters: {'embedding_dim': 50, 'hidden_dim': 96, 'dropout1': 0.4513741546705339, 'dropout2': 0.19457434696629405, 'learning_rate': 0.06278734521110525}. Best is trial 0 with value: 0.5.\n",
            "<ipython-input-47-e72ae58e0ccb>:31: FutureWarning: suggest_int() got {'step'} as positional arguments but they were expected to be given as keyword arguments.\n",
            "  embedding_dim = trial.suggest_int('embedding_dim', 50,100,200)\n",
            "/usr/local/lib/python3.10/dist-packages/optuna/distributions.py:708: UserWarning: The distribution is specified by [50, 100] and step=200, but the range is not divisible by `step`. It will be replaced by [50, 50].\n",
            "  warnings.warn(\n",
            "<ipython-input-47-e72ae58e0ccb>:32: FutureWarning: suggest_int() got {'step'} as positional arguments but they were expected to be given as keyword arguments.\n",
            "  hidden_dim = trial.suggest_int('hidden_dim', 32, 128, 64)\n",
            "/usr/local/lib/python3.10/dist-packages/optuna/distributions.py:708: UserWarning: The distribution is specified by [32, 128] and step=64, but the range is not divisible by `step`. It will be replaced by [32, 96].\n",
            "  warnings.warn(\n",
            "<ipython-input-47-e72ae58e0ccb>:35: FutureWarning: suggest_loguniform has been deprecated in v3.0.0. This feature will be removed in v6.0.0. See https://github.com/optuna/optuna/releases/tag/v3.0.0. Use suggest_float(..., log=True) instead.\n",
            "  learning_rate = trial.suggest_loguniform('learning_rate', 1e-5, 1e-1)\n",
            "[I 2024-12-09 16:50:01,616] Trial 1 finished with value: 0.42211055276381904 and parameters: {'embedding_dim': 50, 'hidden_dim': 96, 'dropout1': 0.11066969291496274, 'dropout2': 0.3377757535805943, 'learning_rate': 0.0010217700405352288}. Best is trial 0 with value: 0.5.\n",
            "<ipython-input-47-e72ae58e0ccb>:31: FutureWarning: suggest_int() got {'step'} as positional arguments but they were expected to be given as keyword arguments.\n",
            "  embedding_dim = trial.suggest_int('embedding_dim', 50,100,200)\n",
            "/usr/local/lib/python3.10/dist-packages/optuna/distributions.py:708: UserWarning: The distribution is specified by [50, 100] and step=200, but the range is not divisible by `step`. It will be replaced by [50, 50].\n",
            "  warnings.warn(\n",
            "<ipython-input-47-e72ae58e0ccb>:32: FutureWarning: suggest_int() got {'step'} as positional arguments but they were expected to be given as keyword arguments.\n",
            "  hidden_dim = trial.suggest_int('hidden_dim', 32, 128, 64)\n",
            "/usr/local/lib/python3.10/dist-packages/optuna/distributions.py:708: UserWarning: The distribution is specified by [32, 128] and step=64, but the range is not divisible by `step`. It will be replaced by [32, 96].\n",
            "  warnings.warn(\n",
            "<ipython-input-47-e72ae58e0ccb>:35: FutureWarning: suggest_loguniform has been deprecated in v3.0.0. This feature will be removed in v6.0.0. See https://github.com/optuna/optuna/releases/tag/v3.0.0. Use suggest_float(..., log=True) instead.\n",
            "  learning_rate = trial.suggest_loguniform('learning_rate', 1e-5, 1e-1)\n",
            "[I 2024-12-09 16:50:24,898] Trial 2 finished with value: 0.49748743718592964 and parameters: {'embedding_dim': 50, 'hidden_dim': 96, 'dropout1': 0.12480111030500392, 'dropout2': 0.47174040033047304, 'learning_rate': 0.00562599565056088}. Best is trial 0 with value: 0.5.\n",
            "<ipython-input-47-e72ae58e0ccb>:31: FutureWarning: suggest_int() got {'step'} as positional arguments but they were expected to be given as keyword arguments.\n",
            "  embedding_dim = trial.suggest_int('embedding_dim', 50,100,200)\n",
            "/usr/local/lib/python3.10/dist-packages/optuna/distributions.py:708: UserWarning: The distribution is specified by [50, 100] and step=200, but the range is not divisible by `step`. It will be replaced by [50, 50].\n",
            "  warnings.warn(\n",
            "<ipython-input-47-e72ae58e0ccb>:32: FutureWarning: suggest_int() got {'step'} as positional arguments but they were expected to be given as keyword arguments.\n",
            "  hidden_dim = trial.suggest_int('hidden_dim', 32, 128, 64)\n",
            "/usr/local/lib/python3.10/dist-packages/optuna/distributions.py:708: UserWarning: The distribution is specified by [32, 128] and step=64, but the range is not divisible by `step`. It will be replaced by [32, 96].\n",
            "  warnings.warn(\n",
            "<ipython-input-47-e72ae58e0ccb>:35: FutureWarning: suggest_loguniform has been deprecated in v3.0.0. This feature will be removed in v6.0.0. See https://github.com/optuna/optuna/releases/tag/v3.0.0. Use suggest_float(..., log=True) instead.\n",
            "  learning_rate = trial.suggest_loguniform('learning_rate', 1e-5, 1e-1)\n",
            "[I 2024-12-09 16:50:33,577] Trial 3 finished with value: 0.49748743718592964 and parameters: {'embedding_dim': 50, 'hidden_dim': 32, 'dropout1': 0.238974099090859, 'dropout2': 0.30076383639332627, 'learning_rate': 3.5955143113572815e-05}. Best is trial 0 with value: 0.5.\n",
            "<ipython-input-47-e72ae58e0ccb>:31: FutureWarning: suggest_int() got {'step'} as positional arguments but they were expected to be given as keyword arguments.\n",
            "  embedding_dim = trial.suggest_int('embedding_dim', 50,100,200)\n",
            "/usr/local/lib/python3.10/dist-packages/optuna/distributions.py:708: UserWarning: The distribution is specified by [50, 100] and step=200, but the range is not divisible by `step`. It will be replaced by [50, 50].\n",
            "  warnings.warn(\n",
            "<ipython-input-47-e72ae58e0ccb>:32: FutureWarning: suggest_int() got {'step'} as positional arguments but they were expected to be given as keyword arguments.\n",
            "  hidden_dim = trial.suggest_int('hidden_dim', 32, 128, 64)\n",
            "/usr/local/lib/python3.10/dist-packages/optuna/distributions.py:708: UserWarning: The distribution is specified by [32, 128] and step=64, but the range is not divisible by `step`. It will be replaced by [32, 96].\n",
            "  warnings.warn(\n",
            "<ipython-input-47-e72ae58e0ccb>:35: FutureWarning: suggest_loguniform has been deprecated in v3.0.0. This feature will be removed in v6.0.0. See https://github.com/optuna/optuna/releases/tag/v3.0.0. Use suggest_float(..., log=True) instead.\n",
            "  learning_rate = trial.suggest_loguniform('learning_rate', 1e-5, 1e-1)\n",
            "[I 2024-12-09 16:50:41,245] Trial 4 finished with value: 0.5050251256281407 and parameters: {'embedding_dim': 50, 'hidden_dim': 32, 'dropout1': 0.10545383414082075, 'dropout2': 0.3298357330154059, 'learning_rate': 5.202499729969356e-05}. Best is trial 4 with value: 0.5050251256281407.\n",
            "<ipython-input-47-e72ae58e0ccb>:31: FutureWarning: suggest_int() got {'step'} as positional arguments but they were expected to be given as keyword arguments.\n",
            "  embedding_dim = trial.suggest_int('embedding_dim', 50,100,200)\n",
            "/usr/local/lib/python3.10/dist-packages/optuna/distributions.py:708: UserWarning: The distribution is specified by [50, 100] and step=200, but the range is not divisible by `step`. It will be replaced by [50, 50].\n",
            "  warnings.warn(\n",
            "<ipython-input-47-e72ae58e0ccb>:32: FutureWarning: suggest_int() got {'step'} as positional arguments but they were expected to be given as keyword arguments.\n",
            "  hidden_dim = trial.suggest_int('hidden_dim', 32, 128, 64)\n",
            "/usr/local/lib/python3.10/dist-packages/optuna/distributions.py:708: UserWarning: The distribution is specified by [32, 128] and step=64, but the range is not divisible by `step`. It will be replaced by [32, 96].\n",
            "  warnings.warn(\n",
            "<ipython-input-47-e72ae58e0ccb>:35: FutureWarning: suggest_loguniform has been deprecated in v3.0.0. This feature will be removed in v6.0.0. See https://github.com/optuna/optuna/releases/tag/v3.0.0. Use suggest_float(..., log=True) instead.\n",
            "  learning_rate = trial.suggest_loguniform('learning_rate', 1e-5, 1e-1)\n",
            "[I 2024-12-09 16:50:49,813] Trial 5 finished with value: 0.48743718592964824 and parameters: {'embedding_dim': 50, 'hidden_dim': 32, 'dropout1': 0.21859100799542405, 'dropout2': 0.41555693362942325, 'learning_rate': 0.002835437438441217}. Best is trial 4 with value: 0.5050251256281407.\n",
            "<ipython-input-47-e72ae58e0ccb>:31: FutureWarning: suggest_int() got {'step'} as positional arguments but they were expected to be given as keyword arguments.\n",
            "  embedding_dim = trial.suggest_int('embedding_dim', 50,100,200)\n",
            "/usr/local/lib/python3.10/dist-packages/optuna/distributions.py:708: UserWarning: The distribution is specified by [50, 100] and step=200, but the range is not divisible by `step`. It will be replaced by [50, 50].\n",
            "  warnings.warn(\n",
            "<ipython-input-47-e72ae58e0ccb>:32: FutureWarning: suggest_int() got {'step'} as positional arguments but they were expected to be given as keyword arguments.\n",
            "  hidden_dim = trial.suggest_int('hidden_dim', 32, 128, 64)\n",
            "/usr/local/lib/python3.10/dist-packages/optuna/distributions.py:708: UserWarning: The distribution is specified by [32, 128] and step=64, but the range is not divisible by `step`. It will be replaced by [32, 96].\n",
            "  warnings.warn(\n",
            "<ipython-input-47-e72ae58e0ccb>:35: FutureWarning: suggest_loguniform has been deprecated in v3.0.0. This feature will be removed in v6.0.0. See https://github.com/optuna/optuna/releases/tag/v3.0.0. Use suggest_float(..., log=True) instead.\n",
            "  learning_rate = trial.suggest_loguniform('learning_rate', 1e-5, 1e-1)\n",
            "[I 2024-12-09 16:51:56,752] Trial 6 finished with value: 0.5 and parameters: {'embedding_dim': 50, 'hidden_dim': 96, 'dropout1': 0.3422528654156318, 'dropout2': 0.494090883231855, 'learning_rate': 0.017191168707093727}. Best is trial 4 with value: 0.5050251256281407.\n",
            "<ipython-input-47-e72ae58e0ccb>:31: FutureWarning: suggest_int() got {'step'} as positional arguments but they were expected to be given as keyword arguments.\n",
            "  embedding_dim = trial.suggest_int('embedding_dim', 50,100,200)\n",
            "/usr/local/lib/python3.10/dist-packages/optuna/distributions.py:708: UserWarning: The distribution is specified by [50, 100] and step=200, but the range is not divisible by `step`. It will be replaced by [50, 50].\n",
            "  warnings.warn(\n",
            "<ipython-input-47-e72ae58e0ccb>:32: FutureWarning: suggest_int() got {'step'} as positional arguments but they were expected to be given as keyword arguments.\n",
            "  hidden_dim = trial.suggest_int('hidden_dim', 32, 128, 64)\n",
            "/usr/local/lib/python3.10/dist-packages/optuna/distributions.py:708: UserWarning: The distribution is specified by [32, 128] and step=64, but the range is not divisible by `step`. It will be replaced by [32, 96].\n",
            "  warnings.warn(\n",
            "<ipython-input-47-e72ae58e0ccb>:35: FutureWarning: suggest_loguniform has been deprecated in v3.0.0. This feature will be removed in v6.0.0. See https://github.com/optuna/optuna/releases/tag/v3.0.0. Use suggest_float(..., log=True) instead.\n",
            "  learning_rate = trial.suggest_loguniform('learning_rate', 1e-5, 1e-1)\n",
            "[I 2024-12-09 16:52:10,621] Trial 7 finished with value: 0.49748743718592964 and parameters: {'embedding_dim': 50, 'hidden_dim': 32, 'dropout1': 0.2547067725972517, 'dropout2': 0.31248622445463226, 'learning_rate': 0.0213821597430606}. Best is trial 4 with value: 0.5050251256281407.\n",
            "<ipython-input-47-e72ae58e0ccb>:31: FutureWarning: suggest_int() got {'step'} as positional arguments but they were expected to be given as keyword arguments.\n",
            "  embedding_dim = trial.suggest_int('embedding_dim', 50,100,200)\n",
            "/usr/local/lib/python3.10/dist-packages/optuna/distributions.py:708: UserWarning: The distribution is specified by [50, 100] and step=200, but the range is not divisible by `step`. It will be replaced by [50, 50].\n",
            "  warnings.warn(\n",
            "<ipython-input-47-e72ae58e0ccb>:32: FutureWarning: suggest_int() got {'step'} as positional arguments but they were expected to be given as keyword arguments.\n",
            "  hidden_dim = trial.suggest_int('hidden_dim', 32, 128, 64)\n",
            "/usr/local/lib/python3.10/dist-packages/optuna/distributions.py:708: UserWarning: The distribution is specified by [32, 128] and step=64, but the range is not divisible by `step`. It will be replaced by [32, 96].\n",
            "  warnings.warn(\n",
            "<ipython-input-47-e72ae58e0ccb>:35: FutureWarning: suggest_loguniform has been deprecated in v3.0.0. This feature will be removed in v6.0.0. See https://github.com/optuna/optuna/releases/tag/v3.0.0. Use suggest_float(..., log=True) instead.\n",
            "  learning_rate = trial.suggest_loguniform('learning_rate', 1e-5, 1e-1)\n",
            "[I 2024-12-09 16:52:18,838] Trial 8 finished with value: 0.4623115577889447 and parameters: {'embedding_dim': 50, 'hidden_dim': 32, 'dropout1': 0.2686287305138702, 'dropout2': 0.41650789819767564, 'learning_rate': 0.0024797972181649806}. Best is trial 4 with value: 0.5050251256281407.\n",
            "<ipython-input-47-e72ae58e0ccb>:31: FutureWarning: suggest_int() got {'step'} as positional arguments but they were expected to be given as keyword arguments.\n",
            "  embedding_dim = trial.suggest_int('embedding_dim', 50,100,200)\n",
            "/usr/local/lib/python3.10/dist-packages/optuna/distributions.py:708: UserWarning: The distribution is specified by [50, 100] and step=200, but the range is not divisible by `step`. It will be replaced by [50, 50].\n",
            "  warnings.warn(\n",
            "<ipython-input-47-e72ae58e0ccb>:32: FutureWarning: suggest_int() got {'step'} as positional arguments but they were expected to be given as keyword arguments.\n",
            "  hidden_dim = trial.suggest_int('hidden_dim', 32, 128, 64)\n",
            "/usr/local/lib/python3.10/dist-packages/optuna/distributions.py:708: UserWarning: The distribution is specified by [32, 128] and step=64, but the range is not divisible by `step`. It will be replaced by [32, 96].\n",
            "  warnings.warn(\n",
            "<ipython-input-47-e72ae58e0ccb>:35: FutureWarning: suggest_loguniform has been deprecated in v3.0.0. This feature will be removed in v6.0.0. See https://github.com/optuna/optuna/releases/tag/v3.0.0. Use suggest_float(..., log=True) instead.\n",
            "  learning_rate = trial.suggest_loguniform('learning_rate', 1e-5, 1e-1)\n",
            "[I 2024-12-09 16:52:44,204] Trial 9 finished with value: 0.49748743718592964 and parameters: {'embedding_dim': 50, 'hidden_dim': 96, 'dropout1': 0.44893915193966316, 'dropout2': 0.30995979753200364, 'learning_rate': 0.0001656359490768429}. Best is trial 4 with value: 0.5050251256281407.\n",
            "<ipython-input-47-e72ae58e0ccb>:31: FutureWarning: suggest_int() got {'step'} as positional arguments but they were expected to be given as keyword arguments.\n",
            "  embedding_dim = trial.suggest_int('embedding_dim', 50,100,200)\n",
            "/usr/local/lib/python3.10/dist-packages/optuna/distributions.py:708: UserWarning: The distribution is specified by [50, 100] and step=200, but the range is not divisible by `step`. It will be replaced by [50, 50].\n",
            "  warnings.warn(\n",
            "<ipython-input-47-e72ae58e0ccb>:32: FutureWarning: suggest_int() got {'step'} as positional arguments but they were expected to be given as keyword arguments.\n",
            "  hidden_dim = trial.suggest_int('hidden_dim', 32, 128, 64)\n",
            "/usr/local/lib/python3.10/dist-packages/optuna/distributions.py:708: UserWarning: The distribution is specified by [32, 128] and step=64, but the range is not divisible by `step`. It will be replaced by [32, 96].\n",
            "  warnings.warn(\n",
            "<ipython-input-47-e72ae58e0ccb>:35: FutureWarning: suggest_loguniform has been deprecated in v3.0.0. This feature will be removed in v6.0.0. See https://github.com/optuna/optuna/releases/tag/v3.0.0. Use suggest_float(..., log=True) instead.\n",
            "  learning_rate = trial.suggest_loguniform('learning_rate', 1e-5, 1e-1)\n",
            "[I 2024-12-09 16:52:52,675] Trial 10 finished with value: 0.48994974874371855 and parameters: {'embedding_dim': 50, 'hidden_dim': 32, 'dropout1': 0.3785129876355716, 'dropout2': 0.16870524076568175, 'learning_rate': 1.0956455662647291e-05}. Best is trial 4 with value: 0.5050251256281407.\n",
            "<ipython-input-47-e72ae58e0ccb>:31: FutureWarning: suggest_int() got {'step'} as positional arguments but they were expected to be given as keyword arguments.\n",
            "  embedding_dim = trial.suggest_int('embedding_dim', 50,100,200)\n",
            "/usr/local/lib/python3.10/dist-packages/optuna/distributions.py:708: UserWarning: The distribution is specified by [50, 100] and step=200, but the range is not divisible by `step`. It will be replaced by [50, 50].\n",
            "  warnings.warn(\n",
            "<ipython-input-47-e72ae58e0ccb>:32: FutureWarning: suggest_int() got {'step'} as positional arguments but they were expected to be given as keyword arguments.\n",
            "  hidden_dim = trial.suggest_int('hidden_dim', 32, 128, 64)\n",
            "/usr/local/lib/python3.10/dist-packages/optuna/distributions.py:708: UserWarning: The distribution is specified by [32, 128] and step=64, but the range is not divisible by `step`. It will be replaced by [32, 96].\n",
            "  warnings.warn(\n",
            "<ipython-input-47-e72ae58e0ccb>:35: FutureWarning: suggest_loguniform has been deprecated in v3.0.0. This feature will be removed in v6.0.0. See https://github.com/optuna/optuna/releases/tag/v3.0.0. Use suggest_float(..., log=True) instead.\n",
            "  learning_rate = trial.suggest_loguniform('learning_rate', 1e-5, 1e-1)\n",
            "[I 2024-12-09 16:53:19,398] Trial 11 finished with value: 0.5 and parameters: {'embedding_dim': 50, 'hidden_dim': 96, 'dropout1': 0.4967532818240211, 'dropout2': 0.1780491347351204, 'learning_rate': 0.08711138369345951}. Best is trial 4 with value: 0.5050251256281407.\n",
            "<ipython-input-47-e72ae58e0ccb>:31: FutureWarning: suggest_int() got {'step'} as positional arguments but they were expected to be given as keyword arguments.\n",
            "  embedding_dim = trial.suggest_int('embedding_dim', 50,100,200)\n",
            "/usr/local/lib/python3.10/dist-packages/optuna/distributions.py:708: UserWarning: The distribution is specified by [50, 100] and step=200, but the range is not divisible by `step`. It will be replaced by [50, 50].\n",
            "  warnings.warn(\n",
            "<ipython-input-47-e72ae58e0ccb>:32: FutureWarning: suggest_int() got {'step'} as positional arguments but they were expected to be given as keyword arguments.\n",
            "  hidden_dim = trial.suggest_int('hidden_dim', 32, 128, 64)\n",
            "/usr/local/lib/python3.10/dist-packages/optuna/distributions.py:708: UserWarning: The distribution is specified by [32, 128] and step=64, but the range is not divisible by `step`. It will be replaced by [32, 96].\n",
            "  warnings.warn(\n",
            "<ipython-input-47-e72ae58e0ccb>:35: FutureWarning: suggest_loguniform has been deprecated in v3.0.0. This feature will be removed in v6.0.0. See https://github.com/optuna/optuna/releases/tag/v3.0.0. Use suggest_float(..., log=True) instead.\n",
            "  learning_rate = trial.suggest_loguniform('learning_rate', 1e-5, 1e-1)\n",
            "[I 2024-12-09 16:53:27,762] Trial 12 finished with value: 0.4899497487437186 and parameters: {'embedding_dim': 50, 'hidden_dim': 32, 'dropout1': 0.17673780662861124, 'dropout2': 0.23373129452704283, 'learning_rate': 0.00015596055289657888}. Best is trial 4 with value: 0.5050251256281407.\n",
            "<ipython-input-47-e72ae58e0ccb>:31: FutureWarning: suggest_int() got {'step'} as positional arguments but they were expected to be given as keyword arguments.\n",
            "  embedding_dim = trial.suggest_int('embedding_dim', 50,100,200)\n",
            "/usr/local/lib/python3.10/dist-packages/optuna/distributions.py:708: UserWarning: The distribution is specified by [50, 100] and step=200, but the range is not divisible by `step`. It will be replaced by [50, 50].\n",
            "  warnings.warn(\n",
            "<ipython-input-47-e72ae58e0ccb>:32: FutureWarning: suggest_int() got {'step'} as positional arguments but they were expected to be given as keyword arguments.\n",
            "  hidden_dim = trial.suggest_int('hidden_dim', 32, 128, 64)\n",
            "/usr/local/lib/python3.10/dist-packages/optuna/distributions.py:708: UserWarning: The distribution is specified by [32, 128] and step=64, but the range is not divisible by `step`. It will be replaced by [32, 96].\n",
            "  warnings.warn(\n",
            "<ipython-input-47-e72ae58e0ccb>:35: FutureWarning: suggest_loguniform has been deprecated in v3.0.0. This feature will be removed in v6.0.0. See https://github.com/optuna/optuna/releases/tag/v3.0.0. Use suggest_float(..., log=True) instead.\n",
            "  learning_rate = trial.suggest_loguniform('learning_rate', 1e-5, 1e-1)\n",
            "[I 2024-12-09 16:53:50,225] Trial 13 finished with value: 0.4849246231155779 and parameters: {'embedding_dim': 50, 'hidden_dim': 96, 'dropout1': 0.3939283537483839, 'dropout2': 0.10030649055578128, 'learning_rate': 0.00027700254884899326}. Best is trial 4 with value: 0.5050251256281407.\n",
            "<ipython-input-47-e72ae58e0ccb>:31: FutureWarning: suggest_int() got {'step'} as positional arguments but they were expected to be given as keyword arguments.\n",
            "  embedding_dim = trial.suggest_int('embedding_dim', 50,100,200)\n",
            "/usr/local/lib/python3.10/dist-packages/optuna/distributions.py:708: UserWarning: The distribution is specified by [50, 100] and step=200, but the range is not divisible by `step`. It will be replaced by [50, 50].\n",
            "  warnings.warn(\n",
            "<ipython-input-47-e72ae58e0ccb>:32: FutureWarning: suggest_int() got {'step'} as positional arguments but they were expected to be given as keyword arguments.\n",
            "  hidden_dim = trial.suggest_int('hidden_dim', 32, 128, 64)\n",
            "/usr/local/lib/python3.10/dist-packages/optuna/distributions.py:708: UserWarning: The distribution is specified by [32, 128] and step=64, but the range is not divisible by `step`. It will be replaced by [32, 96].\n",
            "  warnings.warn(\n",
            "<ipython-input-47-e72ae58e0ccb>:35: FutureWarning: suggest_loguniform has been deprecated in v3.0.0. This feature will be removed in v6.0.0. See https://github.com/optuna/optuna/releases/tag/v3.0.0. Use suggest_float(..., log=True) instead.\n",
            "  learning_rate = trial.suggest_loguniform('learning_rate', 1e-5, 1e-1)\n",
            "[I 2024-12-09 16:53:58,846] Trial 14 finished with value: 0.48743718592964824 and parameters: {'embedding_dim': 50, 'hidden_dim': 32, 'dropout1': 0.30948491682482165, 'dropout2': 0.24042281510538432, 'learning_rate': 4.263805196866848e-05}. Best is trial 4 with value: 0.5050251256281407.\n",
            "<ipython-input-47-e72ae58e0ccb>:31: FutureWarning: suggest_int() got {'step'} as positional arguments but they were expected to be given as keyword arguments.\n",
            "  embedding_dim = trial.suggest_int('embedding_dim', 50,100,200)\n",
            "/usr/local/lib/python3.10/dist-packages/optuna/distributions.py:708: UserWarning: The distribution is specified by [50, 100] and step=200, but the range is not divisible by `step`. It will be replaced by [50, 50].\n",
            "  warnings.warn(\n",
            "<ipython-input-47-e72ae58e0ccb>:32: FutureWarning: suggest_int() got {'step'} as positional arguments but they were expected to be given as keyword arguments.\n",
            "  hidden_dim = trial.suggest_int('hidden_dim', 32, 128, 64)\n",
            "/usr/local/lib/python3.10/dist-packages/optuna/distributions.py:708: UserWarning: The distribution is specified by [32, 128] and step=64, but the range is not divisible by `step`. It will be replaced by [32, 96].\n",
            "  warnings.warn(\n",
            "<ipython-input-47-e72ae58e0ccb>:35: FutureWarning: suggest_loguniform has been deprecated in v3.0.0. This feature will be removed in v6.0.0. See https://github.com/optuna/optuna/releases/tag/v3.0.0. Use suggest_float(..., log=True) instead.\n",
            "  learning_rate = trial.suggest_loguniform('learning_rate', 1e-5, 1e-1)\n",
            "[I 2024-12-09 16:54:25,617] Trial 15 finished with value: 0.5 and parameters: {'embedding_dim': 50, 'hidden_dim': 96, 'dropout1': 0.4375990483821418, 'dropout2': 0.3792969635559148, 'learning_rate': 0.09405779059961056}. Best is trial 4 with value: 0.5050251256281407.\n",
            "<ipython-input-47-e72ae58e0ccb>:31: FutureWarning: suggest_int() got {'step'} as positional arguments but they were expected to be given as keyword arguments.\n",
            "  embedding_dim = trial.suggest_int('embedding_dim', 50,100,200)\n",
            "/usr/local/lib/python3.10/dist-packages/optuna/distributions.py:708: UserWarning: The distribution is specified by [50, 100] and step=200, but the range is not divisible by `step`. It will be replaced by [50, 50].\n",
            "  warnings.warn(\n",
            "<ipython-input-47-e72ae58e0ccb>:32: FutureWarning: suggest_int() got {'step'} as positional arguments but they were expected to be given as keyword arguments.\n",
            "  hidden_dim = trial.suggest_int('hidden_dim', 32, 128, 64)\n",
            "/usr/local/lib/python3.10/dist-packages/optuna/distributions.py:708: UserWarning: The distribution is specified by [32, 128] and step=64, but the range is not divisible by `step`. It will be replaced by [32, 96].\n",
            "  warnings.warn(\n",
            "<ipython-input-47-e72ae58e0ccb>:35: FutureWarning: suggest_loguniform has been deprecated in v3.0.0. This feature will be removed in v6.0.0. See https://github.com/optuna/optuna/releases/tag/v3.0.0. Use suggest_float(..., log=True) instead.\n",
            "  learning_rate = trial.suggest_loguniform('learning_rate', 1e-5, 1e-1)\n",
            "[I 2024-12-09 16:54:48,648] Trial 16 finished with value: 0.49748743718592964 and parameters: {'embedding_dim': 50, 'hidden_dim': 96, 'dropout1': 0.18934836540503192, 'dropout2': 0.24415653637371512, 'learning_rate': 0.00048638048795852966}. Best is trial 4 with value: 0.5050251256281407.\n",
            "<ipython-input-47-e72ae58e0ccb>:31: FutureWarning: suggest_int() got {'step'} as positional arguments but they were expected to be given as keyword arguments.\n",
            "  embedding_dim = trial.suggest_int('embedding_dim', 50,100,200)\n",
            "/usr/local/lib/python3.10/dist-packages/optuna/distributions.py:708: UserWarning: The distribution is specified by [50, 100] and step=200, but the range is not divisible by `step`. It will be replaced by [50, 50].\n",
            "  warnings.warn(\n",
            "<ipython-input-47-e72ae58e0ccb>:32: FutureWarning: suggest_int() got {'step'} as positional arguments but they were expected to be given as keyword arguments.\n",
            "  hidden_dim = trial.suggest_int('hidden_dim', 32, 128, 64)\n",
            "/usr/local/lib/python3.10/dist-packages/optuna/distributions.py:708: UserWarning: The distribution is specified by [32, 128] and step=64, but the range is not divisible by `step`. It will be replaced by [32, 96].\n",
            "  warnings.warn(\n",
            "<ipython-input-47-e72ae58e0ccb>:35: FutureWarning: suggest_loguniform has been deprecated in v3.0.0. This feature will be removed in v6.0.0. See https://github.com/optuna/optuna/releases/tag/v3.0.0. Use suggest_float(..., log=True) instead.\n",
            "  learning_rate = trial.suggest_loguniform('learning_rate', 1e-5, 1e-1)\n",
            "[I 2024-12-09 16:54:56,771] Trial 17 finished with value: 0.5125628140703518 and parameters: {'embedding_dim': 50, 'hidden_dim': 32, 'dropout1': 0.32236205210094554, 'dropout2': 0.10166388554825515, 'learning_rate': 5.194879628953027e-05}. Best is trial 17 with value: 0.5125628140703518.\n",
            "<ipython-input-47-e72ae58e0ccb>:31: FutureWarning: suggest_int() got {'step'} as positional arguments but they were expected to be given as keyword arguments.\n",
            "  embedding_dim = trial.suggest_int('embedding_dim', 50,100,200)\n",
            "/usr/local/lib/python3.10/dist-packages/optuna/distributions.py:708: UserWarning: The distribution is specified by [50, 100] and step=200, but the range is not divisible by `step`. It will be replaced by [50, 50].\n",
            "  warnings.warn(\n",
            "<ipython-input-47-e72ae58e0ccb>:32: FutureWarning: suggest_int() got {'step'} as positional arguments but they were expected to be given as keyword arguments.\n",
            "  hidden_dim = trial.suggest_int('hidden_dim', 32, 128, 64)\n",
            "/usr/local/lib/python3.10/dist-packages/optuna/distributions.py:708: UserWarning: The distribution is specified by [32, 128] and step=64, but the range is not divisible by `step`. It will be replaced by [32, 96].\n",
            "  warnings.warn(\n",
            "<ipython-input-47-e72ae58e0ccb>:35: FutureWarning: suggest_loguniform has been deprecated in v3.0.0. This feature will be removed in v6.0.0. See https://github.com/optuna/optuna/releases/tag/v3.0.0. Use suggest_float(..., log=True) instead.\n",
            "  learning_rate = trial.suggest_loguniform('learning_rate', 1e-5, 1e-1)\n",
            "[I 2024-12-09 16:55:05,259] Trial 18 finished with value: 0.5125628140703518 and parameters: {'embedding_dim': 50, 'hidden_dim': 32, 'dropout1': 0.30894281857576195, 'dropout2': 0.12331593682445872, 'learning_rate': 4.1703876447790784e-05}. Best is trial 17 with value: 0.5125628140703518.\n",
            "<ipython-input-47-e72ae58e0ccb>:31: FutureWarning: suggest_int() got {'step'} as positional arguments but they were expected to be given as keyword arguments.\n",
            "  embedding_dim = trial.suggest_int('embedding_dim', 50,100,200)\n",
            "/usr/local/lib/python3.10/dist-packages/optuna/distributions.py:708: UserWarning: The distribution is specified by [50, 100] and step=200, but the range is not divisible by `step`. It will be replaced by [50, 50].\n",
            "  warnings.warn(\n",
            "<ipython-input-47-e72ae58e0ccb>:32: FutureWarning: suggest_int() got {'step'} as positional arguments but they were expected to be given as keyword arguments.\n",
            "  hidden_dim = trial.suggest_int('hidden_dim', 32, 128, 64)\n",
            "/usr/local/lib/python3.10/dist-packages/optuna/distributions.py:708: UserWarning: The distribution is specified by [32, 128] and step=64, but the range is not divisible by `step`. It will be replaced by [32, 96].\n",
            "  warnings.warn(\n",
            "<ipython-input-47-e72ae58e0ccb>:35: FutureWarning: suggest_loguniform has been deprecated in v3.0.0. This feature will be removed in v6.0.0. See https://github.com/optuna/optuna/releases/tag/v3.0.0. Use suggest_float(..., log=True) instead.\n",
            "  learning_rate = trial.suggest_loguniform('learning_rate', 1e-5, 1e-1)\n",
            "[I 2024-12-09 16:55:12,686] Trial 19 finished with value: 0.5 and parameters: {'embedding_dim': 50, 'hidden_dim': 32, 'dropout1': 0.3207864054304622, 'dropout2': 0.10779533591761037, 'learning_rate': 1.0624737521299373e-05}. Best is trial 17 with value: 0.5125628140703518.\n",
            "<ipython-input-47-e72ae58e0ccb>:31: FutureWarning: suggest_int() got {'step'} as positional arguments but they were expected to be given as keyword arguments.\n",
            "  embedding_dim = trial.suggest_int('embedding_dim', 50,100,200)\n",
            "/usr/local/lib/python3.10/dist-packages/optuna/distributions.py:708: UserWarning: The distribution is specified by [50, 100] and step=200, but the range is not divisible by `step`. It will be replaced by [50, 50].\n",
            "  warnings.warn(\n",
            "<ipython-input-47-e72ae58e0ccb>:32: FutureWarning: suggest_int() got {'step'} as positional arguments but they were expected to be given as keyword arguments.\n",
            "  hidden_dim = trial.suggest_int('hidden_dim', 32, 128, 64)\n",
            "/usr/local/lib/python3.10/dist-packages/optuna/distributions.py:708: UserWarning: The distribution is specified by [32, 128] and step=64, but the range is not divisible by `step`. It will be replaced by [32, 96].\n",
            "  warnings.warn(\n",
            "<ipython-input-47-e72ae58e0ccb>:35: FutureWarning: suggest_loguniform has been deprecated in v3.0.0. This feature will be removed in v6.0.0. See https://github.com/optuna/optuna/releases/tag/v3.0.0. Use suggest_float(..., log=True) instead.\n",
            "  learning_rate = trial.suggest_loguniform('learning_rate', 1e-5, 1e-1)\n",
            "[I 2024-12-09 16:55:21,271] Trial 20 finished with value: 0.507537688442211 and parameters: {'embedding_dim': 50, 'hidden_dim': 32, 'dropout1': 0.3616938739935155, 'dropout2': 0.1310320584032558, 'learning_rate': 8.181060023847668e-05}. Best is trial 17 with value: 0.5125628140703518.\n",
            "<ipython-input-47-e72ae58e0ccb>:31: FutureWarning: suggest_int() got {'step'} as positional arguments but they were expected to be given as keyword arguments.\n",
            "  embedding_dim = trial.suggest_int('embedding_dim', 50,100,200)\n",
            "/usr/local/lib/python3.10/dist-packages/optuna/distributions.py:708: UserWarning: The distribution is specified by [50, 100] and step=200, but the range is not divisible by `step`. It will be replaced by [50, 50].\n",
            "  warnings.warn(\n",
            "<ipython-input-47-e72ae58e0ccb>:32: FutureWarning: suggest_int() got {'step'} as positional arguments but they were expected to be given as keyword arguments.\n",
            "  hidden_dim = trial.suggest_int('hidden_dim', 32, 128, 64)\n",
            "/usr/local/lib/python3.10/dist-packages/optuna/distributions.py:708: UserWarning: The distribution is specified by [32, 128] and step=64, but the range is not divisible by `step`. It will be replaced by [32, 96].\n",
            "  warnings.warn(\n",
            "<ipython-input-47-e72ae58e0ccb>:35: FutureWarning: suggest_loguniform has been deprecated in v3.0.0. This feature will be removed in v6.0.0. See https://github.com/optuna/optuna/releases/tag/v3.0.0. Use suggest_float(..., log=True) instead.\n",
            "  learning_rate = trial.suggest_loguniform('learning_rate', 1e-5, 1e-1)\n",
            "[I 2024-12-09 16:55:28,878] Trial 21 finished with value: 0.5125628140703518 and parameters: {'embedding_dim': 50, 'hidden_dim': 32, 'dropout1': 0.3628769887847344, 'dropout2': 0.1277551066264809, 'learning_rate': 6.980685825174027e-05}. Best is trial 17 with value: 0.5125628140703518.\n",
            "<ipython-input-47-e72ae58e0ccb>:31: FutureWarning: suggest_int() got {'step'} as positional arguments but they were expected to be given as keyword arguments.\n",
            "  embedding_dim = trial.suggest_int('embedding_dim', 50,100,200)\n",
            "/usr/local/lib/python3.10/dist-packages/optuna/distributions.py:708: UserWarning: The distribution is specified by [50, 100] and step=200, but the range is not divisible by `step`. It will be replaced by [50, 50].\n",
            "  warnings.warn(\n",
            "<ipython-input-47-e72ae58e0ccb>:32: FutureWarning: suggest_int() got {'step'} as positional arguments but they were expected to be given as keyword arguments.\n",
            "  hidden_dim = trial.suggest_int('hidden_dim', 32, 128, 64)\n",
            "/usr/local/lib/python3.10/dist-packages/optuna/distributions.py:708: UserWarning: The distribution is specified by [32, 128] and step=64, but the range is not divisible by `step`. It will be replaced by [32, 96].\n",
            "  warnings.warn(\n",
            "<ipython-input-47-e72ae58e0ccb>:35: FutureWarning: suggest_loguniform has been deprecated in v3.0.0. This feature will be removed in v6.0.0. See https://github.com/optuna/optuna/releases/tag/v3.0.0. Use suggest_float(..., log=True) instead.\n",
            "  learning_rate = trial.suggest_loguniform('learning_rate', 1e-5, 1e-1)\n",
            "[I 2024-12-09 16:55:37,635] Trial 22 finished with value: 0.5025125628140703 and parameters: {'embedding_dim': 50, 'hidden_dim': 32, 'dropout1': 0.2862310420635436, 'dropout2': 0.140812518657204, 'learning_rate': 2.0843572709606576e-05}. Best is trial 17 with value: 0.5125628140703518.\n",
            "<ipython-input-47-e72ae58e0ccb>:31: FutureWarning: suggest_int() got {'step'} as positional arguments but they were expected to be given as keyword arguments.\n",
            "  embedding_dim = trial.suggest_int('embedding_dim', 50,100,200)\n",
            "/usr/local/lib/python3.10/dist-packages/optuna/distributions.py:708: UserWarning: The distribution is specified by [50, 100] and step=200, but the range is not divisible by `step`. It will be replaced by [50, 50].\n",
            "  warnings.warn(\n",
            "<ipython-input-47-e72ae58e0ccb>:32: FutureWarning: suggest_int() got {'step'} as positional arguments but they were expected to be given as keyword arguments.\n",
            "  hidden_dim = trial.suggest_int('hidden_dim', 32, 128, 64)\n",
            "/usr/local/lib/python3.10/dist-packages/optuna/distributions.py:708: UserWarning: The distribution is specified by [32, 128] and step=64, but the range is not divisible by `step`. It will be replaced by [32, 96].\n",
            "  warnings.warn(\n",
            "<ipython-input-47-e72ae58e0ccb>:35: FutureWarning: suggest_loguniform has been deprecated in v3.0.0. This feature will be removed in v6.0.0. See https://github.com/optuna/optuna/releases/tag/v3.0.0. Use suggest_float(..., log=True) instead.\n",
            "  learning_rate = trial.suggest_loguniform('learning_rate', 1e-5, 1e-1)\n",
            "[I 2024-12-09 16:55:46,627] Trial 23 finished with value: 0.4849246231155779 and parameters: {'embedding_dim': 50, 'hidden_dim': 32, 'dropout1': 0.41367355628181446, 'dropout2': 0.14632857788885098, 'learning_rate': 9.321097509692227e-05}. Best is trial 17 with value: 0.5125628140703518.\n",
            "<ipython-input-47-e72ae58e0ccb>:31: FutureWarning: suggest_int() got {'step'} as positional arguments but they were expected to be given as keyword arguments.\n",
            "  embedding_dim = trial.suggest_int('embedding_dim', 50,100,200)\n",
            "/usr/local/lib/python3.10/dist-packages/optuna/distributions.py:708: UserWarning: The distribution is specified by [50, 100] and step=200, but the range is not divisible by `step`. It will be replaced by [50, 50].\n",
            "  warnings.warn(\n",
            "<ipython-input-47-e72ae58e0ccb>:32: FutureWarning: suggest_int() got {'step'} as positional arguments but they were expected to be given as keyword arguments.\n",
            "  hidden_dim = trial.suggest_int('hidden_dim', 32, 128, 64)\n",
            "/usr/local/lib/python3.10/dist-packages/optuna/distributions.py:708: UserWarning: The distribution is specified by [32, 128] and step=64, but the range is not divisible by `step`. It will be replaced by [32, 96].\n",
            "  warnings.warn(\n",
            "<ipython-input-47-e72ae58e0ccb>:35: FutureWarning: suggest_loguniform has been deprecated in v3.0.0. This feature will be removed in v6.0.0. See https://github.com/optuna/optuna/releases/tag/v3.0.0. Use suggest_float(..., log=True) instead.\n",
            "  learning_rate = trial.suggest_loguniform('learning_rate', 1e-5, 1e-1)\n",
            "[I 2024-12-09 16:55:54,214] Trial 24 finished with value: 0.4723618090452261 and parameters: {'embedding_dim': 50, 'hidden_dim': 32, 'dropout1': 0.3426462613423308, 'dropout2': 0.2065288557927879, 'learning_rate': 0.0005799197551385913}. Best is trial 17 with value: 0.5125628140703518.\n",
            "<ipython-input-47-e72ae58e0ccb>:31: FutureWarning: suggest_int() got {'step'} as positional arguments but they were expected to be given as keyword arguments.\n",
            "  embedding_dim = trial.suggest_int('embedding_dim', 50,100,200)\n",
            "/usr/local/lib/python3.10/dist-packages/optuna/distributions.py:708: UserWarning: The distribution is specified by [50, 100] and step=200, but the range is not divisible by `step`. It will be replaced by [50, 50].\n",
            "  warnings.warn(\n",
            "<ipython-input-47-e72ae58e0ccb>:32: FutureWarning: suggest_int() got {'step'} as positional arguments but they were expected to be given as keyword arguments.\n",
            "  hidden_dim = trial.suggest_int('hidden_dim', 32, 128, 64)\n",
            "/usr/local/lib/python3.10/dist-packages/optuna/distributions.py:708: UserWarning: The distribution is specified by [32, 128] and step=64, but the range is not divisible by `step`. It will be replaced by [32, 96].\n",
            "  warnings.warn(\n",
            "<ipython-input-47-e72ae58e0ccb>:35: FutureWarning: suggest_loguniform has been deprecated in v3.0.0. This feature will be removed in v6.0.0. See https://github.com/optuna/optuna/releases/tag/v3.0.0. Use suggest_float(..., log=True) instead.\n",
            "  learning_rate = trial.suggest_loguniform('learning_rate', 1e-5, 1e-1)\n",
            "[I 2024-12-09 16:56:02,792] Trial 25 finished with value: 0.48743718592964824 and parameters: {'embedding_dim': 50, 'hidden_dim': 32, 'dropout1': 0.287431109953185, 'dropout2': 0.1317842965562031, 'learning_rate': 2.7252756413746945e-05}. Best is trial 17 with value: 0.5125628140703518.\n",
            "<ipython-input-47-e72ae58e0ccb>:31: FutureWarning: suggest_int() got {'step'} as positional arguments but they were expected to be given as keyword arguments.\n",
            "  embedding_dim = trial.suggest_int('embedding_dim', 50,100,200)\n",
            "/usr/local/lib/python3.10/dist-packages/optuna/distributions.py:708: UserWarning: The distribution is specified by [50, 100] and step=200, but the range is not divisible by `step`. It will be replaced by [50, 50].\n",
            "  warnings.warn(\n",
            "<ipython-input-47-e72ae58e0ccb>:32: FutureWarning: suggest_int() got {'step'} as positional arguments but they were expected to be given as keyword arguments.\n",
            "  hidden_dim = trial.suggest_int('hidden_dim', 32, 128, 64)\n",
            "/usr/local/lib/python3.10/dist-packages/optuna/distributions.py:708: UserWarning: The distribution is specified by [32, 128] and step=64, but the range is not divisible by `step`. It will be replaced by [32, 96].\n",
            "  warnings.warn(\n",
            "<ipython-input-47-e72ae58e0ccb>:35: FutureWarning: suggest_loguniform has been deprecated in v3.0.0. This feature will be removed in v6.0.0. See https://github.com/optuna/optuna/releases/tag/v3.0.0. Use suggest_float(..., log=True) instead.\n",
            "  learning_rate = trial.suggest_loguniform('learning_rate', 1e-5, 1e-1)\n",
            "[I 2024-12-09 16:56:10,117] Trial 26 finished with value: 0.5125628140703518 and parameters: {'embedding_dim': 50, 'hidden_dim': 32, 'dropout1': 0.334597233417513, 'dropout2': 0.26761974629071794, 'learning_rate': 9.28598911440279e-05}. Best is trial 17 with value: 0.5125628140703518.\n",
            "<ipython-input-47-e72ae58e0ccb>:31: FutureWarning: suggest_int() got {'step'} as positional arguments but they were expected to be given as keyword arguments.\n",
            "  embedding_dim = trial.suggest_int('embedding_dim', 50,100,200)\n",
            "/usr/local/lib/python3.10/dist-packages/optuna/distributions.py:708: UserWarning: The distribution is specified by [50, 100] and step=200, but the range is not divisible by `step`. It will be replaced by [50, 50].\n",
            "  warnings.warn(\n",
            "<ipython-input-47-e72ae58e0ccb>:32: FutureWarning: suggest_int() got {'step'} as positional arguments but they were expected to be given as keyword arguments.\n",
            "  hidden_dim = trial.suggest_int('hidden_dim', 32, 128, 64)\n",
            "/usr/local/lib/python3.10/dist-packages/optuna/distributions.py:708: UserWarning: The distribution is specified by [32, 128] and step=64, but the range is not divisible by `step`. It will be replaced by [32, 96].\n",
            "  warnings.warn(\n",
            "<ipython-input-47-e72ae58e0ccb>:35: FutureWarning: suggest_loguniform has been deprecated in v3.0.0. This feature will be removed in v6.0.0. See https://github.com/optuna/optuna/releases/tag/v3.0.0. Use suggest_float(..., log=True) instead.\n",
            "  learning_rate = trial.suggest_loguniform('learning_rate', 1e-5, 1e-1)\n",
            "[I 2024-12-09 16:56:18,606] Trial 27 finished with value: 0.49246231155778897 and parameters: {'embedding_dim': 50, 'hidden_dim': 32, 'dropout1': 0.3680757882790239, 'dropout2': 0.17847845454689948, 'learning_rate': 1.7701755800716353e-05}. Best is trial 17 with value: 0.5125628140703518.\n",
            "<ipython-input-47-e72ae58e0ccb>:31: FutureWarning: suggest_int() got {'step'} as positional arguments but they were expected to be given as keyword arguments.\n",
            "  embedding_dim = trial.suggest_int('embedding_dim', 50,100,200)\n",
            "/usr/local/lib/python3.10/dist-packages/optuna/distributions.py:708: UserWarning: The distribution is specified by [50, 100] and step=200, but the range is not divisible by `step`. It will be replaced by [50, 50].\n",
            "  warnings.warn(\n",
            "<ipython-input-47-e72ae58e0ccb>:32: FutureWarning: suggest_int() got {'step'} as positional arguments but they were expected to be given as keyword arguments.\n",
            "  hidden_dim = trial.suggest_int('hidden_dim', 32, 128, 64)\n",
            "/usr/local/lib/python3.10/dist-packages/optuna/distributions.py:708: UserWarning: The distribution is specified by [32, 128] and step=64, but the range is not divisible by `step`. It will be replaced by [32, 96].\n",
            "  warnings.warn(\n",
            "<ipython-input-47-e72ae58e0ccb>:35: FutureWarning: suggest_loguniform has been deprecated in v3.0.0. This feature will be removed in v6.0.0. See https://github.com/optuna/optuna/releases/tag/v3.0.0. Use suggest_float(..., log=True) instead.\n",
            "  learning_rate = trial.suggest_loguniform('learning_rate', 1e-5, 1e-1)\n",
            "[I 2024-12-09 16:56:27,019] Trial 28 finished with value: 0.5 and parameters: {'embedding_dim': 50, 'hidden_dim': 32, 'dropout1': 0.4037382727383172, 'dropout2': 0.10247372826080416, 'learning_rate': 0.00025642095407292785}. Best is trial 17 with value: 0.5125628140703518.\n",
            "<ipython-input-47-e72ae58e0ccb>:31: FutureWarning: suggest_int() got {'step'} as positional arguments but they were expected to be given as keyword arguments.\n",
            "  embedding_dim = trial.suggest_int('embedding_dim', 50,100,200)\n",
            "/usr/local/lib/python3.10/dist-packages/optuna/distributions.py:708: UserWarning: The distribution is specified by [50, 100] and step=200, but the range is not divisible by `step`. It will be replaced by [50, 50].\n",
            "  warnings.warn(\n",
            "<ipython-input-47-e72ae58e0ccb>:32: FutureWarning: suggest_int() got {'step'} as positional arguments but they were expected to be given as keyword arguments.\n",
            "  hidden_dim = trial.suggest_int('hidden_dim', 32, 128, 64)\n",
            "/usr/local/lib/python3.10/dist-packages/optuna/distributions.py:708: UserWarning: The distribution is specified by [32, 128] and step=64, but the range is not divisible by `step`. It will be replaced by [32, 96].\n",
            "  warnings.warn(\n",
            "<ipython-input-47-e72ae58e0ccb>:35: FutureWarning: suggest_loguniform has been deprecated in v3.0.0. This feature will be removed in v6.0.0. See https://github.com/optuna/optuna/releases/tag/v3.0.0. Use suggest_float(..., log=True) instead.\n",
            "  learning_rate = trial.suggest_loguniform('learning_rate', 1e-5, 1e-1)\n",
            "[I 2024-12-09 16:56:34,503] Trial 29 finished with value: 0.4849246231155779 and parameters: {'embedding_dim': 50, 'hidden_dim': 32, 'dropout1': 0.48991112467065473, 'dropout2': 0.1991016140843125, 'learning_rate': 6.513806948493103e-05}. Best is trial 17 with value: 0.5125628140703518.\n",
            "<ipython-input-47-e72ae58e0ccb>:31: FutureWarning: suggest_int() got {'step'} as positional arguments but they were expected to be given as keyword arguments.\n",
            "  embedding_dim = trial.suggest_int('embedding_dim', 50,100,200)\n",
            "/usr/local/lib/python3.10/dist-packages/optuna/distributions.py:708: UserWarning: The distribution is specified by [50, 100] and step=200, but the range is not divisible by `step`. It will be replaced by [50, 50].\n",
            "  warnings.warn(\n",
            "<ipython-input-47-e72ae58e0ccb>:32: FutureWarning: suggest_int() got {'step'} as positional arguments but they were expected to be given as keyword arguments.\n",
            "  hidden_dim = trial.suggest_int('hidden_dim', 32, 128, 64)\n",
            "/usr/local/lib/python3.10/dist-packages/optuna/distributions.py:708: UserWarning: The distribution is specified by [32, 128] and step=64, but the range is not divisible by `step`. It will be replaced by [32, 96].\n",
            "  warnings.warn(\n",
            "<ipython-input-47-e72ae58e0ccb>:35: FutureWarning: suggest_loguniform has been deprecated in v3.0.0. This feature will be removed in v6.0.0. See https://github.com/optuna/optuna/releases/tag/v3.0.0. Use suggest_float(..., log=True) instead.\n",
            "  learning_rate = trial.suggest_loguniform('learning_rate', 1e-5, 1e-1)\n",
            "[I 2024-12-09 16:56:43,123] Trial 30 finished with value: 0.48743718592964824 and parameters: {'embedding_dim': 50, 'hidden_dim': 32, 'dropout1': 0.3136441460144556, 'dropout2': 0.15178605310605794, 'learning_rate': 0.0010089384761204222}. Best is trial 17 with value: 0.5125628140703518.\n",
            "<ipython-input-47-e72ae58e0ccb>:31: FutureWarning: suggest_int() got {'step'} as positional arguments but they were expected to be given as keyword arguments.\n",
            "  embedding_dim = trial.suggest_int('embedding_dim', 50,100,200)\n",
            "/usr/local/lib/python3.10/dist-packages/optuna/distributions.py:708: UserWarning: The distribution is specified by [50, 100] and step=200, but the range is not divisible by `step`. It will be replaced by [50, 50].\n",
            "  warnings.warn(\n",
            "<ipython-input-47-e72ae58e0ccb>:32: FutureWarning: suggest_int() got {'step'} as positional arguments but they were expected to be given as keyword arguments.\n",
            "  hidden_dim = trial.suggest_int('hidden_dim', 32, 128, 64)\n",
            "/usr/local/lib/python3.10/dist-packages/optuna/distributions.py:708: UserWarning: The distribution is specified by [32, 128] and step=64, but the range is not divisible by `step`. It will be replaced by [32, 96].\n",
            "  warnings.warn(\n",
            "<ipython-input-47-e72ae58e0ccb>:35: FutureWarning: suggest_loguniform has been deprecated in v3.0.0. This feature will be removed in v6.0.0. See https://github.com/optuna/optuna/releases/tag/v3.0.0. Use suggest_float(..., log=True) instead.\n",
            "  learning_rate = trial.suggest_loguniform('learning_rate', 1e-5, 1e-1)\n",
            "[I 2024-12-09 16:56:50,697] Trial 31 finished with value: 0.507537688442211 and parameters: {'embedding_dim': 50, 'hidden_dim': 32, 'dropout1': 0.3381968096849333, 'dropout2': 0.26431891747833924, 'learning_rate': 0.0001380907413078921}. Best is trial 17 with value: 0.5125628140703518.\n",
            "<ipython-input-47-e72ae58e0ccb>:31: FutureWarning: suggest_int() got {'step'} as positional arguments but they were expected to be given as keyword arguments.\n",
            "  embedding_dim = trial.suggest_int('embedding_dim', 50,100,200)\n",
            "/usr/local/lib/python3.10/dist-packages/optuna/distributions.py:708: UserWarning: The distribution is specified by [50, 100] and step=200, but the range is not divisible by `step`. It will be replaced by [50, 50].\n",
            "  warnings.warn(\n",
            "<ipython-input-47-e72ae58e0ccb>:32: FutureWarning: suggest_int() got {'step'} as positional arguments but they were expected to be given as keyword arguments.\n",
            "  hidden_dim = trial.suggest_int('hidden_dim', 32, 128, 64)\n",
            "/usr/local/lib/python3.10/dist-packages/optuna/distributions.py:708: UserWarning: The distribution is specified by [32, 128] and step=64, but the range is not divisible by `step`. It will be replaced by [32, 96].\n",
            "  warnings.warn(\n",
            "<ipython-input-47-e72ae58e0ccb>:35: FutureWarning: suggest_loguniform has been deprecated in v3.0.0. This feature will be removed in v6.0.0. See https://github.com/optuna/optuna/releases/tag/v3.0.0. Use suggest_float(..., log=True) instead.\n",
            "  learning_rate = trial.suggest_loguniform('learning_rate', 1e-5, 1e-1)\n",
            "[I 2024-12-09 16:56:59,582] Trial 32 finished with value: 0.49748743718592964 and parameters: {'embedding_dim': 50, 'hidden_dim': 32, 'dropout1': 0.2888381190827606, 'dropout2': 0.2156951587207009, 'learning_rate': 2.7959082801098803e-05}. Best is trial 17 with value: 0.5125628140703518.\n",
            "<ipython-input-47-e72ae58e0ccb>:31: FutureWarning: suggest_int() got {'step'} as positional arguments but they were expected to be given as keyword arguments.\n",
            "  embedding_dim = trial.suggest_int('embedding_dim', 50,100,200)\n",
            "/usr/local/lib/python3.10/dist-packages/optuna/distributions.py:708: UserWarning: The distribution is specified by [50, 100] and step=200, but the range is not divisible by `step`. It will be replaced by [50, 50].\n",
            "  warnings.warn(\n",
            "<ipython-input-47-e72ae58e0ccb>:32: FutureWarning: suggest_int() got {'step'} as positional arguments but they were expected to be given as keyword arguments.\n",
            "  hidden_dim = trial.suggest_int('hidden_dim', 32, 128, 64)\n",
            "/usr/local/lib/python3.10/dist-packages/optuna/distributions.py:708: UserWarning: The distribution is specified by [32, 128] and step=64, but the range is not divisible by `step`. It will be replaced by [32, 96].\n",
            "  warnings.warn(\n",
            "<ipython-input-47-e72ae58e0ccb>:35: FutureWarning: suggest_loguniform has been deprecated in v3.0.0. This feature will be removed in v6.0.0. See https://github.com/optuna/optuna/releases/tag/v3.0.0. Use suggest_float(..., log=True) instead.\n",
            "  learning_rate = trial.suggest_loguniform('learning_rate', 1e-5, 1e-1)\n",
            "[I 2024-12-09 16:57:07,897] Trial 33 finished with value: 0.48743718592964824 and parameters: {'embedding_dim': 50, 'hidden_dim': 32, 'dropout1': 0.3305787491162271, 'dropout2': 0.2765538237359579, 'learning_rate': 0.00035133387218110263}. Best is trial 17 with value: 0.5125628140703518.\n",
            "<ipython-input-47-e72ae58e0ccb>:31: FutureWarning: suggest_int() got {'step'} as positional arguments but they were expected to be given as keyword arguments.\n",
            "  embedding_dim = trial.suggest_int('embedding_dim', 50,100,200)\n",
            "/usr/local/lib/python3.10/dist-packages/optuna/distributions.py:708: UserWarning: The distribution is specified by [50, 100] and step=200, but the range is not divisible by `step`. It will be replaced by [50, 50].\n",
            "  warnings.warn(\n",
            "<ipython-input-47-e72ae58e0ccb>:32: FutureWarning: suggest_int() got {'step'} as positional arguments but they were expected to be given as keyword arguments.\n",
            "  hidden_dim = trial.suggest_int('hidden_dim', 32, 128, 64)\n",
            "/usr/local/lib/python3.10/dist-packages/optuna/distributions.py:708: UserWarning: The distribution is specified by [32, 128] and step=64, but the range is not divisible by `step`. It will be replaced by [32, 96].\n",
            "  warnings.warn(\n",
            "<ipython-input-47-e72ae58e0ccb>:35: FutureWarning: suggest_loguniform has been deprecated in v3.0.0. This feature will be removed in v6.0.0. See https://github.com/optuna/optuna/releases/tag/v3.0.0. Use suggest_float(..., log=True) instead.\n",
            "  learning_rate = trial.suggest_loguniform('learning_rate', 1e-5, 1e-1)\n",
            "[I 2024-12-09 16:57:16,095] Trial 34 finished with value: 0.49748743718592964 and parameters: {'embedding_dim': 50, 'hidden_dim': 32, 'dropout1': 0.3697218356840871, 'dropout2': 0.12231294022288919, 'learning_rate': 0.00011442219675436178}. Best is trial 17 with value: 0.5125628140703518.\n",
            "<ipython-input-47-e72ae58e0ccb>:31: FutureWarning: suggest_int() got {'step'} as positional arguments but they were expected to be given as keyword arguments.\n",
            "  embedding_dim = trial.suggest_int('embedding_dim', 50,100,200)\n",
            "/usr/local/lib/python3.10/dist-packages/optuna/distributions.py:708: UserWarning: The distribution is specified by [50, 100] and step=200, but the range is not divisible by `step`. It will be replaced by [50, 50].\n",
            "  warnings.warn(\n",
            "<ipython-input-47-e72ae58e0ccb>:32: FutureWarning: suggest_int() got {'step'} as positional arguments but they were expected to be given as keyword arguments.\n",
            "  hidden_dim = trial.suggest_int('hidden_dim', 32, 128, 64)\n",
            "/usr/local/lib/python3.10/dist-packages/optuna/distributions.py:708: UserWarning: The distribution is specified by [32, 128] and step=64, but the range is not divisible by `step`. It will be replaced by [32, 96].\n",
            "  warnings.warn(\n",
            "<ipython-input-47-e72ae58e0ccb>:35: FutureWarning: suggest_loguniform has been deprecated in v3.0.0. This feature will be removed in v6.0.0. See https://github.com/optuna/optuna/releases/tag/v3.0.0. Use suggest_float(..., log=True) instead.\n",
            "  learning_rate = trial.suggest_loguniform('learning_rate', 1e-5, 1e-1)\n",
            "[I 2024-12-09 16:57:24,894] Trial 35 finished with value: 0.49748743718592964 and parameters: {'embedding_dim': 50, 'hidden_dim': 32, 'dropout1': 0.426826572329808, 'dropout2': 0.1676267061174643, 'learning_rate': 5.229374474638305e-05}. Best is trial 17 with value: 0.5125628140703518.\n",
            "<ipython-input-47-e72ae58e0ccb>:31: FutureWarning: suggest_int() got {'step'} as positional arguments but they were expected to be given as keyword arguments.\n",
            "  embedding_dim = trial.suggest_int('embedding_dim', 50,100,200)\n",
            "/usr/local/lib/python3.10/dist-packages/optuna/distributions.py:708: UserWarning: The distribution is specified by [50, 100] and step=200, but the range is not divisible by `step`. It will be replaced by [50, 50].\n",
            "  warnings.warn(\n",
            "<ipython-input-47-e72ae58e0ccb>:32: FutureWarning: suggest_int() got {'step'} as positional arguments but they were expected to be given as keyword arguments.\n",
            "  hidden_dim = trial.suggest_int('hidden_dim', 32, 128, 64)\n",
            "/usr/local/lib/python3.10/dist-packages/optuna/distributions.py:708: UserWarning: The distribution is specified by [32, 128] and step=64, but the range is not divisible by `step`. It will be replaced by [32, 96].\n",
            "  warnings.warn(\n",
            "<ipython-input-47-e72ae58e0ccb>:35: FutureWarning: suggest_loguniform has been deprecated in v3.0.0. This feature will be removed in v6.0.0. See https://github.com/optuna/optuna/releases/tag/v3.0.0. Use suggest_float(..., log=True) instead.\n",
            "  learning_rate = trial.suggest_loguniform('learning_rate', 1e-5, 1e-1)\n",
            "[I 2024-12-09 16:57:32,521] Trial 36 finished with value: 0.5025125628140703 and parameters: {'embedding_dim': 50, 'hidden_dim': 32, 'dropout1': 0.23363201621752172, 'dropout2': 0.36091641220691845, 'learning_rate': 1.6041455503303117e-05}. Best is trial 17 with value: 0.5125628140703518.\n",
            "<ipython-input-47-e72ae58e0ccb>:31: FutureWarning: suggest_int() got {'step'} as positional arguments but they were expected to be given as keyword arguments.\n",
            "  embedding_dim = trial.suggest_int('embedding_dim', 50,100,200)\n",
            "/usr/local/lib/python3.10/dist-packages/optuna/distributions.py:708: UserWarning: The distribution is specified by [50, 100] and step=200, but the range is not divisible by `step`. It will be replaced by [50, 50].\n",
            "  warnings.warn(\n",
            "<ipython-input-47-e72ae58e0ccb>:32: FutureWarning: suggest_int() got {'step'} as positional arguments but they were expected to be given as keyword arguments.\n",
            "  hidden_dim = trial.suggest_int('hidden_dim', 32, 128, 64)\n",
            "/usr/local/lib/python3.10/dist-packages/optuna/distributions.py:708: UserWarning: The distribution is specified by [32, 128] and step=64, but the range is not divisible by `step`. It will be replaced by [32, 96].\n",
            "  warnings.warn(\n",
            "<ipython-input-47-e72ae58e0ccb>:35: FutureWarning: suggest_loguniform has been deprecated in v3.0.0. This feature will be removed in v6.0.0. See https://github.com/optuna/optuna/releases/tag/v3.0.0. Use suggest_float(..., log=True) instead.\n",
            "  learning_rate = trial.suggest_loguniform('learning_rate', 1e-5, 1e-1)\n",
            "[I 2024-12-09 16:57:41,269] Trial 37 finished with value: 0.507537688442211 and parameters: {'embedding_dim': 50, 'hidden_dim': 32, 'dropout1': 0.3477352684652691, 'dropout2': 0.15692109113040775, 'learning_rate': 3.825842136567798e-05}. Best is trial 17 with value: 0.5125628140703518.\n",
            "<ipython-input-47-e72ae58e0ccb>:31: FutureWarning: suggest_int() got {'step'} as positional arguments but they were expected to be given as keyword arguments.\n",
            "  embedding_dim = trial.suggest_int('embedding_dim', 50,100,200)\n",
            "/usr/local/lib/python3.10/dist-packages/optuna/distributions.py:708: UserWarning: The distribution is specified by [50, 100] and step=200, but the range is not divisible by `step`. It will be replaced by [50, 50].\n",
            "  warnings.warn(\n",
            "<ipython-input-47-e72ae58e0ccb>:32: FutureWarning: suggest_int() got {'step'} as positional arguments but they were expected to be given as keyword arguments.\n",
            "  hidden_dim = trial.suggest_int('hidden_dim', 32, 128, 64)\n",
            "/usr/local/lib/python3.10/dist-packages/optuna/distributions.py:708: UserWarning: The distribution is specified by [32, 128] and step=64, but the range is not divisible by `step`. It will be replaced by [32, 96].\n",
            "  warnings.warn(\n",
            "<ipython-input-47-e72ae58e0ccb>:35: FutureWarning: suggest_loguniform has been deprecated in v3.0.0. This feature will be removed in v6.0.0. See https://github.com/optuna/optuna/releases/tag/v3.0.0. Use suggest_float(..., log=True) instead.\n",
            "  learning_rate = trial.suggest_loguniform('learning_rate', 1e-5, 1e-1)\n",
            "[I 2024-12-09 16:57:49,280] Trial 38 finished with value: 0.507537688442211 and parameters: {'embedding_dim': 50, 'hidden_dim': 32, 'dropout1': 0.2642079380819804, 'dropout2': 0.4461708851408247, 'learning_rate': 7.192982682294725e-05}. Best is trial 17 with value: 0.5125628140703518.\n",
            "<ipython-input-47-e72ae58e0ccb>:31: FutureWarning: suggest_int() got {'step'} as positional arguments but they were expected to be given as keyword arguments.\n",
            "  embedding_dim = trial.suggest_int('embedding_dim', 50,100,200)\n",
            "/usr/local/lib/python3.10/dist-packages/optuna/distributions.py:708: UserWarning: The distribution is specified by [50, 100] and step=200, but the range is not divisible by `step`. It will be replaced by [50, 50].\n",
            "  warnings.warn(\n",
            "<ipython-input-47-e72ae58e0ccb>:32: FutureWarning: suggest_int() got {'step'} as positional arguments but they were expected to be given as keyword arguments.\n",
            "  hidden_dim = trial.suggest_int('hidden_dim', 32, 128, 64)\n",
            "/usr/local/lib/python3.10/dist-packages/optuna/distributions.py:708: UserWarning: The distribution is specified by [32, 128] and step=64, but the range is not divisible by `step`. It will be replaced by [32, 96].\n",
            "  warnings.warn(\n",
            "<ipython-input-47-e72ae58e0ccb>:35: FutureWarning: suggest_loguniform has been deprecated in v3.0.0. This feature will be removed in v6.0.0. See https://github.com/optuna/optuna/releases/tag/v3.0.0. Use suggest_float(..., log=True) instead.\n",
            "  learning_rate = trial.suggest_loguniform('learning_rate', 1e-5, 1e-1)\n",
            "[I 2024-12-09 16:57:57,127] Trial 39 finished with value: 0.6570351758793971 and parameters: {'embedding_dim': 50, 'hidden_dim': 32, 'dropout1': 0.3029010263810406, 'dropout2': 0.1179074413967553, 'learning_rate': 0.00019422545600099826}. Best is trial 39 with value: 0.6570351758793971.\n",
            "<ipython-input-47-e72ae58e0ccb>:31: FutureWarning: suggest_int() got {'step'} as positional arguments but they were expected to be given as keyword arguments.\n",
            "  embedding_dim = trial.suggest_int('embedding_dim', 50,100,200)\n",
            "/usr/local/lib/python3.10/dist-packages/optuna/distributions.py:708: UserWarning: The distribution is specified by [50, 100] and step=200, but the range is not divisible by `step`. It will be replaced by [50, 50].\n",
            "  warnings.warn(\n",
            "<ipython-input-47-e72ae58e0ccb>:32: FutureWarning: suggest_int() got {'step'} as positional arguments but they were expected to be given as keyword arguments.\n",
            "  hidden_dim = trial.suggest_int('hidden_dim', 32, 128, 64)\n",
            "/usr/local/lib/python3.10/dist-packages/optuna/distributions.py:708: UserWarning: The distribution is specified by [32, 128] and step=64, but the range is not divisible by `step`. It will be replaced by [32, 96].\n",
            "  warnings.warn(\n",
            "<ipython-input-47-e72ae58e0ccb>:35: FutureWarning: suggest_loguniform has been deprecated in v3.0.0. This feature will be removed in v6.0.0. See https://github.com/optuna/optuna/releases/tag/v3.0.0. Use suggest_float(..., log=True) instead.\n",
            "  learning_rate = trial.suggest_loguniform('learning_rate', 1e-5, 1e-1)\n",
            "[I 2024-12-09 16:58:05,990] Trial 40 finished with value: 0.4949748743718593 and parameters: {'embedding_dim': 50, 'hidden_dim': 32, 'dropout1': 0.21799720526062344, 'dropout2': 0.12123736866638751, 'learning_rate': 0.001851322422861438}. Best is trial 39 with value: 0.6570351758793971.\n",
            "<ipython-input-47-e72ae58e0ccb>:31: FutureWarning: suggest_int() got {'step'} as positional arguments but they were expected to be given as keyword arguments.\n",
            "  embedding_dim = trial.suggest_int('embedding_dim', 50,100,200)\n",
            "/usr/local/lib/python3.10/dist-packages/optuna/distributions.py:708: UserWarning: The distribution is specified by [50, 100] and step=200, but the range is not divisible by `step`. It will be replaced by [50, 50].\n",
            "  warnings.warn(\n",
            "<ipython-input-47-e72ae58e0ccb>:32: FutureWarning: suggest_int() got {'step'} as positional arguments but they were expected to be given as keyword arguments.\n",
            "  hidden_dim = trial.suggest_int('hidden_dim', 32, 128, 64)\n",
            "/usr/local/lib/python3.10/dist-packages/optuna/distributions.py:708: UserWarning: The distribution is specified by [32, 128] and step=64, but the range is not divisible by `step`. It will be replaced by [32, 96].\n",
            "  warnings.warn(\n",
            "<ipython-input-47-e72ae58e0ccb>:35: FutureWarning: suggest_loguniform has been deprecated in v3.0.0. This feature will be removed in v6.0.0. See https://github.com/optuna/optuna/releases/tag/v3.0.0. Use suggest_float(..., log=True) instead.\n",
            "  learning_rate = trial.suggest_loguniform('learning_rate', 1e-5, 1e-1)\n",
            "[I 2024-12-09 16:58:13,512] Trial 41 finished with value: 0.5175879396984925 and parameters: {'embedding_dim': 50, 'hidden_dim': 32, 'dropout1': 0.30472059793581635, 'dropout2': 0.1876562572427748, 'learning_rate': 0.0001716564716138482}. Best is trial 39 with value: 0.6570351758793971.\n",
            "<ipython-input-47-e72ae58e0ccb>:31: FutureWarning: suggest_int() got {'step'} as positional arguments but they were expected to be given as keyword arguments.\n",
            "  embedding_dim = trial.suggest_int('embedding_dim', 50,100,200)\n",
            "/usr/local/lib/python3.10/dist-packages/optuna/distributions.py:708: UserWarning: The distribution is specified by [50, 100] and step=200, but the range is not divisible by `step`. It will be replaced by [50, 50].\n",
            "  warnings.warn(\n",
            "<ipython-input-47-e72ae58e0ccb>:32: FutureWarning: suggest_int() got {'step'} as positional arguments but they were expected to be given as keyword arguments.\n",
            "  hidden_dim = trial.suggest_int('hidden_dim', 32, 128, 64)\n",
            "/usr/local/lib/python3.10/dist-packages/optuna/distributions.py:708: UserWarning: The distribution is specified by [32, 128] and step=64, but the range is not divisible by `step`. It will be replaced by [32, 96].\n",
            "  warnings.warn(\n",
            "<ipython-input-47-e72ae58e0ccb>:35: FutureWarning: suggest_loguniform has been deprecated in v3.0.0. This feature will be removed in v6.0.0. See https://github.com/optuna/optuna/releases/tag/v3.0.0. Use suggest_float(..., log=True) instead.\n",
            "  learning_rate = trial.suggest_loguniform('learning_rate', 1e-5, 1e-1)\n",
            "[I 2024-12-09 16:58:22,432] Trial 42 finished with value: 0.49748743718592964 and parameters: {'embedding_dim': 50, 'hidden_dim': 32, 'dropout1': 0.2996436534222007, 'dropout2': 0.18818493277025267, 'learning_rate': 0.00017486171350594227}. Best is trial 39 with value: 0.6570351758793971.\n",
            "<ipython-input-47-e72ae58e0ccb>:31: FutureWarning: suggest_int() got {'step'} as positional arguments but they were expected to be given as keyword arguments.\n",
            "  embedding_dim = trial.suggest_int('embedding_dim', 50,100,200)\n",
            "/usr/local/lib/python3.10/dist-packages/optuna/distributions.py:708: UserWarning: The distribution is specified by [50, 100] and step=200, but the range is not divisible by `step`. It will be replaced by [50, 50].\n",
            "  warnings.warn(\n",
            "<ipython-input-47-e72ae58e0ccb>:32: FutureWarning: suggest_int() got {'step'} as positional arguments but they were expected to be given as keyword arguments.\n",
            "  hidden_dim = trial.suggest_int('hidden_dim', 32, 128, 64)\n",
            "/usr/local/lib/python3.10/dist-packages/optuna/distributions.py:708: UserWarning: The distribution is specified by [32, 128] and step=64, but the range is not divisible by `step`. It will be replaced by [32, 96].\n",
            "  warnings.warn(\n",
            "<ipython-input-47-e72ae58e0ccb>:35: FutureWarning: suggest_loguniform has been deprecated in v3.0.0. This feature will be removed in v6.0.0. See https://github.com/optuna/optuna/releases/tag/v3.0.0. Use suggest_float(..., log=True) instead.\n",
            "  learning_rate = trial.suggest_loguniform('learning_rate', 1e-5, 1e-1)\n",
            "[I 2024-12-09 16:58:30,682] Trial 43 finished with value: 0.4899497487437186 and parameters: {'embedding_dim': 50, 'hidden_dim': 32, 'dropout1': 0.27581775021454225, 'dropout2': 0.12020439754569442, 'learning_rate': 0.0006313514846077087}. Best is trial 39 with value: 0.6570351758793971.\n",
            "<ipython-input-47-e72ae58e0ccb>:31: FutureWarning: suggest_int() got {'step'} as positional arguments but they were expected to be given as keyword arguments.\n",
            "  embedding_dim = trial.suggest_int('embedding_dim', 50,100,200)\n",
            "/usr/local/lib/python3.10/dist-packages/optuna/distributions.py:708: UserWarning: The distribution is specified by [50, 100] and step=200, but the range is not divisible by `step`. It will be replaced by [50, 50].\n",
            "  warnings.warn(\n",
            "<ipython-input-47-e72ae58e0ccb>:32: FutureWarning: suggest_int() got {'step'} as positional arguments but they were expected to be given as keyword arguments.\n",
            "  hidden_dim = trial.suggest_int('hidden_dim', 32, 128, 64)\n",
            "/usr/local/lib/python3.10/dist-packages/optuna/distributions.py:708: UserWarning: The distribution is specified by [32, 128] and step=64, but the range is not divisible by `step`. It will be replaced by [32, 96].\n",
            "  warnings.warn(\n",
            "<ipython-input-47-e72ae58e0ccb>:35: FutureWarning: suggest_loguniform has been deprecated in v3.0.0. This feature will be removed in v6.0.0. See https://github.com/optuna/optuna/releases/tag/v3.0.0. Use suggest_float(..., log=True) instead.\n",
            "  learning_rate = trial.suggest_loguniform('learning_rate', 1e-5, 1e-1)\n",
            "[I 2024-12-09 16:58:38,779] Trial 44 finished with value: 0.48743718592964824 and parameters: {'embedding_dim': 50, 'hidden_dim': 32, 'dropout1': 0.38907257616886265, 'dropout2': 0.1496747134817082, 'learning_rate': 0.00022203722313725223}. Best is trial 39 with value: 0.6570351758793971.\n",
            "<ipython-input-47-e72ae58e0ccb>:31: FutureWarning: suggest_int() got {'step'} as positional arguments but they were expected to be given as keyword arguments.\n",
            "  embedding_dim = trial.suggest_int('embedding_dim', 50,100,200)\n",
            "/usr/local/lib/python3.10/dist-packages/optuna/distributions.py:708: UserWarning: The distribution is specified by [50, 100] and step=200, but the range is not divisible by `step`. It will be replaced by [50, 50].\n",
            "  warnings.warn(\n",
            "<ipython-input-47-e72ae58e0ccb>:32: FutureWarning: suggest_int() got {'step'} as positional arguments but they were expected to be given as keyword arguments.\n",
            "  hidden_dim = trial.suggest_int('hidden_dim', 32, 128, 64)\n",
            "/usr/local/lib/python3.10/dist-packages/optuna/distributions.py:708: UserWarning: The distribution is specified by [32, 128] and step=64, but the range is not divisible by `step`. It will be replaced by [32, 96].\n",
            "  warnings.warn(\n",
            "<ipython-input-47-e72ae58e0ccb>:35: FutureWarning: suggest_loguniform has been deprecated in v3.0.0. This feature will be removed in v6.0.0. See https://github.com/optuna/optuna/releases/tag/v3.0.0. Use suggest_float(..., log=True) instead.\n",
            "  learning_rate = trial.suggest_loguniform('learning_rate', 1e-5, 1e-1)\n",
            "[I 2024-12-09 16:58:48,345] Trial 45 finished with value: 0.5025125628140703 and parameters: {'embedding_dim': 50, 'hidden_dim': 32, 'dropout1': 0.2434076081722131, 'dropout2': 0.11566525707714344, 'learning_rate': 5.6568986262655805e-05}. Best is trial 39 with value: 0.6570351758793971.\n",
            "<ipython-input-47-e72ae58e0ccb>:31: FutureWarning: suggest_int() got {'step'} as positional arguments but they were expected to be given as keyword arguments.\n",
            "  embedding_dim = trial.suggest_int('embedding_dim', 50,100,200)\n",
            "/usr/local/lib/python3.10/dist-packages/optuna/distributions.py:708: UserWarning: The distribution is specified by [50, 100] and step=200, but the range is not divisible by `step`. It will be replaced by [50, 50].\n",
            "  warnings.warn(\n",
            "<ipython-input-47-e72ae58e0ccb>:32: FutureWarning: suggest_int() got {'step'} as positional arguments but they were expected to be given as keyword arguments.\n",
            "  hidden_dim = trial.suggest_int('hidden_dim', 32, 128, 64)\n",
            "/usr/local/lib/python3.10/dist-packages/optuna/distributions.py:708: UserWarning: The distribution is specified by [32, 128] and step=64, but the range is not divisible by `step`. It will be replaced by [32, 96].\n",
            "  warnings.warn(\n",
            "<ipython-input-47-e72ae58e0ccb>:35: FutureWarning: suggest_loguniform has been deprecated in v3.0.0. This feature will be removed in v6.0.0. See https://github.com/optuna/optuna/releases/tag/v3.0.0. Use suggest_float(..., log=True) instead.\n",
            "  learning_rate = trial.suggest_loguniform('learning_rate', 1e-5, 1e-1)\n",
            "[I 2024-12-09 16:58:56,292] Trial 46 finished with value: 0.49748743718592964 and parameters: {'embedding_dim': 50, 'hidden_dim': 32, 'dropout1': 0.30987869392293355, 'dropout2': 0.1605986161586223, 'learning_rate': 0.005700873249958631}. Best is trial 39 with value: 0.6570351758793971.\n",
            "<ipython-input-47-e72ae58e0ccb>:31: FutureWarning: suggest_int() got {'step'} as positional arguments but they were expected to be given as keyword arguments.\n",
            "  embedding_dim = trial.suggest_int('embedding_dim', 50,100,200)\n",
            "/usr/local/lib/python3.10/dist-packages/optuna/distributions.py:708: UserWarning: The distribution is specified by [50, 100] and step=200, but the range is not divisible by `step`. It will be replaced by [50, 50].\n",
            "  warnings.warn(\n",
            "<ipython-input-47-e72ae58e0ccb>:32: FutureWarning: suggest_int() got {'step'} as positional arguments but they were expected to be given as keyword arguments.\n",
            "  hidden_dim = trial.suggest_int('hidden_dim', 32, 128, 64)\n",
            "/usr/local/lib/python3.10/dist-packages/optuna/distributions.py:708: UserWarning: The distribution is specified by [32, 128] and step=64, but the range is not divisible by `step`. It will be replaced by [32, 96].\n",
            "  warnings.warn(\n",
            "<ipython-input-47-e72ae58e0ccb>:35: FutureWarning: suggest_loguniform has been deprecated in v3.0.0. This feature will be removed in v6.0.0. See https://github.com/optuna/optuna/releases/tag/v3.0.0. Use suggest_float(..., log=True) instead.\n",
            "  learning_rate = trial.suggest_loguniform('learning_rate', 1e-5, 1e-1)\n",
            "[I 2024-12-09 16:59:05,012] Trial 47 finished with value: 0.4208542713567839 and parameters: {'embedding_dim': 50, 'hidden_dim': 32, 'dropout1': 0.35752305178532806, 'dropout2': 0.13923980564424382, 'learning_rate': 3.0304638224911075e-05}. Best is trial 39 with value: 0.6570351758793971.\n",
            "<ipython-input-47-e72ae58e0ccb>:31: FutureWarning: suggest_int() got {'step'} as positional arguments but they were expected to be given as keyword arguments.\n",
            "  embedding_dim = trial.suggest_int('embedding_dim', 50,100,200)\n",
            "/usr/local/lib/python3.10/dist-packages/optuna/distributions.py:708: UserWarning: The distribution is specified by [50, 100] and step=200, but the range is not divisible by `step`. It will be replaced by [50, 50].\n",
            "  warnings.warn(\n",
            "<ipython-input-47-e72ae58e0ccb>:32: FutureWarning: suggest_int() got {'step'} as positional arguments but they were expected to be given as keyword arguments.\n",
            "  hidden_dim = trial.suggest_int('hidden_dim', 32, 128, 64)\n",
            "/usr/local/lib/python3.10/dist-packages/optuna/distributions.py:708: UserWarning: The distribution is specified by [32, 128] and step=64, but the range is not divisible by `step`. It will be replaced by [32, 96].\n",
            "  warnings.warn(\n",
            "<ipython-input-47-e72ae58e0ccb>:35: FutureWarning: suggest_loguniform has been deprecated in v3.0.0. This feature will be removed in v6.0.0. See https://github.com/optuna/optuna/releases/tag/v3.0.0. Use suggest_float(..., log=True) instead.\n",
            "  learning_rate = trial.suggest_loguniform('learning_rate', 1e-5, 1e-1)\n",
            "[I 2024-12-09 16:59:29,539] Trial 48 finished with value: 0.4949748743718593 and parameters: {'embedding_dim': 50, 'hidden_dim': 96, 'dropout1': 0.25688009566853903, 'dropout2': 0.10193613248116001, 'learning_rate': 0.0003262051563737872}. Best is trial 39 with value: 0.6570351758793971.\n",
            "<ipython-input-47-e72ae58e0ccb>:31: FutureWarning: suggest_int() got {'step'} as positional arguments but they were expected to be given as keyword arguments.\n",
            "  embedding_dim = trial.suggest_int('embedding_dim', 50,100,200)\n",
            "/usr/local/lib/python3.10/dist-packages/optuna/distributions.py:708: UserWarning: The distribution is specified by [50, 100] and step=200, but the range is not divisible by `step`. It will be replaced by [50, 50].\n",
            "  warnings.warn(\n",
            "<ipython-input-47-e72ae58e0ccb>:32: FutureWarning: suggest_int() got {'step'} as positional arguments but they were expected to be given as keyword arguments.\n",
            "  hidden_dim = trial.suggest_int('hidden_dim', 32, 128, 64)\n",
            "/usr/local/lib/python3.10/dist-packages/optuna/distributions.py:708: UserWarning: The distribution is specified by [32, 128] and step=64, but the range is not divisible by `step`. It will be replaced by [32, 96].\n",
            "  warnings.warn(\n",
            "<ipython-input-47-e72ae58e0ccb>:35: FutureWarning: suggest_loguniform has been deprecated in v3.0.0. This feature will be removed in v6.0.0. See https://github.com/optuna/optuna/releases/tag/v3.0.0. Use suggest_float(..., log=True) instead.\n",
            "  learning_rate = trial.suggest_loguniform('learning_rate', 1e-5, 1e-1)\n",
            "[I 2024-12-09 16:59:37,309] Trial 49 finished with value: 0.47738693467336685 and parameters: {'embedding_dim': 50, 'hidden_dim': 32, 'dropout1': 0.3232688999400204, 'dropout2': 0.18547625828564832, 'learning_rate': 0.0001287947822405347}. Best is trial 39 with value: 0.6570351758793971.\n"
          ]
        },
        {
          "output_type": "stream",
          "name": "stdout",
          "text": [
            "Best hyperparameters:  {'embedding_dim': 50, 'hidden_dim': 32, 'dropout1': 0.3029010263810406, 'dropout2': 0.1179074413967553, 'learning_rate': 0.00019422545600099826}\n",
            "Best ROC AUC:  0.6570351758793971\n"
          ]
        }
      ]
    },
    {
      "cell_type": "markdown",
      "source": [
        "Добавлены batchnorm-слои и изменены значения гиперпараметров"
      ],
      "metadata": {
        "id": "ccLEr9707JWH"
      }
    },
    {
      "cell_type": "code",
      "source": [
        "import torch\n",
        "import torch.nn as nn\n",
        "import torch.optim as optim\n",
        "import matplotlib.pyplot as plt\n",
        "from sklearn import metrics\n",
        "\n",
        "class MovieRatingModel(nn.Module):\n",
        "    def __init__(self, vocab_size, embedding_dim, hidden_dim):\n",
        "        super(MovieRatingModel, self).__init__()\n",
        "        self.embedding = nn.Embedding(vocab_size, embedding_dim)\n",
        "        self.lstm = nn.LSTM(embedding_dim, hidden_dim, batch_first=True)\n",
        "        self.fc1 = nn.Linear(hidden_dim, hidden_dim // 2)\n",
        "        self.batchnorm1 = nn.BatchNorm1d(hidden_dim // 2)  # BatchNorm для первого скрытого слоя\n",
        "        self.dropout1 = nn.Dropout(0.3)\n",
        "        self.fc2 = nn.Linear(hidden_dim // 2, 1)\n",
        "        self.dropout2 = nn.Dropout(0.1)\n",
        "\n",
        "    def forward(self, x):\n",
        "        x = self.embedding(x)\n",
        "        x, (hn, cn) = self.lstm(x)\n",
        "        x = hn[-1]\n",
        "        x = self.fc1(x)\n",
        "        x = self.batchnorm1(x)  # Применяем BatchNorm\n",
        "        x = nn.ReLU()(x)\n",
        "        x = self.dropout1(x)\n",
        "        x = self.fc2(x)\n",
        "        x = self.dropout2(x)\n",
        "        return x\n",
        "\n",
        "\n",
        "# Инициализация модели\n",
        "embedding_dim = 50\n",
        "hidden_dim = 32\n",
        "model = MovieRatingModel(vocab_size, embedding_dim, hidden_dim)"
      ],
      "metadata": {
        "id": "Yfbd-8YB5G25"
      },
      "execution_count": 104,
      "outputs": []
    },
    {
      "cell_type": "code",
      "source": [
        "# Параметры обучения\n",
        "num_epochs = 20\n",
        "batch_size = 32\n",
        "learning_rate = 0.001\n",
        "\n",
        "train_losses = []\n",
        "test_losses = []\n",
        "\n",
        "# Оптимизатор и функция потерь\n",
        "criterion = nn.BCEWithLogitsLoss()\n",
        "optimizer = optim.Adam(model.parameters(), lr=learning_rate)\n",
        "\n",
        "# Переводим данные в тензоры\n",
        "X_train_tensor = torch.tensor(X_train_padded).long()\n",
        "y_train_tensor = torch.tensor(y_train.values).float().view(-1, 1)\n",
        "X_test_tensor = torch.tensor(X_test_padded).long()\n",
        "y_test_tensor = torch.tensor(y_test.values).float().view(-1, 1)\n",
        "\n",
        "\n",
        "for epoch in range(num_epochs):\n",
        "    model.train()\n",
        "    optimizer.zero_grad()\n",
        "\n",
        "\n",
        "    outputs = model(X_train_tensor)\n",
        "    loss = criterion(outputs, y_train_tensor)\n",
        "    loss.backward()\n",
        "    optimizer.step()\n",
        "\n",
        "    train_losses.append(loss.item())\n",
        "\n",
        "    print(f'Epoch {epoch + 1}/{num_epochs}, Loss: {loss.item()}')\n",
        "\n",
        "    # Оценка на тестовой выборке\n",
        "    model.eval()\n",
        "    with torch.no_grad():\n",
        "        test_outputs = model(X_test_tensor)\n",
        "        test_loss = criterion(test_outputs, y_test_tensor)\n",
        "        test_losses.append(test_loss.item())\n",
        "\n",
        "# Вычисление ROC AUC\n",
        "y_train_pred_prob = torch.sigmoid(outputs).detach().numpy()\n",
        "y_test_pred_prob = torch.sigmoid(test_outputs).detach().numpy()\n",
        "\n",
        "# Преобразование в одномерные массивы\n",
        "y_train_true = y_train_tensor.numpy().flatten()\n",
        "y_test_true = y_test_tensor.numpy().flatten()\n",
        "\n",
        "# Преобразование y_train_true и y_test_true в двоичные метки (0 или 1)\n",
        "y_train_true_binary = (y_train_true > 0.5).astype(int)\n",
        "y_test_true_binary = (y_test_true > 0.5).astype(int)\n",
        "\n",
        "roc_auc_train = metrics.roc_auc_score(y_train_true_binary, y_train_pred_prob)\n",
        "roc_auc_test = metrics.roc_auc_score(y_test_true_binary, y_test_pred_prob)\n",
        "\n",
        "print(f'ROC AUC Train: {roc_auc_train}, ROC AUC Test: {roc_auc_test}')\n",
        "\n",
        "\n",
        "plt.figure(figsize=(12, 5))\n",
        "\n",
        "# График потерь\n",
        "plt.subplot(1, 2, 1)\n",
        "plt.plot(range(1, num_epochs + 1), train_losses, label='Train Loss')\n",
        "plt.plot(range(1, num_epochs + 1), test_losses, label='Test Loss')\n",
        "plt.title('Loss')\n",
        "plt.xlabel('Epochs')\n",
        "plt.ylabel('Loss')\n",
        "plt.legend()\n",
        "\n",
        "# График ROC AUC\n",
        "plt.subplot(1, 2, 2)\n",
        "plt.bar(['Train', 'Test'], [roc_auc_train, roc_auc_test])\n",
        "plt.title('ROC AUC')\n",
        "plt.ylabel('ROC AUC Score')\n",
        "\n",
        "plt.tight_layout()\n",
        "plt.show()\n"
      ],
      "metadata": {
        "colab": {
          "base_uri": "https://localhost:8080/",
          "height": 872
        },
        "id": "G9f2tqD54o8P",
        "outputId": "1b705e3e-df27-43cb-a776-b2a513d0f610"
      },
      "execution_count": 105,
      "outputs": [
        {
          "output_type": "stream",
          "name": "stdout",
          "text": [
            "Epoch 1/20, Loss: -0.34716519713401794\n",
            "Epoch 2/20, Loss: -0.4526704251766205\n",
            "Epoch 3/20, Loss: -0.5393024682998657\n",
            "Epoch 4/20, Loss: -0.600093424320221\n",
            "Epoch 5/20, Loss: -0.668388307094574\n",
            "Epoch 6/20, Loss: -0.5476314425468445\n",
            "Epoch 7/20, Loss: -0.5438875555992126\n",
            "Epoch 8/20, Loss: -0.6037839651107788\n",
            "Epoch 9/20, Loss: -0.5313742160797119\n",
            "Epoch 10/20, Loss: -0.6160589456558228\n",
            "Epoch 11/20, Loss: -0.6155434846878052\n",
            "Epoch 12/20, Loss: -0.5781903266906738\n",
            "Epoch 13/20, Loss: -0.649728000164032\n",
            "Epoch 14/20, Loss: -0.6807126998901367\n",
            "Epoch 15/20, Loss: -0.812576949596405\n",
            "Epoch 16/20, Loss: -0.7718575596809387\n",
            "Epoch 17/20, Loss: -0.7064908146858215\n",
            "Epoch 18/20, Loss: -0.8071849346160889\n",
            "Epoch 19/20, Loss: -0.7960570454597473\n",
            "Epoch 20/20, Loss: -0.7100821137428284\n",
            "ROC AUC Train: 0.7156641604010024, ROC AUC Test: 0.5301507537688442\n"
          ]
        },
        {
          "output_type": "display_data",
          "data": {
            "text/plain": [
              "<Figure size 1200x500 with 2 Axes>"
            ],
            "image/png": "[encoded data removed]"
          },
          "metadata": {}
        }
      ]
    },
    {
      "cell_type": "markdown",
      "source": [
        "Несмотря на то, то результат достаточно нехороший (почти рандомный  - 0.5), это пока что лучшее, что вышло"
      ],
      "metadata": {
        "id": "o4YDcXgYDO8y"
      }
    },
    {
      "cell_type": "code",
      "source": [
        "import torch\n",
        "import torch.nn as nn\n",
        "import torch.optim as optim\n",
        "from sklearn.model_selection import ParameterGrid\n",
        "from sklearn import metrics\n",
        "import numpy as np\n",
        "\n",
        "\n",
        "class MovieRatingModel(nn.Module):\n",
        "    def __init__(self, vocab_size, embedding_dim, hidden_dim, dropout1, dropout2):\n",
        "        super(MovieRatingModel, self).__init__()\n",
        "        self.embedding = nn.Embedding(vocab_size, embedding_dim)\n",
        "        self.lstm = nn.LSTM(embedding_dim, hidden_dim, batch_first=True)\n",
        "        self.fc1 = nn.Linear(hidden_dim, hidden_dim // 2)\n",
        "        self.batchnorm1 = nn.BatchNorm1d(hidden_dim // 2)\n",
        "        self.dropout1 = nn.Dropout(dropout1)\n",
        "        self.fc2 = nn.Linear(hidden_dim // 2, 1)\n",
        "        self.dropout2 = nn.Dropout(dropout2)\n",
        "\n",
        "    def forward(self, x):\n",
        "        x = self.embedding(x)\n",
        "        x, (hn, cn) = self.lstm(x)\n",
        "        x = hn[-1]\n",
        "        x = self.fc1(x)\n",
        "        x = self.batchnorm1(x)\n",
        "        x = nn.ReLU()(x)\n",
        "        x = self.dropout1(x)\n",
        "        x = self.fc2(x)\n",
        "        x = self.dropout2(x)\n",
        "        return x\n",
        "\n",
        "# Функция для оценки модели\n",
        "def evaluate_model(model, criterion, optimizer, X_train_tensor, y_train_tensor, X_val_tensor, y_val_tensor, num_epochs=10):\n",
        "    train_losses = []\n",
        "    val_losses = []\n",
        "    roc_auc_train = []\n",
        "    roc_auc_val = []\n",
        "\n",
        "    for epoch in range(num_epochs):\n",
        "        model.train()\n",
        "        optimizer.zero_grad()\n",
        "\n",
        "        # Обучение\n",
        "        outputs = model(X_train_tensor)\n",
        "        loss = criterion(outputs, y_train_tensor)\n",
        "        loss.backward()\n",
        "        optimizer.step()\n",
        "\n",
        "        train_losses.append(loss.item())\n",
        "\n",
        "        # Валидация\n",
        "        model.eval()\n",
        "        with torch.no_grad():\n",
        "            val_outputs = model(X_test_tensor)\n",
        "            val_loss = criterion(val_outputs, y_test_tensor)\n",
        "            val_losses.append(val_loss.item())\n",
        "\n",
        "            # ROC AUC\n",
        "            y_train_pred_prob = torch.sigmoid(outputs).detach().numpy()\n",
        "            y_val_pred_prob = torch.sigmoid(val_outputs).detach().numpy()\n",
        "\n",
        "            # Преобразуем в одномерные массивы\n",
        "            y_train_true = y_train_tensor.numpy().flatten()\n",
        "            y_val_true = y_val_tensor.numpy().flatten()\n",
        "\n",
        "            # Преобразование y_train_true и y_test_true в двоичные метки (0 или 1)\n",
        "            y_train_true_binary = (y_train_true > 0.5).astype(int)\n",
        "            y_test_true_binary = (y_test_true > 0.5).astype(int)\n",
        "\n",
        "            roc_auc_train.append(metrics.roc_auc_score(y_train_true_binary, y_train_pred_prob))\n",
        "            roc_auc_val.append(metrics.roc_auc_score(y_test_true_binary, y_test_pred_prob))\n",
        "\n",
        "\n",
        "    return train_losses, val_losses, roc_auc_train, roc_auc_val\n",
        "\n",
        "# Перебор гиперпараметров с помощью Random Search\n",
        "param_grid = {\n",
        "    'embedding_dim': [50, 100, 200],\n",
        "    'hidden_dim': [32, 64, 128],\n",
        "    'dropout1': [0.3, 0.5],\n",
        "    'dropout2': [0.1, 0.3],\n",
        "    #'learning_rate': [0.001, 0.0005, 0.0001]\n",
        "}\n",
        "\n",
        "# Функция для выполнения random search\n",
        "best_roc_auc_val = 0\n",
        "best_params = None\n",
        "\n",
        "for params in ParameterGrid(param_grid):\n",
        "    print(f\"Training with parameters: {params}\")\n",
        "\n",
        "    # Инициализация модели\n",
        "    model = MovieRatingModel(vocab_size, **params)\n",
        "    criterion = nn.BCEWithLogitsLoss()\n",
        "    optimizer = optim.Adam(model.parameters(), lr=learning_rate, weight_decay=1e-5)\n",
        "\n",
        "\n",
        "    train_losses, val_losses, roc_auc_train, roc_auc_val = evaluate_model(\n",
        "        model, criterion, optimizer, X_train_tensor, y_train_tensor, X_test_tensor, y_test_tensor, num_epochs=20\n",
        "    )\n",
        "\n",
        "    # Сохраняем наилучшие гиперпараметры по ROC AUC на валидационной выборке\n",
        "    if roc_auc_val[-1] > best_roc_auc_val:\n",
        "        best_roc_auc_val = roc_auc_val[-1]\n",
        "        best_params = params\n",
        "\n",
        "print(f\"Best hyperparameters: {best_params}\")\n"
      ],
      "metadata": {
        "colab": {
          "base_uri": "https://localhost:8080/"
        },
        "id": "czTMBEzEFhgP",
        "outputId": "720d1104-160c-4f14-e7c1-e5efe2a9369e"
      },
      "execution_count": 122,
      "outputs": [
        {
          "output_type": "stream",
          "name": "stdout",
          "text": [
            "Training with parameters: {'dropout1': 0.3, 'dropout2': 0.1, 'embedding_dim': 50, 'hidden_dim': 32}\n",
            "Training with parameters: {'dropout1': 0.3, 'dropout2': 0.1, 'embedding_dim': 50, 'hidden_dim': 64}\n",
            "Training with parameters: {'dropout1': 0.3, 'dropout2': 0.1, 'embedding_dim': 50, 'hidden_dim': 128}\n",
            "Training with parameters: {'dropout1': 0.3, 'dropout2': 0.1, 'embedding_dim': 100, 'hidden_dim': 32}\n",
            "Training with parameters: {'dropout1': 0.3, 'dropout2': 0.1, 'embedding_dim': 100, 'hidden_dim': 64}\n",
            "Training with parameters: {'dropout1': 0.3, 'dropout2': 0.1, 'embedding_dim': 100, 'hidden_dim': 128}\n",
            "Training with parameters: {'dropout1': 0.3, 'dropout2': 0.1, 'embedding_dim': 200, 'hidden_dim': 32}\n",
            "Training with parameters: {'dropout1': 0.3, 'dropout2': 0.1, 'embedding_dim': 200, 'hidden_dim': 64}\n",
            "Training with parameters: {'dropout1': 0.3, 'dropout2': 0.1, 'embedding_dim': 200, 'hidden_dim': 128}\n",
            "Training with parameters: {'dropout1': 0.3, 'dropout2': 0.3, 'embedding_dim': 50, 'hidden_dim': 32}\n",
            "Training with parameters: {'dropout1': 0.3, 'dropout2': 0.3, 'embedding_dim': 50, 'hidden_dim': 64}\n",
            "Training with parameters: {'dropout1': 0.3, 'dropout2': 0.3, 'embedding_dim': 50, 'hidden_dim': 128}\n",
            "Training with parameters: {'dropout1': 0.3, 'dropout2': 0.3, 'embedding_dim': 100, 'hidden_dim': 32}\n",
            "Training with parameters: {'dropout1': 0.3, 'dropout2': 0.3, 'embedding_dim': 100, 'hidden_dim': 64}\n",
            "Training with parameters: {'dropout1': 0.3, 'dropout2': 0.3, 'embedding_dim': 100, 'hidden_dim': 128}\n",
            "Training with parameters: {'dropout1': 0.3, 'dropout2': 0.3, 'embedding_dim': 200, 'hidden_dim': 32}\n",
            "Training with parameters: {'dropout1': 0.3, 'dropout2': 0.3, 'embedding_dim': 200, 'hidden_dim': 64}\n",
            "Training with parameters: {'dropout1': 0.3, 'dropout2': 0.3, 'embedding_dim': 200, 'hidden_dim': 128}\n",
            "Training with parameters: {'dropout1': 0.5, 'dropout2': 0.1, 'embedding_dim': 50, 'hidden_dim': 32}\n",
            "Training with parameters: {'dropout1': 0.5, 'dropout2': 0.1, 'embedding_dim': 50, 'hidden_dim': 64}\n",
            "Training with parameters: {'dropout1': 0.5, 'dropout2': 0.1, 'embedding_dim': 50, 'hidden_dim': 128}\n",
            "Training with parameters: {'dropout1': 0.5, 'dropout2': 0.1, 'embedding_dim': 100, 'hidden_dim': 32}\n",
            "Training with parameters: {'dropout1': 0.5, 'dropout2': 0.1, 'embedding_dim': 100, 'hidden_dim': 64}\n",
            "Training with parameters: {'dropout1': 0.5, 'dropout2': 0.1, 'embedding_dim': 100, 'hidden_dim': 128}\n",
            "Training with parameters: {'dropout1': 0.5, 'dropout2': 0.1, 'embedding_dim': 200, 'hidden_dim': 32}\n",
            "Training with parameters: {'dropout1': 0.5, 'dropout2': 0.1, 'embedding_dim': 200, 'hidden_dim': 64}\n",
            "Training with parameters: {'dropout1': 0.5, 'dropout2': 0.1, 'embedding_dim': 200, 'hidden_dim': 128}\n",
            "Training with parameters: {'dropout1': 0.5, 'dropout2': 0.3, 'embedding_dim': 50, 'hidden_dim': 32}\n",
            "Training with parameters: {'dropout1': 0.5, 'dropout2': 0.3, 'embedding_dim': 50, 'hidden_dim': 64}\n",
            "Training with parameters: {'dropout1': 0.5, 'dropout2': 0.3, 'embedding_dim': 50, 'hidden_dim': 128}\n",
            "Training with parameters: {'dropout1': 0.5, 'dropout2': 0.3, 'embedding_dim': 100, 'hidden_dim': 32}\n",
            "Training with parameters: {'dropout1': 0.5, 'dropout2': 0.3, 'embedding_dim': 100, 'hidden_dim': 64}\n",
            "Training with parameters: {'dropout1': 0.5, 'dropout2': 0.3, 'embedding_dim': 100, 'hidden_dim': 128}\n",
            "Training with parameters: {'dropout1': 0.5, 'dropout2': 0.3, 'embedding_dim': 200, 'hidden_dim': 32}\n",
            "Training with parameters: {'dropout1': 0.5, 'dropout2': 0.3, 'embedding_dim': 200, 'hidden_dim': 64}\n",
            "Training with parameters: {'dropout1': 0.5, 'dropout2': 0.3, 'embedding_dim': 200, 'hidden_dim': 128}\n",
            "Best hyperparameters: {'dropout1': 0.3, 'dropout2': 0.1, 'embedding_dim': 50, 'hidden_dim': 32}\n"
          ]
        }
      ]
    },
    {
      "cell_type": "markdown",
      "source": [
        "В подтверждении к тому, что было написано выше"
      ],
      "metadata": {
        "id": "38ZHQpPLOT79"
      }
    },
    {
      "cell_type": "markdown",
      "source": [
        "Итого: не вышло получить хороший результат работы модели, хотя текст был качественнно предобработан и сама модель по-разному оптимизировалась (совсем плохие результаты не стала оставлять в блокноте).\n",
        "\n",
        "Мне кажется, это в том числе может быть связано с самой задачей. Несмотря на то, что языковые модели хорошо справляются с задачей регресии, конкретно моя формулировка и интерпретация задачи могла оказаться не очень удачной: одно дело давай оценки по отзывам, и другое, как в моем случае - по описанию фильма. Тут мне скорей было самой интересно изучить, как все работает и посмотреть, возможно ли вообще решить такую задачу."
      ],
      "metadata": {
        "id": "EtXyiGxRQofX"
      }
    }
  ]
}